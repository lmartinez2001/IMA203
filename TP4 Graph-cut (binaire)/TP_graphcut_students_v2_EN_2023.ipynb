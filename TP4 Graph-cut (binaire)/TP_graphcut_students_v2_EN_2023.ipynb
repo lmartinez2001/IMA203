{
  "cells": [
    {
      "cell_type": "markdown",
      "metadata": {
        "id": "O3mgm5pieFOY"
      },
      "source": [
        "## PW on graphcut optimization (binary case)\n",
        "This session is divided into 3 parts: \n",
        "\n",
        "\n",
        "* a part on Bayesian classification (see PW1 and PW2)\n",
        "* a part on object/background segmentation of a colour image with a CRF (conditional random filed)\n",
        "* a part on the iterative segmentation of a textured image\n",
        "\n",
        "We will use the PyMaxflow library for the calculation of the graphcut."
      ]
    },
    {
      "cell_type": "code",
      "execution_count": 1,
      "metadata": {
        "id": "4-fqZE_aeALW"
      },
      "outputs": [
        {
          "data": {
            "text/html": [
              "<style>\n",
              "        .bk-notebook-logo {\n",
              "            display: block;\n",
              "            width: 20px;\n",
              "            height: 20px;\n",
              "            background-image: url(data:image/png;base64,iVBORw0KGgoAAAANSUhEUgAAABQAAAAUCAYAAACNiR0NAAAABHNCSVQICAgIfAhkiAAAAAlwSFlzAAALEgAACxIB0t1+/AAAABx0RVh0U29mdHdhcmUAQWRvYmUgRmlyZXdvcmtzIENTNui8sowAAAOkSURBVDiNjZRtaJVlGMd/1/08zzln5zjP1LWcU9N0NkN8m2CYjpgQYQXqSs0I84OLIC0hkEKoPtiH3gmKoiJDU7QpLgoLjLIQCpEsNJ1vqUOdO7ppbuec5+V+rj4ctwzd8IIbbi6u+8f1539dt3A78eXC7QizUF7gyV1fD1Yqg4JWz84yffhm0qkFqBogB9rM8tZdtwVsPUhWhGcFJngGeWrPzHm5oaMmkfEg1usvLFyc8jLRqDOMru7AyC8saQr7GG7f5fvDeH7Ej8CM66nIF+8yngt6HWaKh7k49Soy9nXurCi1o3qUbS3zWfrYeQDTB/Qj6kX6Ybhw4B+bOYoLKCC9H3Nu/leUTZ1JdRWkkn2ldcCamzrcf47KKXdAJllSlxAOkRgyHsGC/zRday5Qld9DyoM4/q/rUoy/CXh3jzOu3bHUVZeU+DEn8FInkPBFlu3+nW3Nw0mk6vCDiWg8CeJaxEwuHS3+z5RgY+YBR6V1Z1nxSOfoaPa4LASWxxdNp+VWTk7+4vzaou8v8PN+xo+KY2xsw6une2frhw05CTYOmQvsEhjhWjn0bmXPjpE1+kplmmkP3suftwTubK9Vq22qKmrBhpY4jvd5afdRA3wGjFAgcnTK2s4hY0/GPNIb0nErGMCRxWOOX64Z8RAC4oCXdklmEvcL8o0BfkNK4lUg9HTl+oPlQxdNo3Mg4Nv175e/1LDGzZen30MEjRUtmXSfiTVu1kK8W4txyV6BMKlbgk3lMwYCiusNy9fVfvvwMxv8Ynl6vxoByANLTWplvuj/nF9m2+PDtt1eiHPBr1oIfhCChQMBw6Aw0UulqTKZdfVvfG7VcfIqLG9bcldL/+pdWTLxLUy8Qq38heUIjh4XlzZxzQm19lLFlr8vdQ97rjZVOLf8nclzckbcD4wxXMidpX30sFd37Fv/GtwwhzhxGVAprjbg0gCAEeIgwCZyTV2Z1REEW8O4py0wsjeloKoMr6iCY6dP92H6Vw/oTyICIthibxjm/DfN9lVz8IqtqKYLUXfoKVMVQVVJOElGjrnnUt9T9wbgp8AyYKaGlqingHZU/uG2NTZSVqwHQTWkx9hxjkpWDaCg6Ckj5qebgBVbT3V3NNXMSiWSDdGV3hrtzla7J+duwPOToIg42ChPQOQjspnSlp1V+Gjdged7+8UN5CRAV7a5EdFNwCjEaBR27b3W890TE7g24NAP/mMDXRWrGoFPQI9ls/MWO2dWFAar/xcOIImbbpA3zgAAAABJRU5ErkJggg==);\n",
              "        }\n",
              "    </style>\n",
              "    <div>\n",
              "        <a href=\"https://bokeh.org\" target=\"_blank\" class=\"bk-notebook-logo\"></a>\n",
              "        <span id=\"p1001\">Loading BokehJS ...</span>\n",
              "    </div>\n"
            ]
          },
          "metadata": {},
          "output_type": "display_data"
        },
        {
          "data": {
            "application/javascript": "(function(root) {\n  function now() {\n    return new Date();\n  }\n\n  const force = true;\n\n  if (typeof root._bokeh_onload_callbacks === \"undefined\" || force === true) {\n    root._bokeh_onload_callbacks = [];\n    root._bokeh_is_loading = undefined;\n  }\n\nconst JS_MIME_TYPE = 'application/javascript';\n  const HTML_MIME_TYPE = 'text/html';\n  const EXEC_MIME_TYPE = 'application/vnd.bokehjs_exec.v0+json';\n  const CLASS_NAME = 'output_bokeh rendered_html';\n\n  /**\n   * Render data to the DOM node\n   */\n  function render(props, node) {\n    const script = document.createElement(\"script\");\n    node.appendChild(script);\n  }\n\n  /**\n   * Handle when an output is cleared or removed\n   */\n  function handleClearOutput(event, handle) {\n    const cell = handle.cell;\n\n    const id = cell.output_area._bokeh_element_id;\n    const server_id = cell.output_area._bokeh_server_id;\n    // Clean up Bokeh references\n    if (id != null && id in Bokeh.index) {\n      Bokeh.index[id].model.document.clear();\n      delete Bokeh.index[id];\n    }\n\n    if (server_id !== undefined) {\n      // Clean up Bokeh references\n      const cmd_clean = \"from bokeh.io.state import curstate; print(curstate().uuid_to_server['\" + server_id + \"'].get_sessions()[0].document.roots[0]._id)\";\n      cell.notebook.kernel.execute(cmd_clean, {\n        iopub: {\n          output: function(msg) {\n            const id = msg.content.text.trim();\n            if (id in Bokeh.index) {\n              Bokeh.index[id].model.document.clear();\n              delete Bokeh.index[id];\n            }\n          }\n        }\n      });\n      // Destroy server and session\n      const cmd_destroy = \"import bokeh.io.notebook as ion; ion.destroy_server('\" + server_id + \"')\";\n      cell.notebook.kernel.execute(cmd_destroy);\n    }\n  }\n\n  /**\n   * Handle when a new output is added\n   */\n  function handleAddOutput(event, handle) {\n    const output_area = handle.output_area;\n    const output = handle.output;\n\n    // limit handleAddOutput to display_data with EXEC_MIME_TYPE content only\n    if ((output.output_type != \"display_data\") || (!Object.prototype.hasOwnProperty.call(output.data, EXEC_MIME_TYPE))) {\n      return\n    }\n\n    const toinsert = output_area.element.find(\".\" + CLASS_NAME.split(' ')[0]);\n\n    if (output.metadata[EXEC_MIME_TYPE][\"id\"] !== undefined) {\n      toinsert[toinsert.length - 1].firstChild.textContent = output.data[JS_MIME_TYPE];\n      // store reference to embed id on output_area\n      output_area._bokeh_element_id = output.metadata[EXEC_MIME_TYPE][\"id\"];\n    }\n    if (output.metadata[EXEC_MIME_TYPE][\"server_id\"] !== undefined) {\n      const bk_div = document.createElement(\"div\");\n      bk_div.innerHTML = output.data[HTML_MIME_TYPE];\n      const script_attrs = bk_div.children[0].attributes;\n      for (let i = 0; i < script_attrs.length; i++) {\n        toinsert[toinsert.length - 1].firstChild.setAttribute(script_attrs[i].name, script_attrs[i].value);\n        toinsert[toinsert.length - 1].firstChild.textContent = bk_div.children[0].textContent\n      }\n      // store reference to server id on output_area\n      output_area._bokeh_server_id = output.metadata[EXEC_MIME_TYPE][\"server_id\"];\n    }\n  }\n\n  function register_renderer(events, OutputArea) {\n\n    function append_mime(data, metadata, element) {\n      // create a DOM node to render to\n      const toinsert = this.create_output_subarea(\n        metadata,\n        CLASS_NAME,\n        EXEC_MIME_TYPE\n      );\n      this.keyboard_manager.register_events(toinsert);\n      // Render to node\n      const props = {data: data, metadata: metadata[EXEC_MIME_TYPE]};\n      render(props, toinsert[toinsert.length - 1]);\n      element.append(toinsert);\n      return toinsert\n    }\n\n    /* Handle when an output is cleared or removed */\n    events.on('clear_output.CodeCell', handleClearOutput);\n    events.on('delete.Cell', handleClearOutput);\n\n    /* Handle when a new output is added */\n    events.on('output_added.OutputArea', handleAddOutput);\n\n    /**\n     * Register the mime type and append_mime function with output_area\n     */\n    OutputArea.prototype.register_mime_type(EXEC_MIME_TYPE, append_mime, {\n      /* Is output safe? */\n      safe: true,\n      /* Index of renderer in `output_area.display_order` */\n      index: 0\n    });\n  }\n\n  // register the mime type if in Jupyter Notebook environment and previously unregistered\n  if (root.Jupyter !== undefined) {\n    const events = require('base/js/events');\n    const OutputArea = require('notebook/js/outputarea').OutputArea;\n\n    if (OutputArea.prototype.mime_types().indexOf(EXEC_MIME_TYPE) == -1) {\n      register_renderer(events, OutputArea);\n    }\n  }\n  if (typeof (root._bokeh_timeout) === \"undefined\" || force === true) {\n    root._bokeh_timeout = Date.now() + 5000;\n    root._bokeh_failed_load = false;\n  }\n\n  const NB_LOAD_WARNING = {'data': {'text/html':\n     \"<div style='background-color: #fdd'>\\n\"+\n     \"<p>\\n\"+\n     \"BokehJS does not appear to have successfully loaded. If loading BokehJS from CDN, this \\n\"+\n     \"may be due to a slow or bad network connection. Possible fixes:\\n\"+\n     \"</p>\\n\"+\n     \"<ul>\\n\"+\n     \"<li>re-rerun `output_notebook()` to attempt to load from CDN again, or</li>\\n\"+\n     \"<li>use INLINE resources instead, as so:</li>\\n\"+\n     \"</ul>\\n\"+\n     \"<code>\\n\"+\n     \"from bokeh.resources import INLINE\\n\"+\n     \"output_notebook(resources=INLINE)\\n\"+\n     \"</code>\\n\"+\n     \"</div>\"}};\n\n  function display_loaded() {\n    const el = document.getElementById(\"p1001\");\n    if (el != null) {\n      el.textContent = \"BokehJS is loading...\";\n    }\n    if (root.Bokeh !== undefined) {\n      if (el != null) {\n        el.textContent = \"BokehJS \" + root.Bokeh.version + \" successfully loaded.\";\n      }\n    } else if (Date.now() < root._bokeh_timeout) {\n      setTimeout(display_loaded, 100)\n    }\n  }\n\n  function run_callbacks() {\n    try {\n      root._bokeh_onload_callbacks.forEach(function(callback) {\n        if (callback != null)\n          callback();\n      });\n    } finally {\n      delete root._bokeh_onload_callbacks\n    }\n    console.debug(\"Bokeh: all callbacks have finished\");\n  }\n\n  function load_libs(css_urls, js_urls, callback) {\n    if (css_urls == null) css_urls = [];\n    if (js_urls == null) js_urls = [];\n\n    root._bokeh_onload_callbacks.push(callback);\n    if (root._bokeh_is_loading > 0) {\n      console.debug(\"Bokeh: BokehJS is being loaded, scheduling callback at\", now());\n      return null;\n    }\n    if (js_urls == null || js_urls.length === 0) {\n      run_callbacks();\n      return null;\n    }\n    console.debug(\"Bokeh: BokehJS not loaded, scheduling load and callback at\", now());\n    root._bokeh_is_loading = css_urls.length + js_urls.length;\n\n    function on_load() {\n      root._bokeh_is_loading--;\n      if (root._bokeh_is_loading === 0) {\n        console.debug(\"Bokeh: all BokehJS libraries/stylesheets loaded\");\n        run_callbacks()\n      }\n    }\n\n    function on_error(url) {\n      console.error(\"failed to load \" + url);\n    }\n\n    for (let i = 0; i < css_urls.length; i++) {\n      const url = css_urls[i];\n      const element = document.createElement(\"link\");\n      element.onload = on_load;\n      element.onerror = on_error.bind(null, url);\n      element.rel = \"stylesheet\";\n      element.type = \"text/css\";\n      element.href = url;\n      console.debug(\"Bokeh: injecting link tag for BokehJS stylesheet: \", url);\n      document.body.appendChild(element);\n    }\n\n    for (let i = 0; i < js_urls.length; i++) {\n      const url = js_urls[i];\n      const element = document.createElement('script');\n      element.onload = on_load;\n      element.onerror = on_error.bind(null, url);\n      element.async = false;\n      element.src = url;\n      console.debug(\"Bokeh: injecting script tag for BokehJS library: \", url);\n      document.head.appendChild(element);\n    }\n  };\n\n  function inject_raw_css(css) {\n    const element = document.createElement(\"style\");\n    element.appendChild(document.createTextNode(css));\n    document.body.appendChild(element);\n  }\n\n  const js_urls = [\"https://cdn.bokeh.org/bokeh/release/bokeh-3.0.2.min.js\", \"https://cdn.bokeh.org/bokeh/release/bokeh-gl-3.0.2.min.js\", \"https://cdn.bokeh.org/bokeh/release/bokeh-widgets-3.0.2.min.js\", \"https://cdn.bokeh.org/bokeh/release/bokeh-tables-3.0.2.min.js\", \"https://cdn.bokeh.org/bokeh/release/bokeh-mathjax-3.0.2.min.js\"];\n  const css_urls = [];\n\n  const inline_js = [    function(Bokeh) {\n      Bokeh.set_log_level(\"info\");\n    },\nfunction(Bokeh) {\n    }\n  ];\n\n  function run_inline_js() {\n    if (root.Bokeh !== undefined || force === true) {\n          for (let i = 0; i < inline_js.length; i++) {\n      inline_js[i].call(root, root.Bokeh);\n    }\nif (force === true) {\n        display_loaded();\n      }} else if (Date.now() < root._bokeh_timeout) {\n      setTimeout(run_inline_js, 100);\n    } else if (!root._bokeh_failed_load) {\n      console.log(\"Bokeh: BokehJS failed to load within specified timeout.\");\n      root._bokeh_failed_load = true;\n    } else if (force !== true) {\n      const cell = $(document.getElementById(\"p1001\")).parents('.cell').data().cell;\n      cell.output_area.append_execute_result(NB_LOAD_WARNING)\n    }\n  }\n\n  if (root._bokeh_is_loading === 0) {\n    console.debug(\"Bokeh: BokehJS loaded, going straight to plotting\");\n    run_inline_js();\n  } else {\n    load_libs(css_urls, js_urls, function() {\n      console.debug(\"Bokeh: BokehJS plotting callback run at\", now());\n      run_inline_js();\n    });\n  }\n}(window));",
            "application/vnd.bokehjs_load.v0+json": ""
          },
          "metadata": {},
          "output_type": "display_data"
        }
      ],
      "source": [
        "import math\n",
        "import random\n",
        "import numpy as np\n",
        "import matplotlib.pyplot as plt\n",
        "\n",
        "import platform\n",
        "import tempfile\n",
        "import os\n",
        "from scipy import ndimage as ndi\n",
        "try:\n",
        "    import maxflow # if not installed, install Maxflow\n",
        "except:\n",
        "    !pip install PyMaxflow # For Google Collab\n",
        "    import maxflow\n",
        "\n",
        "from skimage import io\n",
        "from bokeh.plotting import figure, output_file, show\n",
        "from bokeh.plotting import show as showbokeh\n",
        "from bokeh.io import output_notebook\n",
        "output_notebook()\n",
        "\n",
        "def affiche_pour_colab(im,MINI=None, MAXI=None,titre=''): #special colab, don't look\n",
        "  def normalise_image_pour_bokeh(X,MINI,MAXI):\n",
        "    if MAXI==None:\n",
        "      MAXI = np.max(X)\n",
        "    if MINI==None:\n",
        "      MINI = np.min(X)\n",
        "    imt=np.copy(X.copy())\n",
        "    imt=(np.clip(imt,MINI,MAXI)/(MAXI-MINI))\n",
        "    imt[imt<0]=0\n",
        "    imt[imt>1]=1\n",
        "    imt*=255\n",
        "    sortie=np.empty((*imt.shape,4),dtype=np.uint8)\n",
        "    for k in range(3):\n",
        "      sortie[:,:,k]=imt\n",
        "    sortie[:,:,3]=255\n",
        "    return sortie\n",
        "\n",
        "  img = im\n",
        "  img=normalise_image_pour_bokeh(np.flipud(im),MINI,MAXI)\n",
        "  p = figure(tooltips=[(\"x\", \"$x\"), (\"y\", \"$y\"), (\"value\", \"@image\")], y_range=[im.shape[0], 0], x_range=[0, im.shape[1]], title=titre)\n",
        "  # p.x_range.range_padding = p.y_range.range_padding = 0\n",
        "  # must give a vector of images\n",
        "  p.image(image=[np.flipud(im)], x=0, y=im.shape[0], dw=im.shape[1], dh=im.shape[0], palette=\"Greys9\", level=\"image\")\n",
        "  p.xgrid.visible = False\n",
        "  p.ygrid.visible = False\n",
        "  showbokeh(p)\n",
        "\n",
        "def affiche(im,MINI=0.0, MAXI=None,titre='',printname=False):\n",
        "  affiche_pour_colab(im,MINI=MINI, MAXI=MAXI,titre=titre) # under google colab many options disappear\n",
        "\n",
        "def display_segmentation_borders(image, bin):\n",
        "    imagergb = np.copy(image)\n",
        "    from skimage.morphology import binary_dilation, disk\n",
        "    contour = binary_dilation(bin,disk(15))^bin\n",
        "    imagergb[contour==1,0] = 255\n",
        "    imagergb[contour==1,1] = 0\n",
        "    imagergb[contour==1,2] = 0\n",
        "    return imagergb"
      ]
    },
    {
      "attachments": {},
      "cell_type": "markdown",
      "metadata": {
        "id": "nndFrzQkeALh"
      },
      "source": [
        "## Binary classification of a noisy image\n",
        "\n",
        "You have a binary image *IoriginaleBW.png* (binary image of the two classes) and its observed version with a certain distribution of grey levels for each class *Iobservee.png*. The objective is to perform a two-class classification of this observed image (see PW1 and PW2). \n",
        "\n",
        "### Analysis of the distributions of the 2 classes of the image}\n",
        "\n",
        "\n",
        "Q1: What are the distributions of the two classes of the image $P(Y_s|X_s=0)$ (black class) and $P(Y_s|X_s=1)$ (white class))? \n",
        "\n",
        "Q2: Give the means and variances of the two classes.\n",
        "\n",
        "*The distributions and the means and variances found in the previous sessions will be used without justification*."
      ]
    },
    {
      "attachments": {},
      "cell_type": "markdown",
      "metadata": {
        "id": "4b6Re5qCeALh"
      },
      "source": [
        "**Your answer &#x270D;**\n",
        "\n",
        "A1: Comme vu dans le TP2, les deux classes $P(Y_s|X_s=0)$ et $P(Y_s|X_s=1)$ sont distribuées selon une loi gaussienne.\n",
        "\n",
        "A2: $$P(Y_s|X_s=0)\\hookrightarrow \\mathcal{N}(97, 502)$$\n",
        "$$P(Y_s|X_s=0)\\hookrightarrow \\mathcal{N}(163, 512)$$"
      ]
    },
    {
      "cell_type": "markdown",
      "metadata": {
        "id": "CjYI0DBieALj"
      },
      "source": [
        "## 1.1: Graphcut optimization "
      ]
    },
    {
      "cell_type": "markdown",
      "metadata": {
        "id": "_JNLl31geALk"
      },
      "source": [
        "Q3: How many nodes does the graph have that is constructed for the search for the minimum capacity cut with only two neighbouring pixels? What do they correspond to? What do the data attachment terms in this graph correspond to and what values do they have for two observed pixels of values $y_s$ and $y_t$? What does the regularisation term correspond to?"
      ]
    },
    {
      "attachments": {},
      "cell_type": "markdown",
      "metadata": {
        "id": "bZ7V-ZL8eALl"
      },
      "source": [
        "**Your answer &#x270D;**\n",
        "\n",
        "A3: Le graphe a 4 noeuds : \n",
        "- 1 pour chaque pixel (il y en a 2 par hypothèse)\n",
        "- 1 puits et 1 source\n",
        "\n",
        "**Rôle des termes de régularisation et d'attache aux données**\n",
        "- Le terme de régularisation $\\beta$ correspond au poids de l'arête entre 2 pixels voisins (en 4-connexité)\n",
        "- Le terme d'attache aux données $\\mathcal{D}(x_s,y_s)$ correspond au poids de l'arête entre la source (resp. le puits) et un pixel de l'image."
      ]
    },
    {
      "cell_type": "markdown",
      "metadata": {
        "id": "H_eBP8w7eALl"
      },
      "source": [
        "Q4: Complete the python code cell where it says \"#TO BE COMPLETED EX1\" with the data attachment and regularization terms as indicated. Run the minimum cut algorithm and view the result."
      ]
    },
    {
      "cell_type": "markdown",
      "metadata": {
        "id": "wcNyoI-3kP_4"
      },
      "source": [
        "## 1.2 Searching for the optimal $\\beta$."
      ]
    },
    {
      "cell_type": "markdown",
      "metadata": {
        "id": "OFgB73kLeALn"
      },
      "source": [
        "\n",
        "\n",
        "Q5: By completing the program frame provided below, find the optimal $\\beta$ value $\\beta_{opt}$ using the \"true image\" $x$ corresponding to IoriginaleBW.png. You can plot the error values between $x$ and the estimated $\\hat{x}$ to find $\\beta_{opt}$. \n",
        "\n"
      ]
    },
    {
      "cell_type": "markdown",
      "metadata": {
        "id": "mEv5jM1KeALo"
      },
      "source": [
        "**Your answer &#x270D;**\n",
        "\n",
        "A5:"
      ]
    },
    {
      "cell_type": "markdown",
      "metadata": {
        "id": "W9VAuDBJgrLx"
      },
      "source": [
        "Q6: What are the advantages of this optimization approach compared to ICM? Compared to simulated annealing? In theory, do we obtain the same result with both methods (simulated annealing and graphcut)? Under what conditions? What is the advantage of simulated annealing in the general case?"
      ]
    },
    {
      "cell_type": "markdown",
      "metadata": {
        "id": "3uqBSHTkgw6P"
      },
      "source": [
        "**Your answer &#x270D;**\n",
        "\n",
        "A6: "
      ]
    },
    {
      "cell_type": "markdown",
      "metadata": {
        "id": "M9SgH432eALp"
      },
      "source": [
        "\n",
        "Q7: How can you explain that the error rate with the true image can be lower with the simulated annealing result or the ICM than with the graph-cut optimisation? \n",
        "  "
      ]
    },
    {
      "cell_type": "markdown",
      "metadata": {
        "id": "VzFxm1useALq"
      },
      "source": [
        "**Your answer &#x270D;**\n",
        "\n",
        "A7:"
      ]
    },
    {
      "cell_type": "markdown",
      "metadata": {
        "id": "VjgmIJCjjUPV"
      },
      "source": [
        "Q8: What are the advantages and disadvantages of the Ising model?"
      ]
    },
    {
      "cell_type": "markdown",
      "metadata": {
        "id": "XQNFzj8Jjett"
      },
      "source": [
        "**Your answer &#x270D;**\n",
        "\n",
        "A8:"
      ]
    },
    {
      "cell_type": "code",
      "execution_count": 16,
      "metadata": {
        "id": "tRdTaqnheALq"
      },
      "outputs": [
        {
          "data": {
            "text/html": [
              "\n",
              "  <div id=\"73011886-410e-45d1-9d12-77bedc85f684\" data-root-id=\"p1476\" style=\"display: contents;\"></div>\n"
            ]
          },
          "metadata": {},
          "output_type": "display_data"
        },
        {
          "data": {
            "application/javascript": "(function(root) {\n  function embed_document(root) {\n  const docs_json = {\"8533a1bc-ba1e-48fd-9ab4-7942af32bc55\":{\"version\":\"3.0.2\",\"title\":\"Bokeh Application\",\"defs\":[],\"roots\":[{\"type\":\"object\",\"name\":\"Figure\",\"id\":\"p1476\",\"attributes\":{\"x_range\":{\"type\":\"object\",\"name\":\"Range1d\",\"id\":\"p1486\",\"attributes\":{\"end\":361}},\"y_range\":{\"type\":\"object\",\"name\":\"Range1d\",\"id\":\"p1488\",\"attributes\":{\"start\":323,\"end\":0}},\"x_scale\":{\"type\":\"object\",\"name\":\"LinearScale\",\"id\":\"p1490\"},\"y_scale\":{\"type\":\"object\",\"name\":\"LinearScale\",\"id\":\"p1492\"},\"title\":{\"type\":\"object\",\"name\":\"Title\",\"id\":\"p1479\",\"attributes\":{\"text\":\"Observed image\"}},\"renderers\":[{\"type\":\"object\",\"name\":\"GlyphRenderer\",\"id\":\"p1537\",\"attributes\":{\"level\":\"image\",\"data_source\":{\"type\":\"object\",\"name\":\"ColumnDataSource\",\"id\":\"p1525\",\"attributes\":{\"selected\":{\"type\":\"object\",\"name\":\"Selection\",\"id\":\"p1527\",\"attributes\":{\"indices\":[],\"line_indices\":[]}},\"selection_policy\":{\"type\":\"object\",\"name\":\"UnionRenderers\",\"id\":\"p1526\"},\"data\":{\"type\":\"map\",\"entries\":[[\"image\",[{\"type\":\"ndarray\",\"array\":{\"type\":\"bytes\",\"data\":\"ldOoqbK1q8mNmomtoaKWd7KNobahcYuilLavm4aboov8kZamkLmknI/GqdDRfJ6RnZy3o5iVqLeulbeQjp+KnqrFkL+zjpOcwqKVj7CbhreUrba3qqqvjoHUnuSnqKyhlaeYnbepn8KnpI98jp+nt4yxl6a3oZGSmZSok7aYpbewo7iN5oWlopqts6OJeKKme9zdwaSOoauqp3munJW0eK+NroCxmKeJt5avu46wv6qhq5ebm5u3o8GSjISntKWsmc2RnZm8nIWyubCur6GQp7qdv6Khk4q4oZKTnbGDi7SfnnafnKC8to2noq6Qs6ebxpmvgpeBo4yUl7WSe3aymLqxlc2IsKiqkbW2lMqWca95h6qvobCup5VotZGMrZPOoL6A16Krg7Saw6KluXiom7K+krG6l4+cmZa9lp+jpa63e8WyoYrIk4WHlpqXv6aysqqPqKSuko+UqZuSkoOgkm6BxnqWmZOhh368nauvpLaqnoqGwr+kmaawtbx6rp6ps66no6qzxMKPm6OTmrK4k5yaYaqwqbGtubasnIripK/Hs5mbrMW/n6eyn66lzpuftJinqcKuhI+5qcCDsaydpqaRpqSymZXQas+Fo6amxanCx76EoJPAgLStvaHFi7fGn5SVr5Gs162JpKeKu4uho7GDrJ2Zlpa7gaOvosXLsc+cjJSSlIG0sYO4xJLvuJGSz7ePh7aqxqqeq8O6pLCwg5ao5LPBsKS1j5WVgKqfpb7WiKnHptfLo5THmbiemarJkLero6yjnJqzlLaSvpi3p8+ZqrOxpr1vqdOnmKaru5yYn2amrbGboby3nZl/x7q2sqaruIu1gsCIoNCQob+if8Wng5iciq62o6edn6Otu5rCvbevlM2ofb+ulnSBxbywn4/Ayl6xmKy2sLyLz4TCmpCrprObsKWhi72EoKWt2I29n6CgqYaSo6HAmsa5tpTRjaCPuaie06fAuZCViI2goeKivLSUub6ew5u7pXCLm7SavJy8tKKbtnKamrm8mqfTqZ6Wg7qkrre+qYuPgHW7wqO3oq6iooqac7d6opq/pIuVmYC5qrCjm5aofZXVn6uPf4uetqmVtaKek7O/tK+anIq9lKOJn6CPk7nLnKvci6OqprrWloqj0be7p7uevculzMiLsKWouK+8hrSdz46YnsTAiKHBdbGbi4yFvZrmlNGyo7GzkL/Gxouc6saOqpXIsIielo+Oq82gpKKvcb2ciaF/ysWVoJu9yJqeoqeuj726u7SqtqGvqaylvZygspGTnLWZlbCPpLjBn3igi5W4louk3bBtqrCQl4+Xs6iknaeYgqKXkK+LroeIjbSPqoHDnIHOnZaespzNoah7vpqVxqF5tYyd0bzRnoyGdMeurYKfzbeqio6nq6Tdl6ytwp1zoa+zh7evqJi8ksGry4fEv86yt7Ccj8/Is468tZSXeKyVkY2jm5yTub2ZmKWziJqwqa+9sXOdn7y7iYPCs6+yz7S5p8Klk42pvZqir7OXv7STrcmAo4yWuraoq4mwoILZyILKnIvRoaWWuI25ibd4t4mbpI64vqW5ha2ooH6zi6m2sanOq6+lfYaqsa2alKWqh5+yvKzFyb6dvLOQr7SfnHyhqnzGsYeiu7G6iIaoy6LKn8azp4uNeXGtdq1rvYqvlrC1grbKlKmil528l6XDeXmfoZKtrq2hmqW8mLN/ksWou8uMnqWztZ6bpsOvysKWj7ShqseyppW6o5GZfbqaqI2ss6eswcWpvoehnpKLp2OIdcWcoYy8m4KxopelqKSJtay6qqGtsLqpn7aYlG6lprysoL6OaqCeqYzFc5OmnL6mqLS/nn+OmdOWsJufpbzS1omLsMi1jaGtuIeQj9mtqI3GlpiajLeyu6+PoX+li5WG0aWai26rgJyckaGup2OZuY/Co4mZob+YfJFzp7GggJGssIeJo9CWtNO3pqC11pi7qYuZfsOvqKufs6OHmaWypG2RmoZ0rp+tv6aHo6GJormzrbeLvrm1mNrNpKqpmHOZiambqpKttqe9jrStqLGpor2ln8majZ+YmKa1xKWXrqB9rHG2raGMns59lp6quZO4rLmrknusjaqJsICdrKanfa6pe6Gyt6y1kNTCxqi4sYrCrJCRkJx3p6KnqnKsyZaGk7CLwKOgeYmJw4ynrriZtZqRqrnHsaKTipjCm4+bt7KNmp6yp7C5poKLq6uUw5ebmbabh7tys5qOiZyLoad0rG6K6pmTsLijkKObpcqEpaeurIuJqLOSx66wmbmhkLeOv4ivkKOjxZttqbeWrp3Fmryuv7Lnkq6tqIu/i8GLqb2Tk4qei7ejqKHbos7RhKGQm5Gbtpi4mG+woLOysJWXnN3WqZK7wqetjLlipsewjbWVq5i5ncymuaKbq7CpgZR/noeFuaKGoKKiwYS8tXurzKO0vKC9nsKbqKu6wJC4x7aioJOhgMennKeNoLGUlHqkf5CZhKGVyWi5sdWwz4uQpKWmopaUroC0sXhkqZG6qY6TzKivqJe6l6+c0J60s4SYqJC5ooW7iprCmLG1rrGKnaKzlKqWrpSSsKCMpL6oxr+6gJqip4Okpp5/m5uFmp+0sb5ysJeppKa5n6CNhruvZpjCsK+GlJBzzqSPl6ydpKnOzpqbj6mtqo+buX6YrJeZlbu2hKCrnKKcor+iqrSQjK+Qx6eZs5mbx42FpaHBlY2amqbMwp+rtq2Hy7nKnnGVjqawzKuQoZiUzLqloK2qtI+lcp69mc6Ops+anbyRm52jgpuRuIu4vrmMpZmavJh1jpuwpM6yyKKNyZ+ujqmNqsyqe6bQqI3JoMSilsa2vHqIyMGSnLWghoW1wbejsJS5zKajkrB1w6rFopuQp6uPrZTAmcl/bKKfsZyrmL6osqC+sLq6rtGaiMjNt6J+pavSp7Z6tpuwr5+jn6ysja6lsXW1qcPLvX2tlLaCoqDHmJXMo6WduYmcqI2ppYWHhrSAsahzu8WemrbBmJjDr7iipqCOoKO8rcOlo5qif5mZp8HOo4u6tIyfo3xtrXnci8S1vqGNoJyFtLOdjKGhqYyPlZqj1Jh3nLWap6RxnpycosuUqaGfn4i0naCxp8WrvMKXp6mPvrBwi42Zx8ei1ZChhJ2YsqSonX6StIi4npOwopN8hpWtnKejlLK/k7+RwW2LnK+Ym5OZuK7Kvpmym5mgj6KohZyalIiytZfBoZapp6K2kqV3oJikuZHGmY+ftZmAlnqyraaWt4mAnZzAgaRwl8CNl72ui22beKqYwo2NkaOZpLN4orGgpoicueCnv6WOtLGbsMmcgZ6LoqyzhL2fm6SfrrqnipW+u5DFobqriZuSl4vMk7WmsLqiqaqbrIWbnaGZlamWq5GltpeepamUwpGTsZC7jailoKSxycOKn7qcmauQm5ev0LS1uKSIprFxrqnTsq6PhdqIrZetrrOetKycoIq9kqaJu5aYvdGMwJnAnsWZlomjopGLoH2lpbyopaGptKp9iJq3opLLiK19uZyXoMOFnMN+lKqcpKiRpbS1tJ+9msunp++Yy6ikqZvadK6dnaq4udOloLigtcOBsm6Fj6uUs7i9isahmKSVt4KBq6ysx+SPspOtlbHQaqOOuKuortGqmomlzJamwIajpKygpo2vfJiasJqjsKS6aHyciKKWxpWfzb+VzrKplJWlpcDNp7GblK+kl8C+v4i6lb6GoXfFtMfNp6GHrLCLpaTJnLXDk6iClLabvrSmnKynhbqoj4G0sLrKjL3CzaGnoKzPsqCGuHiapHCmvZFvl4CypMW3vayin3GWn6exmKaOiZ6egKWGi7uSin6pwpqMfK+/u42svbOzobm7h5i7m3iss6e4vr+S1KWki+adjuKbvJGVyIi1tKWMnpythp+qnp6rgcihubGngJiRx4GGm5eToKivhsyvjbO4opGIuberp5nCb7naqJ57nayGpJaEirKmrbimq5y9qoGwjJubvaHUn6KimqW7l7t2t7+MqaKBuqnFg7mmpNJ8hsyVrZeLo7KWm7qVoMaturC5n5ioioaLmqapyZ+PtI90v4+2tsfUqaOLrq6o2oi/joi3t7iAcICSmKKpk8KrxMWSbbGPjKOzvL+Nr5Gyh3qV06akyn29rGurro+Clamjjrqzo66pgauFsq+xmtiRnHadqKa4qqWajbx8rHmtvZSfvK+xoa+nsKmGoY2inHZ6vJe6W5qSs4aLnvKdi42IhqulsIx2rZPSoIyNhYXDnXyiwLSSjLmcmrB3q8Kru4eMkIqrsZXElMKzoavAX5uNtLTEjXO/a6TEwaNul6apvayMhIe1m5urnbWepcB+moWmsJHCqanB1aaZvqWixaynopiMk8uXpaaAkqiGwI2cqbCth3Gil7O4wM6Qlpi2ppW3fLGfw5mpu8ClrdjEhr2wl6efspC3xb/Om6+WnZWVoryjkpOix6y6mIm3sJ25lrWrmpijmJKrd9qhqoeFrruwZ5fba6eUq4ug3X62oqzdvmmqm6ygpZCaqKKNlGufpLOilHiRpaSzi5C5nYisq5msvMPApLCbwpN8p5Z/wsKNspGphYaWhbK2q8DBqqDNnKWfqYSHfKbCpn+Qr5+WpnCMrozRppKuonSUrJrmm6OzsJuV1bCNpqS5rLWym2CJnqqasMW6s5i8fLympI3LroOiu5KVgImsso2/mJeMnbmvhbSix5ythtGnm63KfZGSmJ+Np3+1jJGTvq65zZq1ibeUmaW/xKisqqGkqJagqb6ZtOKxrY22soOzjcaVnZ2lx2bPjaqYlKWNkLWfc4OzqZOztaKDo5WpnZutu4K0wJTUsLOwv4yk1G2Do5+ooHe8m3zUxoKfo6mdnJawrp2piIV6hK2loIqqtqiXfpexfpq3k5elmaiYpZB2gZh0r32Ip7O4nrm3o6+qx6e1wp+kmbSHwZ6Ko6N4dqCTn6bBlriczb6gpJ3Am5efecfJpZ+OucmoppuOp5zDsaGpqK+WrtbAsrx+jafBm4adpuaYpYzPhY2hl6SnvK6apLiaj32rq5WtiJy2gqennpu8oct8pqWanr6mv3yWoJV+joKfrLXQtJ27ip3bp5mKlqGksY6PnoyRrZKempyXwa+w06C/nYGhxJ2pmJ+omaWdoMWhnI6Zs6CRwMOpn6uplZFzurGvppqWlpeWn6CqrKecoJvDe76Lrp6fgNiWkp+chZOtiXx1cqqcruGYjMawu5nMnMCcobuTnLzVzbGoiJ+6xYyyoYqNlqWWoqDZo7KSra6msZ2+j4WxvciQt5fAtsvBoJexxMGmopOZgJrBt6Wdq7SvkrWrqKd3fdWvp6emjZydtMibv8u3mrSRx6aTpJijybSQttyyq4qwhsm8sJ+6uJuFhLaMiqiNrJDFqsK9wI+Om4iYaIKimpGVp5Wpj6GBjoqoipKYqKitwrmPlZSnja3Dj2SSmJipv7jBwa+vwZC+nLae2rOlj8OusXyjpYi93qiSraKefMe/noiEvrB+upWdgHy3rpiNfK6ps4uVlJGusJeIiI+NpcaPnK+kiqScrdKkyMWVt4u5hqOVfpqlpamgj7u1jpyuqaCZupKxh5Cvtp2xoqWVk56Ozp2Pp3esuKnOtLmZtJipt6agrZCccKvEm5OM0tXKmsigzI2vnbedtJ2sw6ynfKaqlJ2Poq24sZmM3YiBnpqov6eho4Kdgae1p3qyjZeRj4yMkqCiuYp/nbuMyrmf3o2hg5KuyqaRwaakscinsJilmZmbm4yssKCgipuWrKmdpK6yr5bLqLG3vLayqo6gkJqboIe2wrigpYygnriii5umrrCXopnMkKqrrZuVutmjnHuce8untK62q3/JkaSVqJiKoqiqtKWjrKOJqLZ/2qennZyTu6nfrLCUkKWruZitoaS8sXuzroDdfM6hm5KawJqMrcOXk56kxKa7nK2UkKKzv42c05qAiLi4sLi/gLW5h6Gazp6IltOyp9KNg6Chqr2VkqCRmaKceryMoKi6saang5KPl5eknbC7sHOLqq6gttDEtrtzs6OKoq6RmaeipLKvr46Fu8XHk2B/Y4l/iZ2jmKGa5rChkZSclXBsmFmJZIVpbpOep4KZs6HCwZGXZ2eIgI59d36SvL2bt9rmip2mj8CUt7ZtlmNUY3dabpGEe1uNdDaAbWt/cGmId3xlh2RugIuDXH91j7I2WneNZV5VnFhWRq2Eq62mjbJ5uHGhqYunrJW4pLywj4+uyqSnknK7uZ+yuJWQnI6+n66RiKbBt6q3qrSHrJh8rZyRoLrBg5invL+Vvs9vzamSp8qoiq1xemFra2ZqYWBsf5p4lFyWgFGKc2qOa1uCY49dh5e7haasnNWPqaahcHt/WXOWtJ+jmICIj1ZtX1OuuK+In3CHkpprjsSyopyjqH3Cn5uwo7akwJOTp66jlbK0j5u1tbWmpKyBjpuXoY+tw5WZvYqqrZjeuLClp6aptpGWuIOooaOxt7rIuZGfiY/UnsfHrtWqy5yln6eRjsa6qKCarJ+qqtCIjaW4l8CzhnmUoaWEsltukjxgRz4/YqV3urSwd53BsaRVaGtNZ49scoCOuZDMz8GfsZenilODgkx3QHlpf7Kh1Kp9p6ulwrepu5GSmT5MVH05dlh2XGhmcFJ+YiJdZUpmcz5HanJhVm9ZfVJeUnlES42UVo1yPBFsfHaXkqfBx8mnl698l56vn7GQxJKYo6mbiIOMncqSn6qJkIG9iKmNkKmrqqemv5mP1JC4nYiZt6yntW6MlYSkjI6burzS7Jmcrq2llbuYkkpRbH5gflkwjVBtW194aIyCW4N6XJptUpRwZm5pmLGhnriKrZSnXn6BkGBgjoiMlciATIaCaoZciq+3r6a2RYReYV+DnLW4ppvJqa2jqr6ngJ+HkLSN06K6lsnHv6O1tq2mpIqAmrGlz66fqc3flr+wsdeekJiUj7mvmXC1uLG5nb68pJimsJWzo4J9faXJoZh/iIypw5CLw5tmntW+upmopZiWnJO3sb2Qpb21ea1cdHtle3ynipi23oaBpoqdvIysdZRgW06Ae2RFuaCugn2Kuaqknl5LbnKGYItnh417hot6i4u3h7XAg5m4xq5WXYd7f3RyW3ZtW2FcR2dQfW9wY1+ThG5tYXBLdF98X1OIUV9XXmV7bHBVcIJ7mp98m3+Ts5NxlJeLumN8usWmvYacrHqyhI7ElKWRqLmkqnvgpK6Nv5pzuX23gpWblJ2wtJuhi5Wlq4qPkaHElrWyn5ezl7eUma3NmXBqdnOAbIlbVF1me1SUakhhZ2tafWhKY3pvXXSKm7GPr7CWo7GemIJvdW9xdZCarZPQw4R7a0FLf6ZurH++dlqRgWuUmYqLqozRrMS1q8eVkqqhibKcuJm/taSak9Gs0cSsjr/YpdSJq2yWqKCRwKKQqamfkq+oo53FgaedsaOcoYGojpiZkaakpLGaioqboaprpKiQpJiYs6+Tdbuaqaar3bO/p4+3gKCfi36Mr8Shc2h8TpFsklhZgrp0q6+wiLqklJJad1yEdkxrcoWepoqjj7Cyv6x3T2uNm29FeWtrlJ+Jfsmgg6+pnpKcpL5Jc3ljUXyIiGlycTVSRYh/RXBiYV42gXtlXmdPSkJ9Z2OOUEpkRm1ceoJzglNwYH2zl6SkhZZgubWQrb2ot7HNxMWupL7Lir6jiqixnZOUoZ/FuIaQicqZqbKSjq2MmKykcnhjbHxrvIluwJy5qZualdOpsKx8oZKuv7+AUYhplG5rpIB4dGSLbWF0bkl0Wl1scHWIdVh0bnF8jpiNopWlkad8R1Z+aWeUhq6usLl7fXpuVYyqr5vBfno/W2xdWG6vy9TZxY6CmLGjnHOysJu4jJW4nreqx5ylq6G5kqKvq4ylj8GDkpObmLSxoKmTrsSazZx8nNCem7OPepSogqOQnMh6oY2am4mJnJWnxJGznK2w1L+zjsioo8vDj6ShpIWwp7F3i7aZsI6LoVhOTIV4d4hlmI+utYW3pZOPra5Xfn9GVmiFUXKMqLiepIGtm6OKdoFqQnBSYYRUmaOLrsmqlda2rMqftZe7m2k3nl5kY3l6UTVsZFtikT9xJGpUc01MkF+Eg2BOcmODeICMYHFqRzJIXWmDaGytsMK6qKKosn2dsJCsopSfs42gl8OioJ2Osaajfpicq8CvpLGmn361gneYtK6Sd4JkbFl3bXRtbnBljrx5yJa/rK6EpJyFkcC1lGnBkloUV2xxeXtUi1Vda3eQMVVskIZsjIBDNDhebm1Yt7aIjda/tbCehD9pkF4/dnuima+YUHh2eGp+yISpjbSWZ2FlbISWw7S0s6OxraKKnpyurb64pp5waIK+rpCVuYPCoqKgqa7DsJ/DoZrjlJ2LtLSdjKfPqIyZrKW6m7acpqyCyJ+rnaSopWpmsJ+NjaSkbpuzqIylraOAu6tzkbuRnbLVnpqoz7GwrKa0kZDFnqRpSHByWH5deJSbpMyMoKeNkKqJf06YezJhRIZop7nJrsSOt7+qpX0pZWxag09bNpCWy8CwwLCUobGZvJeumrOKVHNuSINRcYZpbGZviU5cXGZpQX5gbXdKbYVlY0dpkY9cYnRmaYE0Tk50ikBzjJONj3mghZqDsaStk67FpqyNa4eTsX2uonmpp5aznK+whZiui5Wsb7umqJukwrxxS2+MqnOmvYxSir6opZyWq7yfuqKdcIKuvK7ClY13jHaEY5psbnRmZrWBmoGVeVJ4h3iqfop9YIhbbtmAmaycv5utkop2WGhKUZKqnLPBbopiXlt0iI64mpKKgXiLNXqWupfDpMCylZeDwpOUnPSf0Hizo8XJl8WQyLCFv5Wiybmhj6e6vLyDtpaYtYulw7CnoLG1o6Cwsny1fK23oJeTtp2RpZG4mcypmZmzeKK5rpeOu2eVhLWXjYuHpqyMpbOnn5+JkJSnl6qXlLa0aJ2IgVJTl0NuiYjJo7rPrK+uanAUWE9IfHN4cZ+XprqkeqVZqJhmZW95bmdsYn+Ft6XSlZXDnJ6VqJWQeK+wZniQW4xgcVBXgndje3haZkpqhX5AYSZQX0eMWm5lgWxme1laXFB3S39WdXaIn5qqmqmglZ6BtIW1pJ6Yvn6cuKmitpGWiridptXHpa6CiL6VnpuljY2oyKTXp7xJT5KWmNTnrZ+0W2J3ncqipZ24zK6pkoirroK1laKLicO+upKMlLe6loi7wq7Cf7+tuoubhprOw4h/p7+pnrqmnIySlrOYf1pZa2h0p7CRnpRjkHZ9aliHxbpttItiemirbLSTrLiaw72atqOOooezqK/Gp5ysoLTZwJO8jYmyq5a6i6iNfqioqKqpobCEoKGuf5R9rLulppqkgpyurK58lYeoqKKtq42yna6u2Jiyi3eVoaOIka+dapStpZKCvZyqdpmdv7KJl8motJSXfF5TZHBzfa1/j46boKKoyJmXm4ZFbXJlcVhggWOkjK3Bu7uniIZ0i0dXhoBFhVpsn67Dopq2p46CxsCbo7+1m1ZoSk9MY3VgapVcm49Uekpvc1luWmRvcIF3iVlXgkaUQXpsYIhdhGeMmY1tSWGusavJoK3FqsartZS9prGZr3+KmqaBi7B9iZ2ulbWhmp+0rJOZnZvElLiMxbycjm+NnYmCkZu5oYkjdoqJn4q5pravurWYx5OdxaqLmJnMdqKjupzKy9SjkcSizqyfqqrAwoGErpqpsbCGsZnAmqeewKCYj2tBdFlknK+imZ6EclJSeXmKpLOstneWQWdoUmZ8sJesn7jBfbK85azTvLLAuc2swrChkpO4vKS3z7+tncm1u3eErbOsm5aZv3WjgsKXoI2bqJi+i5aPsZe+lae7jJezlLzIlKCrq6TCjJahvpOjuIiroI6olK+lhIqjssivvKSJsaW3wKKjqKZSZ1B6Wkt7YZmfrrOjpX2fn4STjnRjXnFofldKksSk46C/l4WRtKWBZGBdeGdBT3K2mbrFqpmTtpagraLGpJdrW3FQflSOmWdUVXdtYFtjak1jVEhkXXNYf31TbEhka1SKWlhemHF9Y21UTHVzp6GkoqO6nJjAkaCx0Jzbs8qpoYS6mHyYn5Sdw72ypK6IvYXK16TBwavApr+zgYFqw5OKwq2bp8B7YIJwnKiBisKmhX2ic7SpuJCO3GfNnNaeebqchYeNqcCLoa+klJiQz624jtSQn6q3pYq9tsKbwo2fumpbVl6NX6+lxaW+jVN1Wmt0krd1kpy9mXBbcF6QfYqPu4t4ucejypehm7TkuIvIebeYtoK6mcKeurWTnJi0pr10o7TGuKC437SuoI7Bqo+6zsCanp2sqY+Ky5m8s5CRi6nFsLiP2Ni1m75+sch/t5Snw5yaiZyatrigtsSzo4yYkdSolZ+EhKWaRW+VXnVhd3xHsZKSxZKkqKegkkllTkV9cpFVLK6jjLaIsZulq5iMi2pUWVqJTVeqq46xiIanjVy+n7eimNt9flaPa5uMc3OGhph/kmehn35xoWiUVYtqckB8Y3ldaYpmi4xsc4B3fYJ7g3Bni5qdnLKjnrF9kIOqwYuehbHIt7ioscnJfpaMmYuqkaGzksGpsq57qmyPt6rQnXZ9dbS7o5+ro6uwtmeHkJW+lNGZor5uwJ6uqKa5jIunorqjmq6fr7WfqaKAsKvDmoG7xKWs4JKFy7uVupqJmL2egKWeu5pugGZuc2+KjKyjkc5vSpVAXIuEua2mqGRcVn56ZXSQpLOWmqLLta6mr87EjMqzi52+uZCvl4q8waSul63Tjp2ynZiynoezlLmciIiZpoWCmKnKd7Wje5esm6aikJqJnJSwtrV4lL29lcrehp+rmIaOnqCMr6qmqH60nayvkqyg2MeFpZ7T4cF+jXlVZmF5emNabJd9uJa2vp+dt5l2XVp8TGVrbG9w3ou0p76pjKO6TlVzbn2MbIR0pKusrKOYt6Kbm86WlZCnr5CdtKK4d3b6wI6kn79ifZ6UvpzDo6Oig53GoKOUu4+il5iNlorAr5HgsZmheWWln5KapIx8hKewl5mbf52rup65nJSomqqqpmp3o7OZ15KkhrmkuayUoIaSqpmFU1WTvIzEjaeKiq11Z2KgoaeIppqiqL+flNBzi66eqMTUjYuTiKSXsJqOkdjFkcSOk4O3o5+0m6qHiKyUjarGs62Lo7yigXllbEuDsLCoopWbToV7UHCPi8vOsIqcd3VpZI2voMWmlGm4oJnBmqGfv8u7t9Gu4IKenKuLoMWcw7OZs4PGkrWlqKSlj6+boZmioKWllZylvsCCnbSCwILDraSrx7GhrpG3s3yionqgodGNpcOZgYCjwZSgm7qOqYWknqSkpcKll5yXr6qzhop2bkhWeW9/dG+cwJ2mppevjtnXc3l+i4JrZGh4rsibzLejocODlndfYWhHhF2WZpmMorSVnJadt7i1v5ahtamgh4qesKh/jLqzr6eVpbexebTBnYx+nLLBtI65sb2Gj66PsqCitpSrmrGcpKSYko+7taZtq5Sdh6yEn7KYmbK4nK2qoZWVtJ3ErqeklI++z5mNsIWwpriej5qmUHOCkJquhJ2Uh8h8U4GOrI6Kn5+OnaCdh67Tu4uWfYBjkFNrRYqgaYdwhWdggn1vd22CkGFYUnePqpx2j6OjyMafuLyvtI1eaVZzZ5+/paKdqHdod0hrab2Xrby7olaMoJk0gHmyroe4l7LAvJ64yIOcpqaqqcVfmpK/s51rnqeioaq0uLKjurKIv5e1t8vbtL+gjXSih3iLqcycrZ/DuK+dlbOksaShi8CAjIyOjmq4nsSgqKGlrbW3p4aeo5mhn5iJdbW3fbCvjY+LuZeVg11aeV1saXBfgqG5oIyXpqyBq1NSX3NsfmZgZpSk4maInsyutM9da0p8enZkjXmTtKGkls2CvLyJY5Gqmauvw5qosJibl5V4r6SKvaSSmKW+iqLApKeIj5qdrpqhqKqmooxwjqq1qcCmta+gzKenw6GVn5yHwazHr5ujj4iilpitlJibnZyvspSsxarCt4WIs8Sgq5atq7CZxFlyhbWznqefzJa3aFxkxJ22p6G2wqalvJiQqpyrl3mAeGtQYW1gcWxKcXZraW9TZl9zX4SUNmaAYHh7fqi8rcmppZGrspalbHhvbIFvmqt4eq+RWoFqcY2KoZCzk4psYGRLfoyZ4IKngIqQp6Cit6uRnpCUj4eurKLXnZR6pYvDpreqz7+CsLOuw4tzsqTIq5y2h56Vlq2UwKGmjqeWeaOJl5vApaKXqKGgrr6+lI+FtqSoh4rC44+rvZOupnKkoZuewZ2vs5yqfLmxxLmYnD9baIlUZVphjLbHra2ow5qzo6t/V3pqRHKNgXeTkLi5gpOKnaWSUkJJX0l3blNFbp19xo26obORr4WPt67MgZeXiJ+zoLyzpp+ursS1lMeLsIuSpb6JjMuZwamXwaayi6SYk53VjLicjoaOjad1dIa1v6WNla6gna27obLJqLuEsa2dip2edIy5poHImMSGuKCPv7udjoyXnLWBUm1ggb6Niqycjj09cI68rKKumLm9uMmfobWao7GbkI5jbXaWgY1FKH1VnodbVWZokG93WW9sVU1uU2amyI2PuJGZnKvLq3JiTGWPgpSvnaGGXXeFb0GBirSfkLNZam97O3ipopKvhqCFnY2inqKSpXWz25eqn7yRi5SorLu0mZ+zfZ6xnL6FvYCQm6mSjb7LhZKmyZt+pI2Fx6p8tajAoo63bbqmsc/Pl6SOjqSieXzBs7KWqpKlprGqq9GLuL/DoZaMt63KoJ+rqMR4n5VHYFZfbkRucnKCf6ymkpGlmaqucoZydElzUGBgc7mUyo+K0oqVzXRgY21kiXlkbna6rKGGq6KBkLCq06q+oq6ppb/RidOnmZKBla2qj698mqLIn5mOsIPKpJidfq26oq22fcu/raKQjbSYhaCUpqN1tLfNoYmxtbV/p7+7o5aik6euubXGc9W1i52VjbB+pI+YqJ+InafDj7mefGRmaIGDhYZudVtqYb6iqZ+Kr9iekJSdyqaCoMK4sVl6b15/e2ltc3dah3WHYFSZal6GdGOKeWCJfoVhkK+XqbarhYi9paNnW2yBeY2RpIS6o3J1UJRYTpmct6GxbnGYeXJtkJODvMx2rY2Ya4HIyK540a+hna6Rj7yDmIeJnaO3ypmkmpuOvaapvJWunsWfka++npGq3pyNgaC40KWexLe5nqJ/vZGWtqTDk5O2lZSRspaamauRmq9fmc+jq9nBkNGCmaONor+3usXPtquMl29jemc/cjxVi6WoqMTAvKKqvW9IcE93TE9ah3mlrY6izKSanbl+cH5mZHRsmHqKkKyKpYK7p6OaypOqlLKmwpG7p62qj4y5o7a+spa3iMbDya/EiZi3wa+iiamrxNh2laCbgX6bt8q1nnysfLa+qLulj42arrmMfqGjscB5o5mcoZGH1qaPsJmpt8KLr5KduJWFwMC0rpKXmGeQYbZ7P29Pb19sT6+SkZ2urKu1oq2hxpWqoraqm71nW2VvVoNnXUtgfFCUZYpKd2VhblxvblVnhW5YYoa7pJOowJWpk62HUHVoVWmUkX+Lv6CGjXxfOJDZgMCryIRfmW5hSq7GhZSno4i5zKSprJ/IeIG6o7avmJKdvZulqOystcCMnImTh5WZncC1nqS+lqqmeqOgqKCRtpWPo5ltloygnY+wvYanvMach6Skea+cnaR3wJuQpIiZy7yjrHOnypa3mZ+LkLmmza6xs420h1JioEVmSmZfeHqLgIeYu6WXyppWW0piV3dudExtr628h6bUan+QdGJanYR9U2Btgb+bs4K0o6p+u3W3la2Rl82QosyLpIWYsqzNya+2j4evpsWnvburl6uGrZ6+rqC5yayxxLefgb+gqZC7zrauv5SrxaORtZa5lpvCobeNg5iVqmxXgrevk5O4yZGMkJ+qlZO5kJS8kaWFlaGMR3qbkISNVJl+scGfkpSCt6CCmpaApaiknpaKiqabj39Zd3SbaFc9d5B7Xz5Tj3ZEYFhhb4tZiWuAYXnGwaywpMSRdKjdmVRrcnpRkp+v05qfSmBfZkuGn3N2s9B8fm18VGiTpYe+iK+iqp2Ay8ilfK6Ym8WhtcqyinWFureZnbuPlqeywqWQvIiijqCcn52oyI1+krt4fb/CrZCot4qagaiceo2toqmvsKWoqJagxq+qpJmuuHyGopuqnriwo2+knITSqnGLqKx+trG3rZtriV1jWV6QZ31+vtGcnp2fosKrTnZLbYRjWldbdsGUg9dZnGCPtW9wV09xZXdsZYZdv5Ksj8SOtaG5opqzs3iYhduEqIGhxJSyhZeIj7Krj46QnLl/d5e0lZ+ktJnDppeteJ+bjb2msG+rm6rCp5yfkZ2Psr5xqaGai5Gbu7axf7tjWV+2yribvKK1jYqynLSiwbCFppqUsdqzbYWNmpi5toivtpvDt56Micqk3rmru8fLv6V0mJ6/nbKoknm9n6KLzq24yIOklraltreRr656pbG3q7CEkqyCkZqdj7Oin29pWH9Wgo9/rKyBypd0gndXca+jvbSsg3lERVNhlKa5hrSioammpKmw1WewvW+HpsfQzaKypaWltKOmvrbIwq+siZecjZipurCriKnAr7Kok7aKkJ+llb/InqWmxvqWltGfql2lsLCtwrWtmLThy4ytm6iOt7LIsJinmIm1naixq8aYgJeIdKZ9ek19dH+NfHdsjYKXs6LRgYedoDdzYVJKfGhBVaK1jY6/doimv6p9V5NDYHZoWnqcwLHCtIakjI6mr6Cttq2e0Z6qgJCGl5SjhHK2o6zugrepfougmp/BnrOhkrOhl7CRp6SvhbeWr5SFl5OPfJt1jHWga5rStoe+sKenmpuEsaKVcl94nKSvpsWVnsfGqL+LrpaJpY7JuqmJoc+LdJCqr5yDpYvKkYSpmIaeqKest7iyuX/QvoCZsNB9toy3xcPVicC5t6axnJaFfr+Wk4OcnpCjmbinubShvL2ct62qpJORbkqTa3OmqrKdjqNJcnSZcXFzpaaus5VSjFd8TqDJloWlkqCWmLGhuKikpJShbMKdn+qWuaXDpLO7nr6kjpfNf7OHx5uYva99rqK6q7iulImxwbGxq7l0poOzlKFyoMPDmpDYjMjIiMN+q6maq61sjJ7DZ5Oer5PatJyxk5yxlaPSxbCIeoCaaXdzeZZocYREW7iVpbm/pJWWuLZ6ao6CaFqAZmePwJ+qv82twJOpd2d1gXahW35Ce6R5obGuobLaoZ3PraCco5xtdFCJTVNXeWuDVV6BfGxgil6BYGRhpI94S3RwaW1oYm1mfF5TUopkZndzXqDPhLiej6SMsdSGrbGXuI6drrGbrnZIc6+Vm5aJpXfGj5y4hJ+loLOup6CbtK6piWRxgreMn760mYJyZ4qgm7O3ocF8uLHbqaiYl6WfqJW9kqKaj6SeoraRlJqpd7WOj52rj7+mlIvMoY6Ukn+3n7ylnZydg2dhbWOOl3e6lZi9aKZkg1Wwl3mDzL2oY2Rek0SDsrGqd8awoM3BmpfBnIx2l7Gjn5WbtoqTtcaUopKSsrOjvOC8jcGBtJ6MpLuZm6B0jarJtKuHhbTJtpWptZ7IqLqQt6mQqIWysrmGma6roXLEoLe7oJ7Dkaipnb+wkLG7q6KMw7u1p4SzxZ9kg4V8a4NDcGiQmrGBxpagp8Gsf3Vkc2heeWhWoYGtiKi4iqSRl3hYU3pNT2Jdb2Ogl7CpicnBu5OQrqWXj7JYiV9OYT5SbV5jYlVbN1B5Um1HfWtyS1Vde2NYX2xub1NmUoZLel59U310bjlurZubi76qvK60t6Klj5m5wuyMzcKRZX6lk3uM0aTjrqyfv4yohJabo4yqpI+zsZaMVm2Dv5yrkItkZH+WkX+tvKbV2n6OoYmmsKqWhnq7lo2xso6RlIyJt5yIpni4gYadoraVv6Osmo11uoidwqK5psmnmWBWWF9tXpaDvMqdw4tfSF1hgJiMoKGMiXZcdYZOp6mmkaeFl4+qopOgopqeo6aXs52mo7eyyJadk6KbuZWnjqarqph5l6+rsrJ5noqlo6vYlZyih7OMqZ6qrIuyrby8pZydtrvLqqqS0JK6l6C/qoyRg7TEtKiMwcC7vJmZoqWqt6rDla+MiKGHSXtJbHyAUl49qsepnIWSpo2nuFp/ejF1bnE7gaHElaatm6CZqaFkaFFzXm9sQkx+uLzGlGi0qM2TjIinnbaGVExzaVd7e3Bfj2Fbi3xZgkJVbHdec2NcdViGjYR+UFddQy9yTYN4Uotwg0ZeXKN/qaS0gY6Tiq3LhpzQtLC1kL64gntjj7uqhLqujMitqKemoJy8qsKIr6S3ea3XilaSgJCArJhwRGKYsoaQipG3qYi0n6qMypyks4qivrykpKWoi6Ggh4idtaKXzJWZm3ywyJ+ulbawmpCYpbGgoKCIkJ9TWmRmX2eRl7OcgJ6AZkSZUnipe5yTvHhReFiHdXykmKObo7KJn6CIqLbdkYNrmJy1nqCHoquOtqS7rZaCsoq2qKitlJW/someiZLKv5fOo6y4ooezq76IpZ+Rs7d8vKmWxqG0iMLCqMiZpnmIiKOL3rWquJ6oqXWsrqeasqmfu6Krq5uQvp26k1xYhGh2dVqFTaijo5O6v7GwnoCGYHBQT00Zd3KPmamUr62j1He8J1Zfa1pQSFlSd5yvosieo4+uuq3BrK2Th2mPY193j2dyYoKUZ4pXX5OVTDRiXXRfg2BlYGxDSIKHeXJVU1ZdRnBZb3BoRYG5saGP25+HlYapr6qYs5CmmIJtoGOJV7O4jLx4p7Ko15+srqq6spKAaLiVxZOtzLVyl1ZVappXMmaPosaao67AoqFim5+BqLG8gZO7kZiAmaardYmWo5NzoIush6CFgpWMkIR8cpS3iYqEu5mzhJPTuYS8aYdrbXV8fb21hKSOiXakflZwt8ujkZprjnV2TV2BmXKLo621sriQss+nmp+wpsKpuqujgZiYm5qsuX2onp+cyZqWmr2XvpGwvKqrtYOgu6Gaq7GcjM7Ct5ygoaSUiLu4kXuoh5eYmKefsduvqriMv6+cwJiqwp6YscqxoaaBi4qPpqbDnZWtn39gY3pcZ4FhPaKetJmloa6Px8e3QGZbdX1kbm1wntGpwZiHjp6vl3pScGpiTFKRT4iau5CyvIqNlmqtn566w5t9YWJTZYZ5ikhQYHNzfWFPR2hze0NjWlRfWV5wVkt/WkmCZVFkRo9/amF6W2U+zaXRs8t6gYV0fbq4qaiOfIujiZJfZ2GxtZeujIGDubSgxZGdjpqbqpvAk629m6KlpHFkT3mRYoB5xaeuqq1/opWrpbycx6isiHixt55za45yf19UPXqSPV9xT1ZkcmpfhTCMOFlgVnuEfJWBkZ+YisScwKp+WTl+bJ++m5q9uZqGcVRifZu4w7x1WYh3goRFtpuYpo7Av6ysq5KemtCLscCsopq1sMTqxpuhoIibpapzppegsqaHfK602r2at8Keo7nEkq68l6e0p5SAsJyEt5HFt66ar62RmpqWu5uCc6G3tNGSecqPjJLOn5uenZ3VkLF5t5udhbmTsLydX2FlcoFxUm1vdZeUkqd7qKypk2RygDh7YU5jZ3WRj7KppJ+2j7tbT5JxmUR7fFqAl72XnpWgqo3FnZmUoZyaYGdkcVtaWJRhTVJFmUBSYkdtZGhlfFt1cVtvim2daXNid0w4ZmFVf21KUk5wfqWtwKmhpq+5k7Gstp2ipqCnt36jeHGDpMG1tZaappK71IGzr4i1hYiiuaqsqK+Oo8mBoqWFYpijmX2nyo2IjZ7CtnmAvoaio6GRnbdubI5ebGtxZ04/ilxlfkpUlXdjdztLW3xbU1RNZoeymZS4jGa3rM5obY2qbIt0tqStZ7lvWFJNQqCCqpalqHx+WGZ3i4q6q5u8j6yYhqWQrrmGzZaklZKMwqSdmYeAjsilin++qpyloMKddeGVlJCHmZ2dfKm4tYW7r4einreKpZqxwrS7yKGavbeSsJ+fv7Cfsd+9osu8pa3CkbrAp52Hk6O7ntCVjLmtpNCbyp6fwllVWWhLbn9uW5qhuH+YwJyekXRGcWdcOW5oaGmlso6claKqmcDAblJwbHZeTUJXU6yeecyVoo2ByKfVm6aGlXhfaXVCV2Jha4B4QV94Voxob25hXkyDUWRUc1R0b2yFYm5QZ2JYXFlWZldtJVN7rremu6iYxc+WeKN3nonIrJbQvGhMf6Cmvqm3p2y2rIJ/oJWZtcCtkY/BrpuyrrGek4ySnZmgsKfPq7emo9F8pJ+7l5l3vap6uq2ek2JtXoBmjXBxcWR+g2tNYHVVeHKFS4huhFBue4OquKZ4eKK/p5eicWVWjmeGw7PPjsGMXmBrZzt4rLjNjrqfik5ymHexi7mljI6Tz6KGnMeMobSVrLWZi7atocWuub/Ac6mmm4ijiZaHsM6BjKWgpMyjf8CTqrKvisXOpIqHqpOgpbiMlIGptZO2l6uPj7Jyo7WGqp2c2KiTk7PDuaKQm8q6srzhlMeanKmkvq6jwJVUiIxfQHmIeV1skrCZmbCFmIR8bjBddmF1VoxMdqaFjqegs4rFv4w5iV9ZSJBuaJK90J2wkrjGzXGwta62m7JUcodkZ4NYY1tpdT1XclteVlFzTGJPk15tbjBfaVh/TFpefnB/gEheeGVYZkdl1aKftLNvjcCausWblJWQrJCovp+NaV20cb+3npjJrpe00rSql6CfjqKydZzQ0LWtr6+2rtGXiLeppIurmq63r5Surp+Uk413qraKt5FhemeFVWM8jYN9nJI7Pql1emZdh41WQFqGYnh2dmvBormxsHCksa9tckc6iayfqLabt1NeWIVYerF8krWAp2CeWHCao8HCnJ5/oqCldKeccoG1t7yKvaqgw7epvJSLsaqVsoyTXrSnhbOpl7Gkooyxuq+Oj6Kzy4iMlK+ptZ+3eaawo6agtqKFm56oenqMtZ23k5e6kcGbmLyLlKGHyp2wsKuaubV/xayNmJOug42LcStodmt5RlBzhsmP2Z+ip8O3p1d3YIxVSXZqeYiunqqoc5tsrKh6c1lZZliTW1CLrKJ5lY3QdJatoKXDnaiYcEpyRGhKOHF3X1tbXV6EU19EbzhVbnxPRGhsRH1tkl1tR11xS19Wc3t0QmBXS7u6nIOMsaSpsamwlKXNqa6ios17aHWdrNK1ssK1X4y7qa2gtbqdpKOj0Kq9p7lpqsORrLh8rpSrnH+OsbGpj7KurIrGq5iztZOrsJ2GflBdYU9biEZ3b4drR2l8eHtraGdUU3SJZVlsYImFtrC7mKqetJGDg0h9kl6G1G6ntJ5oj1xogIm8mo2KnJhXlZVggbWXb6KzqqG3i6Ci0rWyhZabkGussLt2oZWHkMCVnKG3fJ+ajqGhuZqglbm0qZmPn6ufocKkiZyhebp3m46tmr6hhLfF0bmpwsLCqJXUnriinpyvtpWtrXKpvM7PqJKtiY+LlZ2sjrKawYPFnFN0ZWtYVKBXVa+th6R7hsqUsbRkUXJQjrBBfW+dnYmfpYqQorG3b3OAbGtkgkg1gKGRt7KovMjIvqiZpL2JjXxxiYuxgoV8dYRpsIqRpnaKkYHNqWB4amRva41+m4KzbYqhpHaeeo2AmG+Ot4ysm6CGhdbenJGosYTElZvBi8CSkH5PXYqTr22opYybfNGlmLelq6qWoc6rf5+rupujnZaLypuazX/By3C4q4yDnqimlIC7qbrAnq+tp4mlnZqJroiNroilk7p2cX2pn6yikYGZZ6m2v5d/1LmrsMexkJ2rtq58mZSaoX+ptJXAuqCRiZilyJSwvJvGmaCQwYeTireup63LypuhzbezeaiPu5Kqm46xkrSwsbaUq4PEi52pgaiUmIaldKWWpYSHspndqcy4znGhirCMs5nAkZ+Lhrquh6CPrZuEhLW1l6aWo56Xm4uGp4Ofz7yxpabPuKugy6Kpqaq3maWqraV+gIY5YXFebWWVnJy1iabLzL+SXmRWYnVae2eUeLGLraWhp7eXqa1wZ7BcTWxrnmODu6uXlI21gq68lp6hmKujib6KycyAmK+ck6GXxbaeqKOys3uYtqa2qLOXq5Ws146RqKCVw8a+0J2gpayV2K6Jubumg4aLpr+inKaUr5yVaqF3aTi+s8G0q8S2o3rFpbKfpLOFt4+Wv5mktp2jlp+2qKmujo2Lb5JzVsrCqpOmoc+jc6+7s6Osq6yWprd/oq+bq8uelr+Ag42xrYphmJSKl6yVf7OntXysm6bIhZduv5epprl6vciogp2vlpfWq5/RvZGap56oq7CajoGUjH6zl7jMsMG5mpmooLyey5Z84XdznJuWsXyTncO+g5WdqbeSsZGrpoicw5XKwZ+Lx6+bpaOml6GlnrKalKSWr6Oow4OTsqyrmJigxoytn7+5q7Sgoreii46zq7+kpbChiZS3yaV1rqazvrN0WZ6OZ1luY2RnoKivrJqJu6Wrr2VfayFQW1dIUXulnaWweXqrtMdYRFtxZ21HeleRi6XFko7HhsKLu5KVvp+Nkr+qpKTFsbqIqKK8u6S4jYHCnKp7nLjQr42ix66Wsq2prJmhlZOKgqOxqZOnf596k52epJ3PjZrAqo+enqSVnXV7dkhzkKOUiZGztpCCsYiAs6yxrbHafp+1yo2JaJyylqmchLCEd5OsoIubtpepu52rrKWtnqSHwJmftHClo6KNbnXBzJydc3vIpHqakaKOqo6qormVf4+Uoouagominb2kqLCmsZCLlLC1dLO3r5yllJumj6l4c6OipJObjbKkvPSei6ehkputk3N0oaTap5G8pJOogqmQxaGzpHi6vsLCpNelqJqnkaKZ1sjMm56usfe3rb2Mn8aGqsR4wJWcxZ+2ppqNk5CQwp+LnJuoi6G+ioWvqJyUlciQm4ivoZS9mqS+sKejvK2qlWivdVRoi59sVpp9xL+MroOvtpFlgnltUmhdgVChnqSTxbilusSvRXNshHOJeYpChoZmwqukj8GGfoqsqaCPzZuzeZeus8ybj62zs9W5uaCsoLW0f6OVv9bEhZWLmY21spqJorufnpN4oJieeoeZu5asvIe+vZm0xJuvpat0Yk5hV1N7WIF3t46ElrKYl4+qq6Gu2Ke5tq5/pZ6QpMKUl7iCvJSmlrqvxJ2YrrvCm5emj4mMnJ2glranvKC6q72Hi6uontOUqJW5uK9qlaqdz7CanIx+mHG7ua6dknOSdKyvypOVfIW7l42Ai5KZqH+OtH2gyKqsz9a9dpaeoLuoh52alqSudqCRo7iig5+uzr+7monSq6Z+gmuVkJa+Yc7CqqqJmIyysq6Np5SnmbfVrbC2p6eewZiYrtCFm7icna1/f5+Qqp2Dg+rDm7+MrI/WfZfXiJeel5ewjG6go56bmZOdjaOcgK/Cmo5Wj16NdVxveV6JxrGvs16WwceUbktrdmo6akpaeZ6XssyBvJiRgmVYd1dydnxZMIWOqLitrNq0qYzHq86wtZOljeiopZ+QopOjrql8qZaksKO3pJ+qq76SisWotJiBo3mIlbeb0qDKka6gl5ielamfoHmKqI6ZpIiy16e6gndKTVKBeWmwoqatwY67l45+lXyYip17jsDAvJd/oKqpvoujuXWYpYbKuJl4iZuzp/DBu8qLp6K9lqObn52Qu5CMw6ytp7S5kIaKh5GRu5vblJSntpCykdGyn6TDpLGecLbUqY28sq2bsqSdsJvNp8efsLnkbbOOl3+hk3ymn4KqrryHoWuXpKjPxoR4pYWhubiWrbC7tMWYla2codjDkK6W1Yd/n8qlp42Mf5CGoIKyoaCKftK/37OyypR/v77afYOzpq++kpPNnJySsqORo6CSuqqmqp67w8Kgn7+0yMa7l4mvvKmsyH+go7F+Rmtmc1pZYmt1ppWLl4nKm5iqbV1oYYhVYX5vXZqktaCcuq2O2aRebGY1aH+UiGVnq7Kfta2QlLWKnJujjrCggYqRnr6jvKSProGszGWrlJ+Nmaijq5i2r422orF7wbypl42gpp2/kniut6WSmayjo8W3iI+hrpPCx5iyp7GoyWtteElBYpnEl6Sit7DBdLWdmJnBspOOiql8urC8rqeCi8OwqpqRrK2Wp66nfJSQutGUf4e+hLiXn39/q5l+zsOAkLqJy4+bg6qgmrSNk62MsIyUqYu3l7udsbt+raehs766rJ+zypuepo+nhbmvfbSlv8bQvamuhJaero+jnaCxpKWukZzZnITDg6y3bq6Oqs+WpMaqp62mlJiQrJN8i9KVtZuWnIHArLKfudCbl3eTeKSIgcCfnbG5voynh8OkxZ6efp6vnI+PwaK+sriqnKeRj5Wc0bSyp7eFn8K0mKypvtR6rarAlHPNlFOWh25tem1xh7SfyK67rKuuqJlmcV+LbkWDdkSRqIC1r5p5iphyamg6WW17d1BlkHhtpZCMg4ubtqiei6yrpqyxtKG7gHW4ka9/ta6eh6Cgk6mAftGXoYaOrXzAmZiRqH2unLGhopynn5eTg8KauKCorrTAlZScsrmqraK8n3WfhXlFf6V/o5+ZyZullpWPtIaPvqCjxcCrkJuxppy5l57FprSdiLCxrouimZqvj6h4sIq+urOeqJKescWXjcKYs9StwaXMlqqbmZq4nbPJj4a6qYOZ1JZ5rKSp1a62yKV+mJa2qIyUpcetf6ucpJ50p7yDm/mImrCkpsGpp7a1w4vFe6i6lbunjb6Pfreew5+1sa2hrba4lpCTdpmulaOSjKKcvpKfsI6ZnZOZpKXjoXV1ppykn7ebvrSJp5Z+nZKyhaeop8OtrbV9qcuNmpuhr7a4j3SmpaCEmqq3j3/DmJ1vnmmdsJ6ir3hbn058aW17aVfAlZGQjJyzvpmya1hYXYaQcUWMsYbLkn2to5O0olRAboF9ZXaATJ2ckK2nj7i7q6ylmqOuzZi3fpPMlIKfnqSMkLrYs7XVZ57JpIGRcJKnmpectY6Wkn+Wl5OoroWPr6bGuLGnqpW/qbaWq7LTl5+suMCgpY2FjozHW2eUpqyjrniWts2hxKSalKCli5uYromGs62uuKevmr6Lv52XgceYmqynmrWwwaiTibWypMufpZ2/pZ5evZirn6u2q5hdla+og7icyKm3taKrnZGbo6K2paqJh6Cyh56pmaOkw72sp4N+qZutibCuq9XDiaW/z56pw492mqWDrqCvud7Cloywnamaq6+Pr8N2sLqdoLGhiKOR166kqJPIt5ydvLegqMWumMilkbuyi97ds67KdbmejsObqJC+q5qnoJemf3+fuKu8gn6dkJamz4Wqp7GisrG0tb2pnbWEw7GeraenmrqnXVxib1Cba4Jjnr66q7bXm7alZ49gWHRwcXCId4irsMp9apKhy8ZVdG+MYEqQWoavrpiYoKWUrpCVt3tyjqvcs6uf0aXHnLyUtqeqs5SvqourxaNghpOOp4d9p3GvqJuWa75zpKu8lZ6huKyyxpWut7KxnMGihZiXhMWEvaWfjJ6hh1t4uZ2Hva2tua2Rkq+zoZPCrZ2Vsq20p7Wqh52FqIeHi52ShLSUu5ajdK+hjaKVioGan66lmaDQrbKosr+gkKPQsINutbSWy6y7mImwon+jl6mmu5mJnnaouaqai9yDho6fiKend5eWmbqYjuHJsKqffcaappiXppSNprajoLWor7CNpra1pI65nIiipoyrrpu+k6qosJ2KdrmSucmdocTLjLSdyJKZk6mVrJ3AmJKLnbG5tI6sebOyjLaaqZivvMqypIaGr4uwlKnCxH6er6Gzvb2hYMGJvJ2Vy4N8tJOln6eDs73CmoRrcmg6aoFNQbWNiamxuaW/rHRXdXB2dERNa2/Cuayol527pLSZKWhAhoWHaUNzfYq0gLWroLV2kbKlo5auo5qTiIuctaycZ6KUhalvqL95oJqVhYuYxZyJlbBctcCjnYyjdrOEf9aBnXuNgZnDsbioeWOrq86wnrKInIuJnK6ym8rGp6SdqZqZjcjCpseMppaWscKewJixoqC7u7zIioe0mbu2bZ3Ct56Kh8uxmKuboal1xZ6sxr2ag5Chr5+no82JvqWKzMR/tcO9lqOGlayPr6Cfo5+gtY+xr7Wc4c6oq5hylZK2np2araqGfq54m82Yk76fzZ10tq2orMOdj6GeoHONt6mvt56lkmeJppSjqLurtJiKvo2ZmZakzKOWnKWYiISZqJ2vfumgfs62fp+RpJOzh6lylNmVv6Slwq7Ghq2ImqiVlZ7Cf6m+s3TEp32UxrR0lLesi6iRnaSemKyav3iL2be9k2OFXXCKT3h7UFvUv7eftqC1eLqjOGJ1TUFZXmJHe7ipsrS7sa21o3B9hFFgTF53WJG9wsaXj6y6vITBkbmunEuKemdDXlFhcVFcY2xhY1ZmY1d/d11mfEJKdFk2ZHQ1Wml2UnRhbGN5YIRlW2RLi5yXt6GUo5bBirXAiZeqzcqwqXKVmLeem5uIfdCUyMqWqZB6fpV8l5+oqLmalIS1lMXNjKqtyH2ltJOptq2kr5qOipqVm6ihn4+Bo5aWpaO2aIefmYCMsoa3o7mxurGqta+et6DAja2jnaiLqZSnorW/rp+XnqbAlcyYqKjDc8N2pLunrpCbqLJvs6SOm8KYp5+xrsy9jal9nqfesXVwnYWsobOj4cqdp82FuY6SiKNskpWjbue4o7iQtL+hj3WbopCrp5eysJ+2pLSsobl+iuGZsI6/ZaCZoqKWyHGmipamvJiekJKSic/Go5uZn5XUs9KWun+6kKGupKeYYmp1ekFWaGV4pZHBiKuqnZ3CknVtcmtoRlqAap+OpKPepJyrkbB0O02SmmJ4VGeQmJ2jjp+dprCIiaxys7d3dHNJcFlTfHNIiVlgap5XXH5iY25pXohNckltW15BYVAwaXeOe1lAcGFzbGVNaLPBhLyOgY+7lKGUo7uumrqekJ/IoYymtdObnot6q8CixL6/y57Dh5yYprSynL2Mr5WvzsCStY+ToafHlYCSgYeBh7SDobuhxIKxqKmimJWzj5GVp6yqoay4i4m2mY+VwbWfkNidgJC2s5yqnKSrppmju7uAvqGZw6uH06Kpmp6tksK6r7yRd7ePuay2xdmeuKCvsLaXoIats5rCj5WhnLGeqqWiln2rmnV8rou6o86pwLC7uKmvpJjGuLqmp5bEuYupl8SGt5ymh6aPnZavgrJ/spKOxpGXlYuLbse1jZZ5iaKJtYe2tbSrpaaXgKm0k7+Yn6y4oae9mbd3cVxvfG58U6Jvc6+bcpl5sXCcq5NhOlhJcHlra2R9dZqChLvIrXTZf2pyUnpugVc3hbGFp9OXlWe9h5Oknl6ch2BzWUuJYFZee5iLiZxaOWRtbFBPW1NobKhoU4BYd2xia11HXmR+cFlkYXJsbnSUn6+e07S1ybCxx8CshsagqsSHs46yrLOrpLKVpKWgj7HFo4+2oLJ6mpuSr5iZyrmSf66ntISXps6sh3emh5mred67qcqPfZ2sop+krJ+2j3Omu7l8o9CYlo6xl6mMhaq2m6Snwr6brZzAhoSFyaKU1oKgo3eqi3nBtZiZraeatJDZspV8jpSSjbCaqI6NhZiRlpnCpsBdxa+vrqOwsIiIgamJq7PWo5q1nrfBp4mlxJuYmbCc04C+lZqWvIOlqZ3Km5Oer6OZvpuxubGJsIGyqr2ovLaLt5GtraSidJ2QvbqrlXZ1xICvq5CEsZuhvI+Wm4ewtNDIi4uAg4Evfox3eaRrXH1vh6iYuqOxnoCZZYBedVFeamJwsKuj6aDKmpSlsFhWaWlyaomJhKK4lM6ZtWOMkq7Gm5auhpRzjXB7UWd3YYqKV21iWmpzpUVTeJpveUBJSltiV6VraWVzQ1CYnZh7XIRTfXZMiJPFwreklqKWvLrUmo3Hm7CaprrHlanHvZi8toe8kYmDnpm/l4enpsDAhoOYeXZnnbS0upSyjK64hcR4qbh0qaK1mqyovKOon72hnZWTpJGqrIuGoaCMyY2Rp7CasK3ApYiOn6KdwL1/u52iobCZypSWr5e5naKfaqmWj4y6p6nFusSFr5SxjaSHvbiSsMfBpr+oi5KQ0VywgLaqrpufpYC/o7LLqaukoampf72hkJPKvZ+nsK2kg6vXro6xtJK3vpirrYrIhbyvrZ2TmMG9qpe7voavpIijgYG5icuxwZ7Jj5aCir6Itr64kLiup7Zsvr2GtquxwK6KkZt+hERpW2OHdSpeg42D5LeRbbKpjXFOakdZd2qDT8Wdjq2psZmYiJl3a1ZmQWFzYHl22pyfvYrUqr3JuIOLmJl9UHeFYIdrf3pXSH1hYI9ki1tmSnNrV0+COXxbTmJ3Y1uDcnlbcYlyb5tjZ2hWiaaitLeghKKVsp/Vj3+Znr6hpp7Jj32zrJGXxn2vtaG9rJeNpaKSk6u1x7ZxkZKZh8rDs4ySxbvKu+WVyZd2g6h+pbmrt7bdm8awi8F/t5CufanFlYq8kqKyoY+qeZSn5LfJq5N3g4+2qKOTkaWWmrN4rrCFv5GIn5iynb6WrLB6p7C787qUn4nQva+pdKCPkqGUg5Z+ma2Ws5OOoX6hprqwoLiYm5qXrZSNsaW/o6G/o4mmjqe+rKrIloGTn6GVoKLCoprDjqiShbesqZHHhZibu4WtvInMncLCt5CgvLWxupeNuaiSepeJvc6VtcCWk6CqkpGVuYeorpOhc1E5fGh+f1tOXYrHrrKmfYuaj5N/S4CKW5BUc1Wapam9q6aUxrKzgV5baXdvem1WYMFvp5m/o7O/pdexqt2ISlt+ZWlSLXWDXFWFZVZzWItnWqxze1Brd0FzRVSKZIJfSmCDkXp7b1hLXYN1b22ltZ1jka6pm6+NxKW2r76mvLKpnqB61pWqgrORv8Sx2XamjrmCqsaQiqWNjr2ipKKXsaOsmpKqx5O0jMKleIerpriUtJrNqpZ4kqOYnpqinsWio6Gad6u/rL2ckKSZlaCbpbLclsvQsqq7k6GJk7N6lZGfkJ+2qIKksLazmaivob6vw5iuqbOGfIJ6qp+fp6CpnJGDs4S0m5qyoZWfuragoryplYGCopCzjKG0nrPCrq2jpqa80IK7tqzRiLykgH2h2KKljaGbr56wgayVnoekcrvXpY+jpcqjo9KanLuFcbrIpcG7p5CriaCCeX/JqsPDtKB4x6+/iJ2wip2CXndojn9LbJHCiJS3sJbHj6iihVFsnZNcXGRvkLK1sLirsL6ZeW6MXGZUV3dYapKoqH27uZ2flbe4vJp4ubSZfKKFZWpabVJehHZOfnNuVUd5V3B/YXpVZEhOXpd3bn93XFSBc0pGjnR0eFWGnJCqv5umyHefvofLpoaZqo6Gh8GNsqnDtp/Pr4y3oY17kYy0ls6QhrKzlI2XjbmWvoyclKuVo7GNjses1KaIn3OaxZmmiaeKrrZ7ga6LvLuurMKnuJSEdbeXwaObqJDBi7yghpNpk4m+cJ6bmayfzZyslbC8vsOWq5qhzaer1Xaju5jYsol7c5moirWzw6iJoMNvqZOwpJCVn7nEhK6hsZC1sqaxoKKmvrunq6qenqigj722yMG8krWkt5K5oK+wnMCGwKeqpKjnnpfAiH6oysKZksOpp6WWoKC0foqT0Id5xLO6tYmXqqudwrOjlKGrm6yqq5Odt7+g07eDh1pNPXNoSGJ3hciYr5SCo5i3qIVreEp7WYZliZCht7nAqpiatqxoR4VPa11SgV5qwsKrkKmfmr1nk7OVt6R9cExoT01+V2NUQG04Vmhof20rdl1kalk2cllkal9ohHAvWUtucX5sc2+RdGV+Up+goqWcorDHkJe6sr2ZpI6mo6LYuMCieZGjt4qyp6GMur6kqqaejJ6RpqmtrbKmlpm1p8aOt4fkwbKw4sV9xYd3roiXoK2qn5S+fr2du5iipIyef6SaypK6s7qhj522i4O4pKKYr6yhoJmksJ2PtMDNi6Ght621u7DKmJGdbpqVw8GXnbqdtJ+ObpijpMKaqKCJxKuqqp6Ltrajl6N/nIWoiZyblZWlua+rwbCGp6XKpI7IjpyLl8KSfJOgdY24iaKxp7Sbo7a8ta+FuX1wlte7wHvGwo57faWlmoOcuZmme5uopKW7raebfMufsKOr1beOiqOthbOmc5zSijVrZHaPdHxydX6ul6mJpHWPzpZgbkRtb6dhVl+gtLe1lKunrsmZdZVYf12YZFBtrrhtnJixroqQt3q2e7OnlFFMgGKNknpaeYNRb0pdYUlkcYBeRGRhY2pWdXJXdXpVYYJhLT2Gb3hpbFZgS2ylqYuVpsmnnZKWra+FrIi4jpuStapuo4Gir6Sii4CRhqKusrmmmHaqop69jczSlox/r9Gxx6rEs6qYqYWUwXqZ3cyptsKf1rSTp7OheKexuY+7zL7RpKGnq8DOm6iugqG1yJ1ypKSap8Wmp56cuoach6SVlKx5qa60mLaklq+XibaQqJ+bgZi3kLaEj6WDpMG7uIy3l5aenKmZlIurlMmsz7C22pehkKKKeJeXpJDusa2Xs4u0mbGes6vKq5G0sa2hp624osSknZastKaSnMLDuJOlvpW+opqoqJulecWQuZ2UbryepI+0qqq0g6CmoLmZs4Kjnr6mxbyuq3eoj8mFlKKms3itoqiIsomunY6kpsGqjqeOpZWQvqSVnKuRs7W1nryvnaiGjbOttoCqm6+gu4uex9HBgXeUn6XQnpN2r66tgnuahJeMzH/Er6yto5R4iKawjoSCoJCAnm6NpJy4rnKotpagiYuSuMZ1k46ivo2XjaWDn113TXZ5UnJgU015RmNZVpiCr7Osp5Cij6GSmLKJs5qWlaizsK2Yt8K8q7SCmoimsqeYm4ybxqK3trOupYOYnKaVsYylnKvPqnyTm6B6l5KVv5pumJrJhJDClqG6r4y5nsuCvJOwkqXLm4h3r7iVlabJxJa3oqKlgG+tt5igoqOJq6u3mrSaw6C5wX+ip5zBvJ+hp5SWraeYqsK2h4uUnpGrmqyyr36vgJazsLnBpq6dd9TJxbuezr2tu7eDkqqMs7CarJuZqrSer5aVnZ2ela+U07J+qJSpm8Cnn72joqaVwLTCd7KvraewrI2ZiHeUsJ2HfZx+rLijra6ks5mZq6+mlZiZt6ignJLSuoKon7W1kMubiKCdu5+LwqaPmGm5dtakarWxkrG0qZe+xrHLsaeZq6uMooWXs4qvmI+4w666p7uHiamZqXiYq6+1pIOHrK6olcizk4+l2HyZp6eojLO1o7C2roSWt4yqL2FZRmSISEeETUN8SEfE1bmbroi6m7Szo5inq6GcmYegp8asq5WToqtro8S1rbJVlYWupdzbnqmesKqNqpuupaLQi8G23IzFm7O4m5TJn6fLhrKShZCafJCmqqm3rX+2wZ+wlbKvnX97mMGbnsSvoqGEYZiJvNObuLS+lYuukpqZpdy+xt+iocGff5+bmKmOt5iTtZqlfJefk8fTps+zsaGalJWRtpS2oHOtrI2wsnqv3JbWlrOeq7Gnjp7HhIOqkaKkg6vCnZiYcZqagK+fn6GYcaLIsoqewtXAkq2ftKGKx7irm6+6jJe1spuhvqXBnZ3EyNCBja+Wqpu1l5Kxi355iJ+al5qyrqi5gr+ioYKZkrx3naWPq7t+xpmOqZ+3ooeqp3GtlqjDp6iHrMKyqY+cpcGktIp7j8iesJ17uI2Atp6St6CWjaWBuL2Xn7inhMa9oml2xrSSn7pel8ObnZqUms65sJigg29ye66an3mGrI5wh5xumW20g56Orb22z6+imLOSnKSTor+ruqOnxKuVorG9yrCKtpGWrK2unrGunaF0tJOIqKGEkKWbsYCHoqWjlJiWdY6ZucSRj62dg8rKsa2dfY28lJayaLqoh5uJt5upjbKjtJOKoH+o15a9o5Cqh52ajIakoZ+bh5aloIi3zLCkmZ2FsZael7hveJWjjpaln56xooW8fpp9sIyqv7HNm6q5u7Wat5LBraaFqbaunn6QluO8p4rDj76bprGwto+QkG2lgKaHwKmnjZ2QjM63ormqrpXQ5JHJn6e2tMSvdrqdorCtr7nAkISEzaGWfY2dvq5wkZLHr5mXpZexmqG7kpCcwaiNnb2kmo+CpJuYuLSulKZonKWrjqecfIKmeqSrt7V2hYqZ366OerCzu6ujrrmWgKmRo4S1c4ytpZ2ToZh6i6Glgp+EjZuIvLKrsqOKj5u/noiizqGXuoKTkoCSQXbPqqV4ur18pYSVypKXor60z6KVqruZeaavuZK/m7WeepKptIGVv8B8tdOloIaRsKbGobCtsNWMq6Ws1VhxVXKaglZdYnNeeph/dXSOgoFjg0ZDeXVWU4WnqoaAYG13qpe1krSfqauWmn6SbHRSgUZKbLKhjci0bnVqeE+KjV2iubSwk6CTh3eFhIhiaLayscashbDTlKWKsYbFtoKxzaK8zbLUu6KlhIOHb4Kmn8ygr4V7vsXFoKyLhpV8tZC9oLiJ1IlzqcGWp6elt6KsiJiBq5SloKWgqKRvjZGsstaPj4+3pqKxgoeMlZ7Jl56QibKXkZh7nNy8lsmXibiLsKyhjbSqn66srLifnZljjrimfbCmtpHWkrq10IKfjYeEhLyNuYW3rJ+lo5+1jIfDvcuRw5+2qoClvdHUuNOrqcafjKqslrCTpYy1laqjrKO0kcOQpY+ltnebmKikm6O7vbGsp56yiLCfmFGGgnelzb28rMOlpry8v5qvkqnLv6K2ho2NnouGfM2P1JetjbCFloqmy6uJo36Zt820tceuxK+CnMCysbNoWFJhlHQ7U2mFk3Jof3xcZG1Wqkl3X1Z+YEuCfzZpVHdVgJmsrJGve5WftoW1m5CWc1BNgJydo36Gipx9WVZKaHhdkK64n3ORf5V9dT+bWK6fmp97j8Cqs8mnprKtl4V8sIOmhpia0b3OnLKwo32osLq3lpO0woeMxYmbp6mmk3iP0b+nlKmkhZScvZSUlaayzJ+amsSFu6iEf67OvNyXyZOyqIa0pamqlLtyt5eKr8GejrzBmpqbnIeetHi/t6a3sYuJlb+Vzo+cqLTMt7TKtH6muaaurcKtq7V2j6+ygJCvhsenpaCgraKkm5e9vZCcdsqTqo+amraVkaqrmqmhtsm/v6SniJWOk8+JgaiPcsC1xqKIqLSyk6T3y67UqampsKTL2p2Oj7LBhq50iHNsjbnT0Ky3rLGFmqJ4vp+br5u8yIGkoLKPsKmukcGom6SUk7SShpqlv8iop6qXoI2ag6OVmZ9slru8eIB1fXRqtVxjYVFwQY6FfaF9cmdcb4BPU21uYmSMkYtzY5Wvp4nGzqWTi8G3wX85ZkdtVmShs5V5faOjhlZpamhBcrq6vJbbi3x2YW9ZgVylc66rvaaHlaCakn3ArNqN1pd9mbt+u5avoL+Jw4igo66LrpqTf7GlqKzItqeTp7ezrZmpocHDorrFjrmcnJ2fkYaxvJOkw9SQhLXNq6iiq7KJi9CmgpCMt9uknpuvmbe/t5qqmcWrh7WytKefe5yaqJaViZaBlLJ5oLWSnoOpo5Kbpb2mr5Gfl42KoJmf17XHoqzIlY+mmai3o5aok6iPtYuanruivbaysKyJhql6plShrMvGjLu+r9SgqKGNjHah4MeNqIKUa72TsqaRl6ylmbqmwY+9oMy0qZGVrHROU3STxJCjaqSEwrm2qKbPpnyPvb6apaqgnKa4ra2DkbG7pJCYfq+yhIabqsbIkcOXeKZ1inez1JXDhn54kXyJZWFoaW5Ybm9shmeThFNwbpp/elZXbXNic0pzantdvrCNh5GmxLmNb56QcK59h0eEjJzN0ZmRs11LOJNZh06aqqmKt4d2jnCNbXtci6uVoMK+zLOSv7Olq4e6ipyTpcSisIbEpaqTl5GkkHmdspe4q5mxppytgJytqNKXv6CjiXarpnuntquQX1+WxL+Dt6mqv3qtsrmanJWxv6XHqripp4W4t6u8faezo6asrLaznXevuI6lrr+yw6+JjH6prq+zkoWmra6ktp2mtmqVvI6ivIaWo9SldZmWuYGarom1o6u7qJJ9sLWjv7Ofg7eQrpKym4WNnn6Jt6aJj4OJqJ2YkZp2vqWQo6Kes5K0t5Szqr2Zcae6sKKdtaW5ipyXs6WtiNKUoa2qmsOnqF9nY2eJqq2orbCZoMylj4HMl62esc6ilsWSrbShlsOcdFJug5l6jKKyk66Ll4qtsKLLl7TBxJSnnaOBm1xjWWd3Q45mh4VYf1dyd3lOd2FReXeBgnQ4fl2faXJkWYCYja22q5CjhYycmYNgX4BHceeDt4yIpnxDhHV6XXubuKiypIq9jUtYfIpfX6PFiIyUnZmjgKarsoHDtnSAl7C2u5CouLmItrK516GLnralvqisrZS3sK2ipZeorb9zoMWpk7qlb6abgJ6erLqIl4V7lpSdrKS1vIOshaGwr6mfgZSqlJ24q4CexaHBkMGvjYWcksCYlp3aqKeuy7qcfmuJoJrtl5mWlomPkrOQqHet0Kimu7qAeZa6zLCujZGlrqemjJzBqpKFsZu9nbOkmKKzi6emgKatvKi5karKoLOHuruhh8GIm52iqaSitLO1yIB3eJ5ripOVhqGQiIOrmI2moJ6MgMi/odamore0cXlbaUObnL+CpaSooK6TvJWzkJyX3WujupWefYSCj3Rdk2GGbWOcqK6jg6F6paDCn7B+la6Eg6HMfGlbV3FYllOOT3NIfHZrZUJXYF6IgGpNgm05VVqgVGdneFio0qW5o76FoamrmJNHeHRpY0enrYSvq7yqSohUhGuOpc6LrpeVl5Zdb1ZddHSWtZ2gpbuXmbawwbLFuLCpkqamlI2rjsCkncOhsb6pqMN8o5/Gx6Wg7oSfluyPkbPCu5HJgperrH25pJq2tqWZjYvEk8qklJi6irt6fqG+vnWqnKq3xYavsaCfpneukqGbq4yGm6++kIefqXujwpGPt56RrK+ej6amkZPSq5ltupHMrpGikLKun6askKWtkMHDp4p/koWjlMK8sct7pKKytaWdv6qKu4mVhq+JfLKXjKehm8ijhpyp23d8xcu5ln2mx7G6c0VoOHZ8eFeEbmuGXE4za1mEpK+zoJWSnam3x6VzWGdScHxzupabv4+znaXTiKyFvYylj5CosWF4XYKpwciQaTBSfqGxqH6vm6ChmWyTgb+4pcGPo3a/oHiQzn2omqW2iZ2vmZqYr3WmdJeGqqVwiG5xgY+dqryHrJ/apJ7FmYqTrJGjgT5zbVtjhqCgl62+pHpHcoaxZ3CcjZKwqZ96f21zeVZhmqi2pbKens+x2amiuMKrlKuNsKmjxKbEh5yVsYurnI6qjrl+pba/vbK1uaqAvZamkLuTjo95tqW/r5GfkpJ817azuLavhdCaqKlckrawmaLqwJ2nuaWHnLnMsZa1sMixr5y6jnCDtJSuy6LansuWtq6onqG6xrCzxMWttbeWrqW8vaesnH6dkaDIr56QnaOm2J+Ty7KimoR1qpKFv7KOnaugnL+8pbaxkuDIZZRUiKeVsMeUkcKNqseol6abwLyouJx8grHmur2fp7qfj5CZoNKZpbbLr7mqqqqgpYKv1ZqOzIGTYWhklKatmbehptevsr27t6SbmZl7mI50ZniqrovAha9hdm+UmKe+bp7Cq6CjoqSnxKClpsiWuoONiKrSmaHCc5J3oJqlq52Qv7fIrpihlZeVuLq5pbrCrLS2g5W0nYywoIWVdHVWYH2IUX6ktpqwo7yjb29bcl6B2LCrj7WckG9WaIeXcJadp4irp6zAnpGjxKKjl4ymlqK/uY3MsbSEs5eslpW+mNO+sLy606iLi6GrrpWxgaPGgKOgm62IhZGzjaysjaOPyp+rn7GtqaenuriitZahq9KptJ2VrsuworCFlrKhyIq3m5yNnKHBqpWgvqyg06qzlbSgvMOjq6iXoKON1qGszcDBqKSalqfApsS9h5+3srfBtMeKd7t3ra+rr7WXh6GFuL2kq6+ik5yjtqjFjcSeso+Onb6pl6SFltV+pJabrbm32daIpqubuZKTyamhorOMkKyprpy+g4iNpLGqtnKDl6vPiayhNVuPnJODrLujioGeiXasnKl/kZCTc4eXo6iNl6yXsGiDlbXNt6GBfbaefNWNgKiY1KvDgo2FiK2dksGaqp6Pkayzm7imt3m3pbKFuKuUp6ykrYWuq6KjwcK6h5Cmi5B61IdYX4iAPHaUtZLEuLSwYHNDdG5soHear77ckZF1c2NVa4KKl5mc17nOj7unf5Sny8WuyHymm4m5mKytppeqn5OlnIXAiJiuu4nLo4B7wI5qhqq+trS1rp2znreStaCVlXyKx8SMnKChoryyd6R2vrKof7W3o6CgrJmvlK+aoKuujcWWp4uRf6V5kpWxpZqVnZKaj82YlKfHpZWrvcGa2sWUqKSxc5GLqIavw8ulvYukh46vzKGox6J4tKCmj66cmbivj5nArn6Fr7GTqsKbfIW5zpy7ma6HkK93vr6ps6S2q5Ksu7erl5mOipxzcc6+lpuvj5nDtLiogKqgk6Wrr5qzkKjCsamFrTl2fovBgZeVsLSEqdOxsbOXhp59fJa+jLm7iqSehYN0aZa1pb6+wrjJvmqWuZ3YwaqjrrK7sqinqo2tj6yOrcispZ2rmp+nj6attICgdbiloaG0urHCgLCwy5m/k7u3top5j25tZHZpqZuys5Kit4FTU4aHTkmSoaVuj7OIT11WM2Nle8Jol5aenYyjpZSyj6CSdsrGkLCzib2Nr6ydf7mMmKGNvKbOkYWun323p5N6lZqlh5qzr7WupqC8mbV0urqof5K7r6igtJXOoMmZv6CMmo+wn4OmkpXOqK+z07SYnprOtXWPsb2WupWYqbG5n5unk5mbpqCBt6+hrLW7sMOiy8qknJ24o6DFotCekZSXip2duMiis6ane42er7iklKGeyYadqZSur7lqhImHvcG0tanEsbaNhH6npauyioKyorKLkpa2uKCynHaWxKaopaaYrqunieSRptK0prShbnVns9Gpibqrko5AhYCGsqujs5ywlbONuJ23oIStu5qNhriGlpuooKp6X3uArn+EnsvVptV23XuGt6OYn56btKO9w86RwaCyq6KzsdC7wouwubWldpq0ipGflqiPt5O8pqCKtNSmk7JyxqmGn1RfTFFsYXiauZmuuZNTW2t3flaJhXyofaCeiJZrgXJ7lKibh5CZybucja+robWuha2ky4PFvo+vp8yPt6mo4Ziue1+0eLuYxaJ+oI2qipqbh8XIqoqqi9esr32kvJWV0MSdlKC9qohxt7Ggqredlq6UqIWeubaWoJKMmZmnu4qTiauzw5mn3dGqvX6DpqfGwpGOkJOxrHqnvKKMz6VvhLuPsaivioWSlKnZppmosp17qbaqkJeiupCVul7NpZHAr5+8oqCczWePnZSqjJaRsmuWtsKahq+Jp7Orw7CHvKmZpqqnk5/LtZmfmo+Klq2ixrqRp8aetsa5yZ2XsmGharGKnruzlsuoUURgjrutqaubn9mwia+qupa0qcKQkMupjIWjrKSfupZphqa8rp+Mo6C9npOMdraWnKuX0qusrZG8lLKOh82HoZi6ro5/pb24iJiOuq6dkaO5n6qYtKKWvsuVucGjrJOkknheW5RdZ4qdc7WRrLiCXnpRbm1fW6mkrqmlu6JffIF4VoeusJmgnZrOt5CVwLPKu66njrWOvbV3npOlvsOumJqBu5msjKKZlJejpZ+RhZypeoG7go9/gdCtn6GzvKOmppWOh7J+u6Gpls55noWQpr+fiYqtsOi6pKa+mrOZnpGfs6nGqqOKwb+impuboJGTnq/Sk4aUn4uonauYqZuNpLWqi5mTkqa/p5ayo5N6k7iQoZKUxY+6hLOLtKqnmoiSzZlprrO+jaqTtsS7kJuwy7SkvaWq0oOLiJ2Xv6mtqoK8jaOCl5acoYi8nH+T2pfAeYyIn5qbwMekqLKttbJccpu7tpy9inWRoW9raLiYiqe9iqaPlKWnvJabeL+skZt4oJylnL+EraiCY4Grr4G307aCoai5w4uonaSirqmcl5+SysqUgJa5wY+Ym42HocGCp62ZyI6jr4x9op+bh5SMrLqvjraslq9nt7p6XJh9XGBBk5q/zrisjpFjWpFVSGSiusDInJZqgl9/lHOBlLaOpKjBmdLPqpyNs4CKwYOshZm5nY+6yaS5poemiYDcq6i2hKFzhs6yp6aQjLDEvYSAtazSp6aYsIi2gYGyopu4ipiXjbSekK6hmqy8j5iqw7iIwcKvmb+ipJuuyMeFqaaQtJS5nsWm2pe3t6eYnLmWlL6fvKPGt8uLsa2SgZ+NzYegxIy9q7C+iY+CkpGhv7y5sqd1nY2orX29xbKo0JjOh86ScrOQtZiwp4eLurWXh5ezqreEjrCehbaIi8CQjp2+g5CPjsWOn56Rirq+uZGDnraar7OKn4CkgYh6l5C/sI20opV1g27Huae8zpKBopKlnKC9safFtYiglZvPbJCwv66GeWxqsL+mmZimpqKajpyut7OjqLpscnGAUYGepHthlXhSbm9SikI3YImMhWRcjEyKYXiVWXGFdJGxo9uinb2PvKKtYmKAPZOYpYS1nKuSlbBSWZJ3cl2Esq6TjcKpV4xRh4VUanSXoZJty8CadbBvrpe9kXKVvY/jfq6jmImAj5mygI2dhoVqiKK127mvmoyOrLW4nZa0ntKhk7C5kqynpqqqroSoeamLu7K+mLCMtKx1mpmoyImjf7qqssmp04mTt6axf7K3grinq763j6Chn7S3wamcsa6oqqinosGvn6Whw46BvaSliZrAw3y6lIGtrnuRnI65jpSXabOkio2Npbmoda2qmKWqpYyPlq2PfLiilcOsjsClq4mow6GKyZqiurSvrpzAl6+6mKabqa2bqq6knMrBkoWSrqXjpLnCuWZyS4K6speSq7FaSIFzsYm0x62jkJSsmcinmbuts5h5Wm923pymmZqBYGRqlqSavoiJsJWQrHrHd5iEkLeUR05+fH9yY4ZiT2xdXFFqa1KHgIFagn1deFJ7N3NrZ3qHSXWwvqmkbse5wL2sr3pSiYqKRlyQuJnAy5OzhHRVZFZ7bYiRj5qplmGIbm6lf4iArcycwaKlwbepmJmmvbWZrKC/rneOtMeulLetqKO2jIvgu5axq4egtKKziYeDoI7Pi4fVpaTAi6+ysYKKiqmZrKiToLO1eZSahKWQoMith6WKtJGHuZ/LpsmohqyChqCko6GCta27p5OYkcG2qYt6qrCavZWVlZmjp7eEg72ssYWNrMaXxqzFk6y7mqKXk2qJmb2rhaCqtJyxesTLj6KekaC+sJ3GlonDqaGFq6OjmZi3hJG/6KW1bqGYjbC1xp5+sH9vlrKbkJuhj5GYm4uXncO3xZ+bkaSrlYJonTdgj11zWUdpbC6HgI+ui6WxdJebr7yYzpKKoqGxdoN0bI2RpqOkSV5tlpSrqJalt6u9nqCdlbyjn7mflGOJgmWefntmlG5kP1h+mlReiHGBaHFaZ1JaVXGNVmB/c4Roc8SHopu3laqhpKOKVHh1iIJlgXWao52plnVlhWiDUWqZnLmbx7d5PpZxY4tEi5jB2Kigupe7vqKhtpKvn3OnoJKQk52rqbyIn3Soo6y6g8GOmHxyu5qjtJ2hioukpKWupKl9j6+Zo5mVysqSf6yjv9Cro6nBn2Scoqu0ocugtp2MtKuap5CGiKVzjJqKjp2dgquWs6eim46cq4PKm7mxormdnZylkaKjn7GxsYWhoq2LqrSqruuSp6CgnqO9qqeeiqWOy8uLs5+rvb6rxJ53n6q4qpaghauogoWtt7aZi6ikrcZ9zaOSss+lycqpwLeet6W1oZuVjqylpbujo5iXkbSflYyB0KiZr9eagT9Gc0lnUkOEqJaUq8S+j86Tt8fBl6LBjbawmI9ljV51knZmX2JohYykqoycooa3sp6Yoq29q7GIcYaFeFt+mJdbd01fZXg4ZmVuUHaQTHB+hYJpeluKg35wXWeKjri1nJrOg7mymdSsYWlqfYBFiZuCo7impJWHg0tfcZeQxsCu1rGjg3hxTJJij4GXk3mkfZaplcCpoqt/qpGOnarVr4+xxN2Pt7/Kmq2qo5eUkLSZlaans5aoqLq/pazHlXCLccOnjZCmrrGxhJOmqbaOv56SmbWnmay7wHmK3o+mlZGrs7SUr7KVqaatj6q9lY7AkZWsjqiappekrnivv5Sfe6m2n6ytpI6trJKEhbWzxb+pvK+rvquhv4m14MaKpqGTlauhmqKfsLKYsrWUxqRwq4Wtqb7CwHmnuryelIfJkZXVkqjHn7OZs6GNmKu6p6K5v6uguZKyp6udnailiLmxwrytofSekpW9cLaOY2dPcIOVzqaOx5O+lq12k6WqgKDYln6aqn69fYqLhXlJWH95opWsy8iznICtbqiOxpaFuruXoYd5U4RybGp3V2N5SH2BYGePZllwWox6eI5LVHN1hp6MbKZkk3x3pKHFmq+Hm6jQt9yOWYqIjYNxuryhu4+TflFJfWBkkpyqrp7Nin5pe4iHnoSqdYrEwaSUoLfBsZx/spuRmLy3sIqZi72JsaWjnZ7Oh4ymq5qHjbSrkKmvsKmEgZyUhp60sKabrLm3uoGysqKJuNe9s4qlrJezkbB6w6rJdZmisLzEvL/FqI63gKvQsre1ob2fjqqns4iCzJaTrsOsnpWrupyOeZmGgKeyq46Wh8fCub3MXqWhn6LBm5StooGbmtmrjpyPsr2Yps+Fz5KquqCOrKWMgtK61oGPrJmAtLaXxbW2t5u4oJOuqqKwdrm0nKW7s7mPkKjKlZeQqIzjo8S9lJXApqCPpbCVoYejz4i1v8CZtq6yubOnfqqYj5aYmJeYuZWvrKecp3xtnKWZeHS1kbCbuqCJr6yXerPAj469snjMh5aTl5Fxb2h3U3lFbnZScU9rck18iZNUiXlebGpzRFN6VEhah1yFi7OamsWivbGIa7SNV3Vef0eGnqqViZTRgntmjl5uTZKnw5yqkappWHiHTFxjxqSSxWy8s8pgr6ismWC7sox8jrm9hLG1l6SipZidcq6ykKWfmJGCr6+utZOa5rS/1at6vcG8jqy2kcTDr6+IsN+Fi5WvkJWmprCrqZqYsMW3naO2oo+XipKglY2coLaqYaudiJ+ht7GGpKCyjciFrJCSnqKOsY2kon+tz72+uLumz4N7l8WDp6qfvJespq9xeruWdribmaLXo6Ocs5GKicuPo52koJG2l7yguJ5/fKZ0rIbVmrW2faDAoM2WxKedopykrpK5s6GtpJ2Dh8aTraWltL2jt5+wgcOQla2BlnSdwIOI1aursrK/tMqWn56Xq5KKf8+ytIt6q9yKa5iXmYqSuKSgjqeokcjHrbmgvqGUqaCmoY+Rmahoe5qQYnSZcn6PbZGpeIx7hq+bfHWFZoqPoHWqi4GMg2PEj7G/fouGysuun6S2gG5qqJFnSIqjvbq1sXt3cX+DXWOrrr6ts6mXVmNaZnRcjaCkq8TAobS6uJebpZeorMyUuc+Kh5fgiaKspKGcrr6ipq6RnZmer5aos3m2vJKPsYvCoI+QwJyXp6a8r6amyYawlKmYisHbl6+qpKe6pol8sZeUqJ64qriyv5iXm4emi72ZqsqimpqwhKqtoZuQspyi2JqmiZXdh5eym4ivoLW5y7qjrrGlsZCWpIqopoGlxI2An5O7wsy4oJ+RvoiYk5imt4O5laqqoYyQtK3Gv56eloR+eJq6jKuUlpapqrHHt7KZh5uVgpaw1a2Pkqqev6+bipp/qqKitLKmv5yuvqa+oK+Xgbydi4eVrqyQ2Ku+sLCTtpC8xbnCo5uZe1Vcwbm0edmTmrGqv5nDkp6ticGxgt7VosmksGXIk8ieg6+1hqWGuJSuzI2PgqG0pIGFqZyckKexmXu5o5a+oKp/lbqqnY3HoJNxmHF4pHJyiWugmoqYtKyYcVd4Z3lsYbmIoJ6UgYNhYXJtfHOevLO6spGy1MaYpJGekpW9ssm4oKm8j8Kmw5qSx7qQpo6WyK6JmZ+qfpOepp6qe63Yz5C1qKvAnpuFf7HKyryAm4jVn5u1qdOooaCJsLqanYzHkZSsvryOsYyXn4uKr6CAp6mVsqKXy7mslp2SeJervXZxtLOvt6q1so6NrcyhvMSrmpOnwJCpoJ6ur5d5orGbqaqfka2Fr5upr6SioaK0qb+3tZ2dusCHzLCrrLiEqXu8xZaVoq2XnZGmssKskKyWr7uNkb7Clrqyt6ekuLan07i7lYSNn4+snKS7rInUp6q9kY6Fzn5+dcDYkK3Gup/Bva21tqGSwq7Xn2aMlJa2m4uspaWtp8exhIqiwI+enZW1yJiqh6GcrJjPybqttq67waSrxouolJKZpsK8wsKKmKSMrJOkn62uqsSqnanGsaSXqrKdubZ2X3F1dHlZprSskZ/Iont9ZZhuSmOoma63p6ZzS2hog2tqs76XqK3NsKe1hayltKyKvprYoICupqOfl3Gdn76JiJmEnXKhy4nBoaF8ss+lrYa9voSWxMeVkpuumrSBycmgcqe7wImLl6uuj5J7o6i2qpq7qL2evI+VtpNcsaqIyZ6ncrubtrm1k8iulKaXsrWbqqSagae13auXrI6wiYeZk6GStIG/s7iArLqyxcSwnK3Js8uxwIm1pZiAuILRn6LAtZaai6alk6esjdqol7ubj8Scs7SEkriztXuljXC1pZSApZ6kpJqovZR+naqjvOXCq6eZrbahbqPWiaGzsKp1nJOpsq+lkIiGmo+5r9yukpCopaerxKC1u5akl5d9iWWhfa2vs3p+j4K1sKC3oY6owqWisq6oltDLr6m+oKOYpryfwaWntZrBk9KZmJmdxqy+rNSrx82JgH2KhpGjraPZssbJqZSsdMKcnWJWfG+IkHOgi7Wzn61/YVySSjq3tKvMr5itbll5ZHKCbJnBoMeck5C4gKSxydezobGGopu8jqWneq2mnJaMmceyfIBir4y/raeNscqbs6u0kKGSi6/Ej4Oppc2rjaSkhaqrsqaouZWgqq6ilbDAqIm3prl/i4WojLSQo719sZO0p6Gkj5WgoJmLlpGzl5vDlZOXoouOr6zCuKiut76dia2qn6WwhZenu627mZeooqmgq5mGp6yoYI62ja6+wZaUs47CfKy8op+ij6iUk5inkpq1jaubobq4oqmcpZrGfr6qxbXJm6CotZKi0Naqr7zAk6yjfKHgspa2pLaOn53Mj5bNn7nElZOjnr+nsb2PsaqCt8Kf186P2qGGp3t7lX1KblBxhmtkZVmIjqV+u6SisJq6cI2ih6aK2KifsI2sebKovpOwqJWWiqx+qamdnX+DlZa4xY+4tI2hwZChkseWqKqZi4i7hpS9iqeLdVhtY1WRoqHTvKCPWl1xc3M+j7G9n32vkIhnaG2OQI19pbHKkZWao8GcwL6Sd5ihj4TDqK6zrp6YqqG0nKzBl7iblK+/rceR4bm/jbOjxp6L2IilwrOpqbjDfoeqqqCug5eciKSm0Z+zvZGlp5mvpeGOvbm3oajGorCwqJGul6jJmq2Do2Wou5+WtpqdpZuinXu9tJmbvKKamsSoqZm4hra1w7K2fp+ftqGEo4SzsI+suL2wnpGfkI60lKS0p4GShbqsnJ/Lq5GemazLnKOcjK6Jv4RojI6vd4nAk4yusLF4nrXYsNaJmr6IlLq3k7yMsIKggbjDqofFqpKRpbyvxouW0q7IxMqPn6KDkbqdqJ+ht6yKkHaQo6Koqqtif2h9jnNVilJqgoevtLaxnKe4voWmuo3mpqKRnICPnnStuZqsmZy3jK3Gl7KThZCmlqSco7mUiY2ts5a8p4i2mqaWk8SoqZC2vJ9cf2xUf2hOsZuiq6GZg12EVlVQRFij1Iyupq2tXoSJTWVmi5mcnYdxg7yWi8m6q72fo6Wbuoq5pq3FpJWChqG0iciQi6ym06x8sKRqvq+Ps6evo4eAbZenh4iesq2siIigm72wm6S0kLd8z7WYkqSfsK2Fl3u+u7+ylKucqsSrr6CtqrK3nq6xg458o5aIjqm0tZqtppulrJuLm4GjmK6OmZu4mpe2srfIqYqIetGfpJuCxpfArbmRqqGdr7ejab26kbO8s53EmY+Nq7iPrpaUr6iih6qisJDEoLyOk8KUm8CZwKSbqruLsaOik6WjlYaSl6iVt7qo0rG5tMavsqLRnnajloTGvY+ju5mppoyjq8alqaPAvIynpqKi456Lq8OaoYyYnoqhyWuZnYXNlK2pp4yRlZmdi7mDnJGXfn+3tbumem6ppMePiciTjcOOypO4iK7FgIehmYyrpbWTua2huq6lw7bEuJC1k3yBaIdaWqeWt6B8oot1XX1NfGJ+sZ2wt46Dc2ViiXiRfaKQm7XFxaWopn+krrmcoorCl6aktMK4lbW/u4l9rZSQyMivnLuwsLGxf8O5kqu6bZZxg5qKqJuUgYfXhoiIk8emspWomMeWtbaknKijqaerzYitt7qldqiWnrfNv3+un7q6lbevqK+5rKeau4msZsGgvpyk23mot6qvybDCs7Go3r3Ti7q6rYnSpaWbi5S4ycaen8SPjZu0cseGn4p0pa+7qZ5+d7OVq5OTbK63hrS3srexsISTebyvp5Rtr7lyprSgqoCMpo6TgMCMtr2jv3mli82hnpiuscydr6qwlHeal36bppq5q3yHpquMos2ke6OhpqDFzYJ4npSfjJ1fk6eZgqmVgYW1bqqef7GXf7aajYTCtH6Kk56ztoGTc6CKlIhhhnFxcH1PZ19namtzYl5ta2lkdZB6dlaQYpago62ZoKG0nKVl05xidlRyYnWOoI+xlrW0a3VchJ1egZh/tJCPoXxJc1pwVYiNm7nCrJTEq566rKOrqX+cicjCvaCcq6G4opxxkaCdptyksYqduoa4qrDJoaywvZWytK+NlJOqqLmslZm1taeoqqGdqqOJrr93scaFwZqWxdKVsq64sYe3oojKpJi7qaOimpmSlbSbrbm0kpySnruw05qeu4O7wIGps7uZuqmMiJeYW7fSv7aMlZOrj7OWtqqoqa3avKGYmLuZnZ21rpa2oLmkvZGiiptrt7KhhrewmHd/a4Opcqqyoc22abC1tJqspbm/maWTmLKXv4mqn6+gpbe+j6++ocOxkK+or6Z8UWBlZlmlqHyfrZ2Hg5utoLSP2Zqs4b9zvbCjr4zIs5mJiKyWgLC2npGuvLGdnJujxrPMsrmIzJaIyGYwgWZoemByRnBLUVJLXmdYRFFohXN9aII+doh1XpB9XWt4hrW7x5mxlKq5jYF/cHpdc3ZwiIKru6uSd5lnX1OWkGfAoMa7kLOQeW1NfYKNpHyMqZ2YsoqpfLS+w5q8nKObwo2LqqGXmo+rr6OZipqVpK5zsH+okMu7ssytqKWps3rFpKfWiJenkrmVoKDNz8uZnqCGjKfElsyxppmvzJicpsuewJ61k7KqqMi0qMmfnom6kaC6k7a5jpV/wZpykL2Kq5t5qZyfoJecrLSlxLvJqqm8tL2Y1K6Uqp+ffpHBrMyxtcXChZG0g5iXuIKRn6nixKaZvJSGxYygo6OWkpG8e3a+rHCmuI+pl8h6i2B3fWahmIt6fq+EoHBwqoKBpp6S2W6ito++oazVupdiWHR4inJpTYipn62ks6DEtKOgpraYqJqhtcjVnZabv86ni5eEpLKjp6atsJWAkZiVppnAiauBopjLppxsYI9PbIZsXXlsa2BceoZEgXpuhj9uZm11ZlR3S1tXY26aVb2VhJjFicyHpIuqV2t+mH6HcoivlauzhbBPZXZWh1p6nKSkkvepgYtxeolqcqmropW/coqJp3dzm3+zkb+5s665gKezvZ/SxZ6SbaSlnZebtZqig5+Qq864e7+/vqGhjp99nanKgZ/FtsfHrrDEta+OiqicnrWQs7jDr6KUur+njKuxkLp5qoqlxqmiir6VzaWvkrq5nXKVqrt2lK/A3cW3mcvBt655pNahraSMs5azice9taSfvaCruHmRn9qfm6yonpq3gK+TiqBzoY+ihtKdubi0pXRaYY2zxYBRsqanhV90jpmgpYVhYmtLR15kUk9hPk1QQlU/ZX+9u6XCpL60tpy6xJ2glpN5RXucsrWmiTWEqbGjm8bJtH2Pi425mZefnZrWq5eYnqmjyIJ/hqF/iYWpx7CSp7Ckln2wr6NtqLjIeaTAe2uKZ1VQfkpni4xYXGhedY9ofWabdm5rcWdDdVhVbUiPZmx8r46unLi9xX6qg1pqb251ZW2buaGplK6aenZWXnhljL2ynZWnwGxRamF0TKapobqRnaicn2vCzrCSjI6omKeesaeiu5edoXult6O4mbmdqIikvomdjaiR5Kq/zIHAibajlaqvsr2Jk6acnLmpuKTWm6qakaiPfL+7soiXkJiSpJ2vnqqevZfJxp2qsbi2n62LkISpzIqetLm6oauklK+9l3ahpJmsknrXhcaErZabobKlwKa1pMGtgriX1KC/e5iguZ+RnsKwpbibmpyTuauZloWuppNzVpGEsKpxP46Jk7d8m6er3JLJbXNooodpjUR2il6AaWVMZnthrMmdnLGueJmcmpaDsLp/lG+3q6ufc7FqWaSshYq99MGTir2EndCMoJWdgLi8u5+xgaa7qqWrtIq+nKSjqZax2rigk8GnvICXsKuPk5pTWmJ9XYSBY4mPZWRibVl3V18+g2laf3ONVXGMkTxwYYVWip6hk7qnqLDKr6iMZE2MeltuqqipscGmnWR+S3R5RpWfnYqTjMtEc2uShlFqgcSQwLGzwKmimpybnLK6k4qXw4W5k7Kdu8qrrqKeopWhxbnqmqG2fqu4w42SyayKpqKSpn6SzcWNla+kpKSXnJyoisB3fKy0tbOVk5uRwKu/inOprbWxlbyXtLWzpZ27tp6Li6fAqZqEroy1sbK2tqXHfIvBmYqHp7F5kLp6m6iHpamBpqigkbGIo8+Rjn62oarSoKimk7WlmLmqxLqaqZCxdKu3lKSoqWZysZejblCSwJ2we2aLuceusX+zr72kva2fnpuUi4yqrsCRm6C1t7K/mcnFqa/Isp+5eU5crKabvZ+Zg4a+sbWAqrO4jby2jdOpopO+r6+el42nmbqbrKGqoaeBtreZg5yijKKay4G0zr2vjJd/sJdmXGBWcVhBWXxahoN2eFxta35UW1eLi0RxToRYcGFdTm9rkYeVv26fnMGWtre9mDymfHF6VnWNzKDRt4R3R1laX1l8n7O/h6ulemNuVnBoX56GxMqVp4iKpIyUmo6mnpGlv6ifpa2VksFemJmydqTHf6+Uj925oLtzhaeapZOuv5Smh5anhLeQqquenJGRp8mdzpupjZmwxJKojMapnpyWwbSBe7C0prKdocCscKOirbCsz42xyZOpuYOae6eonJKataSwiKSqkLirrLGZpJekgY+gpb6+j6+wo6LSj7blnJK+iI5yq7O/oLqwy7WKuqbCq72hrK+9uYkyjbukl3FgqZSNyVRgvbyxpq7Esb+Kyr2QnnuBqZ2qe6uywaqcnq2tpb6GfY6QsLycp2NvoL+WmJup4mdXwJibkMydvLSVk6e3oKKxl6acv7isiMGLg4zFi3ias8uNpXaxvbOipJSzgZKPxNOIsp2oY3Old39qi3yGjJ5vjoKPWHVuloGcdT5wdq+Ng1F3e5B2maKvpLqLwamIuaqLrpaAjXh4eJqhjougrXZzn2l9V3NpnqexrXWIvnBlen9jpJW3tpbDo4e8oMmxhKKhfpPTkaCizXWmtKhvi7mgqKuupr952ta+qJmgapOsiZjUlq/TwLO1nqOYf5Cll7mQkJ95g6qdt5mmyJaanbujtM2ml8CVr56nqLudypV9pZzAurKSpaOcx42pk5Wjnqybermrq42an7d9prXCupWPtY6koMCmoHGThrGeu4Oru5yrpomTbrOfibyWs623p5+Xloy3l7y6pryzob+NSIKcw6lka6m/t4tcc4C1mp2lqnu8qal8h5u0ppW/j6PXqZmCnYOIgZChmZ24vZmyrZJtRKtvqqSOoH5cQ5jG0sjCY7+ftoKHqZWaqK6FrLWmlqOYrYnBnJy5iKLfl7vGrJW1q3GWdIXBqqF+o4WZm5qMgbedusevr4fCrLWevqeEtb6+vanGl59yncGdnKSrrrGjsrGLr5iGvaq9m7Kij7uVooWzn7avorWnkrmfuJuzo6algaqT08Cg6aqfeKi4nteTw4zKw5aSfoTByKCfhLabwqe6nXOur66ee7J4v9OpqquesLeai7KLko+pu4+QoaKbwYfFvc2dfbfWlZWWnKim0bTHw52ohb3MnMOEoLCGt7ekkriYlrh+mYuUvLGusJCuiI6sj7OlroGXsMqNtseNs5KfmH7KtK2mmJaVmLOjjqekppWNuYeei3aTsbWXlY6/nrG7qpi9n56KlrO0qXt8laJ5rJeap1msmZKPfVGhoH2CVZOesbyTuIxjWWxkk4hvbnxxb5KIbqNfecCersGgk5S0ipiprIPGeGNupLiIn79eY5G8sJe1eZ+pzpyOvYKUjrWgndCkvLGnpb+7dcCzwIS2xa/TsbyUl8aum7K/o7a1nKqkfsC/4ca4qJyvjbqRn7d0wIfFtJmYlqG9pHaKvb+2lMCIxsJ+wpK6mqLAg7h/uZa4mYish8Khr7WwspKVlHrFmcWIq5e0mKDQnsqEq9GOup6xsqykn8SYzpyql6mnlIO8m4emn7G/hKanvqSZureztpy4hK6tlJynkKWalZmbvpnE0tR1kJPAxqzGgJ2ut5aWooyhp6uwqpaAmKHntNKgiLmancOXhqG8hLWzm7HSuLamxbnCyKWvmqmoipi8nprSuoiXyZCucLHJiYyHuseM1HCgoJ66kbagxoOJq4W9sK2LibuilauNk51+2sbOmrGKsY6roq2KsJivr2h4bZGRrYRli7yOf4CIdI22oKp2cVuOXVk4aVxqY5RbaWpNZVmJl8ychZ6ljaOpjLaZrICHUUKKi59riEONqq2qjsaus6SIubWg0ZyGp8WLpcNvv56mgpKkt49/kK2ihqKgqsqfla2Hybu+tdizvaShjaG0nbrOdoePh5+qwaF2ubSow36vro6BkHWmjL2apZSRp7rIsoCnrZ6nh7Gqlaq7rqGgrX2gj6G1r5OMxb+eu86gpbHEmJSmtnGcrbq4rKSSqs6wpLKvtGqTqaHRfqmlrrKiuaGLp6K2n42wuKqQk4GqfqaKsqLCkWqhjrel26Z6iIiMpLCgmIvTsJ+vr4Cmg6uyvc2VmcCZs6iihX+cqZ6ylpGLkZ+kqJPMua+vi62uiIuYnZKSwICMyYvEkKmZqY2KmtW8u4eNr5qsxZuSmbKamaGUo62vmnOktMW2qpOLl5KsnK2bqJqsl5ywr5uYna1jppa+oKGIhGyVu5ltco+1qot7aIu1j5ymsGtwT4Rhl5WTWqd8h29wh3SGs5CArrK6lpmxonSdu6lqdlqvbVFwX56Xubm1xaGnjZG6WbSTr3CssLqigpm0lrOXvKazfqiKi3a/jcajhr2AlpnDq5eEk6eae4Sjppq8s6mZsa/ErqGSp4KVi6i1o7WGkbavmburuqaVs3i6rnmem3ymnqmQgbi2m4qWw8C+qpOegqC3u3ByirKZn4Clk5mYg62Yk3iZsKmcl46osLeivaCxtpintHbArobNurGqtJGXo2qEtJ2ko6iuqouvmquYm56OkLOMt2qfsnKNoouQq5ukmqXKwa7Gt7eruKG4joiyocGJk695gaGNmpmRnKKi0s6rmpCGs6imebq4tqq9lqGqr9G5qZe4r5i4zHC/rJ6zf6G1v6Clxa6Qx4h4s22dtLmZmZ6fwn6jl6iQgLWZmomunrSotL2fqoHBlqCIjI6anLytd3JgvpWBUYalprKof1RjlZWhbMDJlKSVsaez1amxm6G+1JGHsKSDsNGtpLuzi7x3rMSLflufwKCZcqa3o7CJfIvAwaSWsb/I09yioqWllqCir5/XqZqZmbKToYK+wn6PuojEnrWsopKivK2jnpq8iby1w5uKkI6nhWiUtaOkqYOa2rPPnLl3nqW3mryUjbCLnHqKxYvY4K2RgqClkqWky5nTlrHCkrmgsayEvo2bnIebqbSsmqalnK6wmp+agran0qCyoqZ1kJ2irsyhodHTx5Bkqpapzt2po760oJeinLiZpJmHtqaXrqmatJmnoLCoicDBobmgtpyUlcK5p7Kyxp2ZvYKWtqizjbG0nq+wrr+bk4qdspF+haSPsri0mKTZg6+to6WorK6UmXOhpZSKzpmGrribpMSMlLzCj3mSnJejhJy7p6ODpoqfkZuqlLWap568pcS+moCfk6+tbJ7mwJ3LttSZq7Ofkp5YeK/fmE5XbrDAcmNciYm5p7OVrYWGrrKVoHacsJyak7COj52LgMaeuLubnJivkImasaAWfZydu8CdlJ+ImLWHtsefycG4p36Xh6KVkrmfprHGq5+or5ehsJigl42Bx4+9pZalebd9q6CdmJXIrJR3saSaipeQmaePq4yzlH+2uLuljZqmqZ3ho46olqO6i6uKsYx8lZmKprGnkJeogHWEf9iNl9OmiZCijJmLp6d9kMK2pLCviY21u6OwkaegobGRi6+qkaaetpuFpLSkubiduK2PoKupvYyufbCzlrOrvKC/hpG2jYGhkpODoMafhZy3kbGLsM2ZibSsvZOvr6KnwYfClZ+oqZehl7GmqpyYlaW9oLWZrMPdeqWzlqGdmbOgwrGsuby+qMSklaeap5a+lMKYgbR9n5yviWugpay7kaewu5vAqKmlmMTCtIyDf5p5pLuZg7KQqYzCfpesm5zBr8Rws7G41q13XI+7rqNmS4e7mZd5Vq60fqm1oMK3dqjVsY2PiIWXjrCttoiKoK7JoLyKra2ufamoqqWmdW6krqibqIKTf8nRs7GZro2cu7iwmMK6m5WhoKWiu6d+kJ3hnK+KuILDq5yAnHeLnYqgxJWsmJ2dnuGWiJKuuqSxtLa9o7vCqLCZrdJ3waSunrCUrW/IkZ/BuqK9za6crZXQlYerrKmhu4vQqJqnl4iWgLykucmeopiNwoKqpciKl6mjjo2lmbDAtaW8lbmpibLTga+Emr3Ci8+piZKbupa6mqzGlpaU1KGlqL2XqbGPupOLt6evrI2rlaejla+UkKWurqyQqobFsbGnm6Crk4HNoa63w42bodGQz8N7l8W1l7h8uZ6StaaQpMKktpajwK+WpJWyjaW/p7iSqZG0qKyFqrbCtcnI0cSxmJeXk8XSuaGttJeyjpunpMmPlpmZuJHNo7ydrryuq6SWlZqftK2baILAl2Nco5CHf0aZabOsiFGy36CgkVArcUFaWmKBYk5NiC1Ua3Frdn90kZ7Hs5erqpuVu5+2uLBDebu5oKpnZ3yIrYizq8SjnrB1l4Czea+tqaKbmJ2qp6Ogtrm5r7S9ucyZoaulyZuFlLeXtL+umJRzlHiKqayyrc+54IazqqvMtJurn8KyhYW5m7WTlLagwrWbj6G4qLR52aiYk4OwoJKck46im5yrk7qnxJi1mZGzpJqfqH6rrHmyuKqAlXiBwHGgjpqFvLy2sKOqxKi7r5O6mtC4zrd8mJu2i6efstGZzJeC2biSunupkZ/SrMWvr5yxl5uqtqSaq559q4GrnI+PyrqglZ+nmbnCpImKxKiImq2kpJuqlIyvh6q7u8G+uHy0qoqHjJrRob+vrLe6fIColcOcfZerxruql62Lrs3Fx7DRuZC7qJ2xsIzDlqipjseDkIuuq9WJi7LVk4e9n9KeqLZ/p7/Zf3mOsGt2gJekh31plMiuiXxzldqVqKxxMFpmdWRjU3dPfnpoXWpnNpCzvby0ipKyrZa4nr+rrKN4lWhzfFp7Yl+pjIGIzoCkmqqlnI2hqLiZpa2blqWutqKptrbEra2xn6uqmKCLnYSkp5Kpnpanu76hx6KjrLfNlbi4t8e/vJq7xcayY6rBi56tobeDloC1j792qK7Nr6yomnygfKSktJelrLW5qLGvucSXrJq5nb+XhaOzybmetLmQmo+gsrBxj56ni7uXor+co4W5uo+ysJitmdC8o7KhuICSk6LMtaeOjKq5l42nlKeuoJ2etqjQsaGPjKPXu8WpqJJ6oYW+saN8fLSgtY3Bmbh7oJiPv6SSnsCkg5Wgk6mgw6mpqo6crsabxLusuLaUsqCsooWZmbautcbHjp6ziKivkbeIlpmkbrWis7SuhZauycWgsKKIn6+lo42TosialqKv3IKolq+qvpqOvKiiv6y5x4p2o7d+pZ5+nqCiyLWLlIuWsp+tw6mmxHqapZyweHahs3ygorKhqZKkgLyvyLCdj7i4vW6dsqKgaXd5bXC4t47fqoOjgcqkpG2mp6Cns62o2cuemcmdoHySr6SwpGmcq6SRmJ6csMK5wXultbO4zZWti4GXorSPrKeRtLCSmaDIloahoLqws6N7vZedprOhqqWQrZOutbiyn6OEsJ2EyJyXeca9iquYfLyVlJumoYapisSKkqqUlqXVpb+jjbKiw8OXro7Zp7qspI68gK6voY9nk5+4maKppsSVwq+knoWrt56kyJtyzMSjtpa1jYeHnYGEm52yraydrLmetpyufn6ak5ims7Ofo2uWgpa2tsCyjLOMm6jFnJKlk5KOuretd5SStc6Du3ejo52vo4+shKWtuKWzk7ColZeIltHBe67CrKCsjayBqqSvupXHjbWSn9SiUHuZj7eLpcqsl6CaiZyx1cTHfqCbl66jr5Cu1q2UsZOEoaeCf7CUsbi4m4yfqqevnaaO27KUqZOysLypzJ2cy6eboIKwuJqEqne6k6empHWtubKzcoeRwqKduKSFwKS9n7aYl+qFmZm5h36ngdbFstW0vKTDuYaNu6SzlXWirYauxMeLv5+riay6qpt5sK2GrqxoxtnDpZuErsKsvqy4sMWPqcybsZOdnIaDpq+cpKijiKCvtLifqZClmKzQj72irrekk62NvqKp5KCYnpScupmDroSKtrKVx8+cwY+bmJ+wu5R7kq2rzpyaobOOsH2foMORxqzRf4y8q4qhynztnrm3oYidjbW3nI+qpIU/jl1Pj51gb52dfW6MlKmtvnBjfJqebml4dbSwkGaisLSiga69sL2EnIqVtMZ6q8mhrY+0zbSpjLOYo7hnvbCGy+JsnLPTcFyGkqJURpO2l5S5qp55lOiHn5apnYyot6qlobeNrLWXpZyTgqCcmarDlo23uYSdgK5ljoCzopulxs6EqZuqvLd9rqKw45avm5+zpoG1rqWMisKDgYugwKCwp4+5nrKxlK2qqYygmLmrtruIwqLJiIKMhoe3obidgpXKk7vLr621xYPZhLe5wcy5uMCxlr2im4mdoKyXtaTCxrLJsq2zpKi4vqa5poqLq7R1e5+TmoWejqCelo6WyrWSv8+Zt56ut6KlvsivycXIq8CikMaki6yFv5ishaauntm3tqCqf7uipKOLl5u2wM7Pi4GxuYOdzbGdrNyHo7Om0dmYjrusor2lwruas6egap2yi5Cdp7a2t7qSpn+OqaCHo5qyoa2/xbt+VnJoXHhIQUZfX0x/UXParIBrX3uoo2RgaKqmkWxVhqrOntOgq6aYZ36ft5CehJuNq6ees5vBzcGOnImFYo+AToWuWIejnGpqbnNWjnuGncmTwXBTs6eHwqWXoo61hZOYvLyvrn2EjJyijKSZg6SImLZ/oKCos4eyq7KMobeipqXMtYHX7pSuq5CVtKGUy7Hax7SZf5KwjKGnpMJ/r4KyqpWxmbO9nLeehba/oorPtsCDlpC0p3Oun6Swr8GFpZeTq56dpqKyo7qpqJ/Glsd9tcKfsMi2n8a6r7actaCkoqmuvKqmkb20ormTsKGlqpaRnKmdma6nsI3W1peOqna/jqKElpKg1Z6krK6cyZS3mKyipbKllp3ZuMG7nY610cTIlKi4pMiilbekoZ+graGKv7jG14SuwZibleqRxdLCmLedmJaNkpeiyZCfjo6hkJCdsJx9u7+Dl3+ij6O4qqyuuLK5rqCWlqOkcoBtemlob3F0hISahY6Vh4vNk1J4m6tzQWPLq39Qg3WhrrJ1kbiYjIykjbG1saiafpi2lq2js6GagY+pfVaapj+krn+Gp5a4l5ytmbaLtqW3mHGBj4h+qaeTiIullcKrsaW3qox8mJeiobWHtcWymaGenKSNstKak4+tn4ihpZvQgMaQ06y1qqWsuKiZvoqvoqOlkHKNvaGdm6mqrbWwj6Gkqaiol76bq5mmfY/GqsanoraaoZGJfYHDqdKtpJt8fLKmpnm6m6+5jYe2vLmppavAzouQlbebkri1kLm6i5GEvLOrk5mZkKeEnq6Zjq2Qus+pkXi9oJ6oraSckbqwtZWUiqy7fK2SwLCkk8acm7HBkK6VwJabw5GJsM9gx5Krs69vvdrHxLSXn7K3kpmeto6jj6epl4yTi5GaqpZ/qKWasIaEpqeTn57EspO+vZabrKPEmqW+fK+PxqyYtINxqaC20cijnZiEjaOjh6iuoZCgo7i4r42jb5qklVV1oaenqVODrLl5f2SikLaKqZO1mKqQw8SmkquoqrC1tpmVkYyaq5SRspV0sqZGY9RmopSnwnKTjpB7kX2ts6ZWo3B+r52Fk5m2frGQvKethqqJwJm0ypuWv5i6jJaUoriZmargoYmXkIWsmr/ElIPLiZauuZeVtZq1uKqvn6ekp7V2m46OpKGzr6OblaOPoaupupCKn2y+jKKfob2Er7KygMShkqZzm6yypKG70qKkgp+ripyXoZOborPUlJ+Om5CUrKeciq2Gi3Wxu4a6ub2EtNOPvbqUpprKsZSGsamosZ6TwqGinY6yqaeImcmLt3Zt2am4r6COkp2Sr5iSv67MtKLIlJ6ZwYp4hZNzsqyQsaeltae4t8umoLqY5p6fl62hrp+8zc6Tm6OT0bCrs4zApLKXj6OOn5PFk6aqkcynm5mYlJSSy6KdhMrBmq+nkLhxpIuKkcCHuaRum8SkwJ7R0cGVcLa5wLKeZWmtvFxxgKislmZaqYyysYykqZ6Zn6yYsbCxnoqWqZiMnJGkcrWdxNGZf628SbC2X3q2moNfp2KOdm5bqcGneISLaqilqZadysahlJyfo76XsIy9hJKgoqWbmruQp5KlvbOip823mbeYn4ati+2ftrGrz5qeh6CUqKOyrZWin4eWfJaqs5e9uLKvvLupl6WBlLiefJm2oKTPsYewnaSYlcCwnpWqlY2Jx6fWj6GqmLzKpa2QpN92mLGhs4O304C3jKmlu8G+yXu/ir12qpiprpK9k6G+oJ2gsqqioZm/oruwpo3GnK6jh7OLo5uBtbedqpi2wLnDkJSnfHqeiZ6hnauXsXWjqZaGo7qOrJ+Ao47CkofMttOkrK2Uuq7GsIikt6THo3tzsJl+pZF01JqwqpyEpq+/p4+Am8+jsrueoIOdtYGsiZuegqB5oJXJmo+ghKe1kqi2nW90lYB2iI9VgoKaSWC6knCOcV5qp6FtkHumjXKAeo6wjsien7fByYmPoKChecyds6y/y5O8v4aGkoabm1+Qe4KcuFaXq5ynkZiRq6ejl4yqr3aktKTWkYCcuaatn6+imoScpKOOr42aroPNxratmo+RrLinmJJgoJ6PiZ6kqISXprqFjqyRjZiBl6jfvdGVfLjNgpyqpraukNKmsqywoKKPm6upkai6eJ+rjpK9b6iyo5i6rKuqzZlpnbGLonqSwpS7laLBssTDvaShrs2VobeQy8aqt6vZcJzDq6KupbOFpaPLpbKxdLWYtKdyp7GusKqVfreOoJOMkZ64gLKzo4yfk6qxerrTv6mys864kaSfcrPJutTgwKivr6PFmaa4m5uQkn2bn86Ixs6fm6imlJ+ntovcsZaaqpa2u4KUlbSloK2arKWGrq29qbtxfYyQpKeitn2vq7aSraCnna1ugbGqwYim2aTJuY9JcHFebXNuWoGBUlpTrr+vyIWmb5mjpGOKr8WNfVOSmsa3rayKpsaOj5Ofr4bLnZeKq7C1k6PKqb+ykaN2fapKtalTW8mTj2JzmYWfmpiPmIypiHBxnaKSqp7ki6eZk56PpJxslqW4vqKprKK8rpmYkn+ItqLRwcSZyJadpZ+onqWuuqSXlqKmsaLBvYydx4a0nrPUjLHWoIO8wtfExu16va2qtbKsxX+NoqbAhKa+nqOoioTdxYZ7r5OtppB/r7DGip2hn6e2ksyRspmWprq9nJSRoLexsZ3Pnm68brijj4p3qaOguq2dt5bDoJuwwql0rLKapqunpG2AlYp6p5Kfn7qzjKCUmLiboZ+UsYiWl4/KjbJ9fpzCo8TYaZqXl7eyrZLXm53mpJKwo5StscmnkraDqoWNjaSrvL6orKCljZeqfK2lp5PJlYiyrNWaxZyjqoyjsoihj7SJvpfFoZ6fkIdwqbSfvbtxeWlxXHuBQH90dISwksybrothXlenjZqKjLiFiV9tjKDFfpaZeYmcoLRzyp6coJCtnqyYxX64s3ymwnJqQqOlenebdJyw115EikxjZH91fZ2omb6ShJG7jreUuKOJnbeqqsDFq5qNp5qSpaepsbGoi6Wtp6GcjaapupbIkpa1gnuWtZegopGUqpGzr8umurySeYWript/nI+Yv4GDko+krKSJkrqxuqm8lbGxlrS72bCxooKuiKmlx8OVkZKDp45uua1pwKWUosF5pOCroLSqyqaevoOtrKm6m36osc3OaJXquM+OpH9vWXRfclxbaG5lcGp/fZB7hmKTVYiNlHBlfZF/jFdhdXlOb4J2fqOmn5ZhterVmIKkt8LCo6Rif6hEeWOWfZSfjq+iqXiBflNwaF+PuYKtnbPKjZGYelOFeHE9mZ+/loa3nKG6ta99sqSRmKW+rpyle8m2kcfBlJGqi8hwgYW7oMGac4WofaZ7y6LTjIyreNGQkY2qpEl8xpKAWnCym6pgbpWjhoezZrCwvrq5nXCPnKSVuKSOvY+PopuZzorGnYSyrpekmLGyj5uxd5+Qx6GlnamnroWtraB9mrKSmbGQnoawp6+2mLC4r42cscmhj5Cmn6CCrru0oIaFlX6KvImAv5mfuZKmzmmevp57ssuimKSXpKeyd6ivj6iCxouTl4eTkr6Ok5ivlLGDkXGrjq61lbS4ur6nop21x7OZjKKDk62Cs4m7tZCki5qNrZefsY5wrJG4gLamqtK5rK+2pX/FlqWLmpC6qIdzOXhXa3WFY455RXdcaIJ0blNuampzc4RVR1yEd0mVZHFhdYCOcWi+hpO6k6+jl86xtJiUiYdsf3NeWm1ZhIy3uq+wpK5od3tnW01fYMexmbKMnXeNTHlpTlWcdpi2yL+PkLOFpL+4tpG2n6KxnqaKi8aKiqCJlsaKk6+GkKCkp6mze7Kqi7Kjmo68kp+fxpeYsYOrpWt2XKybbWdtirl0fl19st+gsJmRnJ+3vbNshaunwbfDhJvCrKizuaWyo4e2saygv5XYsqS0lZuSh4metbrNus2pjLKPorGjx8CmiLuFxqtuyI6unZ+hs5DAmqtftIOTmqGaiMidmcGVmMrSvYaQmq+4ybiPnaSuloilj6DToKW9n8awxoiHrq+lyp2iuKqVqoWnsJ+dn5azwK6qm5C2kYqs142XwaGwqYi5nr6QpaOds7GssJCMjYuptrS2lseEgdGgmJ2eq6iotqOotKaspZ2swICqbaGReEpYfXBycH1kYHhkZGRofWRwXV95hWhQaYBValB/VYGOjmqdst+Ly5OdsbvEvI+gp5t+UVFzelyFUHWZqsGkk5GPb0xqc3CTYoKLkamsv7DSfmxofFplW4LHiqqvpJeDq6Opd7WryqC/uKWis6+sosynoJdxfZCRj5WvqIGmmLGSkGmdcmizcXhycoZxd39/ia93U2/ch49djJuuuHxsjpClkqeoqpDVkZ64uLLBt7a/yJai0Jmgq6GiuIGPvLyerIXHpKrkipW0uo+waI6fpJq1n5Ou0JXPnLqWaq+swKGIvaSlno2WrJOIoKWSjZOrrZKWi7C/tbiVuKO+v5qpqaikrJGYnJK6na+VqKGPo8xIzJjZzJmQqLF3ppuqprFviK50naypupemr5+4qZ6PsaKUqaSVuYyCtM6DyJKKop+siKGqitrBkF6/qbaiqY27wbyk1WG4p9FypK2beXqtlNNehYSRo2p3dT58bYNpbVlRbktrb2SLZWBrcHRzYmWQbmhwipJjhW91kWx0m6u0spaP25+2yJ6fsqq1olZmYG9RWjCKmLCAmY+hjnFnj4yXVFh8w6iiuauhtGqAelBbNk11lq2gqqelvqKeuZihkay3p4V5l8OYfbiLhLSmlJenmaehuJ6jmXW2XmY/RFZCcm2LX19UUmy4sZB7ind5oqiTZGdstapfVoujyqGzjoiXzJl7n8aaiqB/mojGqp+sv6yEsqeT1rCqs8+/lKqMvMamxqWSpKyrrJSQt5yPxKFcpL6VlYqnrpWJr4+TlZ2ugq6SrMO3ipOIlXeTxZaJsLKOhqKOcqSmk7iNxYudx9Cze7q3f7WVgZeDj5fhuJGiromdgdu9qX6oq6GbmY+5qqt4g4OVmL2Ro5SOoLmHqqmywbaoq6WujrSMl5+1q653nsO5paePoaeHm2mbp7POp9quuJ2hepavsbWhtJ+otJJMbU08QWKSdYpcW3pjZ3dyjGJxdld/ZIRoYI5pXHhjW2mQfXJpZmSfqnqGkYekpZeSl6u4j5pRYX9/Z49iopmOmbl5t5R3bmN5bHp5koycraO3up2VZmJugXJLfp6Zm5mRwcSXtsarhop8rZG7ta+NXZiXqtnKure3noyWjHp1rK+2m0WBfmNtbXh0Z4eHW4ZyuKW/fIppb6idfzxym6iIeW+JoY+Ms6yWiKCssrOlsJKgwKSBioTLt6ODn2u6tJGnt5mppYu7c8WzsJSViH2NsZacv6bDq56qjpKuuqCtyKjIiraNk6vWdaqzgqmLnKmusqW6nZiwhY6wzs10soSwvau30LeFn3mqobGvpqGzvMK2kbezsoq6gY+NpIGRmKW0wKuUq66kp53Nto61zdTFlbCteaCukZvJmKCug5aXqoqpiaWx1qSfyaiioI2vprSlrIVtoriNosicnsSkkJCjom23g43AzXqWbX9rb3VnjHNgfVtkmV93jnhrW1VZhYhmZ2RveFNtg3tTbVJ9kHV3wcGXipjJzr2bsbOcn6+KSoBCbl1hYJiqv826oqGjf1ZcUXJgcGmXjrmkr7ykXGx6e3d6b3auq5uet4alqbaZkcyVrICjp5qljcPBqLKmmKChfMeChWNBjI7rvox6n5OZt7a2y72amsmDvrqloWqks76slaVum7+axaKCoNGHnZKKv5WyyLqymZm1vaKjsJWojsuksJanpbuYsZWTpNKTf6i2iKOUrbKUnLOomJuzgLGMkZmdxpmVs5SDjaXNmbubt5LNuMGTo8i3nYaIrLaPoa+5lbuEzKG1w5mkoKWzoZSYpZvMuYyii62XpY+0pbyxpInPn6+ymq7Nm6rIsJaosZStu7WmmbvTpaumkZKZmqaUoaGgn6h3iKSVuG25o5qsnb6bl5+sroCmoJKgjafktLW/wJyOsJ2YtJOgi5iqqq6TlHePRFaXX2BnTWZcWWRwYi+ZY3hcfk9SVF2AhXeJc11PRmFZkWd7o7bIkcOwoJyZnZyWr7SNkWtdZZNnV2G4q6TAh96Q2Y1mbXJWYIGIjqWxhX7FwZVZWHV2VUx6u6uTksOazMqonqeJvLacnbLElaDQqp2RlIqpuY7OnmyJvJ+Fr4ugu6y4mrTAm7mgwMCbq8C9iZLWv36yypuUq5LFjpi+uJOfpIikkpuQr7mUd6zVf3qxk7K2mqBwrp+ah3SGgVt93J5era2fj2NsWWZHio9yZK6itZ65jtWopZueuMSZpqecq7mumJeMp6t6mrqZwq2zqqeZqnmWsa3anpONsLmF4MSUg67Ek4+4mpuch6et09KdqbqZmI95u52xp7+4hXvcyJGov6espJN8pLTHbmeIl5+jucXFd5nBucero7uTvoCkqpGYocqhp7Klksy9rJGMn5+0xJqtnIiU1IuwuIuerNqhs514noRupoKKkJp4kW+ZinGRjZegard3h5CChqqepmd0xpumuXF9q4F1nnWcw3+Jv4e6srSOqrCypah7Y4KDXngkk4+OjJacp6NQXXhYSn9+a6WSqLysxq2Bg4RGXFhPbY+nmZqdmpy9rqWioZigtK2XzJ2bcaPBl8ibj7G0lH+KmspygIKqpLp4o6yUtZGVnpmZnayck6umpa6wpJ2Lsqadoa6msJudjMuyiou3hpi1tJ6vu7ykr6Wbi6WyhLF1q5GCs4Rke82Md42ax4V3jU99i5OBdnibj+bDcI2gjYWpqamlwZaDnaHCqr63j5hvyqSAmbartqqbssx3dnWDla2bbFhzpqeliFp8tKGZm915YW6OanJzfX2HcWmnWGhsg5C0uZ27y8zGg6qfqZykhbyPYURiZGVafprmkcOfqqCTx7SclZKurrGU0Z+qm8qnkcefrqeol4JuZaaFjKKSk4irdIaxibqo3KyZl4eZnLmGp8Skv5mUxKHYxriLlaa3j7KIg5ChpJ1wm5+5oaCrsaalo5Snh4yvobGTpX+htaWfpaSCTVl4WZF3bpqAkLZ/m5KiYm1llExidrS0ocO2qZy2YEpTXWVfZlWLpK7DpJyxsI2AnKGYqZeknrOpm4uYvM2gh5uNzXaJb6Zmqny3saR3qaW9nKOIpqampoaRlpSUnaq7ucmQh8WhqMiBpKShoqmilquwvKKkwrWY2qqZqairlLDDvYm4tLi0T6OlLYirrFp+k8CRjKS+osK4q5jGt4maepZ3ZHmCnayjqJmWqZuquq6Foquek+C1grGkici9c7aWlmZog6DMem5mj4iNdUdmcbCShIGXfFZHc2loX2R/GnpESmJmSzuGk6KQrIalnIeVob26iqaQc1OciLKciluXl5Gd5dKOk72robS9z6aplJPGlsWmh7qCq6GntZaVWJWorJisi6+vmbV9irKNk76+dZWzpZWrp5aLoI21pYuYjaOBqLeal5K8pLOGpn6bsZXFlZbHt7SxmpyZpnaUoax3gry+dI6ro56lfW17P0mCUHqil7ywk5yZoX1ndWibZnlwsrqno5Oso5JVhIRxT4tqppCDfo+KgICgm6rqq3G1pIKUlbrxnre7qJ26tJORv3G1coqcvKCMrcOeeqbJxK2+pqafrYWTjZWIzp+YfLewj721mpiMsKS9or6jfX62vqqRhbKky8S0qa6Qq5y4nJydkHSsn1Zmm5mGiau/qKuqnJ6ipJOcpNaLes3XYHC1mo2txKKe0cOyk4iWr6nAmqDLtX2Tjs2hpq2nn39vUZqjp8x0k4y/pHRtYGqol5ikgGhSZlpTpHJpWIVxoHeGd2eGlKOTqamrf6WM1cHCs6ulZUNeqqOOi6l1YYWJs7acg5+A3beAg5iHu8Gs1cuTrqLAop+Bi8mcdptaiJi6mK+8oamVmYuIqcnCs6ytpp+wrq2rqdumpKigqMrBuJaEsqDFuLiWkcClup+pnZnBjaB9w8i2kMivr5iVupezvauxtpObsXagaIqAZlpWmYK2obu+mJV2cmdqa15bbnierauKyKx3X25VfmRViYGSqLCYobN+i5+gpM98la2ol5+8rJy6qYOZsbCshbWqYWm8iJ2Fm3WduIu1f7KitI6Ol6ufcaN+ia2VpM6kobGeuri/d5SvqK6jpqumxq+np1etuqOeks6vsLWXk8ijpopsiqtAebSxT3SunVRAWWBffoIsRoGAqISUi7GDnMianJSVoLy/qZCQjpujfp+jr7qog4+Pjo+oqrmQdz2tnbKGT3WXtKeoaFKsl4GCrYmim7vNqJiJjrCzlaGjwX50g76bgaW4kbCRj3uLjqnPp4x3n+y/vqmTmWigpm15psOvfHSUlImhpqq3kpCnrLSz1IuwqraapV9bUcejqseTtbCdlqysu33YkoqZo6aApIqlkoWjk3/AiMHMl7egi7KRmdGpuoOQlK+Uwpi1erGMrqWjk5iN2KGzkqOVlrp7pqmFrLF2ZHpiZXRfdn+3j5mMvcegUlGZb4yMa3Kaka6tvdO5hm1uhIR4YpWukcLDk52AvKqXjZ+5dZlzpJeKnLW2npzGwoS4zZinn7G2mJGerqCbd8+qmrqmjqXi4pjC1LGkvZa2pbiNpcKajLmguq2dV7exhWuUtIvTl3ubpq69oaR7q76Qr5uosHqWkKaYgle7lmWruJOxUHGCm2SKf3p/k5uvhF+XhoZ6jZa7mp+Or5ybsa+bxpiwdru0paaxnYd4rLS5dlE9eZGuimhrj6B/YVOYtZ62ibZugsaHmqCnt7prl559sq6XrrOsla3Fv3qhpK2yhqe5iL/Be6CHx4SpcKNyZbOtmpW3mI+wi6O1e3+2uZbMws2ZtqfFjLiyj65lcXaKj6drfJGgo3vYt56JstqLu8Wpm6Zvq6h3raWpnLnCmYqOwpOsndGdsI+VupKZm5ahy6q1pJCRqaKhr554nWWPsZGEsYi1uJaRjztKWlw4VUN2t7jWoZHNxF5YW3h5iTtpjap90o6QsWOMe5FMfolel3u2h57gtJuht6iytbiCr7unoY2bkq+pk4+hnbCqvJ26aJSyirqdk7apqZeWoZifg4PIpKCOsKLBppR+qZOvdaiRmJ2qgaingpy325uip9mzqrzIxZ+8ramftKB/vaGsdmZ+yzuCqX5ApJa6p7i5p6mVlLmSnpC1uYpRnYafuoWUtZiSb5W8oaal0JOJoqKUm5iMm6eowKKPrHyKNYO5fHSEX7CMx7FkXHyD1J6GrnmnxsunxZetnKqNcaqNoMiwm7KO0bWcr8Wkm8OGvZeiq6mpj2mjwJ2iZXG1sZesj5ekqYm6iaSroJ+tgqzAhG2PgphMV2iJgpBmanxAeMiQn46QoJumvLmhq36CoomnmqyHm6KfyMOulKSkjJGot3SwtpOk1beQk6quj46ws5GCqImeidOioqNpr7Wjn7O6rJ6xnrZqV3RTbi5+h4mYkoWknJpzWlM+eXZ/Zbqnk6yUp4V0aINybGyRgbWAjcepwbqzlbugqbjAqZmZr498iYXDncWPfneRnaiOjYCqvoaqjaqlfbGYoImxubGxnp6KyJFklq2fm6OmoIN5pq3FkXyPk6ius5i8cbaAvqHCsZqgsqqrt6SaxMCRsZdsrpthgpyWfHeUonV1jIOpb3yWpmOep6SZvYihpqydpnWclo+moce/sq+KnHq1lsitp8emtKOms+GFVnajoMhoSj50opmdZWSOxKrXkLxsjkJgYVVwfE2GdYaJdXt6YGCjk5GUrKuAtZjJuqm0r6+Ts5WloHutsEV4wKLLjqCrorGjnb2LzMGUmbqvlYpbelxzUH9LgUttZ0VVWJCqqpJclLhrwpi+hLLZwqKRrY7NkK2jopurm4yOeZqVi3O0u53OrIybjGyYxH6QsIq+jqa1gqSPl8HCh56Lm6WnqaaIyrCcVnlAV2qBcYaqgpeztMa4VX5wW1Y3a3CprsDJWaCNjkp7Rz9sQHl9kqORnoGis7qwhKKulYSilKe4x4ewgtiYp6W2qZ6qa7WKg76tnK2NcqCTiYF5jJtgYLyms36hpavEh4+imKOWkLqduL2ZjaSvnLWXzKmTq6yrsLu/m6qonrHSitK5pXVva6amSGeqpHqFkbGLeV9ZMmZEYZ1xdLKhqHeYn5+oaKjSobyUmMJ9vJ+Lk7+Xwo6ChJ6lw52PlJ2fgmxzdajCcmRzmaSXfXdaqLOSoZaoQlxPgX98Qmk/W0l5QWx7ZWKAnpCurqKojJ5wx5Gok5Sbanqqr5izrVpLhJ3BibCquZ2Do8+asIfCt5C+qIRDhGR0jYzGs6+LU0OBna2TtcjJjqyMupS7kp2UsrGVlWFteH5PloxgcVRdjXNSRI2RYnmIlEqFZVJZVYJAX2hrhGqfgGdYinvOx6eptsy2rprNm6y+f1tSc2tUZnKihsypt5pyqWl5dGJggUx7q6itoqO1sVpIdmR/LpRbl5WwkLOTl6KRpZ2tkL62p6ZYyKWkmZm6ubKtro6MkXyGg7e/fq+jnKF4Y1dttJmht7d1srihYZy5oqa/nY/GcZe0i52EwL+nvrep46One5WaiJeRnM20yqCnnpPOiLXOhae3i3aar6OVkW6ir5SexaabnLe6j6iItXKnfbeau52er8mboaCHnLqfmqGEkYeCq7W8vny7oad7qZ6Gc7SjwKBrb56us42GWXqOrbK/dlprJ1tKb283XIhye3JrV3lib6irmrGvs7Waj7u9tKpxj32cW2aBbHx2gZKKmLuQjbzNkpS50bOjmLKKpYSgmF95raWcpavLc2hNg6Cjn6Ovu7qskYeRyJu5qaqMppB4ZIycgUNkfpVdaT91VX5USXNWc2t9SEVwUGCAeXt5YFJ2h2p6bKV4mcGEyLq1q5SQvaONssZibod0ZIpDk4ORr8+ovI15enJpUGpbdG+SnKOxlIRXWXNHX1xphpvAvKqego6kkJnIl7qakrqRuYmjtqClt7GHktGgnp6Nu4KfmrqiqIRrgLOFm4qgeI6OqrelfIqby6Wauqujl8SwtZGlvJytkrCBor6iu4x1g5fek6CXlKG3in2ytKmUs6ZtwZ+KmZGNoXFwxcOMq4yfk4h3sZmgx6SjibSRmcyPmIGur7CIws2Kj9GFqKJ+oq21oYB+j5Oyvpp1bXF/m6ufQIyNyMWManWGk7ufeauAwK/glLino8TDs6ShusGeqcGTp7SDpLy9jq5nrKGtmqeDfX5ViGh2e5y0l5Wt1JGWsJewkJm0y7CtsJyWtZR7b3aOkbq6uG94cqimfoKtgISbtJ+IiayqgLS/vW/Ke4Nca3FgbV1cgIZKlotTPkxqhmhZh1mNeFlHdFJrg3J2lnF4WpF1dafShbqNo5efgaxupaW7aIGHZFuKYZusg8CcpIi8XmE5X1xtc2q1tcKkgb7EbnNrPn52eGy/rLaYtrWkkLGknp63osqml8+Ig5F7iL2alIF/uZuZhGa9vL2QrY2hkJaqfZq4iq2amonEjpGHppXYp5mlrLF4iqWbo6y3jdeGvp6RuZOns6eannGzzaqSnc/Fo7e1t6KinKyPwp21n7mjiLC0zdifs4+uprmwj3yecZfHn6u3s6K9r8rFmJaVvLydfcLLnpqJz6GtuJyrlrGymmV/kK6tfYVYl6mGjGhup52LlaCqs494ip6fiX/IpaieoHildraxsaWhkn2op5y6raC3fKewlaS/m62blKuKjp2apaSVrp6Kpr2PvJms1K+stKG6wYhQc8BxjlxrXmN6uo+wqZ2clMe2g9avjqGmprqzgEx7bmh3bE1YTkJuaHNvhH5xcH9lomZvSWV9Uol2fHpgZlqNXWGDe5qPv5+ysKmdeI2qo7idmlE3ZGRwTE96rZGBuZimsGdYbnFVQk5jlcm0mo2Xx2ODe4xWXnxhkLeKlMevmn6rrYahxY6zioS6lYiO2HO2l6GliqnFypa3t7PFhauIlJHGh4OpmMKvrq6YlJ+pnaOYiYi7w7yeeGyunIOPXomyrn2PlJSebmmOjHlfq5yLsKi7tJ3Lrqmes3m+jqWVlMKKrcHJn7iCyaqik6qRx5O9gbqahKmdrpeyn366jpOwncmGvpyQlamPt1uenNuUm8G2qXJpXZuro6xlf4yanM9ocpOpfYi9wqmLqM2/sY27q5iUoHl8mYCZuKqJtJC+uJKjisC2u5esmHpgrISWqZ+wqpy2raSZmISjjoy3yK6no6mcpn25ibmDT5COm5qDdIF+nKmPoK5rs8Onnpaap6eotZKbfcx/VU9IclNjiWdocY96alJ8Yn5ZamOCZoR/pJRdmHFXXnaXbEprZmC2moemkKecfZ6FeKzAtpBzU1FmcGl2Z5KevH6Pa8pPP3NGiF2Pq7x/kaSgpcaIZHSGgXQ/gb6Yt5WYu6Kzl56ys7OphMiqvp+R2NK8q62jp5WpvcOmdJ6jmMaGspuIg4+OoaiWopSUmoSkkriov8GTiZaorHaXg45Vj2/Aja/Lmq/QWGC3eIOHZo2gpOCGrIO0nJKBgNqJkqKwobrFro2JpZfDxa2TlqC94Lqzt6ubo766gticmq+snXy2tY1/lbOffcOXprrBkaCjuZSmmaJnjW6bmY6QUnxmnq61imyan3WnrJxffbF1jn9pZq97m2S8eHqAc7OwopORjZSAmpmgrbaFlJiKZ66kpnmpfp6xnZOrjI6tj8GMuqm2o5KcvLzQmraPnmxxV72x2YljdIarj5SsfHuho69/o7uZlLO7xKeYYG6QTEFheWdkaGtXVmleT3J9Y5SNZ2dQcVdtZ0hje0uGlq9NiXSDhpidpZ94gqOsqJl6mmGBc3JecFdXTayFjbSalZejgFRva1lkZZ+pr6aRqJeljFxgVXlncoWsmY6qrq5pgY+NjpfcjaK6pYmappmQpsTFo6GLh5ywo7imvp6nl86p1r+ciLutmqygoNa1mKiV17KdtbqJnnFvdYiesoGQum+BeIysuYOewqaGpJ1+pZysxpKwuJGPYZS/WpexsHxjqJO5rpuViWNrdFiBjYlwrYGkqZOPrb99dquqrIxxdY3UhraGbaannJXZx6ekjoqJlMiXeIpsfJ6ihmRMsaiiolJKjHafrpG9ZmxIVmtMFk1CcFRtT3lkYUZToYqYoZKitpa1n7SpnJTxk26JdI6PkIiVwp6Zlcypy7e7mJS3i4aphoy/nqLdmqCQiW5sxc1vUnqrqa6zvIWolKDKsY2qwKqhh6SehXqZhHWEVXVdWlpwnkdGgXN+g3JlcoJAb4xLXmJhb1Q9V0lfja1mfqGRq5iZzq+hzaGnga7NlFhfZXKWZlCMspuNxJbUo2d2XYBwSV6UsoO8l5a2oIhzUFBmlW58gJCjg6t9knLGuqi1rKfeyrmhe7ir1MSZmIual6/EmpSxrofnrKaWl4+XnsDHmrWifHypibSZlLCb0qC1vaehla+2mbygwp+dpNmdkYt/jJKjiqttrqt/uaK1q6eYZlKJwVxNfZyYgpPQj52WRXV0YGxETEBOkaShn52Go4KvjabC2HSZx8uxpKSDxZOsuauooqaKkY+fsaO1soB2iZyo6FtmWHCCj79SRImesJ2wtHFQZmlgWXZhgIxZa4dzXHdZU7ifjpuwkGSOpKKsprmvyKZcYz1OZVpwe6+Sza2btqyql6Wan2yYr62ZoIauqqjfuqtkXnC8sXaam4+TnsHAopiPt7LFn82okKnAr4p3kYZreaGAiXBYZIBde5xOWV6SeXZ9i3KFgXiPZKCQpnp+hneXgYSZl5aTf5GjxbRktJ+2uYMye2d6eIZwn5axmayIrq9ndnVpYltMcL/QlZiRtaxtbEx1c2pJeoSLnq1vfJ6PyH+qnI2hqMyHpaWdqqyPj7KcjcGhe4WakXCzp4K9oJJxcGpzjaqpsXd3dp+vtKSrj6mSjHKGqKi0pYjJnIhxtL+mmbN5eIdhXn1WqLbCt5a7xcmXelcwkaiFdI6WhVO7qpm8idyWsZyso4mgr6elgIaqqqepfn2ekYqkhp/Snp+zqqmyxZeur5eYy4+iq3WgxM6KeY6dvaaPf4vBkamsoJWznoWbrIaIiqOflIyTnZOfuZeqrn66d4yMjZWinKHsu8Cip5vGg8qUZmylhpmZhqy0m72VjqTKkYi+np6HkL+8wKCmla2+c7WvtEmMqoZVbsylw4fWu4ausYOlsMCpY6Cbq5i+wWeZqpiOq5OuosPOkYqnh5iSraWUt5mYqXu9kK/Ptp20ho/IjaOxppi0q52gk6vQmYuYuaCgdDWRUHNtg6KiwdOtmqS3r2FvVUtdYoSknH+Um4iWZ1tofoJRY5udoLW8rqrRqH6UvrultZmgeK6utXO8ssC0x4+jsKvLp6d/sbyxoZTFcJFoc5mSd5uLi3SurIGckX6zpKaDkJxrqYCTqqPGjai6u56hdZyom32Rk46zkpXToF6Eqc9/gKabW33Pt45MnW6vusSPprWZkH6LrbWFmJqcgp+OgreXhImemoOblqmUoKOHj7uhfY+wjaO/qo6Rf7CchI2NwJKwqO+/p5Ski5ugrbuMoqqVvNCcpreom6aQlbbKkuCzuJG3kriS0LBqlou2l8K0mqqFqZajr7OEv5i3vp22k5a1tLinr4nLwYyoqo6PwcF3o8KEnLunbpaAcHy0im+pk6vOoKC2us6hspiRyJiqh4CCl3aXeLaitaWmrG63j6eIgKPAqKvPlJl+xr6frby8oKiDnqesxrGVpLejubGciKmljbGpcFheZW17YHCTrraakKyW63uAf2B4cop0it7Dmaabgl16RW2FVmGAs7XVsbiqkaCVpYTLmq6uqbymjo6Q1IqYl5mgdo7Good+r6nAvIPGeJaPupSUioyfs7N1soSiktV6sqGeqbGOV6OMkKG0qKN2r9N+mIJ2lYHOtrjYoMeKnrKWwZeRU2t5h0puzruUe6mcuahzkZKZgUqYjJOQpabTvzx5lnGWfoO9mrV7fMKxpqmv3Y3AjZ3MvoOUxLahnpCZmprSkZPSg6yntJW7gqqjqb+qnqyqu9KzmJmrrHi3u6CatLp5qrugm6irj8iGlYqpp7aMiaS8lMaPicSlnJ6Ko6+CoKa1uaCPppGOqK7LvIakrpuWh56qvLeMl2hoiKOGwJmRmsiko5/DnaDhepmxnraKcpe6o5yYspJxz6O1sa58j66jt8CQgX2ZqaG4nb6dvNW5rrK1g7ithLqjpo+jt8OsuZenntCBq8dmaXKaSmFPqba6s8SqiMRwfGFrWmhccMGtt8Oglo9xd0BvYY6BiI2lfcaosJuar4Z/vqumuZKuiLaFhZWouY6Mwr2viJF7fJ/EhIm9i585iXaO03+OeoeHYL+Tqaa4pquyp46vfZWNm4rBpoiOsbCWp692acWGVmJ0vr+wmYymw6SrnXRkp5p1V6aTcmpspKqMjWlwRGdaQD9gVFyTq7OTlpSkq7yuiMeWwYaTj42GkMiVhKGhqJzEpbuPrLClxXLDu5W7sJi+iJOYk8aNmJulvpmmxrOorKmgdamUobekt7GznMysuraXqK2bnKuIfrSLkL6Nv6+zvquUt5G/tK+3pIW0tsWLz6elnZHBm6eSmJdsf7iorcSqwcCSYo57WZvBm6ONqrGZh5+4ipnNnrSYrZyuvIGHnZW+pX7Br8GWrLWnlqCms6qOkuy2jbTNm3uIj57Klby7lYqMfMyOrYtyx56cn7etr8RwdXpRi3V4bJ2imauqz4OqZ2uAdjpKd4CLlaKSoqyaTU91c3WLbGKHosy6mKu1lqqWjYmciH6cprK2k6O4sKyjsMp5rIGVp2yFxZausJqguMyQgLOCm7Wvr72WlqS2qqGWkYCDnoxko7GwuquXoGGvnqZ8ZFumdmaKtKujuajDsoaKv6VObZ2naV+ulYZwfq591IeEkJtcg6iefI91j72Noo6Cq6WGr76npae0pp2Uq7CqrZlxqYuqtL+prIrQrLGjr7jLZ66arrivxoWepsaq0r65h7WgcZCQbH6pw6GbjruZiKe3lZBsrXuqi6CdqLDG1aPGppmWmZqfr46jzYypr4u/3aZ0nK+VprCewJOPpqqCtpGMrJSnjJpwdKhfVJPJnrLIoKpthZOVz6OtsoyrnLSzva2boqjAkIGtrbe6j7zOpta3hHGLvJWRnsfCrIuttYqInbSNdry5kqGqodGhx4GwwG+9nqOOcYOIiW1cT2WKvJqnpay8qnd+do1odnmBwpyuqtSctnBadWllj4V5rbi/moCjlsW3pZiBo6OHrIm/mYyDfde0sauJ0HyNmNCfk7q1e4WXpa2liqfOnYzAiIh/ssrMkLBtmXSzoqilpJK/rpPCmY+isHmstZ14l3txfMmMrqSplo+Pg4CodW6zlI1amHJygIXNaZVUrKWInpKhhLG+rqiXmrKYXaejrLS9rYCBu7LEbp/CrbCarKuosdK9vZe3rIualIh5i4mSnrOls861pK+Kiaehmce2fq2HoamkiaSJyLS0x66dmLeLzZyLtaSvobKTvoCKs6aOm7abiqqsi5e3pbygiYiPaKesvcOzqY3ioqR+e6KlrrGKp5qD35bSfjNNj6G+Zp+Zp6KqoLfAkaa0lo+Tl6x6lLK/0aqGm6Kqi5eucpexcK+9v7G1e4R+rKyErrmwpHCpwomkkaycwKKYqJ6duLKikKiXlJhlenpGeWA6woftq7+YrbCNpHRWZ3hZjaCrn5mev7ZPd1p9aXh4mbmQqIa6sJeXwpiekYe7q4+qrb63oqmKiZCKtauwk8rCn4uSlMWmnoG/hLy8q7aqp7+/sYnHtH3JrcacoJ2mXl6JfpaPc6N8lp+ur6G6oqKHp5vDmqmQkoqjvqKFnlZxi86DaZqRTlSXxYmtdHyDYXqLgHZxi36DjY6fqaOonKuFpsGSlqyoop2BvZOniZ67nbR6sb+JgZiko7+jjaa8aYuhnpqutKqNf7SOcmHLmbO+j5Dcq6zHi3elubG5nJyvi5OWpuN6ncGpnqKkmJiVuraOmZqjk63Xp3ixlbnBn6Gui66sv42woLaJrYmuoLSqupGlmZSlhqCzkcWeq7OIw5i+p5GZqKRrpamEo4Cum6K6ube0s6udxZeKrrSknsC8r8HJrmjRsZiqvY1+rJe7kK2koreEr6qwo5q8mZu+nKujqYF+a19aWzZTZ8aDzZy2oauEcW1eXIp/ZnygrJ6oxY6SbnxpU2RjSZy0q7SVwr2YsZ3VqrTUb6KejIC4m5ejn6qijMKqoIi3mpermdepnrjBpbGK0uDGu9qwsK52zoq5saekioNauKSloZuRoauUoo6ElqBboHinf3qHmKCOmYGIj8vJb4JsebiQc26gs4NukLC0qJpyS0loZltAOVtTm7PK0a6bwLioxYWNobKTtHeZzYONdqxuro6rnaGijpFvwaKt4buZm5u4f6aug5GrctqJqM2lpbezuK68opN4qdR9yo7CeZObsMqarsarrLOLj6nAupypn4qZpKCZkbqdncKFmJyRmbuFubKetqSkrLS1g7SdrbOr7461l6+qp7WaocSrs8m0p7rAlpK8qYxkq7qqg5edqXKEb3aBr1yTc3qLbXVQkH95l3V/l1mFbYmagnJ3kIVngIB2lW90gMyEm6ivZ5+pgrKZo7W9f3CNe2dIjzPmiJuKxaezbVVUbjVBVGh+tYuru4yMko9OW4FqgFRclICYkHahx+m9oqWKvru6r7ZrkZmny62hz7KQubuIi7qsxZ6Gx6y1jYSGoIujdrepgYHDaouVjrGOw4mKgrKYimy7zsmalnWqwqOnT1GHqqh3iZarq9GhtKuMn6WmcnShmop3jduBjYegksiZmZmhhamJdW6VcJSfxY+duqKky6OjdKOkoKK3rqGSora0rZOot6WpiNWvsKKkvraYq42ek6y2qb+lmKCWnpuWebOupb2XsH2wxr24y8SYvZifm6GglpeNlL/DkJq4haqnk7aMlLizlpafrIfXu7WBgLGXjJyrv8aztaG5gqKdnbHdoayko7Kvz4qTkLSfh5ecb6eCoJ92pnuBiZ6Kprumn3F7ZYJhbH9UZXpXeH5uYW5qlm9ya4+OZGyIcYxPaGRNY09omH1od1zLrciRr5ysoManda61lHdyZHl5f2R2rZimqZqjmJKFW3R+Yk9yeNartNa6w3dZfFtkg2ZtcKqJm8aSrYSYvqagobiunLympLSbtnh2qK7Gwre7nHGAd7u/y5WXxYd9k45fdYqGnGlpo2S1zbaCl62/oY58kbW0oKyxaVuBHJixrZVweIWJYG2TwpmbpJ6aj8GijLmQ++zBoaDLsdWHzqSzp5Jrwpvhkr6Qq36iwIeot6OzrZ13pKyvtJ3AoZCcxZabtpWjmJyvmJ6boMOOk2Kgga9+vPehs7Cwp8FxbZCVqKGmmayGe7mbx7WtgKe4gZqFi6Ktl6aspY25n7Skrda9l4afc7OrqZimoIWSrqjGz3Sji52doLKfy6S0u6XHnaKdvpuwtIzAtVO6noSbrIq0p5zbl5iPhNi7d6SAlsGmtp+baGdpY4xZg29ygXd2bHlhkX9bdjh6aGBddzdylEJgkIp+WXCDanybyZK9raG9hJ2dt67Tn+SAblZ4V3hfUo7Fp4u3pp19e0EwNH5ybWmQnIuXfJ6+eFODXolnj2qWwMqx3Yq/ucufpKKrkXrLqLyzpp3NqZ6zsbOdhI+Zm4mEoMuNsbB6n4uwr6mUhpByctmjbpu2ucmqeayalsRpc62UiVBZfHKcjKOzp7OgqIN9h6Z/uaaMo6KnsoGysquVtpGvtrbOmNWLeKDFzce0kq97rYrbjYS3grCnrqyNtqa0p4Keo7uMp63RxYaSu5WUw7OGtayxk6tppsKvmq+puL1+rLnqhJa8q5HclNOdkbiPfo+msZedkJWXrqXBy9yct7KtuqK8oL2srLWlu83FemmfoZrGqZGBxamNpbGzfZ6cdqWIiMB3vI+5z4yGutewwn2Smr+BiICnma+mmo6iube5q5+0bJvbq6eXrVeBWi5yXVl1XGaPc4qDWIJxd387a3RvWZNHfUd9XnF0hV13k5VZf57BmqGyhsGKlqC2kJ3MqF59fXBlfpeXmZeilJqWk1tscXJjfHyTtp2hqLaGrmppa4NlWmJ4lpigq6HDv6WJx6PFloaSicWEkaKVi7+wtuahuaBmlniCjG+zrbWhtn+baVmGuXSUcHCnb7KgqbeTn8CexsGNdoGDqq9QaGpNn46Pp4KZm2yVj4egp5C2tIxvqrKhtXmZlqm5ksSPq6iUmMTSjM2IsaSvsYm5n8K9vcuXqYqprZW2pKSynJKtqYS/rqeJqK6/kq2wq5GPyHmZq657jIOmma2dv45+uK7Ebb3Ah7V3va+avJGykpbEs4Sal6l5rpuDmaiUraeeq6GatKCKnLSep567mYG5q7bSpKhZl5bNhO6ny6+egZnDwW6auriSqrC1lLWcksC2prypda24eYugnKPVyqvCt47Xj5G52KBpQ4Fmd3hzf3djjXBOaoNkmnNBinJlaG9GelZgWE58dVqMQIBxf4mxu5WXsrWluqWBmZuYwI5nUWNriXlkiJmgj4KWy61tflZzbX5ycLG9kZWpYsh8bZ6iV4hWkqaVl6WDm7uCjYK+v6yyo6OjpLqumaC7upLBn6+yp6OLk5Snl7yumYGuhprEz49fiJGRlpB5n4yPnKSRlrWPtaXnrJmLhWaCZXd5hYuFaISfeX+Rcn6Mj5d9vKjIo56nsa69gqaOtoe9tpy/XMa0r5uw0XWtyeGhkIy4srOew5mBu4uloayvibub1sSMoLSTrdKppKKpnH9dmJOXzqSwmLiuoJ51g7KvmMeqkp22uouytoXAo5yug66Yu4TVipPDrat9oLZ9o6rLvKmOhcKdrnasg6CiwZWaqsGhnZijmYzKtYG3oLmVna2DlqOfp52dr5q+vY7Ao7G0rrywfoqmxp+jj52cwJOwq4mPptGNZlRvbXx6ak9VV21kUGakgH9TdEpflXduSn9+W5Zgakt7SEpccW6Dia6uj8GMrZrhjnO7j4t4nXB/aXxbY6Cmo8aXnpCnb4mJRI+FaJ6NrHGJtMV2oqB9dHtsa6akpamtq7qvptS3lamqj8Omb6tzmYeqx76fzo65zW5+qoiBoa6LtoyXjHl+eKCKnHlhYaBijqKskoKXlJaAol2GbYqGlFZ3WleQkW+BpoCijXucu7e81qqMl6WbeaOVqJ+Yv6CDh6yVjsSYcGWGlImbfqakkKuvzHCgrJ2jtbDJv52bsrO4ybN2i4dnlcOliLCzfqSorap5kLCQj6eVm3yUr6bUvameuoS5ssmxmKC/cYihpKR/oJ69yba3m2mKZpikocS+uZikm5mQq6+efIGsk6ebmJ7QoLqRi6KPfo+5xcSwxJiorpuVpXrEqp+/k56uoq2tp5uAobW7ubCvkoDAqrvRlrmloZqhlJiwa4l8R2BhfmNAVUlpZnJSZjVhVGpYWTBpUWhWYmw0WmhZUWR5XYZbY7axjXa4l5iSp5iwl7GHdJJbf3eFkk+8kZDZx6W7rktUclptTVubjL21rZejjJ5kZHVdWz5eqKmp1b6UlqaVmqSxrbasg4eil5uqp62Ynp2RpbydhsatxKuzkJF5m3aYxcqujJioq6vCqneRvbG8vb+ynqe1r4mHso2EnYJvr6KXnaSfjp+Ih6ygk5emp2mkJ16DpYJadXa+h1d0lJrJqINZRlwrgGB5b0lnbZqQmpajpq58kJWnmbWtg6Cbr66ukaK3t6+Xq6KJm320spC0r8GTn6iMk515j7mas5KhsI2av53Hm6PSs5OioGmDkJCSl5KUWoSTimyjkaqSo6usgrOmoa7GjpCNiMC7saW8urKQ15S1tn6Gr5aapqerobyFraiegKqbsJuep6yLi6igqKHDpJ2ghsWCgpZ6jYm1la+doZyOVoFfYp1+fYiegImabLBxonB0i4CcjWaPYHFti2KLYqSBg5Vvc4rJwYmU0cSjj86BrbCni7KFfG6ponl6tLy1mqZxx7yaf3d4o3tvmo2vn7mSlb1spqN/k5eKdZzLpKGTp56zwsGtca/CoYCyiqawgaqTnbXcl6u0lauwxZ/PoHCclI/Ir5i5oM2XqaSkma3IinyUnIbJiqK60ZmVloithLydo46TuMmVq3+guap4u6SRs66bqEyBgsCZX3GMh250acGk27BqZHJjdXJiamdWXGx+lYynqKOxq5CtnLKEop6ghZJ7raKNoGK0nrexwn60tLudua+1pJWlqZmikaucwY6InLOvfMm+sJSZlMCwv3aNmKekwouSm9OCxHCHvbSVqJ+VnZycsZSYu8iru6ilububxo7Osq2ZsMGbgJSswrKio5ajl66Zpq2ilpuerrOIvYasuKCYpLeFoJuW7pSVlKy7lXx0o5udmKeMl42qnnSSk6uRzKzAm7STs6ymv7KQoMOzmKnDjLrUs4aPt6ewjs6woa+wjau6tsHHnX2aqJrFn5yvt5eXkbGdvo+3wYW6nJmnxtahfquDt5W1p6COiLeop5CqrYKIuKR+iqGbl5TUfrOUjb2jo5qyvo7O0Lu/o6OgfaO2mcGktbq6lKKXisOsvJmfn8Sltaq2kZ+Wrauaqo6Ygq6akpGXppqZpI6tvIN/q4WLc5uWtJGed3hjbIWcg1B6g3KxT22Mjp24oJCMmZeno5OfeLihl4OprnuPhJuvh3yRob+exbmjy7uoqK+lnayokoOao7Ghh5q4oqChiJWBorScoaW/pqyWrpKmm5+5mY7Ksp6j4JOXjo2NtZWbiYO+ubyiiK6UqqiX0Ma7crCqk62pvae6vpmNnI+TiLCwy7Spmplpr5yrmc6/r4/2h6ibgL+2koKvn7HsirCBmLiqrpCSlLecnoWHqb6ctKGtsa+vrpOYv6yWn5qGrZilj62ZsKm7oKCmupuKtraZaKW6xLbNq6+qmKCspq6zuqqekpyg17uXX5Soqa2av7Krlrp6mJ6Ap2mwoa27vomhorWpobOhuaObqqquhoe7xX6msqG1y5Glnq+Stqa0lqmfgcfGrWuCk9ufpp2XqpecmrHL1pKWqoKMwqChh4epnoqQp5ObosGJpn6ohZORkqKir62qlrCco6KCj5SMubCZsb6fn4GXboiM2ppMcpvOjlKIp7CQr4mqp4W+nZOmkpdmvqjinWOJrGCksLLNmZuXqp2Zu6SW17eYwqfIfpPGkV2OZUKMn4y+3mBrZ5K1tY6Jf1N3nrLGx66WXb+ZgYGvmJbFkmF/i5Wqo4GIgoe2rcLIymq8y6qfy76+kq6alJuRlXWiuKK1k9O+i5igl8ydhqKwoNC9yau8qZSji6GEnLXUlo6hr8Stq8OWx6SgjJyGkaOUpIzFq56pfJqjjayQoNLgpKKbmaHDq5CvhcasfqKbrruYus6vr66+asW5vKCNvop+nKmOmLGnuKzKq4ayo5/Gy7SVoquyt6CMnqipqo6tkMuskX7ddJCpu6atjpqTr6ujhKOgvpOLnJO6pay+pa7Mjp6XrKyqf7SZj5aMp5p4fbN7fYaN0JyNqHtNiGxZmYNzo2FhiYdwm5e7rYa+vK+aqKuWgsqzxbXNvbepl6eor6yRp6nKlJefwYmOk2p2paOJYjiohJiDjqCcnatik1x6hpx2lYWGg465uZadoZdzjZvUraXcipyZt62noYHCmo2LgXySnKiyVnRPoKWUksVfTmiRtZaNhoJlR6aEppmat1hUTWOUZE9mZm9/cndOaGlHUIORnJO5ybKSno+Tl6yXp5ulsJOXnpZ0jM+yhqCng7GvibOKgYPNvIiKp56ppJqTm6u0tMnChYmfprqeoJS0qp6swJ6dlNW5r6zUibGimt6HqZObnJuLn5KHd8jKq5Wy0cXA1Z2Dmqezh7GmmM+tnJ/Ap6SUW7K9mbPCoKKxx7ymxa5/gpqMsKK0lYd8ja2xdpqrpcGEwbOnsKjMlcCsp4+SrJmxjZjVepKSs7aoi8CuzXvJtp3Fv6HGorvMqYqdsLK6b5rOkXq1oqaIiryEobyrlqSTi5qCnXdycqKEkJqho3i9r565msackYuwx6K3fbqEuZmemJSbrdzZrp/CqKOaqJ9dXXtprHpntKB3cLGvgMGVPVmAZGNyV2J8N12FxsnTtMCAaIm+ubejmZp/up6AoLN8sJSOv5aivqelc3A2a5OhnpCzaW1khpyxuopkYGqtt6Wafo9+aIh0bG5fN2pUcGRlfDFggVZjlJx9fKFvxsajzIiYqZKuqMLDjJG8U42qxbPMb5W3oKbCsqmlp7WrtomjrbuOqLC0o6ecnZSdpqu7kq/Ai56cro7JqLmfk5eUsLyUnaybaKeXgr2xq4fHiq6PjKl6qrC+n7mwpLKqnK+YqaWgk8TNx46aqbufvbOMhrGim5WMpaLCwHKgz9Sdt6aFtK6+hKuuoKaUu4G9soyfs752uL+/foq3rMeklsiQubyXr66Wo2aOsn6zm5aylqCPkqqhwKygoqavpq2dxqCbea2cm4alnnGeq4ZWloGYYmKFbGuJrZeSm4qunsm7nIPcyaaWmZ20g8a9sZOX1ImWlZm0cauViKe5ZmeBqLFedafPiV5sw4eXrZ9zjKaGgHeERIl7dqajs3K8zKrFzqOVwJCjsc+thoaHlYeZo7XQfKSrrblRTlhmjJ6pr1BIaJ3ExJiee3iClbSisZVrfnVESIZ8c1SNnHiUgIaDgo9rjp6Pn6O4apfrhcegpq6/iK2yo7mgtJiLycS0n3q8s6GrwYi4q56Mn6/PlraPlbmjnoKcxJnLlsWRj6O0lrOYkqWTtI6UqrmYnK7MdKCqvay+qZejj5GglcK2dqjBtdCW0KPEq7Slsa+om3y0qYKKyMzCmsKYoZOip5uaysqTttaLtKi+iqvvxaWmnqScuLjImJTGjbCTu9B+pJG0e6amgZm4s5Gzqo6craKenZaEs7KXl5WLqaeveZyttsWqoK6nnsyeqrOOrptwgn6Kw7iYtY6Fj4upmr9hfWtrWZOUmqK1n3ezn5Gempt8fpmOio2teJGggJF1ram8gaGJrZOepr+Xi2FScqbLN36Vh3pDgJHJoKOssYqrlqt6hsmDxaGjraFjeoKfqJONkoafvLGbm6a1rKh9nJyUjbOItZKkmlV+gqWwmnRYdU+Psq2jhW9ZQ4iUq42euazflcOqyaKulJVhzpabmrrJlrbSrqqyuLe7nKG9mpGWt56snoOzsamibb2em6yEiJKfqbSCrqO6r36TqqOeunF4vnaarIuLsLKcpGyrlcWLkJ6KmKeKnK+YgLKLpM16lpqsoKGYe6+mkKCaxMaenZ3ZxJuzmbqolLORm4q5n4LUkaatmcmdkKW4rbuuebq1oMGNl5u0n4CO1KzQuYyfua6tfIytuIiCg4qYuJOWp5efj5Xanb+ino2ml5usiaeDrZuWj6acupiFlMHJn6mxrp64sIGLprOZx7yWdoemj6GYiZhZY5VMdG2sYaaCgpGFbobGnaOkl2nEgFZcdolPSGRPcVJYWmZpdlFndEt3nZ27ua6TnYlwTpmhlkiIhKRcNXm6po+epK+zr46dnXS+xbmlrreMnoOMkL3Bs+F2r4yPpHaRqqOFxJWim5exmJOjrXdBZ4yksLOQaGMxucd8pH1mO1GnrLqatricp6+gqJ2dr7SGjcC3oqKHu5iUoKqvmpuPucjEwKyzjbB7h25uhIVTcoR9h6TIwqOgn6eXt4mHtbvHwarCiKSaop67kJSTq5Cyr6iGuLOYona2psShj6zBjpiU0Z26w3a5vq+0brR2r6KBxquBk6aEkZLB2FqNhrKmpraYk42ambujrqCHtK+Cd7mjs55rq5uajb+wrn2olqKzwcK2nsKjraGxl8CZlqqons2ml6mJnYK1ppe+v4e5f5OuorauvLCft56ix5fDnqevxbOUlLGOz4q/ip6Ck62jmZLHnLaSqNzUmoSZ1myYvIWdoqLfw522laiZp4KYk39xdYJ9VnBMQWJjZW5+e2iDXU5HlYZ4k5Z5h6GgYWK1jXJtaqOkhYCJk4qDhYFTdldjjXQxgF+PbKrOxpuqjoudoo+kuamgzbOhp5Cnup2ujKCOrIOVoo6tgoeIqn6MtXR5Z6SdhaZsW1mIuaKbq6/SscO4jdeorcKZrqmcsYaDtp+nh67BkqGuqZalorSuybSBZVtyRWpkXHmBXmhxvLC1srmtsbCbrLiysIadctWvgYGgnbGooqCWvpbDua2Lq5Sxw72RlKy3n27Opau2j52zr6mv1qacvrJykoWin52ZibrEsqqfp5GVt7Z+0pSOt6Gru4KZg6OriJ2FxIq9xaqAl6Cwn4eWqKiplqaes5mWy4KwlsWunJ+ShrWzoJqprbOciZnWrs6Lq5qebbOYnKS3oo3VvqmwvqejlqOXsq2oiaV+n42zkdHDrLyxrpjBp6GBtJyqmJeYkbGao5iYt5yOlryTrrOrmaNsYU2MZmZPamxGglRygVd0Vmtjgcyvl6CSoHCZrVdPqqWaaF2XjIRZi42bkrd2QHVZZGx1T0dLeHuAtKeCj3Oqr5mcr6J9oqKms7mTroutuLG0j6OGuJKja25ld5iym598Ynqgp4ORbl9teaqkhruQnpOxxpWujpqwjramqsa7pLOfsJi+nYi7kIWxuaCFrYu/3VFds5uShpB0YJB/irC9iqufqYtojZTIqaOsw7G7qICYlp6tncuQjKXFhpzSe2KRf4GZmKq/pLarovixpJ6hsXyVr7m+f4V1fJHEkpnQc6uFlYi4bmuPprytuLSYx8KUjLanjbitcaaDlaiJlJXTqbuansV/ppSxl5aJcJq2iJGyvaKiioSczLyhpbago7aco5+YnLqhpMGWynel0KW314+ri43Xlqafi6e3k6F3iqdxu6yAoWzcia60qcG0dbumeYyNso92qJC5nuKGhpqlpoOBvaGajqirjVdTj32LTUBCUXVhZFdmXoWce0KAw6Weja6QrbCDnsepkmxnvpeGi3qKr4ytsKCtcFGsmIOWn1qpo8rRoKzEkHqumcDbr6Sml4OPiba6vLycmqaJnKS/nH9Kdmidxc+Wcn9pwpeGhG5haH2SxqmUkY4/epF4lFmQbmCbWnmKX1x4hXmYr4GYqLZvv5OKuNie2ISmZK+rv6rBdHO6sKuulsWcz6SzvI6mjJWov4y3l7SgmLeyv4afr8iVzKGOtK2akK6hjXnGsqZ3nNm7kaWvrrGTrN2EqKazf6+0nLyVbrl3pLqPz2efuqGWp8uVrrSllqSwpL/Gr4illY6hpryIs7B+u7CIl7Wtr7W8vqe3rqnBzYOjlXm3e8qLr6qWjIOds7HKjLyevKiavIyuo7muasSiwpm2tpmmjJKitZmwopuhv82xmZG45H/HqJOUiYmzkKKpq4W1rHx9ncySrKyNbKnGtLeoqLCCj5E6X39obExUQ1JWR4OHfGCEO01Qh7OLbLSij7Cdjqyit7CalbWggZmPvKa7gbatwXqjpZ+5ldulybi/pJ+boMCdxKBlpLyUtqCalbejzLGonrKQqqW5qMRVg0xsqcinlU16aW7HzZOYWVBpq4GbjaV7bo9rWmJyWndeXE9FWm1ndXCZcZ7EkaGgop3IoqO9sbGng4+Im6u1ckCNrouinLinpJ19i359r5Wso42QlpScubqtyaSslpuT0p6UtY2TuIyqhciVs8qpyG6XhH3DqJ6oprmwpqqYrLmMh3aun46ciJOgmbi9lZCflqx3tbm5uZqmvZuLsI6Ymbesg7COn16/oZiej6mmup+w0resv7C1iYeTm5GbnZmtj7O+jHuNsqSJoqeDpbOYjY6OmKKVgbqisY+plLefz7qzsJmPg5yG5NW5oIPNwbCNu59lm6S7pqiloJB0g2luk5a5YIaGkJF1dGSHkLCaf3t/S0GLKlVfVnlleGFia3N+b4xiRp5zmIuwkLmmf42TiGOQtcCCsqWDuGu4s7K8u5PBeJyikrCFmZa5saKihpKhmoCIl5eKobrTubaXu7+wjrKdkb/CwaGucVFmkqG4pb5qdoV9hZuxeVB1cKBxhKGshXqPa0VaWWF2W1dWZnWCQFZGW32jvpW2qaKjp4idkJ2Av4+iRluupqhdcp6nvHHXmKm4un+Vqqazua+jvJycsZa/m53Ol8WVzaqAsLuJu717qZGHpK+isKa3so2AjpmBjIeKsZmZn6a3yZrIgK5+kImmn4GjmHmcgIJ7k4SntJe1o6iKkJrNqb2ctZSLgoG8kaLQhbCXroaCuqOjkJ2UkLiQnqm0w6XCnJCYnLSXrHi0gquqvJCcr3+xn6GPqLKul52YkrmPnb+frpyruYt+sbe8lrnSqZe8q2+ymH3FxqWswJ+gro53eZ2ftll9fZp0fGWuk7fFrrarc1d5bnSGgHt0PEpKZVhMgHhaQkZjh76QoJ60u66vrImVv6/EzriTleWhaLrV1660uayTmsSItJKmqbO8gLihso15paG6w42YroaeoqZ7dM2jhZxshI3Tq3dXf3aZzbCxc2NfkqevqZJHe3rOt72ib5iMgbaajLB+fKGQdJyxonSvpaKRk5q2y7bJsaOSnJGxl6OetZJweJLOOmLBnpCou46pnbPBmp21ioC9jF61h5yWjJt9msuabH6Xt6h3lJqweaa1xa+bkK+hsaaqia2Ff62pxHPUps/TfrezjoSmqb6npKeQl+2zk6CzrtKTsbGqnra0q7Srlq7Gg5Gv0ZK9i6yakJ2alKnEhJuqqZOck7mfwpm/rLK2qrCalYtpjpa3jqGhiaG4kYumnLXPmpKNdsOei7mQe7m4qK6Vh6a3q5G9vqKokr22pbGdhZ6isb6zxsyTY51fX2GAnJNPiYmMc5lysm+al5TCqXpTXFt3glyOdFx3aVNOcWp1bG1XlrKIuqPCkZahkKKwlo2niXqqoY+ivaSAjpWhoLetsni/n6N/k6CgobDEnZGMlbJ/x6Wsm7t+tKivraOqm5KOo6yux5lteFtxlZOki1t4aaKMsaOcRZuBlreDmIuPn5W5hqbHr5imuKuqpriNnKt0wKrJaaKfmL6+p7KqmJZ+q7qVc0eIr2SVhK/OyaC/u7ezqJ+HtZKYpKjQspujn7zNlYqzvaq4wbihjaafrJbBlNOhjammuau4qZCUeJmjxLiZoaWrmtSoqMyMv5acrpespqSyinGdtMClp3iRnbWtnpCni4qF1aObrau0kaiep2p5vaqlgJSXZaKMorK1nJimqKKHqanDq5G8xKSux6qmrp+spayo0qStttKFpKG/mZ2hmqKesp2UqaWjua2Vw6WUsIazi5C4ind3c2y3oqmmuqXEhZCUhWRXeKioeIaGRsWSqaKmlJx4VnFIgEZgXmBaUmdacmV/Yj11f4uNiZzAvoKMn4+yt6u9c5GHype2z5Ogup64j7u9urV+rbebnpiykayfrsOQm46wnqyXgbjJlYXisbyxoLq1qqVt2KWBqWlPo7KcjpZWWpei1rKkmFVOi7SyxZGgq73HrpO2vq+Roal3taSrnqnIeJSscpanpHZxo62bl562kaGZw6V1S4Bdnt22m7KYgaqaio65vK+/q5KZoK2dnqSAl6zIrZu6sM6os7KWmZyLkpy0m4aS3H2LwrXAjdNxr6qOd4eNv6CdksLPl7Omg5uVt57ChXaRpYaukZOYlaSe5YuUrbGaeKbBpLq7lraSwpWhqpy3tm6gsLCesLGg0ceIpGmdp8ClnLSJr7GUs7XIu7GDu5Cjq6ato8F9p26gmvd2qZODuJu9meOSf528uKere4WwuZaDgrmzeXW8vpyrraxpYYBmYZSTgmpnZ5qPsWC0qXDCq4a5SVmbT1OhZmVmR2mVRF9pcmZUSFlvpamblIiWTIFvso9qi1TOlJ9IkcSgrbxeanN8XjtYam9tW2FvnLCMw8ykz4V+rZGYlKGcgaOVncSnmM63kKyenLqWkmBDYnShqJVne2F3h8OinWJij3Kck5GVeo7ssXydqaWCtp6p1tWxrr10wsKyuKKm35ytr8PEnYSOy6ikroq0vl1iRJa1lZOygrqSvaCWsbmzxq++s52geZmxoJ6woLubrqDQuLuZt5Ksk4lkiJy8oNSRv560qI7ClbPI1KypuHrKtYyupdR9i6J5qZbHhrewi27Hk5WruLTEi5CtvJmanbqXoaGVs5p/yZea3biqppCotLNyln6rupm6q6KPuqOshJSdjZuyuat1dKmYsYKTjq+N36mkvKSmm6utudu4n56fmo2ngJScrraKq6e1qKKQlIjJo5KZfavBlY3bpZCbi5KLj6NuoKCrZb2XvZ7InrqssGF8s4hlbneNY05Qil9bc4uLYnhBqZOeg56WqWB8fJapi1dnrYuQeFKljo3ITVmBYG5lSE2EY3qaZ7+jv6+ChoWmpaGunKS5qKSPm2ettnuiza64y4izyq1pgluBsKSon3ZuhXGr3LuiiDdfqJ6gkpqyiLSSoGfWkq97kHaelW+nb3ylp8Krj4Cet5V7q4+GsZSMvLrMtqayVXWNpqmwn5e0t8qas7a1nMyY3sq7iqK+s5Xdz4uL1YDLxKSneqDDtnV/j66Upp2r1Mmhmq6roLPJuaWXuJS4yqGDea2uqM2Rsbelw6i2lrF01LXhn7mmlKWHr6aYtGy0priuhLa0qN2sqrSTiczP27LSisDDr5qdt6KceqSDsrWj06mhpZO51a2Zlpy+nrC9f7G8oY+Or46pkJl5fZC0prGlmZaUia+/waabs5ydtJimu9WtrK56m9bYtHy4s6OYsa6js6GhncecrYOymammwmxfVoKRYV9JiHBxZV5gZGlzf1NWk4GX2pu1koZYXmDCqk94ZJuchl+bgJCKrYVYd6JugoeSbXN6foWzf4yvvZqkt7ujm7aRn7GVh7qdsqh2pNvIiM26sKSQciuOepe6k6mFN5aPo7CuoEhbdI6yprzInopvRnk6gHF6bIhKfIIrc01WXmW6n8GGdqGhjKCXqpKalaCHlpOdgpGFSYquooOrrnqstaWnyKWwyo2fwJ+Ti5+8l8m/0491q46X1MqgvJ6LmLqgkpelraBosJqKr7J7YmSGWoakeJWWfZOBfWJWeXWDgnZ8dGSAUL+Hc42RnXqDdYSOcpWShoCViKe7or+apZ6bq7KFmsDWr5V8nIibiqeSpbbDo6Sfu5bVdXlunZePbml0k9Xav62pspauloWSeHyPc5ChpqeCf66wtbCNo5e4k5iksrWcioaenKPHiLGWj5iWjJOUlou5q7mjo6SEommBnsmHjpV0bWtfam9OcUNXVYBYdVx0dV9mdlmlnoXQsH+uOVuhoZ9ldWqsoWtwhnzEoJi5waePv5em0ZeNg4Kfh7O3hmqWkISsYKaNsrWhv86OiKuNt5eSpKS0vqGGmVxiZ2qFuKt+XnRcqJGhuJSGYXhVkJiL5IpsZnpZaXeAQWOLYllLmXxQaGiKl5tijX66kZabe4yfl5O4ibynl6migqK5o717x8u1h4iWp76frJexo7O2t6CtnbO13qiYj6+Phol+ooqXoaqf0ZaYgpTEpH6knXqxdGR+k3aGl1yEWVZTYmF5anlPXmxbfGViZGJWcUtzb3pmYJiXamViS1Z5bY6GmsahopbBjpimioOys7lmbIBlhnFOemOswL2wl66IrZB4XUZ1MG5PWHGapLSduZSYpbViYVqEbJR3g7OLva2KlZ+fkZeun6qYrpyQt5TNzqugkLHBn3eyraKpsLefsJG9eXnLp76yt42Swb+rgalNVoBVW3Fgf1SAWFNvdkphlVZkmYukuoySqoVugJ6BamBxwKd/QWqzl7eRlMG0oamP5KKjxq6q0auztJKHt4+FtceUmrSqn6KYnI61mMKen22XsLt2kIaDa4aCvKyvokOBZXulv7eQV6FvmZGNz7B3Sohac2aCa2WQVWNWcmqAbGJ/mbKRj5zGfZ6oqYzIqHh+osSsqr+WoKqumMGFqLeuk7Grs6m7sZqzk4KSkZeLr4OOjpi6wKqzmKqdwMhwmLSug7qzgqCooNSkpaiDyWFyemOUZkV5j4p8WkaNUlM9aHl6cniDdGlpgWhXX02McW5vgmFgkXGObIPAo5iimeKox7meusaCmJyClWZ0c2xuTmwulrCqprmylqqTfkxiYXp0hXGWsMKemKacnKmHdJpvW3uAYm/TpOTFr6jRyaujo8qalr+tjs20wcyXy62asI2jl4CGjHF6naKRr6enn6WiocV+wLqRucyBaFiAa492V3aGLoZrjTBsUGJKf6Odk6mvob2Ie32moIRoXJ2qY1RpmqvGho18T45jXIZZalF3cVq0gbuklpDLvqOyq6KknIy8upShpKutjp6vV9GvoMKsyK6ipbGlm7+PpJWdpYebubqplayjnItmoX7Ao5mvj7TElaGspLSOpMm2taO/gYmtnqybpoPDqMKMiYmfqMKCraOqpp2piLvKs5/SfseCpbS9qquuqpp2ln/Iy5+2m6a1p8ioh6evn7CZqrKlnsKczZmlsbSzirRuhExadGFqWFhKTG5tYoo+lExxZWU5i1qXOnKKW2CVeVh6d3tioHOJdpBxh5urzc6fxoiwjLBsfZ28s21ifZNuhYeJT8uGvHmGu669k3dfVUt4bXRCpZlypaC5nJWuUkhVelBaUnWDvJmSlIKYlomEorzSnKCkjrixrpu4opivoZ+pr61xgXSId29rhbZ1dbmqX7h5nquvuKmYflZlP2todHWKdIZ6bolRVXxtV1up1p2PrZ+UhTN7m61ia6C5tpFaXp+jzblpfF6GbF8ygXNDdmVnqK60rpuPe53RoMSfrZOhk5O4iIWlwp6lutV4tpuVkX3EvKuwv5WWtZKRi5KWubG2v9aipp2WqpupcrZzh56YuoS4lK6TuIyZup+TgKCNqZ6ir7S8pY+KspuqeaK6h8i5i4vOdZutpaWluJCqqqStyqqzobCAtJS5koGNm5yHtpOXq6OOcIp4pbC5lbKgh5/AsZy+lZzHjmxMcWh5hZVLd3x5b2mGimFljmeEUGtxXppqZHCAXUx/ZXWLRpJ6i1tdkryHiMCcsIiJuMqs0Yi2rbZxWmNdjV1scqqM1LmQrrmSvZxsVGlnSWZbbpexoqSjrpvDkUtSdXFVWl5mjYKWqZ2bnbTRp8Gknr2Nm5aehJ+wl5eeeIqRjqyooL2lvYxrnJ++QEChXFt0inKYq5yUmnJ2b3pkcj2DTW1obkJnbGdiV1dNmb+lmK6nvpMvjqaLRHSAopx+TE+Cd6aYlGJtWYdif1+0hXZwfqupqGTJmal+usO5oqmTm6mWrHaftca8nbfAyaCxjpmynZ6xp56We6ufupuwsa/VlaLTsrySd3rBi7OykJmtuZa9f7OUwpiWmbeeloGAoK6wn5CgrKy6mZK5qKOfl5y6pb+4pcOWr7+WqKG9upqwoX/Gn5WlmKeiuZuoxZupmq2HnqmLmHGnzp+yw9Kbq5ZZt46WuaDHq3NwZ4Fog3BhW1t2fntdYWl8ZVNiamyJcmBbVq1OXW1aY1Fsl22Ef21Ub0+7o5KTmYuFupGhmpmcqKmsiJOPhHKCTXmClqfOp5/CpIRtRVdlWGVih1KDu7awrY2lrrtVdo55boBaZHlujrqal5C+p5ezmoOprLKhrbiyiaSmeIC+vLuytm+AioWGW2Waynx8dHR9ll6NhKzAjrNkT1pkfoGGfnRoRlBeaUFcU1yPToDKo5aQk615X5jIi29OepGyd1COftCxo6O7rYe4n7ubgYS+fraXj6mLmYB2osOlxJy6wK/LpJaagoq2l3uutL2ioKaRmoqrmZLMsJ66kpe1ppuav6Oymrmmk62slqCEm5XHu5t6oLGrv7unoHvSpLadnJ2uv4KNtY2oird2rb6qr7equpCNr8S9fIfZnIe5oJ2mu6C6o4usdrWut7aIsrTboLmTta/Lx5avqbCZmZqqrLOTiaS/daGNmZiEMXBxek9rfl51j2V6Xn9+cH54XmCGWGR+hFtwhltMTXVzdFJvSXtUfotoZKm1uoK8jGjEs5ONiraRjZZXToKrTFFbcKSol423Z6aypFpraWVjZmaKcqKVzoqJmomrcGB7i297c1FNrMqHt6yQiNCUnKa+mJGuwaKjf6ipkbGzkqSXqaWQdXtlZ2KBjpFsbIqYf5BaktKDr5eXc3lUY5JmZV5SYFuEg21yi1eBeT2VlsJ/tJ+YV5FqsbBnSWGhmr0wSIWpn6yJnrKYrLyvjZysnaGwvKGkvZSAuoaKpZifxrWlmtKb56eaiOe/p5OdzbyrpruMqY6cspyukLJ4j5elqYWYf4eflru1m36jjbSkpp7at52nm8Khm5+EzL6qoKmGt4lztKyLh5Gmpomtwb6xmn2plJ+uqnG6nbWLkIu7p43Bk8WtprWam6yUuZDPd32bjqCquYWdsbjEkqexr6+etKG3qNptwIOvrWM9bFxOb4NpPnNLZ21mZ1hejEp4bzRpZ2BsgmCKYJN5VkVcYU5lUWNxUKR5uKjioKCmrHSlfsaNnr+YbnV/iWeAeG7IfnygpoKqrZp0SlZ+ZFt2jYGIoZOguLmphoZ1fXF7Zl1PgqyLjainwojccJC3k4WofaexupKao5x3jbOTwOK7rcybuK2ykH2cWlqkoZqEkJ2ro7CUj3pLc4qPdDdpbFNDaXVBc41Xj2VpdaeAy5LOm1t2n5aTe6GDiaF6XoRrpLGhlYaKfICRc36NZGB2d5OjoJ/QyY2ntYO7oLmzt42xpaHBkaauprGhg5Ciw6KYmsW+nqCYnau5hJzFl6isyLCTlKKcn8N8pKqMtYyonY2Psaq0h8GgpKm7b6K8kKads5zdoKynrbuvuIaYo7XDwZvXkrqWo4eWi5uva5tzs6uk16ugkY+Lt7Cyt6OhvoCDxrCCrJrHjJaxxbeRrJerqpSZq8CyaZ17iHdeUpNceWl1iKFvhWR+hnZ+jV9ncmGWVW5qYXBYiniPdpB/d3llhFyXpXzDtJZ7r36flF6hi6mbmGuCZ010WW5Lr6aixpievoNwgFyJUG9iPWhwvrqaeMnFbaJJWlxNMm4yeoyNyJuso7G0oHy9zJCGwJuUv6vMwraWm7KjnKnJyXhalFFvXou6ly0twalurHNmm32TmIhpXV1GXnBtOkZJa1hHMzpgemlMMqOXm6Cvqn94UmSlnpBmd26miVhwj7GZlW5IgVZ9Zy9lOE9AXYycv8airaWpc7TKlp2ktciklqK0sKmciZ67tZChs6Wki6iVlbPOpKmPkpGIkYCWsrOnkq+aiqSNlKOIn3ucgJunt6S5wbacl6KPlbOTlpqTi8SCnqy3rpSXfZ6zsq2Wj5WCsoZ5mJK4squmsrWQlrGCno+6p8KpzJyTr4DNfZC6irS8q5uhtsGcwKStuI7Ft5fJxX+Bmq2Uo+DKoKmmYoKuh6GTqJ+5apGkvcHJmoXFX6u1gMKfobOyoZmauJurvL3Nub+isq2xzai8sNOmj6inr2SQfF5DZ2haXIaQv32Nqpu3jWxyXU6POldYwqyfpqWTo5+0jV6EaHg+XW6Fv6eKhrepnqKxkH+0tJu6h8uQhLWwtona3H+Qlr2OgqG9jIZ0tKaVlcueoaNrm4VtjoZ+qH15eYGbp7GDprShp4GHd5mTfnuGsrDXkdqgiJaMpKZ/bLG2nIpLen+VeLODf3xReFeLlzZ8aEx9unGfto6bkaabmI+OtJSvpZ2qqd62naSwgKqbrrPErZKUoa2vsayUusGWjKjRsr98n5yvu6uci4WOu8mhtNKglp+Ds7G5q863lpWcfbOdxqiwuo6SiLGbsam/d7edpcietpauk7SsnZF8xYfHwpStp9XDl5Koval4ubbYbY2Je4Z1cbCqo860lKt8u8i3vcKDwcuqraCcxqK2uaJ4sKmvvrOYuY+pq5WFkKm7qo66l4ySvJmvkKOxqpGfoaaPupu4p6aufZ7QsZ2xkMDJnovch7GOW1BjYpN3PkCAr56SnquviJNdSnKJiWGBapSDi6OzdICNhF99Z4hAfW91dq2HqIu1oKaLnrewrq2SpJ+dspONpYykwKCeqLO/obmdw6mvnI6ZyMiehZbKm7mxd5aYiH2yiLCvo6a8lJWtfcCxq4GetaublJyWuJiSrLmJqpWPkJiakJKTxL+Sn6+tos6ChpyAhcyqld/GksaynciWmNaNvrmjsK/Nwa6nhHeO2ZF7icTb0r/Ar57Gh52e2ZeeiLy2i62jsq3SwJucqcOXtprNimiOpb2SpNDAs8abi568jJSqnIegrNS2knygn7C1oKzKdZGczKJ5tJqHyb+0q6mmnaC/jqirrNN+pIPAr5ujra+jlYOYMGFQNnx1aqeQoMONqZV2k6uHpcJzsp+7dqKzZH6vm6qwl417tamQ0ouTv5O1saaFhoBxo5iSxYmgw8qulbO2hY+biZqcq8ConZq2qK92UbSujJmkgGJdbnl6ZGRkjJSnpa2hjpaVnFtJP1lFe3qm3au2e5WFj9B/iZBSZ1R+dYalsZpesbSRr6iKmNi8pdObrI+QvICavKmKsaWHhonOj66qko+8oIKCnqalrqyrn724pZWPqa28pXegt7qqgZatqKzHpaulhbKRptSOu6nRgqevqq2Sk5CLs4nDoMWRsI6ZpLu4vaGsnMCazqmeqKalmcOmba6ym7yWvrO0g9SVmJeVw7Wtx7qgs5+5paWQsKaQrbah1bW0wJijqKK1o6q0uLKDqr6ghn1nqMJ+u8Wjk6Swa6+amW63oLusnryty4i1naaIvoCtuYm/oK6TrIWDvJmsdKWGqXiil3KPhaGZz8aumqaTXVJdZJSZindkbH64n5quuKu3tcaUmpKNqoimj5eaqLrEo4LAnpyAnoCmzqLDtLulu2y0uo+DkbCVo9GunpqYrJHGp6Kema3Po67Ppr6VvbWIodqelKTDlptceG5pbGlYbLGfpqGLf6euiXJfS3p8Z5Vvf7WngZ+vxbKuf3lnXW+IbliOjZKUoIu0vcyIxZWaqbCxbZ/Cna+goaF6nn6VsZCNp8yjwa+xlafFxZuzgKidp6WamLeovcympo1vp7usdcqxrLuMobG8pnZ6kpKSuqiHtrGAe76ftMSO13yEx7vHvZuRnpOcqausjLOruLmJl9qauo6Hy6KqpcLCvZqXt694s3+hjKdzk6ummb2oov69drqJrL3aoMqvqIeMttGYt7mtebuWhJS2uqy9lI+hoZiHmaWksKS3kLqQlrqsw6iQla/OtH21lsjFp4Wensadtp+4z5yUrqmdtZGuvZjJu6GPqLOfqMbQaGRonJy1q4m0bmBtZ4WXxuKnncSjlpWqjYaRa5udxr6Bq5m/nKKak6mti5yrocS/l7Jut3yufrmog5mzrJ2PT6XFmYmoln2ttbSJt56DksiKqrO9y4axl3x+UFBwamlQO3KuwbOKlJR/l3+GZX9OS3lnUXuopLGxwaOMj1lpcFRqk3VozaW9o6DTgbGMlLKYwJyzrqyYwoyx2MmToreorrywlrOqjba7p6uwdnaomMOblqKsr7O+nKJ2g7GryqdvsZSBwKCbsLzBlKmSpam9zr2OiKyezJWtp4m+q5SAoqJymqehu4Nrvai8rJfB35i+pZSInraWyEyol77DirB7hMWgln6+nL+Yma2Nv5N0iLSLnpiTnY6dvJfAiMLDjYWqoZu8p6yeeLW9p52sx7mOlbGPkMi2va/t1I2y0a6yqb+ZobmjtraSq4qznaOTqoqVibKpo5a6t7+ctZm4p7+elrusgIB3m7ySiVp+rqGpyaCSnLp/XmNkjcR6oZ5/jX2uf6GTmKqerZykq6CjspF0oMOKwMfFw6ejkYywrXJ+s7iVjopsi42znr2sja6lqpOzq7SY26GT3IbXm5ePtc2Up5HGkFxucX15Z3Ommp7Jwp+fosKFiGdoWl6BdUKRoo6ox6SseX5uaVZlaGVvipG1vq3CtLThp8WhwIm1r7qexnyaqaLAoKijwpuTzre8lcDKop+gd7S0z5SNeayFqZG0jK2YrZCxmpr2pY2sfbTMsqquwsmDtZyTpKywm5jQp6J5nba/mZSBpqqHfml7up+RrZCbs7XBoZuex8mLpcS+p7W1r7K9v8PAvsO9mLGO1JiRsobIu7GkvILOnYanroio362ioq+Ohrmxw7yXwpmuyIySpKmjta2Vt56MoYijh8OKpZ6ikZZ/pcehqpqtln+6hbSK6r66lLOqtIGZrL+eu6/HfayHmqGlw5WTuJiQs7mirHpjbKa6lcPAxLKgvXdVVpzJhZzR07unlay0rr+dsIaqvICUs5G+zJWnoKGas5yppXO2tK6XjZHWsJCVz5WdnXKXr56arqqFlaeFmq6ftoWok4+LuX69urqgqW5pb053g0xsYJG2oanGr7ywqWyDhFh8hoeIfp2WrYqyq6KPWpVta1xcf3K7qa7Hq4mXsKyWtbmejYiop4WXj3aXmr6osaGhpbKZuZ+3b47FrXehoYB+sYOSvLa2kqDRx6iOktF2eoCw0pypwK6iop3DmozOsa2cpnKdoLGMspuKqLTMhY6qi2qmeK2gf4/UrqOwkaCxrIyiiLWrg6KhqofHjJWxq6qXyqqdi5WvrX2/i6C3uLyLdV2XpbWpmXp9iqqLwXS4nZN7pqCDp8x+f4d2ZXmWW5FkbYyLj4pqkX2ceJRuuqagr76M1rOPiImkop6Ti8Cuk6fWpK+yjYat5K2siZeUkKStl6OcnJmWtZtzjUqzgaSQttyvurF7So+dssCxh7ejqnaJwbKZq5PPvrWTncmrppy91qG+qbSfhq2hk66Lm6Gqh6Gstae8fJ2qnpunys6errGQurGcnq+dqn2ni6OOnMDHlqdVRl9mdIBmXG9qpqy3jLuNoYx6SWphTkNneIS8qXaxgLmunoKlfk9jeGFqZKB8vqWsmM2gqX2Wpp6Pqbu0qJeuhpuyd5qFm7SSp6qotKi4sKxhoKC3qItzkZGYy7OKlp2jmq7D15yem4+qo5ODrMKOnZG2mZaplq6WrY+lrsOY48J+l3aDqGCgunpxnpCinH6BmbKbvbOgoLumfZJ1vqewxaqKipqoqJu+d6O2jJ27t3mNsKW+hnd9Y5eWvW5bc09nuXV8qVFfWmGTjYDIpm5ZXFV7d4laQn2BOWNFWGNjU4tOpI2smpylma3TraiktZC+l510UlxfQWF2lJmEl4yWsIWPoMaf2H2xod65mH2nqqCWq7ahwZqqqIujgHxXqZBteZqcrq6fe7K/kq+WnrCRgpm8VKKAYIeGjoSSk3SQWnqWf5qikHSJhZWLiJV5cIx+rnR/kYBnrIWBoqaf1YKYuaWDj7mUrZDXc0qYb2JiaVuWep+2ubakpaSBe2BqcW5ci1afmqqQn4iQp71chWM8S1JySmuqjqyxjnfLs4mct7+dsbO9v7q2oaGNorStutWavKe4ta2lkLRulZ6eqImRe6+/saqOodawoounmLeuoqmspMCDoZittW6orYSkqJmBlq6ntrqWqaOhjaeRsIdftJFgn56DmqSye8igzM/Ez5u0n5TRn5CmrIiEwbPKoKSgkX6Xire6faWuj7KPk5BriEx/xKOEqlBPe6OOrZSDd1mPocWMk5dKhVNtenZteVFPWXllcIFqcF9uVoKWrp2zrZ6rloqWs6+Zg7VeX4SGq6iAX4mYr5XIkoaxn6ySvp2pm5eaucSplnyaj4SGu9KErKudpI1hb6XC1YinjpSTjZiGmrGHgq+QbEhRZHWEkFRcgH2BbHZ8bHhjdWNjfl9cYFKTVnR2XnV7Vz9maVREaohrmpaGxbSEprm8rpekjH2NjZB5VmlVTW56cKeltMKRv6Gil11ZTGRqU216krKnp6e6r5WMiVl8cnhOXWd7osiimYmdsI2xmMDBpJvybraT1o7BrbirnKagwJe4fouitYa0hIGSkoPLw7KxqY+bv6qit62qtoCuyoiLmLCGtrKMopvAvtSfyKqXcKmdW7eXj7GSrL20rn53dWeFgLKIjqzDu6ONnZufmrWMmpB4iZCosJGTsYHHlri/xo2CtqyBy6ynubums39KhTVhmKaRv2mIVlGUl6ulVVY+eaWjjXqbnZ18k3VHVzN8X3lrT0x5aIR7kluTvpKatrbAr6/PpJKgrYmLeml4urXAjJ5ig4aagqql0YRnwKaWoKu6oaGSq7yno7SWfXm3coWlkntqa4eQt6Sviq2plqSHmau4w86rdEaNgYmAeZpbZ4OdYHCKcpp1ZIWXhnVRMXFMfFhWgmVhQ3hobHN3cEBuVrGdepp4wJvWoa7XxLmP2qaaiXBuaV9zUmzLsq56o7Ruq4pQUklSZIt5coiOn6yfjaqhv1d7jGhhYYFZd6ivsquQw6e8sb22fae6yaCVwKTYdMqof9C5vKWli4yvl7Gslba7ubmcjtCoeqCDrqGYuIqNq4yNyZCqr5Spn555fIqQoJh5rqa9krmoqqC1u5ip2aykpLa0lH2Yfo6wn4mDkZm6vZuLiKWdmJaRn4DAkqV9wJC5r4yNwLOto5m7tLGrea7D1LmNe4h5aoyDkKwzhXZyqaaxhnxZaX3fkouZwqu1pKWJmJq2w6+kt7SYw5eUuYaijpuUmMWSZ5KNjqDOl5mHYFORwsWcr7yBJ1eelLKVp8GXmaayc5q2w6yhfa2Tmsi6pqKJmpKAjE9ceGial7SjmcKxrrOWvLrJtrmqnpJqXYNWaGyVW4ZSfW9uRF5Fc5BMeVRgc4dWOGVXflVMco88Wlk9bo1dYlSkn5Bum5apgb/Bcp2to6KcWWZ0c01mWVBivHmorrqXwYp9XkiDUWNpZ3x+qr2juGW3wbSSd06FdGtzamqsm8uIlKLFz7KcvqytkanDq5CnmJ3HhcWxo4a4kZ62hrG6moKhlKenhr+0h5Odv6eiooqcn5S7uXycvqq4pKKosNGql8mhj6+Gt5KtjKWAiL2TraeqxLKKpH6itHytjb6lnKDTsZaYlpLbr6CXyrCjjqOsz8KHnG62rbqggrWipq+Tu4+iu7NzmH81bHmOpLSzY3SEb6hnnpJfY3ecrZ+OpaV0kpDSzcHEgaCHfZaZo6KgnaG9rbnCp6G3cn6ki6ycpaSbtGOF1bDHmbK1sZUis7W2osWrsbrFiLuyh8rEp5WTk6SUtp6pjm9BRWp+dW2SkrK/YZqIk7idcMOllqqqpKh1Xo9HWIN1VXlFVGR5XHZtZE1jOpZNUnNTY3JCfV5KVYldVW5YkWVrZZ9wgZe6rKW6nKi6mZi3pbyMtIZ4ZT1zdk9vb6e/p5CLjrWtl15lgXdVlXNle7euvNWWz7ibcYJsWndrJoGSr3+LhrORrH21say1sKKrocu4e6W1kcWiv76jfdazg5iWsaSPpJqSkou2hZTKlIGbsqPC1KOtm6ikuqXgtKSgwqmvrJqUhKCdsN6io5OKr6iVr5KTtp2OjM2lkKSOyqeNlr2mfNCdtsyLrcWfsK2TmoacntuvtayxwqeSoJiSv6KUn6aipZS/r5Wgg4yKqMnez3x4coKox8iGHUpSjpe2uaG0sI+tsay9kaq2n5a/yaaerHjSlKKiu6SXtqy4ha2Jzrm5k4iSyrqUh6KOu6SXboGvitaKn7ueo8iRnsayjqRziYmVfpyWxqJwj6Ofd32GoZWgg6iBt43EtsyxpICufpytkkdTaF9gcV1rlI+CazZwcnZJc55ab2FcaHBTSnppamooY3tXYGYwgGVmiImQoX+vrJSppavNtqWhu5iVslpfgWlSYGTMrZmszZCMsLFDXU5uaXhhdpi3uo+JmbC6skBeWI2QX4Bqba+EnpCvy6SpoIaapLvRoKDBhpuGnrO5uraWrqLNdKieqqSFmKyEhYWzna+liaGkqKTCoa6kin2qoZmqw4iVkqKTqpWmsWqZo7mamY6VmraliZzCsaPLsJelsaGAuKGod6bHm3+jlJqJrIGrqImyx7i+kpGqnJyvnaKvoK2paYSyjZV2opWzo7iBloRsVJnBlqh1VYNlrbq2joymQVmawZy/jaSDfIt/jY+IxKmXp5WGsp2/fJqUrbmdqpSvwKd12auSuKGeoq+vzrGbvLJcWUmysbWllZqwq26lnZmVuKWSuZ6x0ZWYt5WIur2omId0P6CUm5ish5Kam66ekYaxroqL1oRJeJOWc5phdZVncGZScpNmnXRbeo1daHhmXl6Hc1mIdlZhVl5RcE95S2SCppujjamxt6l/g5rDkKHIj1OBdmBgjnBqlrLDq7GmpsJtaIB9TGxldmKAxad8ro/RqpVsVXVVZoJxdH6BsLqbhK6wjpyTfJitmKS2nHbHm5uprrGWiau7xY+efqmcwLGLsH190q+snaK7pJeejryyv7i8qaK0to6bkKaYbp+GqneIj8KTeZ1moKSRwJecoaaYjNnFuruerrTe0I+rrJqAsbCpisWY06aIeaSZpqGStZukkLaRoYKila6ksLamo6qtsb2H0Ix9anGYrqqmr49HeZOnmppISUx9pbKBp7lFcXiIbnZeV4paSlFfRW1odWxNOoS3kZSelaawjfGtorTpspnDk6l+b4BfVmjFlqPQg6DAj5vQnLWioKSWsJKXpKHIpJ2JrZyP2KebYX9llZKbsqSOqaWbp6GCl7qVkMejSD5gVm5uY2FpeHxqZXxoWn5HT2JFdkpcXV1leHWAkWqCVV95U1xdQ1yHb7C3mbCZjqitjduVr7OevlhgdnZpXHZiVL2TrLaye7u2jpJfVGQtd2Nhg5S6g5+XlJS4UIN7fm+JdHGIsGCsnbKliJyssrKXw4qEqI2gqLKepqqQu5qtn9KopqGat6irlZCgoLaejKCmmqiJyZyWoZWotqiomqvHspKssZGCsqa6f9S/kMjEvc3RfXuwlYvBm42LpqKnl6GZibu1qJOWoc2j1byUesWem5OjgrqsjaadqKfBttGloMKUnrXCqYCch5ypmrOUS21arat9r2+OeVaeuZGgdGFdcY60mp5PinRkYT5YeVxxpClXVm6CaGmEcC97obfEtq6yrLWhdrOFoqu5nq+6cFlyTlmmq62AkXKrn6uxj7J/j6OixLCpp6mAeo2zyKC2xKaqj5Jmgo2+iJm0nb+8oK2om6ysgZKsk3xYeH9YeWN2j2dxbFR+jXRhRnF4aGmNg3ZiZ42IZ0xpe1B1Sm6DYGBnXZOioaFxtJmnl8TQn4+Vn5hqVE6Xdm6BV32rzZ51n8mfmp1iYWlTX3SPgZOpf5eGuKS6vIaFWGw5WY5Cs6fHzKvLo5qlqKLcpI/Cg7ewvsOPm6PGe7GbocTJu2enn6WdkY6yk5OlupaiobDIlZHXj4zBh8ysk3anh5OZi5CVjpPHn5uid5ifp6F8ZIaUun+JnLuRh8Wrqricl6G3jpnGkp2mrqDKxbm0iHOZuJ+SlHSjoqimp654taW4uauyp4i3iK++np6benRuaKmlf4hNal0ilpu+rGxZZIG6g7mrfmdjbGWYdEdXZVJEbHZ5VXFgR3o/W8fPe83QqbS74LWqrIyszreOmZ3HooCCj7TRraijp7ahnLW0g6C7m6CUm6C1jFGJg7mdqcl6gJqPbGiAq5mnqa2cqqmlkZWSu5S6tay7t4fGkdWcp4GNhqqcna+vnaK3rKKUqI6Ilb2XoKOjn6m0lYinubmlecGBpMKFqbuktLSmvZOhep+pfF5vTohtgHldkrKdsZmEtpBnZlJlTlt0RHO+kMCtzcakoYSMdFJwXWKIj4SfjpV5kcSqpZmAm7Gbo5WXituIqLuxsZepnp6smqS7l7mNu42Up7Kyj7ipppqlo5WqmqWkkKC0h+uquJuvj6GOmJ+Fo4Cml7h+msixpMK3r5agjKqXi7CiuIuklcCbfeKYkJGXw5iRiIa0dZ+UkK6Mn56SqoqzkLe5o6q9qaCno36ZobO2q8Gbt3JZZ3OXhZ2enm1rZMyxmbRheF2BirK3o7tPc2+plnhwi0KVo4xmlHpzkoVoZ3invqzIlKCyw8auxa+0pYiGlra8h6u6Y2OUnratso50k7RtrYaT2m6Uka6Sn7d8i6+2yp+So6SRa1iBm8aPsbGPq6iuupLGvbygkqOikcB2kZ6zhH+N0aK3pLWEmJWhw8ykq6SpnLOTob/ExK+dssCgi5vGuKyyoIi7o4uMss2rpaiSu6eisYwxiW1khHd+aqSXrsCWwre/bTp6cGRDdotzec+xoZKvk6iFcIVpM6+JXXelhpuvo8arsJCdpHurhpuuhqqyypeowJC7sqOfnJ2FzHeelZanq5uZmcvQnbqEm5aDfrqmq8LIt+23pJmmnKCanIx9qoPQt7mOo6eWnb6ip7SpkqqZm72h1K3ambGjoJ6dlYyQjqDAsoyksb60q4PBrHabqtOhp5mjnK6vzZV4tmazr5V8wqmYmmmDSlV5t8qnrk5ZfpqmrYd+VlRejbXKpsOZgb7ns7PRwJTFqaGZyojJu6h90aO2ZKi5oJewkaqUoKF2ktSSUXK9nG6eqY1SmXmarZ69pZOakZXeqLuWhp2ZmLK1pn9QnKPIusbGq2tei5qgm4GZfHunpKSArcGZmnF8qLahtIiho5Gkf5PFnbqypKq1k6HBtJSwvpaxmsHAl6mjpKmvx661ucuZorWwnHeoy3+LmI6bx8WffI92LX6uS6ygWlaOh6GugaS9sItcXHJQVHVxaZqdnY2bpLeuo1+JhExPQkFMh6akp6XTrHimppCbxaaWp7Sjoq2oupKziKG7tqPOsZizmb2Onbe4rKyxj6aklM+SeqeMpr+Zm4WMmqeZy4yvtKmeoMSyucehvafvbZyijrajzad6somunJS4qoqdtqaHsqyakrimu5mAjq2HjLi0naeFnMbQlZeOlpe+47mmoYm9roiyla+Mu46Ti3hzTrjRsMVmZGd2s9O9l2d7aEWtmrOWsrKnzrOmnZfQ1LGluqyWqaSjm6uymKfEl6LVuZ6nho+Fnc2ef0iiqrOSkpmAdXmikaG3ubSFwpaAxNevrMycnpKwqbB2Zlmbe3dgr1Rga6itlp3FwrjGmXm6oYOli7+NmJqysJmXrpqgjK6Kw6ZfpKO0wKrMj6eEvIyipJmYl7GxmcNysrS8oYiPjoyrqKeDtYXIxLLGopOllcGRkmOCXUZhdWRt0smVlKazlJWpcklSWE5VXIaQk9KmnYCOq5aAcnc7YJOBbrDAmIemta6u17KFuZGrt4ycwIyBoJKygo+8kp2es5GSrHKItn9oiKOjf3t4YY5miZGAqZKle0Z2fH6El32qUoV8hmiZql6bj5ZpkodWd2Bfjp1Ch42PZnpujIxzmn6LnI56haaMdoO6h4+QtY23ppKfsomfl7Gom5iWorOYjpCqpLSqm42Hg22V0JZsgU+QoaaPWFCdcOHRjYV2Yl1/zLKnkMaZoaFutqJ9oZKgoIGxkoWEl7mdroKGkcfVo3u+prCakJjFu6BmgIfNloOhcH2ipKupvMjCt66finCInoGhrqa+pq7Ae0yFYnlvfDxLU3DGuYesgqymr8CTra+Vv4ambJ6wqc2SvJCBra6fk6dvuoPCqaawt7uMhZvIjYu/3JS9cMG0tJmMq6PHsqrDpZKshIaiv5iz2KKWeqafr351cl1UeGRrdLy1nKOhoa+ch01xbVFLemlrsLKCuLmWoo7NfWOXX4VyZoObr725o5bFocCMoJjJmr21q+VhtpO8i5CjnMqcfZeSrn5oWnpfYG5jY2JUYGGBcUpNcmRaYXlNi2BRNmI1ZWFeTUxIgUNbU1SEYmhQbl5sUVRihF1qdHVjXGRVcndjc1pjQ3tcS0pdSz+nmIzJhqeDlIqnm4argMeIrLCyrrWNn5eAfpibjqCwnbWJfm1LlYqKvGhAXF+ZpIpwcW9Sgbd5rpa/epSCj6yIgYtzYWCNn39YqYCcsIZYmIqgmrCJm6qGoZaasaZ+qlV0TpFPW194jaK7g5GBmqqRmcOPs5Cerr+Tj6qNlqdwmHByhYRoTZnDqbSlyMuWtJPAoqSQjqeiuaWQup+HpJbTl41zoLSndKm0ip+rfZGTv5JvsZ2qsJ2HkLCzka6XnZWllZqpjqent5Wlk2+zw7W+y5GSqZqsT21ob1dVVD+vp5edoIKds6VYcHFxgmB7Y6espovGoJyygnSUfFVaXVBjlKeokWq/qqCIebOzoqyQe8mdtZyQl7HPmsG1lqiHqJ6Hc3xie1t9aGhxcYhse2thOGR3gGt2UkpbV1Z4YW9AbUBzZn59bmlfa2xkZHyKRlJlbI1YY1NmTGGRZlFPal92Ymw7eE+AQn1qS4q/qaCoqo/RkbCtuLyKon+pkYSav6OEn6SovYiVyL1tlER2WZqZkHGSVWSHmJyolmlzcI+ilnefgW1FXWBTa3QyVHhKaV1UTI9lTG5fZYu1ppuog8KIprGupLKol7CTSWVmY7Gotdq1xbqkmLC7h7+Gvq6ri6aDopKauMq/sJy+w52sqY7CkqGqlK+Vo7jJrbGerJiOtqGTpbKelYyyy7e7m4ebpJF4sqyBlYamsJ+akrdyd4eQprWnoZu2nbOMs82Hn62on5uRq9OlqqugmZ+7mq68f6huSnZOZD6SwqvGopWVoJ15VIZgYFpemXKYobi7qrB7xIt6f3NwYGaaiGiepMibnLOZs4GKkcd+v7C2wZbIspuXipitqKqacrp8ZnNgbmdfeWRkcFY7VXR+YnJrk4OBTk9OcT+GY1FPe2xLVmJve1pwNWB7ZEtIPHJ1ZGBbQVtrc0xiXmN8UH9mUj4/fVJ4ZktMVmKBx6DCnqW4laaXo5GltLClubOQl7a1t56cuaqDrMCzkXNKa1ejt4+YfyVuhquzeVVrZ3R1ep6OhqtXZGRpUlVwVmViZSJtUHuGZmB+R2inr8uh0IiMqKOtoqmvsbXEyJKrtZ3Ti4uqnqOwp6HEy4iamqSNnKOwm5CIpaPOpaSnm52Xo6eLn6h3v597wrecmJ+PlKV1obyksbd+2Z3CrL6Qp858oc+nqHyGppycmZeRtpqCq467i4zA3ai+kLPUmoGvjqDDpbyLm7i2i6O7e6KpqqCpnX6Te1V3UGhbcqmdsJCmj4B/UIFTbHZ7PFZdmLavl8+ksMimYk5UgE5ESnepqG2XyKKM1InEg4/Bt7nJeJ6mr4eloJ2m0LG9bb2jnoZaPoJ2Zl1fX1piYHhEXVVvcnlAfHRtgUWXWmJqVlxYbaKEYpVnRHtSYWhHYHOXW3pra2WFa1RtaIVBVotwg3NmbWRceU92VWeEsLR/tMmDjqOvpbOgt6WMn6WRp5yurZy+spikgsiSubKTbm1prpOJoWdON5KdkbuyaW91epewmIlaS1tac2SEWiA9foR0h1Ngh1hHeDhksHurrZ+Ss8x3jayzucG/tJOSjJKlkKmitIGkqtainLh7tcd4rIK3lqmN0ouAra6upqKJvInEpp+1krjTsaefrp+3hZS+1IjPiJigxZuXjn5iqGKMhn2WnJqbhGZ4gLCjhoCXhqx9oKR3sqaSt3qXfYiQuKyLkYyHs6SbmJeHeKiFcZusmXedRWFvfHqFe3CZqpG9qdSVloxealxZh2ySWZW7zMOZ0ctygnZlaGpddGVzup9qra2YlLK2oKedmK7BrKKElK2Vqp6t0c+rpamPqrR2WFZTYIJacnJpiGNkRUdtlFtxU1VvWWhZUEx6Unxcg11Nbn9UX11OZnJrVV5gYHRibGhPX5JngmSJNFBOaFFsOExtVVNNVoNihpGOtqazw4mmnaCdrY7EnLOvqpCgi6WunJ2RtqltobutlKVulqLOdIaZs26GoYKfjoPBhrKgp8XAa3Fymq59dWSSjXmWiqGJlqWpqJS5oqmWqL+wuYaYnY2CaoGCsYXEgrennpHFyaKDtqWHmsObiZ6hqavBt76JnKigsJiM1Zelrbysu6qTn6mSg6e1o7GVr7Krpciul6COuXdfZ3ZsckNsbEuMf5RgdVVak4R4bWdReEBJSjtxaml+VnCGcmSNjK2cUUSXjLOPk6SQmsmLfbapv5m3lkCBf4NlX1lhp6qqxJexss6jW1lgf06GWoyOq4ajjaisnMVpiVVXdZV0YrKZosbDttOojaaqtI+8or2WypSNoqDOrKWypKKUf6CsglNeUXBrZXBwJmFeamBYMURzRGJ9eFh5i2twOkRdbFJwZW6Fb4ZfV1s7UGlvXW6CeVtyi11pbXg9g3Fmi2dVfVZiTUpaYEl7QZGEncLarp7P0L+XiYqGs5C6upO2p4+zpb2gnZK+tt7Mucy2ltGxyYqQj4G4tJeyuMOJvY+1p8/EoW2+l6y2sZienoHPeZGkg7SPkKCJhr2+p5/ErcSuv6+WvnugqraTt5Kii56utISJlaeh3KaJlZyosLCJnayppZ2tk6SWsrd8vX+HhYePka2W1LmbY3mWsbOumrG1iHSvpWWUZVxhdI5WaWReTnOKZmgXhmNTX3ZDhWJcK1pkaHh8bo15WYJkiodtdmZSnaSItKmnkImUo5Cgo5eoqndkSyRrbX9Cl6aNrbJ2rpOljX+JboSVTniGjqm5yLeyqZ15mllcX0VUY2txkJKqjrqKbKu5nrjQyZatgKOUs5qrbL6jtY66pqeyq4drRXRaeHFYWHY+YVZZeUZKUEtcaXJrkENjU1hyW3dPb2BZbXlnZU5FU4Iwbl5vWW1Fc3prhWVfOWdpY3l6fnGVeUhkb5VzYlZ6e5SmtMC0lcp2ja/Ok49+q46bscPIo5PLrq+lkJt8w63Wn52jo3N2maWPZa2ijYa6sX+1mY+6mdN4lbKueb2RvpCelqqif5exu36tkLuqvrWEnKmur8CkrqSGuo6Sl7all5ehq62rksbCjKGZvY2vgbeVnL6nn66qp6yshY3Cy5q3trOtj5ieqYt4ybJ7iZ96r3OSv4+2iHW7n3aVhYR7fWOKYXdOiYt8bnNwYnNJcVVed19sjF5ObnJGWltpTI5vYaKCVHOWtaGsrayDkYeZlZ7aq7hlWIN2a3JpUJCXlL+8rpaUu2xqg1B0n2iVRpu1rY3DkbmKl5RlgXNfKXRfhMCIf7WgpZCnlJ+VuKODkKGTvJCzmYq3m8K3sbq+lqS8bGQ/X1BwdHQ7YG16QmhMckU0dlhQf21nSWhgR19RfYFhUllCbVB4R11zSkhRXmKFNmBybWpfdm5zWUFVcEpmSIBWeF5Tg1N1hniDn7ivj4W6qd6ql7t2o42moKypppuiqK+hpoq6e6SqqIilp5SjfobNvKSmpKWW1nKfkI3BwZmWpJV/gqCJk5WQlMihqeKHpKygtKuUmr25e3ucnJ6/o7eKgbCFuLankbG3g6l2uLLqlquCuZTAda+ZooqbrcexnJaqppSnfqB8oqq8rnW+jZWPpqCpkMSSscGdqnSsl62bhImDLXuMekVsbVl3dmJnn11YflWBZDxvQGeXOU9pg3x/Rnh8enNcknpKfDudy6CSiIydqqWyi4bVkcaoZW1fTVNfbW2LjHuRpLF1u6afSj+LUnJxSHGgvZmJoKOQlZBLVGBmemhxhousoZeZi7m/2K98qpR5sJSelo6a4pGuiaW/rMGZ7KFuenRmWk9iZXV1bm1rZmJ1k2l3ZIJcbmWHXmdlUjtTa1FjWT1yTHVyYU5dboYSaoBaeD87VHFYhHY4e4xoaWdnY3NUVHdVYm96eJF7osikuZ93yKuwwLejg5GmkKS2iJLCubajw6GWx6yxiJLCloystqGat5CsqLSPpbyOqrynmLaBxIeUhqq2p4qqmaCDs8m8pZOsmrekw4HGoaeciqWnncHFw56Co5yVmHe4oJeVrqXGbbOmesWs2bGprq6JoZaDlW2XjKGGh66YtaSW2amtjJnLn5S6sbefprqCyW6foZvHwrJzeFtHnGhNZYJZjW9yc22RTkZ/ZZV7b5NcWzRpYFdfgGR9aIh6YVx0XWKCfaS/m4K1hpaBiMnAn5aXpoRYk2F8im9vbaWorJ21maeHj4xzimZYfHuLpayQqMGXd6+TOnaKhHJeT3+pmqiftIG0zsZ/tp2Hta2gr6GYuJ6AoZdrlrmQsa6zoIpAY4NgimdpaXRNWHZtLXdsdE5gaXE+Y21MXYRYXUp1gVR9aERKXXFXUF1aZHaFZXJnYmtzQVpgX2pNVHOFbnE4fXdqXWR9iHdaop2Lo86wk6/Bs7CTi7SlfKOksYqPbLGzn5rIha2nqJixmbyWhrOTvpChiK2am4ZtiYCutq6Tm8GBt6GxtIymvKCKsaC/oKK/pJFxo4+5o8GloYiWjn2HuZO2q5qOgKOXkpqlrqF3iJKjrZiPlIOnlqqRm5yhoqGqtKzCspSsb7C/mcmpmcmbpKeppLKWlY6iWa2IppDaiZaph3RWaGdjcWVsUW5QXEJ9gVJodntNYGJyZmVxdn9XcWpKXniacW2XnYWLlqukuY+qpoyumo1sjJGZwrGBXnNzUopubGmWn6qolbKoqoBkgXh4cn58Upehg5HBmp2eaVZcj4Rmd2trrbHAvo12kH+4sKqsm5m8ibmausORhICRjKywrYutlpCZYoZOcj1MZ2dhbmNbT3VDVGmpUlFqVUpNQnVnZ2lTYHNDZWJhhmZwe3VjXE9jZmU+T3xsfzdqZVNYYV9ogllYVWVMZoCJdnqBSa20pr+jlGGZnbCel8qir5CTkKSt086ym6KWsrOrkK97r6myaLBsla56qYqUmJOijaKrrMOPssqloIqzqXquwox6l7GXpq6cu8qywKWbyJiEp4Gelaujraiarqidqs+gocKizpayq7Wjqa2yqaevtLOdgr+nfLaXkJy4tKiRnaSNua+boqeqyKW7fa+dnpvXmJXKxpyXoauhwYU6eoBsc1yHWEmWh3F/fkxFQXplelR4RoJVanNmPpFlYW1vbWVgb26PbW23pZeirYuhvpixkrCiiqW2l2+Ib3VZdFQ/voK+paJ5gZafXV5GcW9RdH9yi66wl7KqosZsVU57ZFZ6f3KjgaWnj53BsbKoq5yTdq+y1paqxquM2KyimY+hhLamfYhIZoxdUz09V3hPY1pxYX+KlGJoTF5CSXtYUEtWc1NmW0Rad1tpWXONVkJsfIhSS2xsdFo8akVOa3lpYFxlWzthT2xvQ3prVF9ow7edjrmse42OiJHDxpySrnzdrdGysbzAwJGcq8KQoZi0laGpkcXAnK/HmY+Ovbu0qny5pcWtpaioiaqfp1u5wI6tnJKhq8XJ7raenKaonqLMlLeoobCNrdLKzZ2sjqzClJ+gqaCYtKSFnrqOhqtzi5jfk6G7hI11tau5otWkr6WNtLR7pZqurqOfpbmbtJCrroawl7mRv36EZFY4gYyQf0ZSa4JuXWSPX0JXT39Ra0Z1TZJkSZRYa6NOXXl3Wl5IZ3aPo5uJg5+fq6imxKKBqKWej4dxgnlmSY1qlq6soqNxmrmZgVRaalBxWmZodH6rpYektKy1X2uIUYdPRmFvkcB4sYritaq6h6WZja24sriVnLmrrJGrs4uOoK6hvWh5X3eTQ3hUVHAvYF5HY3FWT2FTQm+HW2pWXFNyP3xSejFWXGpxP1NcYWdFTVGCcGdcV1VRXFpjL1l3YG9ZXot3ZlCCYFWFWV9wZo6wp5uZgdyXdqGwmJ+5qI6iw1mQnrSjtNDfobiVrKe7naS8qonNkp2vop6azY28tria0MK0rLKar5OKqqu7v5SluamEqLrKkbWsqqWsp9u/o6+Mo4u0h6OYk8a3gKvIyMufiqWUtJaOj7Kcw4qniqOwyK2ippOzm8CEkLSompGarbSmt4+hprTXkY+orYO1zp5zz5mwqqDApna3ep+spJyUjpeejJ2Yv4KDpZR+k6G5sY/KoZCPtrOscaebjYC9hMGerYKQhauqrImVgpl8g5h+kt2Xg5uHjZZlcGyoo7qom7Krpbqhop9+k2iPtIesqtLPlbJ1op+jwJqXo4xxppPOxqq1hrmor53Yjra1i7+grJ6qmYxurK9lsoakpJuAZn1pd39xVlZdSVV3OZBNYFhwbltTYVpQQldaZXV5eWF3c0qATEZ0k0pQV4FAU1xNYFZ6WEV0ZVthU4qEdWlvYWVXXVVoUTdCf4iC45+do8B8ma6Al4OfjsGokcCdoMe4rI2SmZ7Ii4vOe6uopYG4hqSdeq6thKuSqp29nrazn56yurW12aegvZOOtXWojY3Cna3FjJyHhJSxpa24sbeSqMd0y7CPo5SKoLupooKfsrmBpKqEm3yqr7GWvaqozc2zpIR7qpipo6imt7O+w5adgJqKy73Bsqaco7WogpyOeqqazLObraXDoqrGqpeihHR2u4q2u6tulYu8qqu2gp2skp+UqaeWsLOvmNqrjbSkq5mgcZOupMGeqJuds42ysa2ZpKqorrHQqLikq6efl8d3oqm3sY62lcycscbLvbCmu4iLa6CSvZfFtJasm5u8squrpoWloISdnJyCk6jEm4yQppiVsLORmpmbcYBze1FycH19eTxUb2JpYoA/SG9XfF1reHppZGV5SVlMV3JyZ2xifU6OWnJUZBlxhWZYalJmenFUY1dGe4aFbmWPaWJ2aFRFfGqrk5yQgYqpk5d+lL2KkpWzxoyXnJp7mn2WjJvOmb2fzMjcoYSX0JuTjKu3iqqBsLSHgJB7f5quh4uOqa6msZrHqaSbjJiCkr/IhYaOrqurnpOenMSKmprLtbSnoqGnrpnHpJ+hp6jVoZ2YgpiHibCUxpONnJiXta6enYeHqo6Hsai5npqjlYjBxLSOpGvNrbO3j62ZpL28esW0pqCDnryws6akqreatpmfnYuZpqCymaqVhKWIt76mrbCeiICUo8OUp6+MqLKjptW/2cWtzYqyraOCyHmutLqFhKiUirGzkprLjaaznpyWk6WgmoOrmXJ9lL6EgYuCm66ekKezkJODqMOOpqyiko29oX+rn7q5sKKylq+Bw7aTyL2qtdGqnIGHSUCIb4V4eG5fYVViNV9VentgaGl2QmFdRjFPTWB7SUxSZlBIVlpldks3RKuMPFRBW1Nwa3yNimlnU0hoWT0ydV9PiU1taHVOrovKm8OLi6qfrqWpxaN4vbONmIaRq5eNjraOtLN8uH2nwXmeiKKfyq+mqaCUh5Z0p46nzNCRx6SpscqiqHiqvoKjxZuniKSLkaqbuJmQpaadgpq6sMfGva2izaSjlXGEr5Z0fKmzs7SksqqKl6akm4mhnaWHt6h6ua+ThbeviqqNrcSwnpu3pa6wmqK3uoeSmqJ6ypyj0Z3CqrGyn5W2ocaEnaesjaaYpJmmoZuHvKmjnKTAnKVtksOmxIi9p5erub2ro7KQiZaehJerjHqEkraynratrpGapLqlo8CggKqXwobSmdiYuamUorfNh5OlrYmAt52epLzRr3vLpZ+fqbCvkLy7n5C7hZetuY76m6N9tqSNtZavl4Wfqc+ouaamYzhPfGROiYlfdHlDNDtyeUVYVIQyRmdVVXlsfl11WY2BTluTaoSEUGxfSGxTUntqWl5Yd2tncmVlR06Qfjt1UWtLHGVoZIdPS56435mawpTRsq6fwJ6Ro7+gmcK2x4yLu6y9uJN8d6Caw7miyr2iwb6jmamlpqGquIqPh6Seka6dvLulnJvMpb6rh5SSn9ugkI1TmamOnq57nb9ykLZ3ho2qr4aWpsecs5qfcaqGj9TWqY/CmHy2lYKjrKSVsMyNtdyjkoebjU2MhY1+nqOOpXmGrK2fnYm6nJaMlH2bxtaioLicr4+SnqKvh6WBprSbmreLrZqOvIyBlZ2qtYiOyYy4np6StcCSo4t+nrKko5eyt4+TibK9r3WNuaaEkcKeoK+vy6HAo8KqvJSskqm2oKy1kKF2lZ6yjrKiwr2ls7Gjrru5ipGGoLOarr/MjqPGnqV8sLx9wJilh5m7pqe1pJqtpYm1xq2dfFRbbGpUVnV1OUVgfDt3aGV9Y2RZV2AuW3p2iGmFamFmNF5QX05pkE95dYBbYktoYHFmcHlISWlucFZXYX4+hVJzXnJnW0F2WyqIm5KXqZ/Gn5aMmoyuqImQnbDSrayweaa1hoCpqaScsJ7M2ZWfkGimur67pKBsinaamby1qceBmom5oqOqs5aiuoOrk56gxJhlmZusp46ZsbfPrauMmYGsj5OctKd2eqKdqJ2xso9zlHWanpKjp6Vwv9CYsrKetq+Tl6SkZ5Wwn26TkcqueW/Gpq7ooYunkJ2wnaWwna23s72tf6u6oLW2mb+/s7+uvrOnmJy/vLG4wqWWy7HCnKygq8W6yHmojZKsisKwwJ5zqqe2tqjLwZKVtp6qrMLKhamMk6uOgpZvm6PPzrS6qqe2w4SdpLHAq7KUwK2eu3qgrYevkqVxnZvFr5OStKWcr7y+yLfCrZmVsqvTtZikzq2dppfIsb+Jn4tOV3BWZWtBQXt2XFlAR2tLXDmCdIFyVmFYgIJ6bm1+dXtubUxLj2Z+ZFBKVmJaT2BeXV9Ic2FrhEhnX3VaSIFmW3hhZG5sZjREjaaqvtnsrJKcrZqBsK6hnKi2y6ysxY5umYq0hH23jruMz7WUVXJ5oo+aupCYhnuovbu5tqK6x2WmaYWEjHl7pHzBdFzEgnKJeGSXl4Z/oKmoo52fp66pn8SOs6imjIykmZGpsZeofbm2p6+wx7KWdIemq7Sqhp3Fq76NlJq+fZmpj4OxsJWPj6/YjaGvh4KJq5KgopStpoGsmrDGodCye5rGjrvC0rZ+opirg6CilYOttKB1vI2mlK1+nb+MgZvVr6Snr2qxsqyDo7Kin62QoKqds46ckZamprSYsKCTdZO2g3Wbh6Snrqp+kMGdq7KvnJuOvJzGj8mcrrSazLGJwKC+kJzImJyRyXuWopOevqCBqqevqpmHlp2gnLaf18CKomZfPFdri4uMX1hXVGRrVGddb3ZubIZqb4GPPWteQ3xaQEpchUdoUHd9cjRTd15XXExPTnFnQnl3UGR7PGpafnF2T0pNiHZGZpesiZPTuYGSsbSYuKuw1KSYmMS9ypGkkqB4yIJvhoeVuL6uimdPRYbEusR6TodWXJ+to3yolZ49VklrY1BVhl9wVENcVT6YQmBQLWh0oJmgmqSat5uls4yYf6eFmWZhbmFlaJWDZJeyu5igg8Wrr3WhubSjhYSdo77LnqempHOxlXuoi6a2q32nd5yymo3MnJ5x0anEoX2erKjDlZ3LrcypfpSzgaySvZC+momRhsCGqZyolrrHnKK9sbKbicOutJWle7Gpl6t6nsCkjbm93LqUjrGxqburlJO5nY+amrWfxpLMj5GaqsGjnJh/lm+l36OjeZ2BvI2ejsB2qpiUna65e6Wal5ebeZ63u56gl6OWwYSHyZuMorGsr56upZ2XqVRYh1lPW5SUXFBGd0VddFR0dVyPSWiDSm1nSnJ+W2lRelR0e0JrR0pGRm9QYXN7QlVMUmRTh19zcIahQ1NcaXloeHVTljFLeWCoopiYsqWppLfIk4qtvZugkauWpL6Fl52Tsq5nYV9hm6WeeqJzWFR6lside01yYUiImW+mx7ymZoljV2uUQkqEd2NuTF9tKJJSZJZoXpCUxKPYnsKvrba6l7OmeGVvekxPj3VxVGyZipuuu8abtYrFnM7BoK+Ev8ymkIiwrMHArLG8f7mpr6izoreFf4qem6GmmKaOmKmSu62Kco/Dm6dtuZKElKqflcF/mZKcqKCxkMSOpLCfsLzEt5+QopOom5DClZmqf72D3amG3aylpsKwp7O8uKGMnoW4pM7Isp+Gw6PFmqaxksKovqSKt6unwpOfhY2wppvEqdC+mo6zsauWhKukx5SFib+wrnSYun+zpqSXobCcnJ2shYu8naKxvauNRoSNYjx2djpHNFs5T1pHQj1QVHw8ZFmEPXpxZ11PVmROYiByUERhQkGGR3JmTl5YiGVWdkp6O12BVopZcUOIcnJiSE9XWIpvyaKmz5ixuKGimJWkoZKtzLSblXp+pL6ywr6VW3dwf5e1qp2AXnJfprShhYB3QXiLd5KwsLXJm2cugGxDYHNqXmZjU3N0NHNeeH08U2N+uKK2mafZrc6xu6amjLJsSZ+rr5DOkZK0ka6/mK2cm7uTqKu7nsyxqHR9cL2xoZmnu5CtnIy+laawkZyexcysp4angce/x5igip6Od6S1rKCLp667iquDsaKf6pyeta6izp64h6GeoIuUh6STjK+1sKt9w6G2oYyykrCUi6KepKiwlIqvYJunopyxvmuJfJGRr457pKXNp4yxtpegpKW1mJylqrOntp7DwLW2oqSrsbmqnL2VorGnl6WVrLGsuIibup2WtqmYqIifebeqho+dnaSIUFZQJIJscXGMOXtxbWprVlFma1lfUllxWklXbGVWPVwpg1xNT1tZiGhYXWBoOGN1fFNbYk1LfXdPX01ANzBtdWRUYYBWcGxoZq+4mrinmKW6on+GsJmBhrGalHu8qoSlq6CHwZOFb1unrqKQZFOXSX2Dj9eUb3ViaNTHr5vXtKmWh4RmfnhghJRuc4FGbqBihombgIBydqObsIi+loCgkKeruJKpYmCQs6msqbiLyqO8qK2ao5Whj8CkoqKqlYizl6Cus6mMnbChn4bGtpqxx7OpmK2Zo66ci86xjayUpoaOypmlqNOgkrl5pKTMgYSciYGnqp7Vn52ui6uZwaeakMR0vKaq0bCKvrCLtq+Co6pxjcq/m7t/mI+hva52rH66o5+Rt5C0oKKug4yFjbqFn4/AjoCJqs22sLOtmKGApbKKrZ+hqn6iq5CUdbDJrZ2nhauuwKXHppOdu5vFnrbBj4uWxYB2j6iajWpoXVtren5+eFRdlU9ZUk9PZ2FoVVBqXV5eeHeTSVtfRqlhe0dOa3phSkloam5XTkFBWJRrbmdYWzhMRjlTbl94Wi9gSW1Om1mnjI+izZCut7mkxLjKwqWlpYudfbOZu8CfvLF8Y31DkH6WrXtvUmJbiZiriFeFaqOirJmSq5GrjbTFrriNmseHnKvBj5Cpg52xvIy7gqe/joupqXuPuJWSlpmdobBmbVOUepGxxKSnbKGft7SespSEi4eIq5y+u7qwm46jfpevjZGuyrCbpL6cl6OdrbbHmaOilZe8upqxtpeF0aKuxJSrjtG8ksa3mKjDkountq6kkaCVd5iowJ+tiqi+saOVwqFwrb2Rn5Cnm9meobnGl6Cdi8CitpunwJ6RxqWmt7SRtr6UqqunpKWnl7qfiIOJm8SwuZmrr4u7uaeAuaSCsJuFl5CmqsOco5m2gca4bZuRxuevs8udhoquxLqjubGWm3eAdUp3PFRbW39rZxtPhFp7YWw2TG1US1tVSVJgZkp1YXVjQYQ9YUhjW0xLNlxISWlfY2GJc2xZWIGCOXJgWktrdkJiSpROVIGBbpGrp42uoLC6hGp9oYWXfquit6a7f5ShiJaxh1NmW4ausMR8ZWNifqaorpZ4SntIkMvDi5Cdr46dp3uLn6SLsZyWwai1vaqi7J+4io23jbSFhLO4j6O5pcKTpNalhqRvX5migJa+sbFzu5V/ra6UuaGtsJ2to5its5qslJy0s6qxjcbik6amj5/Ur6elp5myhdaVjbCEjqK8oq6RiXmciLioua2exZOHlp6xh6ykn6evqKC2jrLCjqCqq3aqlq2qm5+emoGloZR+urDBpI6dkMyen5Sxw8KPnLyMf56Fto6ToaeXvaqZuqGWqJetd4XGsJ+2kqGQrZ6/wc2GkLdxx4uusKWzbaOtoK+ksZysp5KqoI+rnNuppa+TiHCKoMaQcVFLXkNhgICST3hkYV1CTXtXTGtpT1FxbHU6ZGxPcFpedU56dk9VTE5cWVxicVZRYos6QE01LWRjP11IT21eQWldfnGLam1PQ5menKWGs6KUqs+1qr+Rpc+8p6u1jX+0pqGNfIdoTAB1qm+BbmtqR5Sqs6OBP11hd4amtJ7Gy62DtNGlmbJ/sn20m4m2srKslXnHnZiIsqKastWql7HCwNWEtq2Bt3G3lXBoYoraf8mzd4C0sqmDl5uypKuSg42Py6OxtpyOk6OQuom+u7+KosfLq5+OoYB8q4esmbe9e6CBv8OSwbeM351ynau4gbR5n5Kokayg2pXiob2mp7SgtKevvbmlk5i+bLZ+wb63lqS7nKyys66ToLaSkqySiJxrsZuWsJzAfprOtqeolaiFj5mYk62jeZ22v6C9sJeDtJ3DiKrHuKqVteC0ppKwwMalvqW8taqdkZygfqmDbZOXxri5l6KgyKurm29fWmZ1XXBwYk1mcm5YfEReTWBjV11aXlmbZTNdbExrdDN+VmNYX1hWfltfT31NdWd4c094SnRjVIhGYUdjWWpGbmlJQolaXIeThHmVgcLCkZW1n8uzwZalhrGrnp21eqbXprlpjWpsi4qfsVh4bGmgtIaThXNNMYKvh6akraypl55/fXRioIJ8lnhzhYCLYodyb358daqxypumhL2lxqGbpsd6faiwkZzWXkdwZcqprajNupqyf6iSwMbZtYKSuLvFpJdzpImamK6noaabqaGzsJ+UnaqTl527x42kgZiwsKyptYK9sbO6rZWshLC6xLi0j4yje57Ita+aaLudnnl3npiFrriXtbC+q560pLq4oqGbwsatrruqqLiUnK6bm7eCk4qloqudoIeLmZvDp7DxgJSJsJucvaaTuqy+wp2QknyFsZmduKqsvZ68msDTjXypjIqwl56hvnK1zXOxmoCik8mlmZCfm0VGUnVIZGBxcWGDSElth0yEVDZsbkNfd2hAbTNyglxcYmRbQ3pCKXhUb109aZRnPGNMW1tZel9pXGVUUVpPXW1kdWprXIFuO1pfpqZzrLiRyYCxmaCQrrexx6u9qbfKnJylyb2eWFhxaqSet3xrWE1omoWilWZ+TVyMlqWFsbGYrV9NWlxTXXOdZ1NMcIpRS3BOXpBkPXB41cHCoLCXkJChhpiqsdXDrKt1r7CHVWZyn5e6uaOglL2XsoyJpr6NscK8orafn52cn6XSrauQhq6Yzq6iw82Zu5vChpiusrKJpJuUoZh/sHCYxY/HgJqZeqx6vZ6CfZDDh5m8tZq1mJi9frubna6BmcrgvL6dnqmanb7HZZOwqJeyqbWVeq6dt8C0loqqrZuPkb10l7KSj4HDj7Cjl3yaqZ24oZOWw6KjnKzDh3qjvr2dyYx/uZ+nfbyyoLTAqJOqqJ+zn8STlqZ90Iqrpe2WpJx/X0hqZUiCWVl5d1FFcmVIX0tdWV+OQlFUTFpvWUBvXHcybGRoZoxnXF5cW0RfcUVNdmZBQUJBVJFWbGZ3TH8dKUVoUVxjZ0uQbbuunIrJmJC6sMyPw8CJup6l15mtr8eafqizhFtzcEySgpfDinJmiGCZibaGV4dbYbqtpLGylpqGVlRnTWR+WYKAY5uKanJqYn9vWoJkd4nPubKvipCupZqaoaq7q2W6t4WUmdiAY5O+pbebpLm2joCds7uhl7WziYy4oouZo86ajqa+lH6okZCqi5GOl4+ggsSPkrSPwI2Rhp7nvLivybeukZq9qrOqpJHDs7+tmomVlJuMkpScmKe6npq9g77Ak57GsaazurGbebGQr7qvnsuhnZOfrbPlsYaYrKqyrJ2lnYCiwofSg6xqwpC5spu68rSm1pWln2+kp5mSvHl/u7KTspK0kZuB05mPp3WxobmgurSlkKWUmJChtJCWvoSdXjw/fn9LVn9/d0ZGVYJlYoRfV1FZcpVJb2RoX3WIX2w4O4dcaVZze39ti2VpjGd3g1l6T4ZmXHhNdU9YZXNqV29EV2Z+WltiO3u9hZh/t47DxXKqmrqPfZTLoayoh4F8xreoto5gc2+Ata/Mv3tye12Cs52lb3VdUZ2ay7Ggj7vARJaIhVtcP4CgmXBsZFMxRjhQRTFVgjm7jKSxh4WbibGndYSDqpp3rY6uq7Pam057k7aczqennJR9g5yonZWMnb2Hs6mXuZ5vl8+ljb+5uNy8sZudlLLUrHacg6aauaejrLKMtJSmppaypommmXuRf7vHup+qscyRioWbn8yVhozXy8CYjqarpr6SyNakoqKyyW++lcu+s6W1gaezneGkr7GWgK+sn5antrqqqq+1joqvoJuumZa5iKeekoKutY+yqrqok6ipjqqvkaSkk5/OqqC3hqywosiYr6i5laK2laLGy5SnpquQqoZBaGxXZG9sbG9tb3JvcFlZYWRHUFZZUYeGVYc9cVZTSFtucHE0dY1sa0xOSURHbW5hZHRVZlllTHZThDRDM0JRNEJck3RjamZ0g5XDY36AlcKmlYuZl4+KhKS9kGKrvaWKkbm3g1BuZo+fb59Ic4R8f4KttWeGdUiaorPCdp6Oqm5nmI98UH9yeIqPgmNrfWhogmasSHdgu5fDnp2guqqXm4mQg5lHWWmngrKOnWlMaJ6Yjp6irrCFsY2WwrmwpJ6xmce6wJeps7+6f6atqaKZyqeIrLtmpbyskpmCgrq4tbqBpLylhZCirbG00HW2vYaxxJK1pOmRpLefq4+ww6uJtYuZusamoKqWkZGZnX6Xk7WYn7Z5o7uslY6yfLigxKaixLWMm6zaeqa/xKKgyKrLta6ikc++sJ2cx7vHnruLnrDInqPCf63Dgnmuu2anjplwhoeon5mqpIKOha2deJm11rO53tKalrSJkHBqcF90a2tzUVhhZ1RdcWhRY2eCS5B7hWdgWndsilFiY1hsbXBVO1lgZ2pPWI2AV2BoTUdTNlFugEpah01OU0RaWm9+cDReY4aMlI2cjoWzgK+pkqudvJepoYB0jZSUoqOvwT6LeFprlq1ybXRLZoSSnJBsX4heiYmzc6G0mKVrr9h/lK2wyoSrl42igK6XvXa0qoGZzZHLr5m8x5CposKip52QjkmgwMW2uZ51elyu0b/Eoq6nkY2smrSjmqSXjqymz6GYwMaZlriLoISgup63qZaxom+xmqeNl5eUtJKQoI2mtLF+q4yWuLKokKu3rKDQ0aiklruRoLSVpISesbOclIDJzNGXt6bQp6yax3+nfKK7kcG3o8C+x7bBq7GhqZnDnJCWqZSqpIW5r6KroYOhdpGQuYGdtLqHsIywn6auq5+5mbjAwaOKtLqvoqeTnI2Hq6qlxqSKlZmqp4Onqbiom5PMhaGTdD9yam1fV2lpPHWCj1dDXVZpYX9lcFstfWaDb2JOdHN3WDdiakByb19RjkRSQl50a4CZTUtGf1BsdF5SeWRdbVVUZHljVVV/WmCQrLzRq6XDlOOqr47InLKjwpCgqKiimbmluYprYm9+gLaoeXpxYFCTyK2en3l9lmmmq4WVz6O9oabCkbjAjqGZsqq3ppmirpmLq4+FwrmQkrmLpb58haaHrqeUnnRtaIp0kZmPc1GmsZGaorqtl5uhvpKse5a+xMS4xrDGoaSYlbeTir2ukq+Uoq2om5S3uquTprW3n6Kew5VtVGNzg0Kxe3GBc2Okl42UeYeceIZydJJkSnVyhpNuiWFhcmqaal6WdWiDcI+PYpSanLzFuYuozLS+wZWgtIGDgH1yfXx7hJeQkLaWkZ6osYuUaYGWeo+HjoNvk4idkKage52XqZiTll2YkXCefsq4iniTkJ3JnJyrnLfMmaypqcainoCproFkhXJ2WnFiYmVNh0dyYmlmbV9nW3J4WG1CQ0x4R3RNOzV1aXNMX1FnUE5FX2BgVWszUXJudnBpdG1XZV9Ma5JqT1xJYmaAWkJ3e5OIraqyhaGFn7qUlKmNi8uVpLKgu4ulup+3RlNuaJeGlZSGUEyHm3icxWh1hIeVtpuwqam6w9epuHauzKuUi6uqrbC+m7B1pZ+Ptrezj767i62wkKiIns2dp6l5jV9qdoiOQViYo5auc52mha2JpoCly5+apMettJCXorDA1ZnClK6ShIPSw6GxoaaJsa2dq7WmpbKaw5ajd4I9UHpgV250eIVoaD9/dXQhgXilT15nQls5eod9WZ9qSYE/cFCHdT97ZmpzkYCos6HEsJmhd3aklbrNqIJ9UpVib39hfTiBsqeKmJG8lIu1Y1WphHNbQl55oHumobe3m4qkoJt6UW1+YF+YUlLLg7qUo4+dtKOapaWolLO0oNq4lqrBn8+PR39ZV2pPSUloT2hvaSx7YmppWotTZWA7YFttej5bSEGZaHdfV0tyU5RqQWxfUKVdcUlkh0dsXFl0SKBWZkpYdXdhfD6CPHOJXZm8isW1f4jSwI+YiYfGqpWkhJiljKW5kZ6znIyQa3K8n4ynb4Fkdpi7qp9/V0gtoJaahsyOdpNylXhveXhlcoKFkFqfjXZrcJl6hperWLKRp6OIw2LBwcCFka/SjJeZhlZ2Q1/DqJexn7uYysqYkpCtmayksq+3n6ektKSjz9Cmu6Gfq56rrbayqZuce5+rmaaDjJ+uq6Cin1dmUH9oXmiTbnF5a4B8Y2GeW3eBfz1zb2qIdEWXm3JndGdgfoFmO2ZwbHo/T3pspo24oISlzqGypq6CjLu2kohSU017boOPnrB/zWu4vobGnWBcjl1ha2JbVm68oqqfiJO/vL6OXmhhgHVchVuDuoiJcHu2npOgmqyvuqGXqZzHl6CddaC+altpcHVsXUhIUmRZOW9iZGhjaopmNzR2QllRNGVfTldmdXhRg0NRVW1eZYxtbG9nik1tUII4aXmIWGYtS09WXnxGgFltZWpCWlWNprLAkNi4v6SRw6K00quejpy+jomqlp2kYrtKXWSGmaqNlntrcn2txqKsZ0hmcnDGtqeExru7K1RnWEJWY3V2RFhQOXNZekxraW5nYGymq6uCoLF4hp2HvsWenp+akKjCgrS2i7KLhZCEeqO5np6hmaSUrIXUmZaOlZKzsqqStKGsmZXByp/WiZOvdn6Sd8uKa6l7sa2qnbCkclNbZXSRVmBTakSChINWbj51gYhmYk1+aGyVZWuCaoBjPFdOcV5LbWaJlV5hnqWRbNWAtaertJPDr6+yp2BonWNiX19ZgGl7l3+ihZrBapR7bWxvcnKCg3Fi2bGKl9K1pq2ub090XnNpkmOJmZSgnp+ytb6Ks6WYiYuUmKmRr4GslqykmG17V204XmJxcVeIVndrYmVJcHhfWnRWXH9DW19Ga0eIX25jREx9TXFjNlI4RoFnUkN6X1E+YmJKTmehakJBMldcjWl9bzFWjW+Hp3uftZPMmqaxkpChjaWnj4qalam4maKurJubWUxggpOjqrJna3hSg6KPkpViUIpencG2sK+elINyimBbZG0oW1FFanh0T3VqT41vWEh9rMSYvsmUutCNraCbj5GniMK0wpSrjIKIpNmRh7K9rayFpY2rnJyzwbGMmp/BvKe9obl7qbd+t5awgqXWm7CjlZy6hHy2rcGGprrIcnBzX3NjfpRvP2s+TIFubl1+pFZxP3U7Qm5fZGxxinOHg09PhFp0ak1QeUhzJm+eoePYwb2XyL+oopWXoKp8c1qcZUlybF50nqKuvba4tJqAeV8+cYuff5BNYZWE2ZawrYucmp5QgYtDkIV+ZVqGpYCRiJqau6N3wMChf6K2paWPvH69v7eIXm55UFUvV1dWKGR8aWBMOWBbV1qMTXJ7UU1Se3mHgIBrOm5yTV5UclxYUFhMeWZVR2pmQWdAckA2V1ZxmWJPXldiQIFgYGJSYrG/loqlmq+jtLO9faaSobOkqa2oqJypq4essXdzZGCWuMOcg1FOVXmGl5aAeXMja6SjhJCwooJ0WEZMck17TVZldHZmTkphekFvTFlcb9e+qp6WcZCAi5KBrZWpi7+rtI6uvJGmmrZ8q3ulqa2Eob3L2Ki3da2Es6uipIengpuypp6nvJ6ocJ6Wlq67t6i9f52mnJydrMSUf1JybI1MbJd2VZFic3NYuIRwX1twQWhgZWJwXkFoW0hrYl91S4c4V3yOW2BpYWx0s6p/rrCdqXaZhMKVm4yobW9ebHxnWVyFnaixkLtyo6iImad6iXdjazSWXJ2ir6TdoYC0z7GLk6tjkGJ2UmN7h7WjjaXSvLGuvbuXn6KUf9CPz5+Torp+aGA8cTM+PpycYDZtbG94XWNLK1R4aFFjbmBAYEleiGpUbmdWeGVKVXFXbD1YS0dcZW9BRlFIfllWSUp4X3deTFloXmJhVWp+cV+cmMiksrObpbids5xlpa+iipWmsrCXnMSLjYqsoa+XvIyhnpeHiKuMxYB8qZ2joZGes6iLncevcoGGWGuMcoNyk32DbnqCbGdfK1ObgXqbqHOqrcKKmZPCrZutsqqmooermK2cm4DGmq+lqst4wKq8g9WXtbydmaKzo2eygqCquaColZaZqqycjJmcv6G2ssKoy76zpbOTlMKoYX5lX3hxe2ptYXR2i1qUc4xgPT98YFdnZVp1V4GSXVJVUHdNVodscFVoc31ff4OEj5e/w7Cxr4+Pqp6MqTFJcGyDW3N0c5Jyt521uJuHl6VsZlhQgUOIc32VoLmXy8SvxIqqjGpWcIRkmGFmbLKpwpSrsJGkvKyMmrKFrHq1vamqsICqi1tGZ2JehmY3N3tYS21lXmdzTmtia0xNVnsvZ111WTRaXmheUW5fU1xsaUY4V4JldUZ4V2ZUcXtNNolmT3V6TmxWY05soW9GTXY4x6Gpm5WNsoaMpoaGo6GOr7DIjKWmjaONvK6OrKWSpLGht46VmLO5qKOWroOQgK6atsGuuY+TvIm0kKa6xZCZj5GuupawoqWopKqYt5rUpp6Nn5Wei46ukpGth7yUoqqz2I2MmLuPtaucm5OzpsbPvrWtncCrxXCPspDGy7eXtpOLlcFvtJ2QyqGtlbyWjpF8rK3SvM+2oJ6jVnBcan2uim5+UHKPcIB2bFxqXWVub3RMYThhdJVmpZF8X21tN1VrXHtFXH+TeY2aysGat4SVkKGvuLikspVddoJZa1o/iVyOoKq3t5Wrp7WrlDx3PWI8ZWJlRqeJzbWYjKOvinRQVmGBTXltUYyWoria0q6QnW6poYnCrrWItK21r7NyoqJkP2pJPFdfdXVpYX+LQzBdd1R0VG9tVmpXa2RoT2lwa2tIbEFIYnZpRGBQSn5fiUNEV1l5dDpLX31GWYmTmj8yfnOAaWNtW3RlVpGSmsenybGRrZSZqIKsp7Kcn87IdZ2wupmkl4u5uabEiaKYo76ek6Cplo+mkqOHmu+qvJeVisGYq7qkiK2drqKErYmv2ZC/orCZpqiqr7KXi6nCjJR3lLuvromsgqqKyebQlsuvxGufnJyll7CVqaWSd6KYlrK5qLGFnra/vLaFq6aov32Tj46XoeGctbK+q6Kfw6WjpZbgkpZqc2peYFhIaVxdYmNob0lxbo+FVoBjQ3Bgf2BwhoyGfFRDUmNgmVVgTVxgY2ttjriiqKqygpiip7+vppzBa2mBimh1andKwZS1j9rGk6nFnKhtWYSLcZWTYGCdqJyFzruit7hmS694cXFsWlxydaaunLascY2gi76er8ChvIattrGtfbyTVVRcfFxYcUdHdDiNaEhuXWVUVU5jUUtgYDVfPnJdTkpPXEtQh4NuTmhJUWpfWlRTREJXQlI8Sk16ZlNYZGBubFdibGBEaGRXdlaprpype7esiqiWzcmxorV+spawlaGSwbuokaTAk5iQxMGKu36wrpKZusq1kYCthYedl3ShkLyho6fEs7PGvbKckZ67nqWPnK+QmKGfk8ytg6GBpIupvp6bnr7clJiQ04uynZm2gqKEuJmbva+4s5yStKuGpKiPiaK4tLKwgqujsaV8lG+Mp9yGsse3ja+7n6emirWNntG0ga9zl4Z6q4V3Z6iklYODaVh8g619km6DWJN1S4N2inVtiHhmiKdzf2lfkmpeh5OEiMGy1aO2mLSljn6WmbGpzmOkfGRZgmt1UKaUnsB93dJ7qLuRaUJDW2Y/OmZijaWyy7DCrnvGm1eIinKscVhWduC4oKmpwLN5u4aoqKqRlLWqpqOehqeXoGRRg190V2JVVW6TgFNaVE5jU4FrcE9STF9nWEOMbElwamtShWBGdHRmY0JpZIBKUEQ5aFZFWUNjRG5HZG5gbniIUpt3ZI1egVJRs5yyoXqIq5KlnKuNvpWsv5XCup3IsNGJpp2vqZ+Wg7uP0JuTw6+hfb+TmH26squZmrSI0aCEgdajwby5sLmDnpW107OsnpC1156PppONtX2xmaeSyMW1tLSrlbyunZG+qbKQhYeQu7GroLx5tIKN1KrEsa2PoqGRnKHap7t2n5ittayUnaWdocmWjKygrpKekrespaKltqXGzrJym5mDnoumc6CYrMLJpaKjqaS0woihlJSfk6SKrqTlqL+1o7d+lK11k6WHnbWyu6KrrI+qucSnuaazsLCObVp/d3A9dImIpJyrf4WPw9uVd21nWWpySWFVkKiDiqSbmZaptsOJYX2EXU51eoykfZ21qrx/iZqWm5mTvJeYmoaTiKPSnaF7V1FTXVl2NTVEg2t1bmhXTURqZoCBVG9uRF5ISX9Sk3pyN2c8WmxHU3VeZU5aa0xrQThfNk5SKVJCWnJuU1JkYmJOZmJqhzJUa4+0pK2vhqSCyJWie8N2rLKfisKpv5TClnaloZuhz66llLGvm72VsKxvmpycmY2pZLB5nJnXkLLPo5PCpbWuxny+qrKwpKSZrbd50KS0lZuaq6adqKSktaCDo6TLoaWZrYejoqWGkp+G2nuFdqLLqJ+4iJO0saCs1p+4haecsKaWYqydk7S4lrW3vayVlqaTicWVp5yVsZmijLWYlLi5obi1mZSog5CdrJ2ju2iM1ImOq7aDrbq6pI+jmrGHgZGVsMCnx8fIo4+cx9CksKy46W6pmaKyo6+MU197OmVfWWBgcL7aqY+6kLPChYBaTXZwi1yFgVd5mrbVo22npb2cZ3J5WW57WT9klqWujIPRs6SBkrebx6rBvbWQjpqsy6W7i3dGYlNKTTc3al5eUYJZaU5jVY96PDN2U2VLYYJkf3qDU26UaYYsXFtvSXN1glxtRGF6T1tdUUlWYmFPgHxvejpdYGSEg1lcXGGnucOep52+srRurKmctJy/fbOivqFtqG+op6Kpt5yXgnKqjrmciZyp3pakm8KfupjJpJOihK2UnqKWnoanlpSkvbCLZ665mamNnNqpvaHFn6e+n5G3v4/GnMaOiHu8mdWQmYDQp6Rlt6qniq+yj4Gk1H6SsqmZnpagorCps5KhicW+noDLfb+voailjqyklqWTfoGtuLaoi6KfupWluM2Xu6Oikpaqp5K0l7mYu4yzu62qi7Ghmq/Il7fKsZmbnbmZlaGknsu4l6m3rG+knoqkvp6sj56kdFdWaHVyWU6QSrTbqrOxhYaRp7CgbXNmPIxbg4Ohmod7wJKeuqKMlBVSbVF5d2t5fJTZtpOgtaC0n5y3xLTTwKKNq7Sxp5+9oXwTgGZ3PlxfX4FRb1Q5doFXY2Z8Z06QZ2khRnteUWVMb21LPGRacTF4ZHR6g11UOIBYimBVX1FSmE5uU2Z6emVmQIRSa0xuYlhkkJOGspCErn2Xu5qeoZG4zrWjmpFwwdyoop6uwrCem5LHont9isaclJO/0Z20j5q1rZSXzJmow5Kv0qeat8ymvLeXn4eoiKK+sJaRiLndrLPAxKOIv7qiuremo561uYyqhY6Au6BrsraafKKDlb+fmaC3jayajLZ6k7mJh6ybqrufinCjjJ2opJdvs6uVoqeepZWkiclkq5+fzqOiepmgj8GrnLiMj76ktrWPp5amvJeRl6KgnZqwg7Oii8C0sKTO0LibmrqgqorKnoKemJyWo8aovrihnpZXg31gjTZjVWZplZ21xYSLu5S1emFccoyYjlBEe66mgpy2pnmvmItJcVRgXlqThHyejH6lvK2LlZC0r47Yi6S9x6ONlo+H0a6GhFZISm5ni4tlRTlhbzx7UDpZT1tESj5bdTGZclthLGJzSXhPdUp6YUlXTlhgX1dwREl+lGc9cVpYiVJuTY9IToVpdTl4jHJGbnOzqKm4l7uSjo2hkKmjsYigq8mIqpWLg5irtbyvpKvMpnugh6yftK6ssaWqjbSLjpu2v9eoxcy1salkuMeCr9OmrIF/Z6B6lLOon9C1mZCzrq67jZSwq4yhd52+rKihhayMrZqqr4+zp7Ofn7awpKytnbW6u6qAsKTKsJaNc2E+ZmZpj2hzWoKXfKrBk5+0k7mXgXuHk5WoyY7IsLqjt4mYera4gJ5+vZSphteUkKWUqY+xg6iipp2elaDCvqSei5+luKOJpLC3tN2BmKCQ186npqezpJCOfFxsYltrX3NwdoWNj5+QqtKgtoVIbamHW2RjbFibup6ZlrCqdZFxUX2ZhmVJeYGOd3mfqZvAnbmtluK5iZySmbOZg5ygsqaiTnRVXW04IUdHRmhVT1VpVUyIWURYQmNcVWuYj0BRWFduYUFPZmlxaFdoSn1JelpQKmhJZ2NQYkhXUj43WT19ZpFmckRTVG5oYnqcktOztLOFsKGn2YG+iZ2FmLTOmrOyv728tMujp4+ysr2Yu5yjp5q9iJu7jKqfipupg6m3mZC5h5uPlKmNjsq2wZl+kZqSqsCLpqnHvZPilsJ5yZqkrLGPoK/Gqqtxoo+MfbWxprmVw5S9pa6wlpSauKydnb6eoq68iJaCfIdvh1mEeHONYjhcTX+NpoV7o6OerauOwNiqoqJ+wJumvK2xjM+YqrHPlL+tgc7FqbiHspyKepWalqyov62vsIWMlLxtpKd/qp6doM+3wJO1ho/Sn8CNppG/kzZmf3J5YnZ7XZK00KWJfLGnyrVkdF9gPXFbdXV+xHu7uZbMipuzZmSXeX5PN5Jue7Shq6Cop5actb+ki52ardeLdYPJt7qrlVKLaVd4fl1bW0dXclB1HohdallAYGB3jXJBXFeTRWZ3dVVgTHRcW1CJckdjU4N/JEZTO2FkOV1lZkhsS2pKUEyCZHRPiV5scXZCrZ+bu8iRybuNc6uJw4jOkYSqlISPq7yodoGgnJR1iKh2idPQb5GBf8eprpjVr8B9sJi1vLKQu7DMg365o5W2wamylI6HqmmToJyUwJ6wharIoMCQpqqoeZ6Qqq6tp9Gfz7Wgi8uEn6GlhJSesoKZ4riEiKWgp4+Yo7SIglJurqSLnoSZfb+GkI+cl5mqoYuSoY66pYzNf5yWoLO/oazSqJibl8LGrZ2lnYyfrqW7t666psGanaW/fKeVkaimx63DwKqxxcWVqrqauL6au3WglaWCmqyvopKBc2lvRXt4JHOfp2ydgZ6MoJyvjGdpaVF5jl5zcaGzqp2hp6K4tm9FeVtxUnN/WXWotZ+igpy1vrqrjcrJr2m7ua6xoZakuaV+ij5faktdTEx+aGaHUIdLOzyCZTZ6O5FfZ0lhknFwZUxaTzNedGtxXItwcIAhRFpZW3BlekdkJ2BhTVx2b1xaaUlfMFlkeVFfobyqnJ+2pq+gh5ekkonBmayel42npKPRtLinudaOrbaji9ablpaWgcevlI+zs5eDrLbAu6OjqbaooqyrrqKco6OspIW7qL5kh8uci6Kvn5SpsKu+qMKr2MmZnqBrubqhoKGjpoW6v4ubtL2kq6+XrqarrdOwi6mks8G5rIVcXbORm6OkkJeLmK2hsZ2QurRzuqy3nqiPo6ylnKFyzbOqtbnHqbeDsLaduqisk4+Xo46rlKDDo7SUp4W9iX+Sy7KJnbzLg6ONp8TMt5qvrcy6ysW1tY6br7psWVtdXF5vdJlmfpKtg66TprOdv21Td3B2YVFMXn2Wq4y9vquyvah0emBQZ2FdgYB9ntSwlr7Mj5mVyLmwoaaRp6CUsmOgwKGlb2JrSVBGj0FBV05jYWFUTHp0Y3JnaWxicohQWFxhZ2JoiXlfU2VnWG1HUkCAXlaBaFFvkGZYVFhmXWJ5N2h9YWt9dJJpTkdMaXapuZ+2wqSUrXW+taCapK+rpLirl8+0speRvpyns5qumNu4vajEi4yIlqaOl7VznLW9u6mQf7Woi62QmqWtpKDCsmKKjZvJvMXZkbrQgsCnvm2Zo7yssbfDk5CNpsejfLOZj7a2lqWRnZjGiqPDvK68p6aph52/mbO7k6zByU5+tbV+qpKrm/dwjqG+rJ6VtJpgha6mqbuks7Guuq2mjKHWsrKNxKKctJOojZOzo6iSl7SftLaFsOi7n7R0o7Kuw4KjtqzXwZeHq5uCm6msk6CfoZ1xsKahkI94Y3GCY5VCUJiOqKCbsdqXhq2bb42EaiVhglp+wsWp0ZGpqbidiG16a2hRcHBnYbnHraC2rIyEsKm8nqd5wMGepZ63wKKFwGqCdntlZmt3d35MYT1JPG5UfXRXN0yBWj55SG51hG55dE2GVGJBfl9hmGl3UHFjiDKTSG9mU2NhdFR+X3EbZVScRkmPg2J9YmyDm7CKfo+Uu6iPn6GWs5zLraXCnLuYsKucmpaTobyKma6xqYSesZLXr6TKgrCKqIXLkaqcxrKOg42Uq9ajb6SeseCixcOis7Gfr7+rwrCsu6SumqWkxL6drpusoceIipihqpeziJSnnZ6mksGssKqmh5ivzZ/Vd7eelZ+qkX2La2B+eKCmrIK13aKjsbG7wJmwn6Kpcr26maSYnYmtiJJFZnp/dWd/emmSinpBaF+HaXBtcWBzn4xnfUJzkKidgGiKkINZd21eiZmjo66ufrCLqreIjqLuu51bXWNncmVLjFuzvLO8raulpbWYgmtRhmleh4CDha3Cjqqxo6Od1W5fe3B1a4FnX3GssMSJiJGRn7WdxpemnKe5cbWodK2esriGS1xhVVhrlpZVaVJ6XUpGIEZOi2hubUNfOz44c2ReZGtealprgIJkf154TUFCalhtU11WgmtQVYt3bXZebmJgTmxQeIdSc1p8hXCiiXW6vKu2srWSx5ysoKCPtKWro7y3uambzauMjKOynqOqppOSkKeVpJywjreWuJG0l5Woi6+dn8jbsZG7rsSpmbmavo+yin+lhKKvq6Oi1JzJyJKZmXyujZCmu5m4kb7Cs6uiqKeXqXm/ypF3wpWTlHaceYK9pZCEhcCbe4xhlHyVj5Cxb2CPqcWMoK+IlMGtgJ64e7O/fG9sY3OAWGBWe19FUIJmi1dGfVxxQHZyWHRed0hja2ZSgTFjal5NXU2JZYVadWtoqpHXeHKuj9Wirbi0ur2cSG9hhXFuk2RvfuWtrp6qpKaliGdUTm9ibVl0ZJ+cv7+kYKupi7aiYoJ1iHRVY3dpzreavoeAqKqdiJ/Jg7GfnbF9lrmrsbWpX5RtNmNYS0ZGdWt1ijphWW1iQEhpiFR8WW1QXFlWZ1xhZViBVVVUa3uBU0RWXFpqekBUb01Ja0FPTGJjZkaBmHBkZXZRakhhfn+iesOyqHV0qKe9mZevstWLmrO9rtC/wZS2vnKmtZC0h42dv7OamaO7mJzHupGo0KiJl6KrpqeixZeqyIa4i8admZaorZesoqqbr5uroovEpoCJn7C8xMWWoKWqsYCMkIyqppyOnJu4wZN2TKehoHqb3oSNvaSQrI6IsqC4q2u9XT1ea3+6mZ6Akq6Xm5iymZOizKeZwaNutYuaV3NrZmt9nY+EdGlUcXVaZIVnVIZlX29odzRwYmZvU1KCa05Og2psdJIrS35GnbOcnZCWpLnHoLVwjMWvdlVQhVlqdlJNaYG6oZB/4ZeUvrN7Vn1rVFZgZ1mIjbOkqKGvxaiYfVSAUmhrblJjcbG4oJmEnI6MocTNnKuijZvPmqehxaSwxnpmT3tnZUl1dWxZOVeCdmIweYc2Q2B7T35FQVxdeEpaJ1ZyXHaHYTZRbCtucVqBaFmBfmpjPXtsa4s/d3xdan1neHCAdJV8blNps6vBrMmDu8p6rZGajcCTncKupIGarrbVjqagpKizm6y4rqujrISpwbiAro2W4ZuotMOmtLGcyq2lsqGnkqPQpbGft5CfqrutfZaVp7OuqaysoaqahMeWy6SdmHjFd6aiqI6lraSlwZLPo4Cll5mZsK+rt5i0r7jBpIq1t5Klna69YkRyia+qqr2lna2VlZrP2aqaiJernJW4c21eUH+GSmlqanSamW5/V2xXZk5/bVp8YWVvX2l1bYmkbXNqc3yEgmBYUJZqc5/Tr7KDp629qrmhr5yznpw/fJl0TWhNYUiU1KOYiqa8fbqMnW1XWqFNd0JrUsKSf5C4irKWk3dwbEtMUnyUYVijt5arwMqBx6igoaKsm4alqL5z17eouJ1sdV99angdaGh+TmhaZkZ0XUFHdm4rU1Y7aohCf1xneHxnNlhOg1BYYHdCZ2plPVg0fXhRR1JdTXhmkX1YUW99VVlQal9yaXxtZo6FhJ/MwbKImpmGr5WxpoKomq6ikI2Ya3qYkb+tma6DeY5kkny9fa2eX3OKcKO4mq6UoKSAgG6FfW2Kb2Vpnn6AZZRfhIWiYYmPZoqJp5m6wrSqfaa8l8mYh7GbnJ6ch7TknZmUs46ru7Cdjp3Fzra9hr+jnrCwhoPDs5y8z5+lpnZrVndhkY/gyIOvzpKXrr2Ou5Cjq86915d7XXZ+kXdWUVl0emyBYG9KkWCHW2BYgYV9MW5dkWVVgnh5nFNgZ2FoXUVeX1+LopvAjpKpx7h6pZ6fr4+UUHNcaWNpYV5we3WZxIbH0ZOnknFJcHtLb2JuV5rKap6zjJDZm8B+SE5dcXppXm2UtpnJptOWjKSndOrBy6B8oLR/h4atrpy6bktCXGphOGlpR3BgW39hVolFXHGDlGVWR3ByV0ZdZFRYbUw+fWheXzlHKm50P09jfHRZbW5uPId2Yl2RXHxaV2t2j29RekdHW2qpr6ykucV1qZuLlaLRtI/V27i0s4RgR2lzorevuZGxiGU+RraUrq6sj3dZikijvMSLkLagXVY8dXZlgn9XUYRTUFBuYV9QWWFYYVZde5CfbKulramlkrSlkaqTpbaro5CPuaWlwbGMvIyrpZuNmLSYqbqruZ2smpiWsLGoeYlnhaHIqGplRIdunbGrgaFglb6Yup6vqn+wr8GNZ1eGbjxbWGRmcmhQVlN+TnJYpHpyY0pyfF6HI1+NjFtNb3J3gJBvY3xCZG1zqJGVtX57t7WTq72pu6qpuFaIbHdjT0drcYuWo5Spp5+ZualoZ0Nffm6bW2eCkKjDjq6pusufl29eVU+CeW1kdZqlpdVjxLKwm4SOpNGbmIy2xriajJ6Js2gwe3ttZ2NdXV1xfklMRmhmW1ReVEpebF9XfEhQbE9xVXF7QG1wTYJYTVFZdXVqPVqPZ1BwTlNOeEBGemyDVEhkXV2KV1xEWW51pKTEoqiMmJSM26LWop6pqsGqmom0ZDdbWVyxkHi1yFxbXV5Zh5KrpItigmxFp8LHo7yZxqU/f4V9Wkp+f4ZcclR4Yldcc399kE5mWkVgq5eVuo+afIuHo5KanLOnlLibsa59v4aqqpCyrbial7eplZ+lv6Womq2lr6vEs4yttZfEva/Bh01yZ26wrsmkrTqku5fAqbOlrqiseWhNaHJQd3VzSGEkY3tUdE5oeWhxSHpjZ3dbfn1ijn+NgXhqTW90UF52WZp0d6yqrpfFy46hs6STiprIkHVDVnJ6QnOTdVygrKO7p46KpbmBaFVnb2R+W2Q4bMLFm5qomLHUt3k+Zn1pjmBzhYLImamTwLGuz6Glz4uXjbOasJacvb/Ht6d3c1l1NVt3Pz9VZENPOGY/WGNeWlV0NFJjd0wvUX9vQGhvfntYU09td1lEV2RLYIGCUGWRanJNdmU1gWJWdWBoYYVreWRXcEpuXozrqq6Aw5mHgJjBgMWlqLW7tqysloVubVJu0p25oJt0X3BggMl+u5p5V1BeVniRk5mVs6dxToJ2XDlATnYtcoldUmJrU1CHUJJOYFxveZexspq2pKqPfZOpurmksaaXoo2DY56Km4aQpKang515nbGJtpWP136snLKml4qqjI2epZuxv7qMdINsq+rewLjEoLC4tbqssZ6Wpolob1lcdT2SZm9wiFV4UX1RcEhHol9pZmeJVXd5d3thh211P4lidkpFX3RPUHi4g42juZiiraSwv62hrqx8aE5ia3xbcHFriYjKycu6faivc3xdTXhyd2N0QHKos46GjoevnJJ+aVNxelZkVT9qxL21frFuoKywj9Gjvap3kpPIspimppqecmaKdWBpdWBgboJ/YWVWf0BSYmBQaG5fXYJJY0FBaVlfU1Z5UoVxdYZ4dYNlf26GeHFggFxdimFoQ4BTcXBxmYNUmiBzZnN/Qkl7mra2ro20pLWLgaaPxXikw5Wul71qY22Kbop8gp6cZl53YXprl4aRmjtkiIB3naKOXcSId0VhXGJ0dI1bbIiHX2pzcXl+bXV1LYJjfI2YjLO5l5e2o7iak6CHott/iYbVfliUtp+VvYy2jryRlrqx0bCfk7qMuYu3qYykr4qX4bOdvJCUfmpfT8C7o7eUvsB50Laaoo2xl5SEaHtmRmRdV2NVX2FrgXsxSohpYG5xg19ZeEZIRXBkclVAcIBiRWJteVBtYm9giolwm5+4xMGmoL21jrOpon9xZ2t8YnKEc3WMt4m3oMKcnbVoWFRpRYaAbE+J1ZuYo8acoIWhildkWlNzcnJfh6mfoZRisaieuXa0n6e3mr24orqe1biUpZRvWU5JX3FcXHtjcXpLaIZEaTRWXIpdcGdqTW1od21pm2FtemZzU2pldFdxS1mQUlFiTFBYdWttknVbZ2prWmBLe3pWd1qkY2RQu7aVlbKbmaGSqaPFnqK+xn+PlJOtinFyYmu4nb+OrWd5Zkp6udfO0oNkaYNozoiquZ53r4uyuLyBj7GxnKyoxoKDurm+r6yL15GTqr6gsLqZmJKKoMqtw7qxj9KpsX+WxWV1rpqsrMmsyJfMpMGojKSpl8KbmKuhnuierXpTiK6topB8xLJ7VESXpn3HpK2aqJqgfJKl0JWlfXZrYI9rYJBxm4N+aYNwjkZgU124qGVzbH+IgX9vdXJsiWJyalaBhV6Qh610m6apormPus2UkoapzarQtYdWgZqVWHCCalGwg6Sup7HCn6m3YllmZWNskX97mZbmqqGWj6CnkaVAa4JNS16DY2aYkJdmoqG4lr+Blqijmo+EpZWid5/Aw7N6ZI1iPFp5SUliWldzWl9jiEd4W1l8TVaLaFFLXVVxWWxwVV9cT0dOblNgYmJmZltkYGtWaD9peD1lbl10Nm5fbXhaWHBbXkB7gWrAt6GPmaWqspmMxaqpoaqk0n6vrGhdYYdDw5PJg6uGU411oYmSuo2VHolJS2mJw36kfaukmZ+Be5bDx6qnnJPCnbW+rIq7qbqltcCgjp7Enom0mqObvKSEnqy0zrHMyJ9sZZWpoX23rbDYrXSUkbCdopu9mZCnrZiAtIOEYHaGoKmQzouSvoiDc9KptdyzpbilnZXDjqntpsp6g5bBga2mn6evcqaZvq2KurV5lriuiKKYxJeexLu1sqWlpKG5obm/k5qRoZqNlJ6evoOcsqmpg42smIiYUXZGbVN2T1tcfbe2sbmvsqutsFxsjVd+eneTfaeaho2Jk6WioYFlUYFQb2aBc3xuq6uvtGiap6u0wKuUhpqqkLSv3K2Qg5Kma2tVUW9hdmBgTEp9eWhYYXVoaF93UTxLOYRJUj5wkIVWW1taO4GCf1RJT2hlblh/aVZOO4SHblpuSl5bX156TmdYR1dHToEZdj2xpLR/vKmgsqSsl8J4k2iKuJt8pY1fXYJ7hrh/kayXVm+YO4ubkaulnm5fUGRvqrKOioF345Cnraq6iIypmaHDoZyMk6etmaK2pKGjorWej5W1pJKkloOOqKeQpqd6ma+Md3WZsoW3mK6Yk6KyqJ2Pp9PFoZiczrGwpLuKh3Z5sJ24tYufvZ11RKuyr6mGsruLg7KTjr6IrqykkqyamKCTlKu0s6rJpX61oq2Anqyr1qO8n9+yrX6otIuDeKWcsMqugJWvjIaWsq7GucqY2Ma9xMSth4WDkHx3Vl5YgUxjQLOEiIa+qbWxtZRVSFmDXXtnaEaWmLrBkbuZkp+keoFYR25SXWlwprG2gKOrsmfBmsWlrX2kpIqzeb2lpXd7s3RtamNuiHOHh3Rge3ZIYWFckG1fT4VidIVJc2hfVVdpS41eMlFNSYM4XGltSnJNZYBkSJlkhFJ5TFxpSEZQW1R7hGBme1F7fmRrja+5sLPGocGdrpevnK+mrKOjnqSaS3ZXh2Gri6elo1dxfn+2rYaQpXNoaJF5o6N5u7qlxpaWpbF7nKmPpMC1q5TFpaOWqobMnpGToXu1s6CMl6injaOWs5GjuobI0qOU0FttpMSPmbmcnqe6iad9maOuy42Qn7OGyOmjkY59VYCdq56+vVqLZoevj5KYw56Bu5aYso28nr2cc6qGhqiyha+zo72ckqWPjqWsf5SCp5yUpba00K+Qr7WniZihmpOtqKykp329pIium6y8jKyetaOurqLjxaBfOI5jZoFec1+msJiUj9GmsJaegG5KiKZ2jXVUroG1t9KUwZvClZpnXmNxRXdsWnaXhp+dtryLgnzBsJugsLmmupKck5G2s41kO0FGZUlbVlaBZWtKbj5jcD9AgFBvWE+VW1+BRIhYWWt6j2dYelaZfmNYf2hFYnlHYlZmS3RnY2ZjVHlvZJlVbW5zQXhTaFuPe72vpJ+hiIqdvqOrk5WPn66uvoq34Y5mZU57xYyYnXdme2Rpbp6coZZjY2iGf5aepb20jbCTmMSOh4O4qZCWvZXGr2uuk7F5saargrmOrIuGu5eZkXmje6edra60hsOMl6ykkKKfpa+QmKysqKDGtZKOdYrLipmlncWLrLKAY2hYpcOku5FvWIWtxYWkeap6n7mjpYS7i7fBrJCOupiyvpxkjLSMu5yasJyppph/nYOnZo7Juaads7qPgZPBmoeMkraTifh+zp+1kJq5l5bOpNKlpMHGuI2fXT5qgYGSkWt5fpylj5Wemb+dm2hgWWdtYFSDfEqmrtStl4eQsJ2EbFFsdlhocz5pj5jUmZm3h8C6u5N91o60gqipr5eeoKerandjUmZ3aW5uUl9aRlBsgWNDY12EW4BhL345MV+AgkqAcG9UTGuBZUheW1ZdNHM3U36CfW1uWGdNRkg+UnFML1+DW29oh2B2cWzAh7S4yYqrp6R3xoeFvaKqiZORi51pbJCfbsGPpoWqbFx6gXeOb7qReF11Ym6qp6mNgpuVLEtmWGBwWHB+Xjx6Z1JCdXpPVG5lcVtmU3i5es6Lp7mztZyNr6KtrKXUtIp9hXyfrKWVtI+rw5agrZeWrZWfqZGYrLClua6QpZh4Y116W2GNeYiVrZOYsMezj6mxrruPkaOrjZjboa6moat6y8uAkceK1Zit1K2bs5Sfc8i2jZirwrOwi5OEg5Orn7bCpqOdi5+ViZm6fJq6rIWPtcWQx6SGm4JfRl+AXnhWfLGqkHW2qNaprZF4WG5ehVxigVmSpZCbnL+loKzQiFJwflRzeYFmia2Mg6vKsMmMfXHavKyQwLG2pKfDwqOnwFyNVlBNbjNAQFxiYESGP493X1qAQFJZVHJCdEBPY3lRelF3gVZ+XINjc0ZrP39dYTkyckxcR1xWWm9samBPcGZYWmB0OahdaEdJnLrMqpKem6WkmKDDoZaMx7OJaIyngXxmV4mUvZSRkFdVY2RsuZuPhJNAZmtRs8DGsp/EtIdwZEaGWGtvTnVQamFrlExeZ2N2Tnddel54rZKknr9+kIqfs9W7eJagnKmZmHNktKSWnKqro66PmLKYv5mIup+GlZ6ukaiQpYGjwoGWZoGAa4Obq7Oiw7amvZ+7rZhrz5Ddrd6alHemxcuElJWWobrIwIPVgqCTkIeila+vr8aXvKaYiIqCpZyyjJGRhZKxo8e8x4+rtpubcqF7cMG2p4qdocBjb2lzcGVvkFl5kpaqsKayrKyMapCLV0dBZIxpo6OlpKJ4mreWfnd4VlQoeHWAZnCG0bCfxrSzsqCbi7WvmcKgqLi/rse/tYyiZllqWj5Pe3tuWWNiZlJqQy9lUmdJUVhga2+IZXhod05NdG9xT1BTaU1JUESEXmRraFRgRWRfSTWDcHVXWoBVc0JhemFrW2xTXa6bobGKt8OBr5iVs4qsi72bm3C3rIp9bWhfma+imLlpTVRlhrjLv7GuanB2cp2praqfn6F/eHSXf4BiRoeBX4JWdXSBn3GAaGpfiHtrjnbViZ/DhLanp7zJxMWzoY+2qph1aZGEvKybtLCTsKizgY+vhoqfo5iMiNOtpbqOkZebmpqqiHOTe4uvp5S6p66anazJlaeo1pyymZWlmJOorbWdorjFr8GhnoGgnZeaur3Ct4+gtXKBx3mkkL2NcJZuqbSypXyuo6+boq3Cppu0dIzEgLSTlclUimRkUUhYVlllrrK7qq2Zh5C8vXVPSnp5RFlsfYmfgpCKsaVwyZ1scWN9U2E+X1RpnsSgnqOhiLi0lnyCw6eWmJHDzbCDtJmaiXN2iEZVK0xMYkVjZjuTUmZVRoeMdEdYYHN5V3pgYVF6Ym53cjgZUlRrgGZzT1w5VGBlRB5gcXZkSaJWhD1CWFh8WldWjDlnaGq9pKC8i8GaoqK3nWCmppC0zbSRlrNyQnFaftKxyKyZS15TdE+hmamGZmyCVIuWs6qorp2MYWdNT1tURlJrVGeDYHl3Y2BbTlVdZ292WJGpv4WVm6LAr7LBiYq6p7+fuKeLTl6T06R5oZ2Tlo2JkpmUvpiLlL2zqbenrsGmw52/q7+Hr86riKi6lIS0uZWhkYOCerCcmp6Uqsimcr2uiqWenqnSw6C6w7mZiL6Zj8KuzpSHppt6p6uOmaSVvNKR0qOr2Y+7qqW1qraoq8OZjqPAlLukp7+mkmRVO3VZZ2pcbJ+gk5Setai+omxrV3VfTHhlgFeIjMvFobapjIfLaltVVoZwcG+NeZ6YtafPkKiOnLSIwcOjuZ+dn6OYqpCJt4thUWlDV2lVVXNTaWhpXENTWGBsUmBrfFtmZF9+XUhvbmxccmppXEFaZlJaRz9ehWpmWWFgUHRaeWpIellJR1CURWdhTWlfWFJXf6i7w3aVxKmFja63n7ung7SwpeubVmdNZmyvlruYqlJ+eVt+q7eTj3hpnjxRv7antI2yqYiKgalyl397jrWMlImVgIeAmHx+pEiDg62Kw3qEkpuruZy+pIXJm6ywkIl7ZoSMcpuNkaOfoKmpvZqcpL6jtdN+c6qEhIGojK+nk561ea2qm8u9sK6xqarCoaCBeZekpp6zosG9o41546WuxYvIoJ2vsJGvd5acl4ivraKrqJewuJh9dpCioJyfsYyMf7mnyIKVjMSat5yWqp2opLmuq5CcnmtWV2GmYHSES3Cbe9bByZuowMK6c2MuTUROaU6FdaLQqHallJW0uFZoUYhbYmVhb33trLilkLydo4TWuKavkbigtqaEhpSXg5tfWGprUVCJX19VhVxpTzh0gFBRUEZYS1ZQQGBncm9bb1NKRG5GX1VoXG+AfnpJbXE+ZnN2SWh2fXxYME5fSXhnW3FkZ4Zti1VTgKPCqLLDp6PMpKmr166el4KvzcO3oIOaazN+3IWWpJ9uiHVisoW0s7qCWVN4Lp2ngaKYtZivqLG4r8Oiw4yp3Z2T3ISaqZKembGvrMOnkLCqsbCBrKaZuaeVuMKmooZTWmxxbay3cJ+wrIuVfLaVmdGmrZShq5p6i7y3kaW/lqHBwcW0kLJop4Syu5acr2TNqZJ5rH6Vt6OTv5Bud1d6c36xiGGfcopgh4OEeHRvj4GFjWqipod+hoB9gXaCmmaBmlychYp9e6SLva++nZSqis6sp7G4tJh2e2VrZnh/fF+Ll5+kwp6xhJCkqk9Ob2WAalt7cIGwlquOoqqTmrR2fneKj2mShlx6o4+zoIB0orq3lJiex6J2j4e/o7GGoqiMczB2XINtNXFxdk9GVjBtd1BoQmxFcmhUeVpLZXNvVFEujThXV01oZl4+W3BpS2aLaVKDj0ORSl5uVYFua2ZhIFR7dm1zZ0xacV6unsSkxp2ioauki5SWi6zIjsmHv6dyjnOEmaykrYyAaDJLWmfLk7ice1B9VHGinq+cuc6ujpChg4uUm6mkdqeYoce5kqR10s6rhsqkyaGan6awfcWNj5unt6OptreIcKZjhFipoZChsLC9lLN5nqyPibOxlpF0n7fYarWPpHiuuqWKnJ6lxZGjjLWj16vMmq2HrMe4l7mbt41rX4CFZVg+T3B2cm1Chl1nUmttaGZ9akdchV9zhmdIfGJ/ZnRHaXtzYphFUVtsdaKhmL+9jJPQopGOl5rBiIU5blhRdV9VZpuuh6WRoZ6UsKOMT3RGY112cliGiK+ljL2ftMqVeV9SU1pcU4NbhpKnma+Zn7bAsI2em6yUpH2dlX28o422yHVTY0hFeXZYWEZhW0RQT2ZqSoRbdU10VTg/VW5OeFt+OUlDWGpSV32LaUNybm94eGZ4bEt/X49FfWhuczljTWCGZjNYanuFP0SFtnzItLqeqYKZ3YunyZ2LwpqXo4ONO3JgfJGMlH1nkjppWWiBqrC9o3FJaWR/sKq0lcZuspqRxs6yhIObrnSwvHpzu5absaO7maKGwamovJCro6i1esadvKutl5+urL6nhWZuqJCzq5d5vo6juqOqj9eip6irx3+b2KCZsqmSo8CDpKmRrYCqt3xopbSSu5iGgNCK1bbBwIuUbFRvg2R0anxZOTdef4B7lYNOSHqBelJ6dWd+d6FpgU9VaWRveWxNcEppXEKFeZLFxaiIt7WVvabJdl2ik66WfIJeZWJienSakJqyc6uhuNeRWWFiZW1faX1DXZm1mIqkf+uKlWlSo3liNYRfSWmnuquvtL+wn5zPopS7cKLA0q6xoZuisJ11Z4GHa0dIWlpFeldTSnVrR2VYZUiEYFB2VG1KeWuHhmJ8VWZ0YktrWnc3glpPc2pbYmNjeDteaU2VWGdnU1RlglRDS2dafF1jkJB3x7S4n4i7xH65mJy7hZGZpr6Kq39RfIF0uHqgvaF7T2NSep6mloKQfWaPd6+rkWu0aIuyobvLobKlvMPAinmfu6mir47VpKFth47Cw7SvjaOTbae0fa69tJ+EpKibsrd5SX+Jiae2d4ytmLONoYKohoeWxqCuzLXZlKy1ssalroa6p5aYxqqpqXKYmIyhqb/A1KG5lI97iIFufHZ7amtvmV1RQ19fX4p4Y3VlimVhbXxXhnNYmW5cTlZ6T4RSaT5sU3xwkW57iqp4rJG6opWRipGRl4p9f16Cb4F8bntThKmnlruzvK6fk4FVVJGIZ1KDcqCqtYiAvZSgtpdqjGKFcnE/SGNsm6WXjpeuqM6smKSospvYj6Ksyqa1w6yvbmNlfl1uOG9vZ3VtcUxYanQ7YjCFV0x1W4lGb3JvcoCDUmxeOn9Kh2RoUpVtOoJbUmB8WVxwdWRtUHE4e25rZnBPjUx9RWSBQnSat6NtiYKgyLGRt8+MZ5mpnLXHh4KGXYx5dbqax8GIbqSNcHfHobGtZU52VlZ5zaeTjW/Db3NIclOJgYV9Z3qAX3F+bZSIdGdwflpqipKThJmfjq+IjkW7maW2g2KqvK+ynLSvqK2UtY+QtpuwrpWks4OWermc4YPDmoWifoWpja+rsZetuGiytWi8y5XLlKmlpa/tp7bGkpVYQ2lUeINvg4qJXVptX25wW3ldLXRxiGl0TXtYfkp3WmsheZBRgWNwVkJkSmdrpJuwpIuBoaCMeKZ/yrCpcVpbdnNeZoSPfXiu0qfSrYuGm5WIZo5viy5ibYyEj8OcinOzdMXbeItZRF5scG9mZeesjL+Dpsa1o56RoaO8qs/JsJqdtqekoFBnV1hzhGtZWXRERm1eVXs7aZI6YmE4aWFxSnd2YIVUZ2WAbE54aWR5TIh+VGRdXF9dMlBSTmdvUkV4VTd5iXZ/aE2QeoNYjEdZf5avsISinqeKpamNnsOeupeFlou4d3dHYHeXsaupbnJhcHJqobS1qXteM3RJtZd3hLG0uoFrV4psWH5aV4hiaVtWVWxgclROV1OLTWGXeo20qJaZtY5tpMSqnLmtt7CctISl5Ymfe5XGkoO1pKCmlLfIiG+yw6C3kpWUm4aKm5anubehubienImqnIy4xLCfoah/e6uzq42hXk2Ebn5neE5zc15iiW91X4p0WY5QXG1VglBzXn2eaG1dRWhUW21HP4p7OV9sb3qqi26NkaO8mJ+kpZyfjYN4eH18R4JCWXJlp56dop3AsdmfXEuOSYp0U2WIqKy3obir0cqvwFVTZH2XfmV8iHXE16C3gJ2hkaK6trCde8SkurSpqWmXprGVQIBBRWpjYWFiX2ExWUd6RG1igmt1bXmAXVx0fnBIUmtbgVdeWl1VjFhTanRvdXNNPFtGeFN8QjuCdUxvYFtJhIZXZoZ+c39eVoOXpLmipKPNkaSqhqW5l7+m0o6ghHRrSYxlt5WXkYt5eV2NcHSzpLCIZlhLbIPAw3KxyrRXRlRwY6J4VFZyZll+ajd6dWRMcX1TXGVWbcyqn7SRpa+UdXyomJV+nMGlppyBpKCV5n6rd7uuk6OiraR/oLy7kKajtaSoiqGjxa+3mIKwq5KgqqC2pX11eYCYkYmY0pvNoaupt3ZwUmNmiY1WcYxUan55ZGV3aGZwgIdsXW5IgYmReFaPXnSAm1dufWZZdHpomISRkXVkVsWZi5yzsLe5s8ShWGVHc1J3gWlzy4PWpqqbsJ+ijjZogGeLa19gdn3Igpu+l3uourV/dXR7km9rfGlvrbDDz4SvssSUjqCmjq2Qxaqbwpez46V7cEx2f1xTYEFBZmRPUW+VaVE4bGE8SnxGdl14ZnZKR3VwT2hKVFhMem1viYRtYFJnW2U+WGp0dnmGflJEcHd1VENXkUteeV5Zb1eznrWrpayapJermICRnq1/qaClo7aHaXhXZXidqK1xdIBeNpafpL58m1lsS35rv6W4nHLTeFxHUEFpXGJHcUFpdFMxS0tYaV16cVWMWX6bwpGeq7CdkIXBqayXs5Snipqbn4KhrW3Ko7+RxqSdq4nEpKiWwp56qJ+Uj7qljcWyip7umZacv56ri5Slm7Glo6GUut2mqZWelK1hh1lmR3KBmF52hn2Wa22fVVRZjWlhNj96cGttMXBNgYVZUXRtUWyId3VebVtAiJuyqaigoJiTgX+Pgaa1fmp0kpNsYW1sZZGCvbKen6+otW5mhGBRcmpnmHaEqKieqLC7xZuRSZBIYFpRiWNDeLyap8GuisCvrKSTgVvFiruZxZaUqKCBgIBoS2RPTlRRUZBvQ3VWYGBWYmmQTl1rTV1Lil5idn9ZZWhVd1Y8WWt4YDVYIm9NaU1YSmdtTHc0fEOFVWqISo14YUdGboNhMlxrtpuioqCcm7KiiqidntOLxI7Hv7GxUKp4QIZw4oi0qIp0bX+Sk66htHtQlEZyvpZ7epi9umVpXXRneHNtlllZVXJ+Z1t3dIBuV3F6kXmYrLOVvcOwsbydt7KwiKuCgJ2gnqa/t7KMqI2Gwp6cppStn5G8uq6x75zDg4WricGqnKWbsXqcj42gvrqS3pWkrqiMopGlkJqqpYJmZ3BBSjhlWGV9anVqYkNnYFtQiIdNfoBDUVSHi3VkYG9fVmBoeGllQS85cyF2oXmloH6re5K0mIGZk3yhrr1jQX9ja1tTYIm6gImUws6xnZ1wXVxNlWBhhZ9LjZ+HoqW8tWutp35fnnVwi42Ujo7Snpa6sKSpq52GwNGppJmdmsCEorujyYZ4n2CYcYF/goKPe5OHprakcHaZeaeNeKqAmVRor4yOg3Z1gbSllqqQip2Gl3uIhKSceH50h4Goh51+qopohGx8lpx4hHCQo66QabWyiK+ysJ6VoKq6ncOdtZindqK5uKCXrp2wmb+DvaS/xpfY2bigf7CcjIRlv52E0Zuaj5fIqK2Ru8ahl7yOzomWnbx8s8G7s5CimYbGt5iqt66spqqFu6XEouu8rqGZm8+f2oqpp7aayLSqmcaTeK6oqYrGtqmeqq+SlqGgu7mop4KAyJaoh+O0iqm+nKeEgr2jvXytnZ26xGymZWCAdGyBYoOQiHB1XY1ahXRvR4xmdJB0epC3smdRcHaHc2iOXFu5gHp5hXaWoIXDlZuxyKp7k6TBoIRyqYZtZo9MsmtxiqO2vpedopCbi6GgdaCIe1bEkJuvksmYi6epvHuto31TfaNmpJGHuaSunLfJrIybuaGjmm52oajFn6yup4mkr5qlnpilpaOjeaiuu5W6r5zYrXa4qJGXsqCRu6CGopCEmr64wrO2cYTArpK3ncC4rq2erpnbv66AtLOrprq+eKiqe6yuvJC8hLyzfsuLro6ndo6xnKGirJKXoa60g7Wpk6i10reTmrHIoHewwLienqeduaiUqb2kmJGjtLuEob6nxaSvtaOnfYzDe62bobSskLuTs6Wcg7W0mqutjqyOoaOinr6hrZ+cq6urj3WejKXCopOdc75+oIvBoYyosZrXzrSG44OkqamStriQobmUobCliMK9p521s5+Eno+ghZydnJOku6SgsruMmYSxZLmmhoXQk7Cdr52anW27uJ+KlqbSpp6unqasvLanl7SkeMyCmIaPm5/F07acmJvFubSYvYq4o7O0rJa9nKikjZ2eqI+vm46ctJ+zlbemiqWijqidi9qWuICona/Ms8OworS2joKWoJSNvpvMl36gro+mk6qMq6KCqaytmppckoy3oZyQkNSiopOwiJV5rKmv0JTBjbfSbpKqkpKHmJ6MmYevt6qmzaqVnr2cnK69tY6blLC8lb23saS3qbOVxJGPpcmLhJiwkLe+s6zTmLWYp3OWqLqdgZu9pYqelZTAt5Oxun+bn5itgauyu7Kwv7XBlK1znY2LmMG7sq6ukZOzZJ+o0IWgl7HVkXfGqMvBvrm2q6STpOWXn6Cdhr6zrraPoq+qrotzz53AkbexlqyImoSZhaPKqMKjz8eSt6qemKCwZaiwkqOXuZ1+gcKSo4iTsb+oo6eN0cuwuLeW1Yumea+ReqiRmZyQbqahr45yjNqxhLeKpZfFzKCiqq6QsrLBeJ23wJS+fbe3xoudjZ7YvKidrpGIm7Ceray0r76jg5uvjoO8vKCsn5a3mrye4IZyv52uu7GBnrqyuIqhoJ+xvY+zuZHDf6expoClopyxpKW5xJGimrKdh46iea+vmI6prpqRrdOgopiJqrS3zMxnnKG5dGGWj5d+aqG6kq2xjafSo6Cjv6+ZnZmrmJt7rMDakpeLvpp5vaZuqW6zn6ekvKCelrWfkHitnJ2cl6aZpbO/lLije4HNdpysfpmxwMawm5m9dpmz1tWamK+tlqKqpJuMrYeZj51qm4OdnLa1rZ6Z1YucmbmWmauPyKKgnbmSnM6Wkol9qJKgrp3Ffr+woLi4oHSXxMaqvb2rtnF+lLSxwbOUuo61n4mPqrGbzofeuJCIkZq+ksaws5mksbDAf6+qnqyMj6q23KScupeTyZ+EoK+LnaOkrcGti8B8oK6YkIaYdJ6Rp5iqnMSalcaxipak0Iadjq2pq7q9loSrgrOzlqONqJuNprO5lL6GlHmpf6uettakl5Hfm8W/c5eUbbOYu7SNmMe/pZ6F2bqkrr+vequggKfMjYujzbXPncKkgo+im7G1laKizIaqqcCWoaeWi8++lJSjppmRwb6yq5+3lJR2fbW1tbfDopjEsJu5ta6SoXuns6iBv9TCiqykraCVrLagjLqLpZ/KvbahjqOruLuvk5CqkpOPoYjLsMqderK+vLm7r4XAg6uqnZKetqtu7KHausKapMG1rcmlgo6Rrox6nJur0XGgrZ6gfKiSgrC/d7i/mLiP0ZmKpa+1r5zIpLm8h3Kvoap7lY6fgKeDhNLGm4q4l52ln3q0uqGKec2QoJ2Pi5yUrpqjlJ6oqsuJn7l/r5mmsJWosY2ump3Yr414sYqBrKbBnq2koqCnocCWtZ2euZV4vIGOj5yTlXeop8u5qJigkaSIpJ+lhpWQlqWb0nKLoK+/xJyamJ+XnXKxlrOWpsGCl2SJtaWKkZTftKnLqarClLapubnSq4WVjLa2h56irJuSopG0oribpJaLkLB3j6J/sq6ksq2plZiTm6nIvMKhiau8sKGhm6uirLp4pIOlso+rr7mMsKu8nrWqoH+IlqmrnqvItJC1tZyYgsnUu6bOs4OvhrC/rKa0kceFl6R+lqiKfrnBnauvr6OiqrWimqbJoLK3nJqTjLiwmr+wZ6avm4qzhr+UiKiqpa2/p8uWlcXLnsO2lLGJv4+m0ZaVq6Wwj5iqrZLCxLF5iZqSmKWrkYmlqop5o6SXrYycysWHn8eMrtS0v5eGoqabxsmAjZqirLbckp+Wr6Wpooexka2urKSim4+1vaCliqGRjo2nmpKeqoqDtqSkkpunmraKgaeprYOWfpuvjLyqoI6rodq7rJGQjqN6rZiSr7qSwHqXu5OIxLWzpLyQoJG/l7x9k5TQp8WDaYy/tHGah5fHoKaYqqirmpHDlKOieZCknneRjMiztKqfiIKCmKCxvaebbJmZioaaoLiJubPCdpuji52zmpW9hJ6rmKe1obe7p62eq6yp3KzjtMayoWqXjIxzsna8zoe4yJmrvrKvi36xmr7Hr5mioaTEnbGjopG0m42jq6uVn5S2pYqNg6amqp3DlaeIlIDKkLSojaTPoeO6vpV1pJ+ul9O2f6O2l56LkrzBsYanruuPqXid2oedrY68u6C4o6u1v7nRt7WesYmNl367o3FjtZKklMHOlaykwMSEfZOqgaSkuq+gl6aumqCUuoXCmqiss6PHwMCdla+2u7iif5qtqaG22J+roaLKrp25i7ChoKe+sYfGoIeHv8qOkp2gm76flre6peGjqq27pomxopy7n7+Hm7C4trivoYeewI2WpqawlqeqqKOal5Wei7ebsnGfla2LprSdyKO8uqWcl7yAmqOYt7uPrqbVnquaf7+Yka23n72rvMuot+F+xn2Yy6fTin6ygrDSi5iUxqd6krqss7eK06qjxJaNpJemqaGuuMG6k7bFxJWhu9WUnoFz8rd0xaORds7Ii5qzlIq+yaGxqaijn7OlnsSPkMiKsqafo52sn6aqm4q6nLyzoIaIhpujgqKxmLKyibDLvqmnrqzWiqawr6yVm7qevJSiqLuhpYm5sL2fmp2ktbOQs6GemKOqgpWHj6F3n3q2p594sp51n6ibprqtmaGIjqy7ir58qb2orrynl6uXq52BwbNik6nBsK18moWatmqUorHLlp6xrIqgq7Stp66Tnnqgtduwqq+wqpfIhJaxs5HBm76wyp+tjI++o6qwuIqho617lqaz3b26rbatgb6Zo52WpMOHqomVhJrCy56bnomnkp2jpayYlZepvciPrLelmY+kkpyBl6O0tqmMw56Vq7yzoJODoraeon6unI2ezpXKuaDPlaKSn1Oeqnqcp5LCWba956mpq5zHlYunmZ+ToqifsrOhkK+Gr6/Lxr2ippqRjJB8m8KZmnpjksjHr8K1h4mglqOxyqOqsa+gn7OPtI7Br5rKl4Sxml2DrLK2mZ+tupq3sJejjpefmsG6jq+UsLu+vaWjwJ+hpZeMn7itkJ+PtJmSkp2mwqekwamD0bakn6OauZ6cc5CSgKKon6fEpaTO2aiUqIuhk9F+tLV5kbaPl76Vw7mvnpp9r6yrxoiy2q2rpLCluIOxtbGSvKO1e9qbu4DGiIqivK2mzaKtiammj6GjZrCDkJOMiImyl56ctqaavJSkkMS6n5Gps7qpqryxsJmciaGXxni7jMmQxsefjbyflrCh0L+Gmr2vmKCIm7i1rKbSdp6YmJmKq5qkbJ2UrKWRjXGdkp/Egqm/uaWmrq+7b3+Sm6lu0566cZHBuZqmr5qtnJ3IrLSp1KmG1MWmrJ6ztJdvobS3rZCzq62pqrqUuJCjvbG0vafFqJ/epZq9g52wqZaiu7SiknawlLiSt3edsamXhqvE3rG1xqvjyomJn5SPko+ye7G1nMaZqpyCsrCWtLuVpJSOq6uhoY2uqoaYw5agsaiNfLuVl5eerqq3p9LdpJ6fxK2itrCOm66chIqg3KaWsKubwsKcxcC0hIfIkK6jiZuOjpGgt6jFmJurp7GEmpfaspyinpSox7yrk6GjmX7RfoekeceeosCrsJy+jpOw05SqnN20mZeXiYSmp72wmbHJqpSkgKCpp3mwr6+rnM+lnYqWl6yzh5e22aqCntORjrmgubiJipCfm5LEucS2qbOBvaOjrpSrlKqxqIOwz5udrZuMssypqneTrbCttKSqvpi9daeOu5p5r6iloZ7LsXCKlYKQrY2PdKeZhZLrpZSnqa2qlruLgJG3kreVnqymqJ7Eio66lsTCrpmgdHiFr6+qkJFyioCvlZyPx3mwrKy8qaubo6SdepTCyq6dyqd+rLrKn4+HraGxuXCPhp6Rn5eQppSWt5iYpdOFqIPCjMKlp5Grq6+vp5Slqsqft5eekbWbqKN3pGqRvZbHoqGjsqC3lKGan5O+r5aUmpSS2Haul4CNkKKmrl+jc5+/rKqah6idnIyYnJazxq2Lr7m5f5qzkdChwqCfwLvbsb2xzpiflJBrqJSomrzKr6vCuZOZrJyhuKrDyKB3mqGkiJylt5GElsCyiK2gk5e5rcWro7acq5ewnI3WubKysKiOt7OjmLi6mXK2iqabp4iym8OyxJmnxa6gz4ucw3ODinKJna6ur5LPio+UjHyxuZWnhbF5lK/AmJOmtqyEuLiYwravqKiWm4KgpZ60tpW2pciPy7Wtl8SPxnlzvpe1iJuncayWr6aIq4LAx7mRv6u0r4iJloW10KCPjJelqr+PwLCgs86bq5+gsYy3iKSOi3+gsJ59sJe1ubKXn5yfvb2IpIqcs7exlY6ZlaOihJeeiLN3lp/FoqSBl8uUoIGzkpyai3iqloCvum3FrLe5sJZuk6j9p9eayJGtqs7MnZyhm527rNbNz5mkn46gn6+HrqernZazvpCirG2qqpWbqIibnKHhkoWYlLCMp6SloKKip6ylwIiTvsHGsqCYmJ9+qJTCj7PDlprhqpmJuJ6ZjOCjicCds5+ZoqrHnayFlpOMmavPgrW+sLOYnYCfmrWYk7CxmaSUmri6mKuWqq2vjbmrjeK+d8224oPAx6KUtXK3oqmNoKuVnISHpa6Xm7e6wKGerbiftcObpbawrY7Ei5WjxLOOoavXqr+YrJK5q5TIja6I0IOdubu+vniLyqR+l46pxKaai7PImaOUxqa2sqWrfseUn5PMlr+RwpWjpKScfKaToJurjKudwLK2ksC1qJmqr5a+vrGsppiPm7iRgpmViMq8gI3M2am5u8HMsqC0w8uwtqjHtIamoJOqlnWwuLmQlbzLqI+toLKvm6PEmJWQmrePv6W7qXekka/gus+jgqyomdSaqo1ypLCZvJ6UprSQroiNyKGlf6yttKWflreeo35oxI+bhMWboqaXt72svKSdn8WvsLO3qbCUmaOii3uvjbumqp6fibq4lZ2fn5KtqpSfe3uyfOF6qqaknrumvqeum5evqs2Kn6OFqXSrkLDCoa7AdbujtLaRvZ+LaKeXo7WbjKGCxIWhiqGmp5uzp3SpnJ3Fn667mbDGsamnbIGSsaLinrecmIa1wKuOmpakzpucoKaxiMeTlpy6jJaRp5WTich3lbCpoqqHopCZo8qjsoGKioqnr5vD1Kr5pcaxqZePvM+mrYahuJSWkYHLtoiOmsSvtdaatb+slIGPvaSwp4mfnLSPsHu7g6jCj7qVm8SQkcWOkJOpuYiDqaa206S6o42XdI++o76Zd5jBhqGBjK+ZnaqDv8GCkJORm5J/qJd6s5rBnKyooGKYwZ7NtKmKxa+RtZDppM7Fq7TJkZaZrZy5bqW0nH2/rrqqgIWss5qCl7aDtKearqGouqHao5eHs5Vxnpi1jI2goKKywJLJo7Kulqx7lJ6sr6uzhYyNlr+zhq68mLaFwMK0xJmnxMa6d56qkp6uk4qylJeXnJGCgae2o6yjq4mto7+UoHfbpZars6KmnbWBuqm9gJS7ravWt6+Nwq+ymsN8n6yTvqyKrYmRtsSjlYjInqu5qZ+yxJ+6m7yWkZ2Yxauqpbmhp5yJnX6us4qpr7CljsaaqrWK142otLGWl72fiLSgw5azqbOTf4TMrpjZzG7AsL+ihax5kbyjdaqwtYK0xpqgpcmsqJmTr6CPvoCFrLSd0cGZu6Kxel+isZSgua3DkYnRrWh/kqWUmKuinqWPrZrpyHuArZSIsH62pqKnqLCpfZ2gwLGkkpSunbycq46poZaVtY+Pp6KchKCCjp2HjbrFsJi0kY3Ko52Q1J+Pu52GtZh+l8eUm7GqisGutKiqmq6JkZ+SlYR6hbmeq4+EvpuewLuukoqosrS2gaWFnceou8WnkrqasJvEvr+ger+xyJOdrI/Nq7SJ0ZOvtp+JmqSNyZWal5bKj73KtaOkp7yInZylqrGlgZyFhcCUiJmqo8evu4Sik7m0wqK5dLHHuou4uqWRtKt+oqWpyaClq6mqusOUoY+VksG4kpm1w4efiJOhm7Wsm5eanbWqfKq6iZmslpehkaykmJ2qmoHQypWZaZ+6nsOwp8K7m4WFrqtgjY2graOPqqGxrH6Mocygrp9sqaGenK+9qM2nsXeNj4SvjY/Nla+dlq6dnJydnrLAyd61r5jDr4LGmo2HsqzUwKanyLd8t56npZaTxp+kgtiGs7OmhIiynsOdpciVp6PHpL+xiJ95zNigjJHFlI+flKXAkJeWjpypmm66urCooa2Kwbe3Z62rqMfEwcShopOUjMSos7mSzJuZ0Gp6rn3ZsqCnqrK9f6eTqp+pm6qvkKufxOqqiaWjoLqamoKqoofBfbWMoKKefHx2faCgiZybgo6qtbOEerqRn7irfL2ktI+6opqmiKyet5WmncWbqbyfdbWkk7erksjUv4isoKV/jZ61mprAwrChqryVtHWxl5mvsH6bsJ+gu7ika5y0i9ahx56uwp22p6u5qIu0sKqFhJimmYuWlqBjrJO5q7CYsq2LkJyxu4+Zq7i+flyVj4qqkWmkt7mympCcqJGdiLeIkb2XmpeVxHaYrtKovKGVvq7KqoJ7p4Wbq6aSspmmnI6LsryhqX2WiqWIxoikpruj0aanl5XDlKW74pK4pty+nKm4iZKpu4u3oI1qrr+4laV+yNLGnrbAmbh/kIeMmnyXoJLFvLB8nr+jl51pr7C0r5aOrqisbKrN262rppiMsYuPo4u/qIzZeaaOrJiTf6mn4Y+qnJSFmai1noqmq59ylZefmZaPkayNmoR4k5m8o8mbmLmQhILovrGswY+dmbWvtIOrjFHLitN2hcyFn11ibU5cWW5MYXFMTFd8gde8wbGhsJyonoV6iKyff5vRpp+/m86xocKTu7fHeLDCiZ6+abGutLKpfpqMpJiypLi4n4qHpJu3m73EhmeSfZ28mryazJqSxJuVrcKoi5ugnZi/ra2mh5iBpZLBn8uZvrCPYqajvI+gh5KloqGFws2DjqustpmMq7C2lb+5nq6pq5SvkJ+1zKKQpJOptK2nr6aVoqGylL/CncGyp8aLfcSxwo7Vl5+duqCj+aK+zqymj2SJco6quKm4rpe4nZ6Yu6O3pq++mJqrmJqsrbCoj6W8hZKyrsShyM2boKKgmZqoxZCOsKyHrZSjoN61wJ2OraGUw6eQtbWam8WClI10wW+3tpp8upfNl6aol718lJ+yjOnBlceTiZq0xbp1mKybpae1xpWtoKWomLN1eZvBeLSGw5KtoK6brLakv5O2yISJooK2z5uvo8G3w6ClioC3r6N8mHacqJq4uJ90T2hjhm2iclePY3d+g2yUzZqxorGJp8KVn46jlJWDl7a4kJ1+l56QmqCovqzAfoeUm6Fpl6mvnp6VcbXBqI11dX6ZnaGqxXy0hXKxf5jPwXeZvoabrLivnq/AnJGkmLWog7aErZ2WZKyth5mmrJGl0oejj56qrZ29saV2prmbiLeQ1KKui5vQvLqjvLCvuIuxzJSvebCto6Jtk7WqosGzp62AkYmDn7aKnoWqc7iupZqtqKqurJmbermgiaaKwoWEXTtsub+wqaSaj5G1m66zhai1jZPaxLuiqY60h7GYsK+ZuLaos6TGrayVxbClvaOef5ygiKGZ47SfrKCrpIu3mI+3wqyYnJC0n7rQkb57jqHHi56Tzau2r8OhnuCJj4+XoKGBo9CgxKentZSfmKiAw4Gsqdeqp6edjpTJw5mhur6VxrChr6KOvaq+n7WoopOqZa2OpYSxun/Au3+Yp5KrZp/JxpOpjKGrbmJhsKKdlZmbmLylgpi2kJF1trComnuenJG4rIyctr14kpmkmHJ4oKebv66ups6dk8CTrJKvlaaiuLKyxoOSn5+cs6jCwJewlrK5xKeVlqKv2NqzeL6Et2uqs6KXosuXtqauxIWaorCQjnubtZC6poylYa2SkJyyuqmafa2RmZ6rl56tmdSRjLDCudGLnKCoqKO4trvIqpmgp6C3tMKgkrejn5OXxnqu1KGOq7mUdLuOoI+Uh6rSp5fAu6ino3uCnGKEjp90gn+zsZ+GrKWkpai/naqvrLi9mLiS25+LgpuMh8mam7vBkKC3qpOUkbaCr6zIhIquy86QmaGdmYipmqGHgm+Ynr6XuoeJo4m1yKZ0pcGVj82ktZOknpynjp/VjMecr4mfwZOrl+CssrWkuXanqqGXjLS2mnCKkaTGrKqmjY+tfbKiwKmgu7y3qqmdtKGhi5eil6KEy6aWrretf42Yq4OXqbWRxW1dYomYl4KWwaSIpWqftIipvK2/iYSMl7uzk57DkI6ZrKCsf6V4hXbAm6W0qLG+o6uukLigxZinqG3FdpaclcDAqaBvv6+ZubGmiLStsruwu6HBsIfCm76PkZyPsq2YoqKTxpmagqi6lY6U1ZSYxrdlg5WvsYzHxKqXsdPBm42cjMrTrHzWYcWQm+fLn6DBl6SisHupsZm6nqS3qbifuo+v3dLPuq6rtaiqpKKqqpt6v6eiZKOykpiqpZfPn8Gv2K5aWXCma7e7uoe5nbSSmpyGl429qZuotLHMn6a1m3R1ls6qu6edn6ywyLuHhpqfm5+im76ZqNatqaObwseRsbiDsanDr7vay67Jq5DUeaeTlZObmLSspqOIosGikZ+bxaW2tIi7vMB7k8eGj56Zq6+zppSorqqDpH2huaqpjtDjrMa9wZbbrbjAlKe1lpC8vZ+ztJWuo5lso9ComLiNgLKOoqaYlIOumZyNf3Ful4Gun9GorJmilL+durrLubOUpo/Qn5O/vKC7ooOgun6nqKOWmI2qpLCjoK2Mt5aVl6CbnJKikKSfwJarq7Kdqbu4p6qqf8qipaNnnIigtrWehY+9saeRpJ2ZlcSdnaKWtq69m6aWvJuUgZK2uLCom66Gq7Ssg8O5urCg1aaOosWxkqCUnKidgpSZmL+jtqbJmbNTjoWDjZR2ubeXoKKuxbzGvYHKkMGVcqu8mrugjpO3oajkvpiwpo+dxKqZcW1tp5eFo9S+laaev4bDpZ6qjrKUmp2VkpictbankbWGrp7Dl622rqq1jcGNuKnEo726o8O015+umNCVq66Qp5qVq7izrpijoKCrhaO+j8qWxbOSh6CJtKqgv4y2lpapnMxigbKulomscaGKm5yEmqN9pqykpMekkbqCrpqTwZGVrKSMopS/qpei0MGRh5eowb+jo4uwkqWfg4il04SmrNWEs63Qk7O6lZJJgHKSkpJzo5y2qJmsi7SutYyikpKdjouzh7u5iKh4uH6fpKG/i6SGmpawlKWOtI+8kbKYj4WmkJ+zupGhsLCvtnGcoraZmaaIk4esmrPGnajCqqWRvZyNxZGmvbyQoq2seZK/iZesmryBpZ+No6SctKeEpMmTrouY1aSfiZuhk8ShbpStocnKpMSvo7CjmbjTvKeunL+ol5WCpIOMvKR1nozJjbWZnrifk5uFi5Oth7eXiruTW6LJqbXfn46Xw2t9Y7qQvI6Wk3WKyJ6pu7qT1q2QsoeinLC7vrGwo6y+otmrnpiqg6Opl8KBosG5nsPLrquUsKyvlnifrbyZxaejkZ66lpfDrHOOeJ+HsaHIpKOsmrCZrOTGrJ+qp6CmupWQvoSjjrPEpI+XlZ2slo68pbeipcSjnL2Foau1lai7i6OYwb5/sbl5xqGehKadqYSmirqKl7Giu5iHr5y1qZTGv3eQs46rrsW+qlhwg6SokZW5saSjfZGpq4Cvj8GFoLHJk5akv5aVu7WWsMGzgKqqr4Cvq8mJjaurkKCrmZ6xltqtl6quk4uLurKQpKORq4SpnL+GpIq3gLHGk6a6j5ikqZF6fKiWnpeWl46Lrq+8i324qYm4hpKpoLy5qKiatamguKyU1ciwmcGNkoqxibO0qtiv0IZ/np2+vnR1gquvj7yUoJCnqcCanbqtnYe3pZywubWanqqi5oqgg7iioryjt8maro+MmmOOnZSQdaaJtrS1nqqsh6OJgsiyirO6wqyi0JOhrX25wqbWjo6f0d2RoLqxvZuzkIaplHOcp6+WsJOgv7O/qbuBlIuJmc2/pctyjcOXrGWqhs6Xo6K8wKjGmpqeu4zkqZebsYHQxpKDmryuoMSBsravq427s52ctLek1L+Tr2morrqSoHuPtrqwfLvJtrGi0LSorL+Od6OJvHGWjKiLmsq2nK2xpZyZpZ7Jv4+Ph3pohY2Csbmmiqats2SlrqOrhazAvqiLzYaaqq6MiaCMeZvC1Kuzooip2qS8kbW+q8LBnrq2i5Waxa6jo618qsWpuZ6dk7KKhZWLqZesxJeTe72jw7e1r6Cqwaa+n5Hiv3Wtn7u2xq64uuDDqbHJtr+CvrGin4iypqORy6Kfp6+pmLGkaaChq72+5Ke2qKe3nJmim6K5vbC8v6+fscCRl42FsLGkpcSnm5fBhr27lcOtxK6TzrW3lqSosbSSZVmrnbuTi5y6xJ2vjKeVhK+SmqLAwYytxrWX2qKTtbGSz46LwKyssqall66ypYSaoJzIdaGutLufpYisn7mXlKK9ZKW0lYWkmnqIsaKRrZh8mMmllMWwoqSCq7uYmZSek5jLyMOMh4uTsp6MtLGUq4mFl9yupK+gqMbDlZiNrqekmomok9Wqnp65nXmct7+ttKGLjHWXd4a0f5Kpk7eBrpaedL6PlMejfY2fsp6jbVhxR2ynwqOWbaGnmHSUu3e2k76geseunZqbqqaeuL6bvJ7EhpeYjqG4mKqWupawnKSbw6Sln6GEioq5nYmOhpbBuo6Yu5WGiKrFoLOQrZCeq6Ktf6Bxmc2qudSgmX2HpoqUmXSTlImCvY6XcZ6tgLqkf6mxn5B/tqJ/w6eciKesvqeVoLSRsY9+q5yT77WJeq2oiZavtJWMooWrn2mlo6mHsKGEx4+IlsSJxYKshrLSnqq7o6OgpayZdnBeqI2St7PVn5WQm9fQoNaGmKXCwqegoXiPdpSEmLWgsZy5r6Whlq6phJ6WpJl5vK64wbSey5OmrbGQirS2k66wtr+5rpGetJ6Vn6aloa/dtsGko6WyvZOxjJCUob6U2rO3laKJfrvBu7yogb32oqqGl6PBvqqJ3bevoqGYv5q4k5bBk57Wop2OiXeapc6fecR5UUhlVH9ni2dbdHyDf2pIhJ/clK6HfrObnMaLpbSAaYRWd4+QfpF+fZmdp7qSoKWGsciInLDNd4e1u46wiJ2iuNC6k7+5jZfDtI6mrMyHgaGhmZ2wqsfHrYZ9xKyoqqqboKuNspqgvLOjmJKZgZiXoperiq+Xv6+Wo2OtnHGDqa6xlaSFuYyatrakqLNz07upibeljpG5o7S7sKTUuZ+sm66Nj7ebsZ5jsbyQhKnAj7OtsJ2Uopuqw6RFdn17UkREWmdQcYWUcXVWTX2rh5mhkqOKwKuln4JydNiesbe5f6ujkZmhm5qip8Gxr6adxrR+jMu+s4+lk4Semp7MpJeap6iWuZSdjaKmr6qjfJ3GqMWYi6m5kbq5c4SvwaWrpMCIuKfCjKu7qZq67pmnmqmji6GhxrWYqbScibCLlKeKkaqqk7aKmLmgubCSspakptu6laWkmK6OzbaUhbOdn7e7uJ7SscJqsKmgt4Wuzbi+isq2ksiJmrexgJWWy4+HmZSzsLGpsY2ZvrGQWo9nzYuRpKzEq6S7joDan66zq5m1ncvnyqiDwJubl5rGnZKktamwiJzKeZPGwZmYtbqUo5yvr7C+f7Wev5y9pJ6gzKzekqOKjZeeqraOm8GtcKCtpLe9wa6WjLGfenScvru6wZjBq4qgtpTKgKyjdISKdKqkqpHUubmPqZORrqOxqqymnJ6XhpOrjax1nLudtZiFxou8l7DGlZyvhpvCtnKyfpSfmqamnpyBpI6UwamEvJiroaCSWE9tmYCRnp2itaqryJG1vIG2iKqWiZacr5uNsIynsbSfyISzsI3Lo3Gsn4N8q52pyaLFmIKfhH6syKWqpYuPsr2isJ2qksXS0WhqkpensLOrdny2tJKGk52qtW+FxbWyoJimkLOcwaGuv5aUvryDj7i9qrSkpIt6j7Cruo+PaMW2o5e1vqmhs6SnksO2rqKiwWi/2KKmm9O/p7eykY2ug5SyhqCRt4mciaeOh6yWuqOumIWRgIuLkrCnnrfCl6CfucO9koiwqbOavo6qg6mUrZm5qKKjjs23m4qevL+gx7qVtq6zqMabbW15oK3TuZWpjZOSxby1tYXPgayojaSMrJ2z0qesjmqPtY6gq8Slk5uZiZ/SwazCqrOIoqKKgrSQp5y3irmNooSWsZK+so+Rr3/Aj5SMxZezpa94h52mqf+ei6aQxsCg2sSht47EsKOzlaefta6hpK2zf5a4n6WndJuUnrKfmZl7Z1ZMiZmzqLmRnbS6jZZylZbO0r2zhK+YvK+y2LLLqbytfJyKh66zmseWiKmSyJKhnGbLo6uhjqS4opmTtZOKm8N9mp+xuIigxaDAtKeVmL6zpGy4oqGcxrKCnbqFmaqWyrWmcIighamOm52ogMl+ppiQspSrp6mywJ6hqZKsp7Oov5+owcN/p6yQm5a9bY+Gl6WdpY6UmIaNtbq8oZyBn4rAsMKYm8mkpq6coY63lKaanM2ZZU9Wro+6pKmXuZeBrISik6OwZKidrb1kupqjtK+SqtC0jb6Nq6eggcWrqK2AnZSWk4CitL29oqfGpLq+oa+gsni8epG6kYjLpZamy5zAvLCqsYWJhJWkur6huKHcyZaJpI19nsTEo7CjmaaZnJeVwZSuh6S6uZ+BsZunuZzUp6udm52gqabIhs+Jj82qy8mYmaOqsKmWnqeiicC2maeZsJKki5OpoZSHkayylrSuh65+kY2Zq55ti3OfqKGKp6uQiKmHiIetlMGjupynncGjg4qumbK3tKKNkbC0x3S7msScyJ3ggbKTsIKQnaWueqWAmqqXlJiniJ61xW+qqJmEjpudn6OtqLeynLarlaCOlsWZsqmMmZaSe6+CbKi1sq6kyHm4sYbZlJCtsKmzyK69javDx7Kmh4t7orOvlGmaoZqVsaCTgqezrrW8uMOcr6KkkrWho42sv6qroKqZd7WLfY+mt5+Hl5yZlox6cH2Xlam3q6S1t662t46qpImRx6+qrHixtKSXqtqXtrzYo7GLsMSbmbWfmphxo3CvgLWoqLnFsrt9r5CU4bWdtG26lnOYoq2Xpbt6vaOnobd8nZ7GdHKdva6nyL2vpayfpbWjqJt7p4ewnqyfqoCmspS4o5qxt6eFfXyWrKqMoaWolqKlyqurvJeQv7SaqqzR2o6KsZ+EwMKLopW0kqKRmp2RmaKitJKRqoiOq5mejK+WqtOReESBnnKmjpTOrWbhkZWhsoaPr7WkoZ+ZkqyTj5jGYplqkpayjJags2uaraCd0ICjqaTGgca9w7W5zqmkq6+DroOYlKKWoIS8l3qvnKnIv5Wtj72Sop6fyKHCrKimmY63vp+ieKmgjp2pnZTJtsypqaOTk7Kxr7mZq4qnqpybtp56tpaxpcy9b5+NtZ6Ks6WZfqeakpR9ya3FqKyNk7KggqbFeLWwncSXYXZnnMunpK/CjpyUd3R5m6yVqI7xkH+Mq6KOp4y+squIs594g5/ElYKFp6y/qZaqoG3KwZuqhqKWsanHaYeWdnbYuLWDhLioocnks6WxodGbiJWgpqS5ksmmpca0vaK8p5qcRISiy33GoaKwrqaRlayxnKCMwpamlaigvYnJwHmtlKfClryqgrGf05SOkaB0soejfZ+rr9LFq6jMvc2ihM+5sGmiqKKQlXy3mpGVsK6ktajGaLPHk4+hx6JvpazFtnh6eIWPo6PHrZfObLZ6pblzkpursHm7nsCivZuizrygxLm7hJPHuq1/kJGZopCwqpKynLmktMHHnLKfkKvHnLuktXqTn4jIw4h/p5u2f6uju427uJuqiYyVtLWbm4OHwbGFc6GvtaS1gLKE1bilpK6Xxq64o6mKjo2osKy+jI6OvY2mrYaxnaurnqixy6Gug5TFp7V7n5Cvk7GlwMOaqtC3tbN+ltHFqIhxfpTHt6mSpH28fXKOmpewqpGPgaqEhMqWgpSVm7O7tdSmnouLrquAsZSii5yqmI2Nqr95z6PqecR7nMiNtqqqkpGnn6KZpLfJipi1oJqkjLu2pY3IroaYn7aXpsmhjsqlpaO+w6eit4WnmLS4q4CJwJ+jmMXNoKeDrbnGp4K5oYfBqqSJmarFgpbBrrF1upzCrrDIx6OmorKOm6fMnqeu17Wzn4SUqom5qn/BrpBVpI/Gttq7wbKQppB+TWZNemtlU4e3mLWywsevg8u8uKy0jsqPoM2ssq6AnK2fpbiAl4eYqpa955qjwaejp2+5rp+VxqqjtZKioaawkaOxmLx6pJectLGXqsi1iZiipYSTjrOMl320rpeGscCZpNWux6+mv8qQm5SakdWfu7moZKWcjaWszbujxZiAmbm606ew0qKyhrS8cJB/ypiaiKitxYafm6mCnWO8wnaal7Kwo4CYsdOxjJKZnaCvWWNWj7CcvIPEnY6AaaudraeblNaNpo+gmqaVtqidiaGHs5az0sKnp5h8n6eywaLKncSqraaQzLSCn6+ctpOoqL27rZaWqaqnp7S3h5WNxJKlsYPOrLqSrpZ9kJeHj4+/0Ii1n8rdrbefh4uVrbq9vpJylLqEkZGHuaF2z7CanamhsaePhaWfutGbxo+IoaZ9k8mhgpycqsvDhZKZspe60aCroHCvuZeQ0Zu4kn7BpqipkrGXocqIq7i4llhvWViBOViRjJa0qLW1sLqAx77JxaSFlY2awnqYisanu7y0p4u/fNGhcnq7j8KBkbiLoZivpJeAn5Czvqipq5zMnZ6Sj7ywoq+nt3+TsO+zw7SfpbGymaO1uKSZw6ecdKyzs3iOkKWrtbKevr/fv6+qnrqLhrGfmL6Lq6q9qM64iK/Us6DPoo2/i46Fmoe7w7yEucSws7e2o6u2u5iYrId3i7aydZ2OoaSHtcOlyYpqYn+wqp6It6M+X36SuYOsmrOlpZisudWarKOSxp6ooKe3oXmgzYWbv4eQlsmwpZrJpX5+rYLGk6WSraiPm5uCi7TTvsG+qpq6lLSl5aeczq6zl5ytgJV+rJqbqs2qt9PJoIfKx7iTn5TWn5B7nNeujJCvvK+dxoF/uKmqqqqptLOZrbuxqMS/wYieiIeJhruUkcdvkJqbwKSZr56iiouLtoWQw3aovpSMsrWVraKSuKfQz6iKno2VmKjIsqd6SDl0ham/pISShYiRsJ+YkJuFqrajjX+nl6KhtZumirCeq52VkpPFsqG7zZuumZyWnIOsnMK0lLeQso6jo5S2e5uqfY28k5GkrZeZlqF9krqrdH+2w9KVrrqjj5+4j3Oeo6XLr7d5wM+QjpiIg5PApJuPgZiMm5GJ4NK9iXaus629Ya5+m6W+lZCmn5y0rMJwrKKQo6iWsbyPooienqCJoMSoooe0kJymrMOxhlM9aYyBcIZma4WfkaGerbqUvYeyrHmNhoGGtad9h96hgry4qa6kipWvi7OxtHLCe6TAt7a4x5+orp24t46Ot7u4rKeUlrONjYPGjpucltDO1rqRr8qdqIiksKzQibO3nriQwZWnma2oqLDAl56ahZygkZK/kJ3JmJeylbKrlaKlyaitwpeXuI/Dw9eir6alqqyausLQoMdxs7+StaWkxpqor6SYk5u8qJ7HnqXNeL9uxLCWt5l/vIrVtqOzpHRfT4qswMJ6scqGwo2he6fYoaubm8W8zMWtvK+ensSUs8Oyt7CTmqWRk5+bs6mVkbacqKuZsr7BhK2srcGCnbeana6hqrmgoY+QqbK8nISXxaimna3CpKiVrIGQmq+ip6uzfqCSmL+xxKKYtpKqn62to7DCjoWOeLGQqK+XmKKmyZm2rZi/vJylk6+apL+NmNWFxKpyp8jQn7G/pZKx0ZWfopqgjHzAgMeNnn93Zo9ZbmtQjHqktaGPjIWhkpzHnMGfvbelo63Fp7yfjZOejZqSr6m/db+Kqr+ggKi5nZ+2lpSYfp+jupTDw6XDmsemj7KTv8SJgbu+pc6hs5u3kK2YosmhsKmWesmNlqegs5rIuofLuaKbvM64bLbIqoeJqYqfza2tm5CW05+Ym7ihm5zLso/GpZmzwKSwn43InIijid6qtJq8v7SasZ+tnpmcocSRrKGwpI3AoIu+vYGkkqCjkKOVrougv7S/Yz9+pr+qnJWpip63lcOJtK7WzLmlo6TDpqO5rrCtm62Gi6J9ipWclaWmlKSbmn6itsqOlY6LtprHp6+fqKbCj8CFd5uoqKa5oLmvtqmXlZ6Rj5bMq8Jwp7ugyJyo/IiZjLCXy6umj77Qg42UjpKumaeinWuXnI6UmpejmLSTnqigmcWZpJPEr4GMu4aelYepnMSaipWxdsmBtpuqd4J5zpeKjLyMq6i7uMt/oXumhYyTpomXoaDlo4d8j4Wkk7eGm7STq6qSu52pjKm6rpmOy5W7saSy4L1psbGfqrzfmbWcsautk7izzc2ddoN7tNSlnrF/oLF+lI2il4qxta62p6uFf5Cus7bIsbqfkaSqqMakcId0sJaFloCbi7fepLy5oKOajHKJqqOQsdirnq+ku5mCzqC2p6qVkcuWnLu3q3+0w86Pi8ivu4+gt4aYXKVsup+NdLKOuaCrtH+npICImMOms4rAoaqefHdYt6mkkqm2jLByt5egsZ6ur7KWqoiwpJukqqG9oqXAsquNsr67q6KXtI6aoZCmhrW5lsKukpmVzca+q6O1h760vLHPzKClsrO5qqKtvYu2gp+xuYuso7Ou3Ie3oaGepaC7qJmtvZtohK+Sl62Zmb24vrSwopS3epS2p3Wt0JqdyYSigpLHw423ksSkuJO9pZyGnsaPkH6B1KSHrqbBjaOZjLSWocirio+jr6ycsqu0xYSKfsWfwsmaoIKivpO8l8qimNCeqqGTrK6biLmslYC6s6R4m8immqms2JrRnJWdmqOhzKaQwK6unK60p72btLy5mIa7pMrKm52UsZKruIGIqqnCsIqamGasqKOdp52Jr6q+hpOOhLa/pJ6lvpeKoJ2F3seHvMPDksiZnqWvnbeqbLyLwJanrsKvq6ufuM6Jnai5hJGM5LOkkqN7xZGgxKyxtJianq2QaqOBo6+zt42el5+Sn42hhYGinLaXmqyho5DAt5O2uaOnfK2UoHyuu7CXm5KbjLuylsDAacGEnKy7rZadlrCml6Wth5+cn5CeiaKuxbCUiNqxxq6Bq6CSt6++oNKSo5aToamTp7KjuqR2mbCthKqrlKXTka2LsLygkpmhwKyVmpenVoGnwKKlr427rqt2yLdlsYGLnsCJh83Mk5WOsJqGibmnoqWgfIyIp9LKyYa0q7DBimmVt5zAqp2Vk52ap7Vloa/Lj6uMj5uSob+HxMWXi7SLkqK6kbXMp7CXkriciYuWjoKPkJ+bfM+9rqm6mZGxo5+6oKiNp6mjo4WsjrK+vYfEoMSsupHBsaKWrIynkJ6CtaK1l6mgwKG/tpSlsbOclcC8tneqsqqXn6KXnoesmJyRw5mjoKOVm6iqqpKyypXMkk7HoZ+6n6CasKDHs72NsLCNvKjFqa+jh6Suq4qrrK6Tw66ZqL6RpoWptK2zt7Gsm5SStp+xq6+glpqze6imkJ6avJ+seaGZkMeynLytm8DSormhr7munJDFpMStmq2rpbycm9CYua+jqIyPoKKctJabo7ysqLKGkrCtfpzJkZepk8R+hKGJxL3Cu5Zvn7bVjIy8qrS4vKLkkoWuvoKayq6yoYK+lbGTuKuiq5O0iLPWwNCHvZZvnpqSxIyhs62qvanDpbW3uHKZnI6Dm6uyjsikiq64ucSdjqLMuZbOmquD0K+er6DKpYyivJyVxXmofriMnIyreaSIqqWjkNOQeLStr7mfg7KhfLHPqKh2gpyxtZbHpcidt8rVrLS4m5WowMCovK6orcihr8OiwJankJOhgpmSsKCTj6KOh6SKrp58tpqIqozBppW2g6KzqMaapZ6ik7Kgmpytn5+uho60krq+wXOZmNuVtY/CfZqiu6XGvbO/wcK1k3Smi4+Wm5eEoLK/mK+hqbi1n7K0mr2rgZmMnamVpbWcnJq/vZu7mamavqORjqjIlqK5oIekhoqyoZySnJjFkoGuvJiTnIiPl7Wmo46nybaav5+DuKitj6zLuHaUtYWoz6K2nJaKsprAn8iOhMqSsJmnnZvCwKq4tqaBkpqhecCepJaW26exz6S1iqyojbWHvMCpyqCttYyCpI3Glb+jq8CqmbyqkZygvbmxtYWhpoyNyZybna3Fv5XS3LO5dKS4lqyXiLOllnySkbimtIS4iM6Gd7CPsp+TpoJlysKywZeVl5Kjl3ywx76id6aaj5asf6OkvsSgq6bFv6qUnM6qoYZrir/ChqGVeMHHwqqKr6CdwszMh3+jpaeghJGJkHqbn6urgJ+YsdS5qNOch4e9iJWEsuZ7i5zMopenpqeUm412nriahpmhm7qrm42KjLiYopXOnKyVoXiHop7aioyTp4ufj7e1gsKsxqq02YGolKzavXt+n7DptqifnpSheqiflZusq2OLqpfJpJixrYKacIyKuK+ZlZ6dedmHfpt2lKu1ipmqj6G5fdiwvaOboZeagJ2drNaWl8rHl5qgw5G0nIWIi5LEkpaabq2tdbas1KeetKu3l6t4mbabi5aRsZ7Ch62wmaydoYCup5+EiYaHwdCJuai3o7OHrHKJuoGLrquvt62ruKaSpKWsgpqEmJ56kdKumYbJpZywp6SEh6fAaaK5sJy4kM28u8OlcozAnZO2v6SWkZK1rbKurKC5qoieg6nBpqOStLrAl4qXkqyunruhn2upsp2rsKKXjYS7mpyroo1xwJ2UnK2MyceYoo6XhLytm62ohnnLgMCcnKOgiKOfsXmWsY6RvKO7sMSfn6KjqayBobyMpKiGf5C1rbC8sseqopWxrp/GmqHjmLegl5aym7iwoH6ntaR1fJ+1wJ2lwKaQn57aw5LFfaqZtJqRvKWTjJKSrM6jqovErJ63lpOZwNCatJOPlY6/prOTgIibsYqaoJi7ooWMmIh5pn6xso1vrc6wnLukwZy3p8DctcyNxJWen7qKwXulsY7QfZO5uq2pm6ugsKWelIKriLmBx5OMop65t6Skn6iriIicj5agrsCYmJeunNmzpsGTqZOuo9WniLSguX7A27d6wKKaiqKihpeJmbOSkJSK1LiTq7ailpm2gbeWqZuNtZmrq6iTmMSrkpXJjH2kpJS3sbCenZiAmsS1k6e+qpi3mHi7cpOFq5O5naGyhJGphLDFqZqgmpSxjLapiJykr8DCvry3ubTcm6qoqZuzep54t5C2nsOrgKmmepqhoYeXs51/nIuQjZu8gICrn8C4paSrmaCBlZGpuYiklI7KrqeBvK6Fqaublp+enbOlp5a9l66zvpuhjLu1jKa5f7vCxKqarKOuoZfNmI+ohrCKpa2cu7ienJuXvougn7SXj5qUdKahp6Sspt+Xol6Jr5Ohn5ytqaeVc5izjYejnq29l7uklZlyj4Kqmp+TsZfLmZqtkKO0wa2rk6+grJCPfbylkpOdfI6fb6+5i8mut4mYo5SLn5yXhZ2Xq4nSrYKTor6lpKexqHuvs46mguCTpreYr5+1uKm1na+ei8vCjICIkKp8w6G+lpK3waClpbGhy7GlsKeXrpy3sK2ahqGciZ64ymqUiKqlpaWhqrqwmqGttMGOo7KboXybl7Kll7ucrXR0qYacv3yppXynrbO0uZGjhpOOp6SxpZKnkNyxoKCHiNiusp6HfZuYq6ONuLmwm3a0ma+pk7tzqYa2m353obDalYhyl46Vp6ehm4iyoa2Sy7SLlrGxpZPIca25lrKlwomgmq+wm6WmsK6deIOyjbXClb61mqywu4+2nZiyl7CYmKi/0qe1fK3DrZa4bb2yn4mtoJi8nHy/g8iAspyHvJaSw6C+pJqNrKmPrY6jqp6jmqagq9OKdIfHmLmLe7WYl3mxr7WrrZegmoyqtairm5aWlJbFstiXkKWdoqN+u8Ohmmyrop6tr72Kq76hisWOmJ6Uvp/HsX6FosG2pNnNqJmklKyPu6mcrqI=\"},\"shape\":[323,361],\"dtype\":\"uint8\",\"order\":\"little\"}]]]}}},\"view\":{\"type\":\"object\",\"name\":\"CDSView\",\"id\":\"p1538\",\"attributes\":{\"filter\":{\"type\":\"object\",\"name\":\"AllIndices\",\"id\":\"p1539\"}}},\"glyph\":{\"type\":\"object\",\"name\":\"Image\",\"id\":\"p1528\",\"attributes\":{\"x\":{\"type\":\"value\",\"value\":0},\"y\":{\"type\":\"value\",\"value\":323},\"dw\":{\"type\":\"value\",\"value\":361},\"dh\":{\"type\":\"value\",\"value\":323},\"image\":{\"type\":\"field\",\"field\":\"image\"},\"color_mapper\":{\"type\":\"object\",\"name\":\"LinearColorMapper\",\"id\":\"p1529\",\"attributes\":{\"palette\":[\"#000000\",\"#252525\",\"#525252\",\"#737373\",\"#969696\",\"#bdbdbd\",\"#d9d9d9\",\"#f0f0f0\",\"#ffffff\"]}}}},\"nonselection_glyph\":{\"type\":\"object\",\"name\":\"Image\",\"id\":\"p1531\",\"attributes\":{\"x\":{\"type\":\"value\",\"value\":0},\"y\":{\"type\":\"value\",\"value\":323},\"dw\":{\"type\":\"value\",\"value\":361},\"dh\":{\"type\":\"value\",\"value\":323},\"global_alpha\":{\"type\":\"value\",\"value\":0.1},\"image\":{\"type\":\"field\",\"field\":\"image\"},\"color_mapper\":{\"type\":\"object\",\"name\":\"LinearColorMapper\",\"id\":\"p1532\",\"attributes\":{\"palette\":[\"#000000\",\"#252525\",\"#525252\",\"#737373\",\"#969696\",\"#bdbdbd\",\"#d9d9d9\",\"#f0f0f0\",\"#ffffff\"]}}}},\"muted_glyph\":{\"type\":\"object\",\"name\":\"Image\",\"id\":\"p1534\",\"attributes\":{\"x\":{\"type\":\"value\",\"value\":0},\"y\":{\"type\":\"value\",\"value\":323},\"dw\":{\"type\":\"value\",\"value\":361},\"dh\":{\"type\":\"value\",\"value\":323},\"global_alpha\":{\"type\":\"value\",\"value\":0.2},\"image\":{\"type\":\"field\",\"field\":\"image\"},\"color_mapper\":{\"type\":\"object\",\"name\":\"LinearColorMapper\",\"id\":\"p1535\",\"attributes\":{\"palette\":[\"#000000\",\"#252525\",\"#525252\",\"#737373\",\"#969696\",\"#bdbdbd\",\"#d9d9d9\",\"#f0f0f0\",\"#ffffff\"]}}}}}}],\"toolbar\":{\"type\":\"object\",\"name\":\"Toolbar\",\"id\":\"p1481\",\"attributes\":{\"tools\":[{\"type\":\"object\",\"name\":\"PanTool\",\"id\":\"p1508\"},{\"type\":\"object\",\"name\":\"WheelZoomTool\",\"id\":\"p1509\"},{\"type\":\"object\",\"name\":\"BoxZoomTool\",\"id\":\"p1510\",\"attributes\":{\"overlay\":{\"type\":\"object\",\"name\":\"BoxAnnotation\",\"id\":\"p1511\",\"attributes\":{\"syncable\":false,\"level\":\"overlay\",\"visible\":false,\"left_units\":\"canvas\",\"right_units\":\"canvas\",\"bottom_units\":\"canvas\",\"top_units\":\"canvas\",\"line_color\":\"black\",\"line_alpha\":1.0,\"line_width\":2,\"line_dash\":[4,4],\"fill_color\":\"lightgrey\",\"fill_alpha\":0.5}}}},{\"type\":\"object\",\"name\":\"SaveTool\",\"id\":\"p1512\"},{\"type\":\"object\",\"name\":\"ResetTool\",\"id\":\"p1513\"},{\"type\":\"object\",\"name\":\"HelpTool\",\"id\":\"p1514\"},{\"type\":\"object\",\"name\":\"HoverTool\",\"id\":\"p1516\",\"attributes\":{\"renderers\":\"auto\",\"tooltips\":[[\"x\",\"$x\"],[\"y\",\"$y\"],[\"value\",\"@image\"]]}}]}},\"left\":[{\"type\":\"object\",\"name\":\"LinearAxis\",\"id\":\"p1501\",\"attributes\":{\"ticker\":{\"type\":\"object\",\"name\":\"BasicTicker\",\"id\":\"p1502\",\"attributes\":{\"mantissas\":[1,2,5]}},\"formatter\":{\"type\":\"object\",\"name\":\"BasicTickFormatter\",\"id\":\"p1503\"},\"major_label_policy\":{\"type\":\"object\",\"name\":\"AllLabels\",\"id\":\"p1504\"}}}],\"below\":[{\"type\":\"object\",\"name\":\"LinearAxis\",\"id\":\"p1494\",\"attributes\":{\"ticker\":{\"type\":\"object\",\"name\":\"BasicTicker\",\"id\":\"p1495\",\"attributes\":{\"mantissas\":[1,2,5]}},\"formatter\":{\"type\":\"object\",\"name\":\"BasicTickFormatter\",\"id\":\"p1496\"},\"major_label_policy\":{\"type\":\"object\",\"name\":\"AllLabels\",\"id\":\"p1497\"}}}],\"center\":[{\"type\":\"object\",\"name\":\"Grid\",\"id\":\"p1500\",\"attributes\":{\"visible\":false,\"axis\":{\"id\":\"p1494\"}}},{\"type\":\"object\",\"name\":\"Grid\",\"id\":\"p1507\",\"attributes\":{\"visible\":false,\"dimension\":1,\"axis\":{\"id\":\"p1501\"}}}]}}]}};\n  const render_items = [{\"docid\":\"8533a1bc-ba1e-48fd-9ab4-7942af32bc55\",\"roots\":{\"p1476\":\"73011886-410e-45d1-9d12-77bedc85f684\"},\"root_ids\":[\"p1476\"]}];\n  root.Bokeh.embed.embed_items_notebook(docs_json, render_items);\n  }\n  if (root.Bokeh !== undefined) {\n    embed_document(root);\n  } else {\n    let attempts = 0;\n    const timer = setInterval(function(root) {\n      if (root.Bokeh !== undefined) {\n        clearInterval(timer);\n        embed_document(root);\n      } else {\n        attempts++;\n        if (attempts > 100) {\n          clearInterval(timer);\n          console.log(\"Bokeh: ERROR: Unable to run BokehJS code because BokehJS library is missing\");\n        }\n      }\n    }, 10, root)\n  }\n})(window);",
            "application/vnd.bokehjs_exec.v0+json": ""
          },
          "metadata": {
            "application/vnd.bokehjs_exec.v0+json": {
              "id": "p1476"
            }
          },
          "output_type": "display_data"
        }
      ],
      "source": [
        "# Loading images\n",
        "im_obs=io.imread(\"https://perso.telecom-paristech.fr/tupin/cours/IMA203/TPMARKOV/Iobservee.png\") # Observed image, noisy\n",
        "im_orig=io.imread(\"https://perso.telecom-paristech.fr/tupin/cours/IMA203/TPMARKOV/IoriginaleBW.png\") # Binary reference image, to assess the quality of the segmentation\n",
        "\n",
        "affiche(im_obs,titre='Observed image')"
      ]
    },
    {
      "cell_type": "code",
      "execution_count": 17,
      "metadata": {
        "id": "d0YUOGyqeALq"
      },
      "outputs": [
        {
          "ename": "AttributeError",
          "evalue": "module 'maxflow' has no attribute 'Graph'",
          "output_type": "error",
          "traceback": [
            "\u001b[1;31m---------------------------------------------------------------------------\u001b[0m",
            "\u001b[1;31mAttributeError\u001b[0m                            Traceback (most recent call last)",
            "\u001b[1;32mc:\\Users\\Louis\\Documents\\Telecom\\Cours\\2A\\IMA203\\TP4\\TP_graphcut_students_v2_EN_2023.ipynb Cell 19\u001b[0m in \u001b[0;36m<cell line: 10>\u001b[1;34m()\u001b[0m\n\u001b[0;32m      <a href='vscode-notebook-cell:/c%3A/Users/Louis/Documents/Telecom/Cours/2A/IMA203/TP4/TP_graphcut_students_v2_EN_2023.ipynb#X24sZmlsZQ%3D%3D?line=4'>5</a>\u001b[0m m1 \u001b[39m=\u001b[39m \u001b[39m163.0\u001b[39m\n\u001b[0;32m      <a href='vscode-notebook-cell:/c%3A/Users/Louis/Documents/Telecom/Cours/2A/IMA203/TP4/TP_graphcut_students_v2_EN_2023.ipynb#X24sZmlsZQ%3D%3D?line=6'>7</a>\u001b[0m \u001b[39m## binary graph-cut\u001b[39;00m\n\u001b[0;32m      <a href='vscode-notebook-cell:/c%3A/Users/Louis/Documents/Telecom/Cours/2A/IMA203/TP4/TP_graphcut_students_v2_EN_2023.ipynb#X24sZmlsZQ%3D%3D?line=7'>8</a>\u001b[0m \n\u001b[0;32m      <a href='vscode-notebook-cell:/c%3A/Users/Louis/Documents/Telecom/Cours/2A/IMA203/TP4/TP_graphcut_students_v2_EN_2023.ipynb#X24sZmlsZQ%3D%3D?line=8'>9</a>\u001b[0m \u001b[39m# Create the graph.\u001b[39;00m\n\u001b[1;32m---> <a href='vscode-notebook-cell:/c%3A/Users/Louis/Documents/Telecom/Cours/2A/IMA203/TP4/TP_graphcut_students_v2_EN_2023.ipynb#X24sZmlsZQ%3D%3D?line=9'>10</a>\u001b[0m g \u001b[39m=\u001b[39m maxflow\u001b[39m.\u001b[39;49mGraph[\u001b[39mfloat\u001b[39m]() \u001b[39m# Graph instantiation\u001b[39;00m\n\u001b[0;32m     <a href='vscode-notebook-cell:/c%3A/Users/Louis/Documents/Telecom/Cours/2A/IMA203/TP4/TP_graphcut_students_v2_EN_2023.ipynb#X24sZmlsZQ%3D%3D?line=11'>12</a>\u001b[0m \u001b[39m# Add the nodes. \u001b[39;00m\n\u001b[0;32m     <a href='vscode-notebook-cell:/c%3A/Users/Louis/Documents/Telecom/Cours/2A/IMA203/TP4/TP_graphcut_students_v2_EN_2023.ipynb#X24sZmlsZQ%3D%3D?line=12'>13</a>\u001b[0m \u001b[39m# nodeids has the identifiers of the nodes in the grid.\u001b[39;00m\n\u001b[0;32m     <a href='vscode-notebook-cell:/c%3A/Users/Louis/Documents/Telecom/Cours/2A/IMA203/TP4/TP_graphcut_students_v2_EN_2023.ipynb#X24sZmlsZQ%3D%3D?line=13'>14</a>\u001b[0m \u001b[39m# It creates a set of nodes for all the pixels of the image\u001b[39;00m\n\u001b[0;32m     <a href='vscode-notebook-cell:/c%3A/Users/Louis/Documents/Telecom/Cours/2A/IMA203/TP4/TP_graphcut_students_v2_EN_2023.ipynb#X24sZmlsZQ%3D%3D?line=14'>15</a>\u001b[0m nodeids \u001b[39m=\u001b[39m g\u001b[39m.\u001b[39madd_grid_nodes(im_obs\u001b[39m.\u001b[39mshape) \n",
            "\u001b[1;31mAttributeError\u001b[0m: module 'maxflow' has no attribute 'Graph'"
          ]
        }
      ],
      "source": [
        "#### to be completed\n",
        "# TO BE COMPLETED EX1\n",
        "beta = 1000# beta value \n",
        "m0 = 97.0   # m0 and m1 values from the previous practical work\n",
        "m1 = 163.0\n",
        "\n",
        "## binary graph-cut\n",
        "\n",
        "# Create the graph.\n",
        "g = maxflow.Graph[float]() # Graph instantiation\n",
        "\n",
        "# Add the nodes. \n",
        "# nodeids has the identifiers of the nodes in the grid.\n",
        "# It creates a set of nodes for all the pixels of the image\n",
        "nodeids = g.add_grid_nodes(im_obs.shape) \n",
        "\n",
        "# Add non-terminal edges with the same capacity.\n",
        "# the edge has the value beta for all adjacent pixels in 4-connexity\n",
        "g.add_grid_edges(nodeids, beta) \n",
        "\n",
        "# Add the terminal edges.\n",
        "# the second argument correspond to the set of edge values to the source \n",
        "# the third argument correspond to the set of edge values to the sink\n",
        "g.add_grid_tedges(nodeids, (im_obs-m0)**2, (im_obs-m1)**2) \n",
        "\n",
        "# Find the maximum flow.\n",
        "flow = g.maxflow()\n",
        "\n",
        "print(\"Max Flow:\", str(flow))\n",
        "# Get the labels of the nodes in the grid.\n",
        "# output is 0 if the node is connected to the source, else output is 1 \n",
        "sgm = g.get_grid_segments(nodeids) \n",
        "im_bin = np.int_(np.logical_not(sgm))\n",
        "\n",
        "affiche(im_bin,titre = \"Result for beta = \" + str(beta))\n",
        "#%%\n"
      ]
    },
    {
      "cell_type": "code",
      "execution_count": null,
      "metadata": {
        "id": "iWDVl5ceeALr"
      },
      "outputs": [],
      "source": [
        "# compute the error image between im_bin and im_orig (the ideal solution) using np.abs and np.sum \n",
        "error = \n",
        "\n",
        "# visualize the differences between the original image and the solution\n",
        "plt.figure()\n",
        "plt.imshow(np.dstack((np.int_(im_orig), im_bin, im_bin))*255)\n",
        "plt.title(\"Result for beta = \" + str(beta) + \" and truth\")\n",
        "plt.show()\n",
        "\n",
        "print(\"Number of misclassified pixels for beta = \",beta,\": \",int(error))"
      ]
    },
    {
      "cell_type": "markdown",
      "metadata": {
        "id": "lD0sTgGoeALr"
      },
      "source": [
        "### Search for the best parameter $\\beta$"
      ]
    },
    {
      "cell_type": "code",
      "execution_count": null,
      "metadata": {
        "id": "Kf5x86KgeALs"
      },
      "outputs": [],
      "source": [
        "im_obs=io.imread(\"https://perso.telecom-paristech.fr/tupin/cours/IMA203/TPMARKOV/Iobservee.png\") # Observed image, noisy\n",
        "im_orig=io.imread(\"https://perso.telecom-paristech.fr/tupin/cours/IMA203/TPMARKOV/IoriginaleBW.png\") # Binary reference image, to assess the quality of the segmentation\n",
        "\n",
        "list_beta = []\n",
        "list_errors = []\n",
        "\n",
        "# TO BE COMPLETED - choose a range of values and a step to study beta\n",
        "for beta in range():\n",
        "    # TO BE COMPLETED\n",
        "    m0 = \n",
        "    m1 =\n",
        "\n",
        "    ## Binary graph cut\n",
        "\n",
        "    # Create the graph\n",
        "    g = maxflow.Graph[float]() # graph instantiation\n",
        "\n",
        "    # Add the nodes. nodeids has the identifiers of the nodes in the grid.\n",
        "    nodeids = g.add_grid_nodes(im_obs.shape) \n",
        "    # Add non-terminal edges with the same capacity.\n",
        "    g.add_grid_edges() \n",
        "    # Add the terminal edges.\n",
        "    g.add_grid_tedges(nodeids, ,) \n",
        "\n",
        "    # Find the maximum flow.\n",
        "    flow = g.maxflow()\n",
        "\n",
        "    # Get the segments of the nodes in the grid.\n",
        "    sgm = g.get_grid_segments() \n",
        "    # create the output image \n",
        "    im_bin = np.int_()\n",
        "\n",
        "    # print(\"beta = \",beta)\n",
        "    # compute the error\n",
        "    error = \n",
        "    list_beta.append(beta)\n",
        "    list_errors.append(error)\n",
        "\n",
        "plt.figure()\n",
        "plt.scatter(list_beta,list_errors)\n",
        "plt.xlabel(\"beta\")\n",
        "plt.ylabel(\"number of misclassified pixels\")\n",
        "plt.show()\n",
        "\n",
        "best_beta = list_beta[np.argmin(np.array(list_errors))]\n",
        "\n",
        "print('Best beta value: ', best_beta)"
      ]
    },
    {
      "cell_type": "markdown",
      "metadata": {
        "id": "XDJDhepieALs"
      },
      "source": [
        "## 2. Classification of a colour image\n",
        "\n",
        "The objective of this part is to carry out an extension of the method seen previously in the case of the treatment of a colour image *avions.png* in which one wants to separate the objects from the background.\n",
        "\n",
        "We will first use the same framework (Ising model) as before but with a three-dimensional data attachment (assuming convariance matrices equal to the identity). Then we will introduce a CRF (conditional random field) by weighting the regularisation term of the Ising model by the modulus of the gradient between two pixels of the observed image.  \n",
        "\n",
        "### 2.1 Binary classification\n",
        "From the program structure below, carry out the different steps necessary for this classification:\n",
        "1. Modelling of the background and object distributions (in 3 dimensions this time)\n",
        "1. Definition of the data attachment term\n",
        "1. Choice of a value for the regularisation parameter for the Ising model\n",
        "1. Finding the minimal cut to obtain the object/background classification.\n",
        "\n",
        "Q9: Comment on these steps and the results obtained."
      ]
    },
    {
      "cell_type": "markdown",
      "metadata": {
        "id": "LfXuLLE4eALs"
      },
      "source": [
        "**Your answer &#x270D;**\n",
        "\n",
        "A9:"
      ]
    },
    {
      "cell_type": "code",
      "execution_count": null,
      "metadata": {
        "id": "rk1Nj14meALs"
      },
      "outputs": [],
      "source": [
        "# Loading and displaying the image\n",
        "im_obs=io.imread('https://www.dropbox.com/s/ylm0ut8ipu5oonb/avions.png?dl=1')\n",
        "\n",
        "plt.figure()\n",
        "#plt.imshow(im_obs,vmin=0,vmax=255)\n",
        "plt.rcParams['figure.figsize'] = [15, 15]\n",
        "plt.imshow(im_obs)\n",
        "plt.show()\n",
        "\n",
        "\n",
        "# conversion of the image between 0 and 255\n",
        "im_obs=255*im_obs"
      ]
    },
    {
      "cell_type": "markdown",
      "metadata": {
        "id": "iPsAftnceALt"
      },
      "source": [
        "#### Determining the parameters of the classes\n",
        "\n",
        "\n",
        "Plane class: we can use the values of the rectangle [180:200,280:300]. \n",
        "\n",
        "example np.mean(image[180:200,280:300,1]) returns the average of the selected area for channel 1"
      ]
    },
    {
      "cell_type": "code",
      "execution_count": null,
      "metadata": {
        "id": "16tOLr7ZeALt"
      },
      "outputs": [],
      "source": [
        "# mean of the plane class - 3D vector\n",
        "m_planes = \n",
        "\n",
        "# mean of the sky class\n",
        "# you can use values in the following square [0:100,150:300]\n",
        "m_sky = \n",
        "\n",
        "print('For the sky, [R,G,B] = ', m_sky)\n",
        "print(\"For the planes, [R,G,B] = \", m_planes)\n",
        "\n",
        "# check that the obtained values are coherent"
      ]
    },
    {
      "cell_type": "code",
      "execution_count": null,
      "metadata": {
        "id": "uF7ZH7EveALu"
      },
      "outputs": [],
      "source": [
        "# choose a beta value \n",
        "beta = \n",
        "\n",
        "# TO BE COMPLETED\n",
        "## Binary graph-cut \n",
        "# use the previous program to create the graph and compute the cut\n",
        "# be careful of computing the terminal weights using the 3D values \n",
        "# you can compute 2 distance images with in each pixel the quadratic distance to the mean value \n",
        "# of each class \n",
        "\n",
        "\n",
        "\n",
        "affiche(im_bin, titre=\"Result for beta = \" + str(beta));"
      ]
    },
    {
      "cell_type": "markdown",
      "metadata": {
        "id": "QwxEgcMyeALu"
      },
      "source": [
        "### 2.2 Use of a CRF (Conditional Random Field) model\n",
        "\n",
        "We will try here to adapt the model used previously to favour transitions where they are compatible with the gradient. To do this, we will replace the constant $\\beta$ for the whole image by a \"beta_field\" which depends on the norm of the gradient.\n",
        "\n",
        "Q10: Calculate and display the modulus of the gradient of the aircraft image after it has been grayscaled and convolved by a Gaussian kernel of standard deviation 1. Why use the \"boundary='symm'\" option when convolving through the Sobel filter? Try it without doing the Gaussian filtering. What is the point?"
      ]
    },
    {
      "cell_type": "markdown",
      "metadata": {
        "id": "mT3EdCcMuH5E"
      },
      "source": [
        "**Your answer &#x270D;**\n",
        "\n",
        "A10:"
      ]
    },
    {
      "cell_type": "code",
      "execution_count": null,
      "metadata": {
        "id": "ROpDhuB-eALv"
      },
      "outputs": [],
      "source": [
        "import scipy.signal\n",
        "import scipy.ndimage\n",
        "from skimage import color\n",
        "\n",
        "def gradient(image):\n",
        "    \"\"\" Array -> tuple[Array*Array]\"\"\"\n",
        "    sobel_x = np.array([[-1, 0, 1], [-2, 0, 2], [-1, 0, 1]], dtype = np.float)\n",
        "    sobel_y = np.array([[-1, -2, -1], [0, 0, 0], [1, 2, 1]], dtype = np.float)\n",
        "    # to be completed\n",
        "    # use mode = 'same' and boundary='symm' in scipy.signal.convolve2d\n",
        "    derivative_x = \n",
        "    derivative_y = \n",
        "    return([derivative_x,derivative_y])\n",
        "\n",
        "plane_nb = scipy.ndimage.gaussian_filter(color.rgb2gray(im_obs), 1)\n",
        "plane_x, plane_y = gradient(plane_nb)\n",
        "# calculation of the gradient modulus \n",
        "grad_av = \n",
        "plt.figure()\n",
        "plt.imshow(grad_av)\n",
        "plt.show()"
      ]
    },
    {
      "cell_type": "markdown",
      "metadata": {
        "id": "OnT3Y0zOt_lN"
      },
      "source": [
        "\n",
        "Complete the code for segmentation by CRF. We will choose $beta\\_field=\\beta_2\\cdot\\exp(-grad\\_av/h)$ We can use $h=300$ and $\\beta_2=20000$. Also replace the constant beta by the field \"beta_field\" during the \"g.add_grid_edges\" step.\n",
        "\n",
        "Q11: Compare the results with and without the contour term."
      ]
    },
    {
      "cell_type": "markdown",
      "metadata": {
        "id": "Fm01udUIxIHt"
      },
      "source": [
        "**Your answer &#x270D;**\n",
        "\n",
        "A11:"
      ]
    },
    {
      "cell_type": "code",
      "execution_count": null,
      "metadata": {
        "id": "imKywIsReALw"
      },
      "outputs": [],
      "source": [
        "# calculation of beta_field \n",
        "# this field will set the value for the 4-neighbours \n",
        "h = 300\n",
        "beta2 = 20000\n",
        "beta_field = beta2 * np.exp(-grad_av/h)\n",
        "\n",
        "## Binary graph cut\n",
        "# complete by taking your previous code and replacing \n",
        "# beta by beta_field in the line g.add_grid_edges\n",
        "\n",
        "\n",
        "# Get the segments of the nodes in the grid.\n",
        "sgm = g.get_grid_segments(nodeids) # Returns 1 if the pixel is on the drain side after calculating the min cut, 0 if it is on the source side\n",
        "im_bin = np.int_(np.logical_not(sgm))\n",
        "\n",
        "affiche(im_bin, titre=\"Result for the CRF model\")"
      ]
    },
    {
      "cell_type": "markdown",
      "metadata": {
        "id": "Z-ezFoD6eALw"
      },
      "source": [
        "## 3. Iterative Segmentation with Gaussian Mixture\n",
        "\n",
        "Q12: Display the \"zebra\" image below. Is it possible to segment the zebra with the method used to segment the planes?\n",
        "\n"
      ]
    },
    {
      "cell_type": "markdown",
      "metadata": {
        "id": "k9E-e1IyydI-"
      },
      "source": [
        "**Your answer &#x270D;**\n",
        "\n",
        "A12:"
      ]
    },
    {
      "cell_type": "code",
      "execution_count": null,
      "metadata": {
        "id": "MS9FTw3aeALw",
        "scrolled": true
      },
      "outputs": [],
      "source": [
        "### Loading a new image\n",
        "import imageio\n",
        "I_zebra = imageio.imread('https://upload.wikimedia.org/wikipedia/commons/6/60/Equus_quagga.jpg')\n",
        "I_zebra = I_zebra[200:,:,:]\n",
        "rect_zebra = I_zebra[700:1100,1000:2100]\n",
        "rect_background = I_zebra[:,0:600]\n",
        "print(I_zebra.dtype)\n",
        "\n",
        "plt.figure()\n",
        "plt.imshow(I_zebra)\n",
        "plt.title('I_zebra')\n",
        "plt.show()\n",
        "\n",
        "plt.figure()\n",
        "plt.imshow(rect_zebra)\n",
        "plt.title('rect_zebra')\n",
        "plt.show()\n",
        "\n",
        "plt.figure()\n",
        "plt.imshow(rect_background)\n",
        "plt.title('rect_background')\n",
        "plt.show()"
      ]
    },
    {
      "cell_type": "markdown",
      "metadata": {
        "id": "0HGzR7tSeALx"
      },
      "source": [
        "Q13: Calculate the covariance matrix for the rect_zebra and the rect_background. Display the values and comment on the result. What do the diagonal values correspond to?"
      ]
    },
    {
      "cell_type": "markdown",
      "metadata": {
        "id": "BtKlw5ehRHzw"
      },
      "source": [
        "**Your answer &#x270D;**\n",
        "\n",
        "A13:"
      ]
    },
    {
      "cell_type": "code",
      "execution_count": null,
      "metadata": {
        "id": "KRsXhxJGeALx"
      },
      "outputs": [],
      "source": [
        "print(I_zebra.shape)\n",
        "V_tulip = np.vstack([I_zebra[:,:,i].flatten() for i in range(3)])\n",
        "print(I_zebra.shape)\n",
        "\n",
        "M_cov = np.cov(np.vstack([I_zebra[:,:,i].flatten() for i in range(3)]))\n",
        "print('Full zebra image')\n",
        "print(M_cov)\n",
        "\n",
        "M_cov = np.cov(np.vstack([rect_zebra[:,:,i].flatten() for i in range(3)]))\n",
        "print('Rectangle zebra')\n",
        "print(M_cov)\n",
        "\n",
        "M_cov = np.cov(np.vstack([rect_background[:,:,i].flatten() for i in range(3)]))\n",
        "print('Rectangle background')\n",
        "print(M_cov)"
      ]
    },
    {
      "cell_type": "markdown",
      "metadata": {
        "id": "t8YAfUvJeALx"
      },
      "source": [
        "Q14: Display the histogram for the R, G and B channels for the \"rect_zebra\" image. Comment on the result. "
      ]
    },
    {
      "cell_type": "markdown",
      "metadata": {
        "id": "1_p_ddriRMTq"
      },
      "source": [
        "**Your answer &#x270D;**\n",
        "\n",
        "A14:"
      ]
    },
    {
      "cell_type": "code",
      "execution_count": null,
      "metadata": {
        "id": "OuZg14rbeALx"
      },
      "outputs": [],
      "source": [
        "# allows you to change the display size of plt.show\n",
        "plt.rcParams['figure.figsize'] = [11, 11]\n",
        "\n",
        "nomchan = [\"red\",\"green\", \"blue\"]\n",
        "for chan in range(3):\n",
        "    plt.figure()\n",
        "    plt.hist(rect_zebra[:,:,chan].flatten(),100)\n",
        "    plt.title(\"Histogram of the zebra class for the channel \" + nomchan[chan])\n",
        "    plt.show()\n",
        "    \n",
        "    \n",
        "for chan in range(3):\n",
        "    plt.figure()\n",
        "    plt.hist(rect_background[:,:,chan].flatten(),100)\n",
        "    plt.title(\"Histogram of the background class for the channel \" + nomchan[chan])\n",
        "    plt.show()"
      ]
    },
    {
      "cell_type": "markdown",
      "metadata": {
        "id": "HDjO5aL5eALy"
      },
      "source": [
        "Q15: Propose an algorithmic method to identify the two classes of the image \"rect_zebra\". Use a sklearn implementation of this algorithm to identify the mean vectors ($m_R$,$m_G$,$m_B$) for two classes of the \"rect_zebra\" image and two classes of the \"rect_background\" image.\n",
        "\n",
        "*The following line of code can be used to transform the image into a suitable form.*\n",
        "\n",
        "X = np.vstack([rect_zebra[:,:,i].flatten() for i in range(3)]).transpose()\n",
        "\n",
        "Comment on the average vectors obtained. They can be displayed as an image using the code provided."
      ]
    },
    {
      "cell_type": "markdown",
      "metadata": {
        "id": "x5XoOjc1531V"
      },
      "source": [
        "**Your answer &#x270D;**\n",
        "\n",
        "A15:"
      ]
    },
    {
      "cell_type": "code",
      "execution_count": null,
      "metadata": {
        "id": "CyOzSp13eALy"
      },
      "outputs": [],
      "source": [
        "# computation of class parameters in a semi-automatic way\n",
        "from sklearn.cluster import KMeans\n",
        "import numpy as np\n",
        "\n",
        "# use a number of classes =2 for the zebra part (complete n_clusters=?)\n",
        "X = np.vstack([rect_zebra[:,:,i].flatten() for i in range(3)]).transpose()\n",
        "kmeans_zebra = KMeans(n_clusters=, random_state=0).fit(X)\n",
        "mean_vectors_zebra = kmeans_zebra.cluster_centers_\n",
        "\n",
        "# use a number of classes =2 for the background part\n",
        "X = np.vstack([rect_background[:,:,i].flatten() for i in range(3)]).transpose()\n",
        "kmeans_background = KMeans(n_clusters=, random_state=0).fit(X)\n",
        "mean_vectors_background = kmeans_background.cluster_centers_"
      ]
    },
    {
      "cell_type": "code",
      "execution_count": null,
      "metadata": {
        "id": "Yxiv4ZmUeALz"
      },
      "outputs": [],
      "source": [
        "# display of the class centers found as an image\n",
        "image_mean_vectors = np.zeros((200,200,3),np.uint8)\n",
        "for i in range(3):\n",
        "    image_mean_vectors[0:99,0:99,i] = mean_vectors_zebra[0,i]\n",
        "    image_mean_vectors[0:99,100:199,i] = mean_vectors_zebra[1,i]\n",
        "    image_mean_vectors[100:199,0:99,i] = mean_vectors_background[0,i]\n",
        "    image_mean_vectors[100:199,100:199,i] = mean_vectors_background[1,i]\n",
        "\n",
        "plt.figure()\n",
        "plt.imshow(image_mean_vectors,vmax = 255)\n",
        "plt.title(\"Top: zebra classes, bottom: background classes\")\n",
        "plt.show()"
      ]
    },
    {
      "cell_type": "markdown",
      "metadata": {
        "id": "2m7NevXDeALz"
      },
      "source": [
        "Q16: Display separately two neg-log-likelihood images (the neg-log-likelihood was used as a data attachment in the previous example) for the two zebra classes.\n",
        "Build a neg-log-likelihood image corresponding to the minimum of the two neg-log-likelihoods of the zebra classes. Similarly for the background class. \n",
        "\n",
        "Display them and comment."
      ]
    },
    {
      "cell_type": "markdown",
      "metadata": {
        "id": "NMXjRkeH0xVp"
      },
      "source": [
        "**Your answer &#x270D;**\n",
        "\n",
        "A16:"
      ]
    },
    {
      "cell_type": "code",
      "execution_count": null,
      "metadata": {
        "id": "ZhZk35freALz"
      },
      "outputs": [],
      "source": [
        "# calculation of the neg-log-likelihood of the zebra class\n",
        "neg_log_likelihood_zebra_0 = sum((I_zebra[:,:,i]-mean_vectors_zebra[0,i])**2 for i in range(3))\n",
        "\n",
        "plt.figure()\n",
        "plt.imshow(neg_log_likelihood_zebra_0,cmap='gray', vmax = 600)\n",
        "plt.title(\"neg_log_likelihood_zebra_0\")\n",
        "plt.show()\n",
        "\n",
        "neg_log_likelihood_zebra_1 = sum((I_zebra[:,:,i]-mean_vectors_zebra[1,i])**2 for i in range(3))\n",
        "\n",
        "plt.figure()\n",
        "plt.imshow(neg_log_likelihood_zebra_1,cmap='gray', vmax = 5000)\n",
        "plt.title(\"neg_log_likelihood_zebra_1\")\n",
        "plt.show()\n",
        "\n",
        "neg_log_likelihood_zebra_combined = np.minimum(sum((I_zebra[:,:,i]-mean_vectors_zebra[0,i])**2 for i in range(3)),sum((I_zebra[:,:,i]-mean_vectors_zebra[1,i])**2 for i in range(3)))\n",
        "\n",
        "plt.figure()\n",
        "plt.imshow(neg_log_likelihood_zebra_combined,cmap='gray', vmax = 5000)\n",
        "plt.title(\"neg_log_likelihood_zebra_combined\")\n",
        "plt.show()\n",
        "\n",
        "# TO BE COMPLETED\n",
        "# calculate the neg-log-likelihood of the background \n",
        "# call the output neg_log_likelihood_background_combined\n",
        "\n",
        "\n",
        "\n"
      ]
    },
    {
      "cell_type": "markdown",
      "metadata": {
        "id": "xDrVWWxQeALz"
      },
      "source": [
        "Q17: From these combined data attachment images (one for the background and one for the zebra), set up a graph-cut segmentation of the image with the $\\beta$ of your choice. Comment the result."
      ]
    },
    {
      "cell_type": "markdown",
      "metadata": {
        "id": "81C1KbDr2XoW"
      },
      "source": [
        "**Your answer &#x270D;**\n",
        "\n",
        "A17:"
      ]
    },
    {
      "cell_type": "code",
      "execution_count": null,
      "metadata": {
        "id": "ECAh3_eCeALz"
      },
      "outputs": [],
      "source": [
        "beta =  # Optimal beta value to be determined\n",
        "\n",
        "## Binary graph cut\n",
        "\n",
        "# Create the graph.\n",
        "g = maxflow.Graph[float]() # Graph instantiation\n",
        "# Add the nodes. nodeids has the identifiers of the nodes in the grid.\n",
        "nodeids = g.add_grid_nodes(I_zebra.shape[0:2]) # Create a grid with a non-terminal node for each pixel in the image\n",
        "# Add non-terminal edges with the same capacity.\n",
        "g.add_grid_edges(nodeids, beta) # Addition of a beta weight edge between each adjacent node according to the 4-connexity\n",
        "# Add the terminal edges.\n",
        "\n",
        "# TO BE COMPLETED\n",
        "g.add_grid_tedges() \n",
        "\n",
        "\n",
        "# Find the maximum flow.\n",
        "flow = g.maxflow()\n",
        "\n",
        "print(\"Max Flow:\", str(flow))\n",
        "# Get the segments of the nodes in the grid.\n",
        "sgm = g.get_grid_segments(nodeids) \n",
        "im_bin = np.int_(np.logical_not(sgm))\n",
        "\n",
        "plt.figure()\n",
        "plt.imshow(im_bin)\n",
        "plt.title(\"Result of the segmentation\")\n",
        "plt.show()\n",
        "\n",
        "plt.figure()\n",
        "plt.imshow(display_segmentation_borders(I_zebra, im_bin))\n",
        "plt.title(\"Red segmentation contours\")\n",
        "plt.show()"
      ]
    },
    {
      "cell_type": "markdown",
      "metadata": {
        "id": "p9x_xqQheAL0"
      },
      "source": [
        "Q18: From the obtained segmentation, determine the mean vectors for 5 classes for the background and 5 classes for the zebra. Use these lists of mean vectors to construct new neg-log-likelihood combination images. Comment on them."
      ]
    },
    {
      "cell_type": "markdown",
      "metadata": {
        "id": "ldB8fTnL3fqw"
      },
      "source": [
        "**Your answer &#x270D;**\n",
        "\n",
        "A18:"
      ]
    },
    {
      "cell_type": "code",
      "execution_count": null,
      "metadata": {
        "id": "Vwje0HN6eAL0"
      },
      "outputs": [],
      "source": [
        "# The computing of this cell can take several minutes.\n",
        "\n",
        "X_1 = np.vstack([I_zebra[im_bin==1,i].flatten() for i in range(3)]).transpose()\n",
        "kmeans_zebra2 = KMeans(n_clusters=5, random_state=0).fit(X_1)\n",
        "mean_vectors_zebra2 = kmeans_zebra2.cluster_centers_\n",
        "\n",
        "X_2 = np.vstack([I_zebra[im_bin==0,i].flatten() for i in range(3)]).transpose()\n",
        "kmeans_background2 = KMeans(n_clusters=5, random_state=0).fit(X_2)\n",
        "mean_vectors_background2 = kmeans_background2.cluster_centers_"
      ]
    },
    {
      "cell_type": "code",
      "execution_count": null,
      "metadata": {
        "id": "C90SebBkeAL1"
      },
      "outputs": [],
      "source": [
        "neg_log_likelihood_zebra_combined_2 = np.amin(np.dstack([(sum((I_zebra[:,:,i]-mean_vectors_zebra2[n_cl,i])**2 for i in range(3))) for n_cl in range(len(mean_vectors_zebra2))]),2)\n",
        "\n",
        "neg_log_likelihood_background_combined_2 = np.amin(np.dstack([(sum((I_zebra[:,:,i]-mean_vectors_background2[n_cl,i])**2 for i in range(3))) for n_cl in range(len(mean_vectors_background2))]),2)\n",
        "\n",
        "plt.figure()\n",
        "plt.imshow(neg_log_likelihood_zebra_combined_2 ,cmap='gray', vmax = 3000)\n",
        "plt.title(\"neg_log_likelihood_zebra_combined_2\")\n",
        "plt.show()\n",
        "\n",
        "plt.figure()\n",
        "plt.imshow(neg_log_likelihood_background_combined_2,cmap='gray', vmax = 1000)\n",
        "plt.title(\"neg_log_likelihood_background_combined_2\")\n",
        "plt.show()"
      ]
    },
    {
      "cell_type": "markdown",
      "metadata": {
        "id": "uyREjjNVeAL2"
      },
      "source": [
        "\n",
        "Q19: From these neg-log-likelihood images, segment the image by graph-cut using a new value of $\\beta$ that gives you the best result. Comment on the result and the new value of $\\beta$ that allowed you to obtain it. What about the new 5-class data attachment compared to the previous one?"
      ]
    },
    {
      "cell_type": "markdown",
      "metadata": {
        "id": "V5DbiDd75afC"
      },
      "source": [
        "**Your answer &#x270D;**\n",
        "\n",
        "A19:"
      ]
    },
    {
      "cell_type": "code",
      "execution_count": null,
      "metadata": {
        "id": "Zx8dBjfjeAL2"
      },
      "outputs": [],
      "source": [
        "beta =  # Optimal beta value to be determined\n",
        "\n",
        "g = maxflow.Graph[float]() # Graph instantiation\n",
        "# Add the nodes. nodeids has the identifiers of the nodes in the grid.\n",
        "nodeids = g.add_grid_nodes(I_zebra.shape[0:2]) \n",
        "# Add non-terminal edges with the same capacity.\n",
        "g.add_grid_edges(nodeids, beta)\n",
        "# Add the terminal edges.\n",
        "g.add_grid_tedges(nodeids,neg_log_likelihood_background_combined_2, neg_log_likelihood_zebra_combined_2) \n",
        "\n",
        "flow = g.maxflow()\n",
        "\n",
        "print(\"Max Flow:\", str(flow))\n",
        "# Get the segments of the nodes in the grid.\n",
        "sgm = g.get_grid_segments(nodeids) # Returns 1 if the pixel is on the drain side after calculation of the min cut, 0 if it is on the source side\n",
        "im_bin = np.int_(np.logical_not(sgm))\n",
        "\n",
        "affiche(im_bin, titre=\"Result for beta = \" + str(beta))\n",
        "\n",
        "plt.figure()\n",
        "plt.imshow(im_bin)\n",
        "plt.show()\n",
        "\n",
        "plt.figure()\n",
        "plt.imshow(display_segmentation_borders(I_zebra, im_bin))\n",
        "plt.title(\"Red segmentation contours\")\n",
        "plt.show()"
      ]
    }
  ],
  "metadata": {
    "colab": {
      "provenance": []
    },
    "kernelspec": {
      "display_name": "main-venv",
      "language": "python",
      "name": "python3"
    },
    "language_info": {
      "codemirror_mode": {
        "name": "ipython",
        "version": 3
      },
      "file_extension": ".py",
      "mimetype": "text/x-python",
      "name": "python",
      "nbconvert_exporter": "python",
      "pygments_lexer": "ipython3",
      "version": "3.10.2"
    },
    "vscode": {
      "interpreter": {
        "hash": "205399f960ed7ce9f733c51c2f12973c5891598d80b4320a10586174ebb0552e"
      }
    }
  },
  "nbformat": 4,
  "nbformat_minor": 0
}
